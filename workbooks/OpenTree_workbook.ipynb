{
 "cells": [
  {
   "cell_type": "code",
   "execution_count": null,
   "metadata": {},
   "outputs": [],
   "source": [
    "!pip install opentree"
   ]
  },
  {
   "cell_type": "markdown",
   "metadata": {},
   "source": [
    "# How do you get a tree for a list of species names?\n",
    "\n",
    "## Standardizing taxon names\n",
    "\n",
    "One of the key challenges of comparing trees across studies is differences in taxon names because of spelling or taxonomic idiosincracies.\n",
    "\n",
    "A solution to this, is mapping taxon names to unique identifiers using the Open Tree Taxonomic Name Resolution Service (TNRS). There are a few options to use this service including via teh API, or the browser based bulk name mapping. The names of the taxa you will search for this tutorial were copied from https://en.wikipedia.org/wiki/List_of_birds_of_Georgia_(U.S._state) the folder named 'GA_waterfowl.txt'.\n",
    "\n",
    "### Open Tree TNRS bulk upload tool.\n",
    "\n",
    "Access this tool at https://tree.opentreeoflife.org/curator/tnrs/\n",
    "\n",
    "This is a brand new beta-version of this functionality, so some parts are a bit finicky.\n",
    "\n",
    "*Try this*\n",
    "  * Click on \"Add names...\" (second button at the top of the menu on the left), and upload the names file `tutorial/GA_waterfowl.txt`. The \"loading file\" window will not close by itself, click the (X).\n",
    "  * In the \"Mapping options\" section (bottom of the menu to the left):\n",
    "    - select 'Birds' to narrow down the possibilities and speed up mapping\n",
    "  * Click \"Map selected names\" (middle of the menu to the left).\n",
    "  * Exact matches will show up in green, and can be accepted by clicking \"accept exact matches\".\n",
    "  * Once you have accepted names for each of the taxa, click \"Save nameset...\", download it to your laptop, and extract (unzip) the files. You can take a look at the human readable version of the output at `output/main.csv`. `main.json` contains the the same data in a more computer readable format.\n",
    "  * Finally, transfer the `main.csv` file to the tutorial folder, so you can use it to get the tree for your taxa.\n",
    "\n",
    "## *Make sure your mappings were saved! If you do not **accept** matches (by clicking buttons), they do not download.*\n"
   ]
  },
  {
   "cell_type": "code",
   "execution_count": null,
   "metadata": {},
   "outputs": [],
   "source": [
    "!head ../tutorial/main.csv"
   ]
  },
  {
   "cell_type": "markdown",
   "metadata": {},
   "source": [
    "## We will pull out the OpenTree ids from that file"
   ]
  },
  {
   "cell_type": "code",
   "execution_count": null,
   "metadata": {},
   "outputs": [],
   "source": [
    "from opentree import OT\n",
    "\n",
    "fi = open(_____insert your file location___).readlines() #Open and read the file\n",
    "\n",
    "ott_ids = set()\n",
    "for lin in fi[1:]: #skip the header\n",
    "    lii = lin.split(',')#split on commas\n",
    "    ott_id = int(lii[2])#grab the opentree id\n",
    "    ott_ids.add(ott_id)#add to the set\n"
   ]
  },
  {
   "cell_type": "markdown",
   "metadata": {},
   "source": [
    "## And now we will use the opentree wrapper to get the tree for those ids!\n",
    "The function call OT.synth_induced_tree is a wrapper around API call "
   ]
  },
  {
   "cell_type": "code",
   "execution_count": null,
   "metadata": {},
   "outputs": [],
   "source": [
    "treefile = ____________choose a name and a path for your tree___________\n",
    "\n",
    "#Get the synthetic tree from OpenTree\n",
    "output = OT.synth_induced_tree(ott_ids=list(ott_ids),  label_format='name')\n",
    "output.tree.write(path = treefile, schema = ____Choose \"newick\"____\"nexus\"_____or \"nexml\"_____)\n",
    "output.tree.print_plot(width=100)\n"
   ]
  },
  {
   "cell_type": "code",
   "execution_count": null,
   "metadata": {},
   "outputs": [],
   "source": [
    "output.tree.as_string(schema=\"newick\") "
   ]
  },
  {
   "cell_type": "code",
   "execution_count": null,
   "metadata": {},
   "outputs": [],
   "source": [
    "# We can also get the citations for the studies used to build this tree\n",
    "studies = output.response_dict['supporting_studies']\n",
    "cites = OT.get_citations(studies)\n",
    "print(cites)"
   ]
  },
  {
   "cell_type": "markdown",
   "metadata": {},
   "source": [
    "# What studies in Open Tree contain amphibians?"
   ]
  },
  {
   "cell_type": "code",
   "execution_count": null,
   "metadata": {},
   "outputs": [],
   "source": [
    "ott_id = OT.get_ottid_from_name(\"amphibia\") # Get the OttID fo amphibia\n",
    "\n",
    "trees = OT.find_trees(ott_id, search_property = 'ot:ottId') #Search through trees for amphibians\n",
    "\n",
    "amph_studies = set()\n",
    "for match in trees.response_dict['matched_studies']:\n",
    "    amph_studies.add(match['ot:studyId'])\n",
    "\n",
    "print(OT.get_citations(amph_studies))"
   ]
  },
  {
   "cell_type": "markdown",
   "metadata": {},
   "source": [
    "# Search for your own taxon of interest"
   ]
  },
  {
   "cell_type": "code",
   "execution_count": null,
   "metadata": {},
   "outputs": [],
   "source": [
    "ott_id = OT.get_ottid_from_name(______taxon______) # Get the OttID for your taxon. Or you can get it by searching in the browser\n",
    "\n",
    "trees = OT.find_trees(ott_id, search_property = 'ot:ottId') #Search through trees for amphibians\n",
    "\n",
    "amph_studies = set()\n",
    "for match in trees.response_dict['matched_studies']:\n",
    "    amph_studies.add(match['ot:studyId'])\n",
    "\n",
    "print(OT.get_citations(amph_studies))"
   ]
  },
  {
   "cell_type": "markdown",
   "metadata": {},
   "source": [
    "## Is there a study you think should be there and isn't?\n",
    "Add it to the database! tree.opentreeoflife.org/curator"
   ]
  },
  {
   "cell_type": "code",
   "execution_count": null,
   "metadata": {},
   "outputs": [],
   "source": []
  }
 ],
 "metadata": {
  "kernelspec": {
   "display_name": "Python 3",
   "language": "python",
   "name": "python3"
  },
  "language_info": {
   "codemirror_mode": {
    "name": "ipython",
    "version": 3
   },
   "file_extension": ".py",
   "mimetype": "text/x-python",
   "name": "python",
   "nbconvert_exporter": "python",
   "pygments_lexer": "ipython3",
   "version": "3.7.3"
  }
 },
 "nbformat": 4,
 "nbformat_minor": 2
}
