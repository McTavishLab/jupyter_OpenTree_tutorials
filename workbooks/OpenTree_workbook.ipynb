{
 "cells": [
  {
   "cell_type": "code",
   "execution_count": 1,
   "metadata": {},
   "outputs": [
    {
     "name": "stdout",
     "output_type": "stream",
     "text": [
      "Collecting opentree\n",
      "  Downloading https://files.pythonhosted.org/packages/36/62/9776f6e722dc85caf71a12fa5f2275286d5290e181b2db4dbeb04ef35db8/opentree-0.0.3.tar.gz\n",
      "Requirement already satisfied: setuptools in /snap/jupyter/6/lib/python3.7/site-packages (from opentree) (41.0.1)\n",
      "Collecting requests>=2.18 (from opentree)\n",
      "\u001b[?25l  Downloading https://files.pythonhosted.org/packages/51/bd/23c926cd341ea6b7dd0b2a00aba99ae0f828be89d72b2190f27c11d4b7fb/requests-2.22.0-py2.py3-none-any.whl (57kB)\n",
      "\u001b[K     |████████████████████████████████| 61kB 1.8MB/s eta 0:00:01\n",
      "\u001b[?25hCollecting DendroPy>=4.4.0 (from opentree)\n",
      "\u001b[?25l  Downloading https://files.pythonhosted.org/packages/f5/21/17e4fbb1c2a68421eec43930b1e118660c7483229f1b28ba4402e8856884/DendroPy-4.4.0.tar.gz (15.2MB)\n",
      "\u001b[K     |████████████████████████████████| 15.2MB 521kB/s eta 0:00:01\n",
      "\u001b[?25hCollecting urllib3!=1.25.0,!=1.25.1,<1.26,>=1.21.1 (from requests>=2.18->opentree)\n",
      "\u001b[?25l  Downloading https://files.pythonhosted.org/packages/b4/40/a9837291310ee1ccc242ceb6ebfd9eb21539649f193a7c8c86ba15b98539/urllib3-1.25.7-py2.py3-none-any.whl (125kB)\n",
      "\u001b[K     |████████████████████████████████| 133kB 265kB/s eta 0:00:01\n",
      "\u001b[?25hRequirement already satisfied: certifi>=2017.4.17 in /snap/jupyter/6/lib/python3.7/site-packages (from requests>=2.18->opentree) (2019.3.9)\n",
      "Collecting chardet<3.1.0,>=3.0.2 (from requests>=2.18->opentree)\n",
      "\u001b[?25l  Downloading https://files.pythonhosted.org/packages/bc/a9/01ffebfb562e4274b6487b4bb1ddec7ca55ec7510b22e4c51f14098443b8/chardet-3.0.4-py2.py3-none-any.whl (133kB)\n",
      "\u001b[K     |████████████████████████████████| 143kB 309kB/s eta 0:00:01\n",
      "\u001b[?25hCollecting idna<2.9,>=2.5 (from requests>=2.18->opentree)\n",
      "\u001b[?25l  Downloading https://files.pythonhosted.org/packages/14/2c/cd551d81dbe15200be1cf41cd03869a46fe7226e7450af7a6545bfc474c9/idna-2.8-py2.py3-none-any.whl (58kB)\n",
      "\u001b[K     |████████████████████████████████| 61kB 403kB/s eta 0:00:011\n",
      "\u001b[?25hBuilding wheels for collected packages: opentree, DendroPy\n",
      "  Building wheel for opentree (setup.py) ... \u001b[?25ldone\n",
      "\u001b[?25h  Stored in directory: /home/ejmctavish/snap/jupyter/6/.cache/pip/wheels/da/4e/67/e12d180cb444af04eeec1fa1e61d0ab4ce58f1b5e3f7fd3051\n",
      "  Building wheel for DendroPy (setup.py) ... \u001b[?25ldone\n",
      "\u001b[?25h  Stored in directory: /home/ejmctavish/snap/jupyter/6/.cache/pip/wheels/88/76/d0/90381494189528abc27fab0faa25bf960143460963daae7ba7\n",
      "Successfully built opentree DendroPy\n",
      "Installing collected packages: urllib3, chardet, idna, requests, DendroPy, opentree\n",
      "Successfully installed DendroPy-4.4.0 chardet-3.0.4 idna-2.8 opentree-0.0.3 requests-2.22.0 urllib3-1.25.7\n"
     ]
    }
   ],
   "source": [
    "!pip install opentree"
   ]
  },
  {
   "cell_type": "markdown",
   "metadata": {},
   "source": [
    "# How do you get a tree for a list of species names?\n",
    "\n",
    "## Standardizing taxon names\n",
    "\n",
    "One of the key challenges of comparing trees across studies is differences in taxon names because of spelling or taxonomic idiosincracies.\n",
    "\n",
    "A solution to this, is mapping taxon names to unique identifiers using the Open Tree Taxonomic Name Resolution Service (TNRS). There are a few options to use this service including via teh API, or the browser based bulk name mapping. The names of the taxa you will search for this tutorial were copied from https://en.wikipedia.org/wiki/List_of_birds_of_Georgia_(U.S._state) the folder named 'GA_waterfowl.txt'.\n",
    "\n",
    "### Open Tree TNRS bulk upload tool.\n",
    "\n",
    "Access this tool at https://tree.opentreeoflife.org/curator/tnrs/\n",
    "\n",
    "This is a brand new beta-version of this functionality, so some parts are a bit finicky.\n",
    "\n",
    "*Try this*\n",
    "  * Click on \"Add names...\" (second button at the top of the menu on the left), and upload the names file `tutorial/GA_waterfowl.txt`. The \"loading file\" window will not close by itself, click the (X).\n",
    "  * In the \"Mapping options\" section (bottom of the menu to the left):\n",
    "    - select 'Birds' to narrow down the possibilities and speed up mapping\n",
    "  * Click \"Map selected names\" (middle of the menu to the left).\n",
    "  * Exact matches will show up in green, and can be accepted by clicking \"accept exact matches\".\n",
    "  * Once you have accepted names for each of the taxa, click \"Save nameset...\", download it to your laptop, and extract (unzip) the files. You can take a look at the human readable version of the output at `output/main.csv`. `main.json` contains the the same data in a more computer readable format.\n",
    "  * Finally, transfer the `main.csv` file to the tutorial folder, so you can use it to get the tree for your taxa.\n",
    "\n",
    "## *Make sure your mappings were saved! If you do not **accept** matches (by clicking buttons), they do not download.*\n"
   ]
  },
  {
   "cell_type": "code",
   "execution_count": 2,
   "metadata": {},
   "outputs": [
    {
     "name": "stdout",
     "output_type": "stream",
     "text": [
      "ORIGINAL LABEL,OTT TAXON NAME,OTT TAXON ID,TAXONOMIC SOURCES\r\n",
      "Dendrocygna autumnalis,Dendrocygna autumnalis,662608,ncbi:8873;worms:422567;gbif:2498393;irmng:10189259\r\n",
      "Dendrocygna bicolor,Dendrocygna bicolor,662618,ncbi:8874;worms:212674;gbif:2498402;irmng:10189260\r\n",
      "Anser caerulescens,Anser caerulescens,190878,ncbi:8849;worms:159204;gbif:2498165;irmng:11167814;irmng:10195594\r\n",
      "Anser rossii,Anser rossii,767830,ncbi:56281;worms:159086;irmng:10824526;irmng:10189256;irmng:10189258\r\n",
      "Anser albifrons,Anser albifrons,430239,ncbi:50365;worms:159159;gbif:2498017;irmng:10587752\r\n",
      "Branta bernicla (A),Branta bernicla,135287,ncbi:184712;worms:159175;gbif:5232446;irmng:11345921\r\n",
      "Branta hutchinsonii (A),Branta hutchinsii,972531,ncbi:371860;worms:422569;gbif:5232452;irmng:11831705\r\n",
      "Branta canadensis,Branta canadensis,714461,ncbi:8853;worms:159176;gbif:5232437;irmng:10585055\r\n",
      "Cygnus columbianus (A),Cygnus columbianus,207360,ncbi:110926;worms:159088;gbif:2498338;irmng:11267548;irmng:10997958\r\n"
     ]
    }
   ],
   "source": [
    "!head ../tutorial/main.csv"
   ]
  },
  {
   "cell_type": "markdown",
   "metadata": {},
   "source": [
    "## We will pull out the OpenTree ids from that file"
   ]
  },
  {
   "cell_type": "code",
   "execution_count": 3,
   "metadata": {},
   "outputs": [
    {
     "ename": "SyntaxError",
     "evalue": "invalid syntax (<ipython-input-3-771b9e6384c4>, line 3)",
     "output_type": "error",
     "traceback": [
      "\u001b[0;36m  File \u001b[0;32m\"<ipython-input-3-771b9e6384c4>\"\u001b[0;36m, line \u001b[0;32m3\u001b[0m\n\u001b[0;31m    fi = open(_____insert your file location___).readlines() #Open and read the file\u001b[0m\n\u001b[0m                             ^\u001b[0m\n\u001b[0;31mSyntaxError\u001b[0m\u001b[0;31m:\u001b[0m invalid syntax\n"
     ]
    }
   ],
   "source": [
    "from opentree import OT\n",
    "\n",
    "fi = open(_____insert your file location___).readlines() #Open and read the file\n",
    "\n",
    "ott_ids = set()\n",
    "for lin in fi[1:]: #skip the header\n",
    "    lii = lin.split(',')#split on commas\n",
    "    ott_id = int(lii[2])#grab the opentree id\n",
    "    ott_ids.add(ott_id)#add to the set\n"
   ]
  },
  {
   "cell_type": "markdown",
   "metadata": {},
   "source": [
    "## And now we will use the opentree wrapper to get the tree for those ids!\n",
    "The function call OT.synth_induced_tree is a wrapper around API call "
   ]
  },
  {
   "cell_type": "code",
   "execution_count": null,
   "metadata": {},
   "outputs": [],
   "source": [
    "treefile = ____________choose a name and a path for your tree___________\n",
    "\n",
    "#Get the synthetic tree from OpenTree\n",
    "output = OT.synth_induced_tree(ott_ids=list(ott_ids),  label_format='name')\n",
    "output.tree.write(path = treefile, schema = ____Choose \"newick\"____\"nexus\"_____or \"nexml\"_____)\n",
    "output.tree.print_plot()\n"
   ]
  },
  {
   "cell_type": "code",
   "execution_count": null,
   "metadata": {},
   "outputs": [],
   "source": [
    "output.tree.as_string(schema=\"newick\") "
   ]
  },
  {
   "cell_type": "code",
   "execution_count": null,
   "metadata": {},
   "outputs": [],
   "source": [
    "# We can also get the citations for the studies used to build this tree\n",
    "studies = output.response_dict['supporting_studies']\n",
    "cites = OT.get_citations(studies)\n",
    "print(cites)"
   ]
  },
  {
   "cell_type": "markdown",
   "metadata": {},
   "source": [
    "# What studies in Open Tree contain amphibians?"
   ]
  },
  {
   "cell_type": "code",
   "execution_count": null,
   "metadata": {},
   "outputs": [],
   "source": [
    "ott_id = OT.get_ottid_from_name(\"amphibia\") # Get the OttID fo amphibia\n",
    "\n",
    "trees = OT.find_trees(ott_id, search_property = 'ot:ottId') #Search through trees for amphibians\n",
    "\n",
    "amph_studies = set()\n",
    "for match in trees.response_dict['matched_studies']:\n",
    "    amph_studies.add(match['ot:studyId'])\n",
    "\n",
    "print(OT.get_citations(amph_studies))"
   ]
  },
  {
   "cell_type": "markdown",
   "metadata": {},
   "source": [
    "# Search for your own taxon of interest"
   ]
  },
  {
   "cell_type": "code",
   "execution_count": null,
   "metadata": {},
   "outputs": [],
   "source": [
    "ott_id = OT.get_ottid_from_name(______taxon______) # Get the OttID for your taxon. Or you can get it by searching in the browser\n",
    "\n",
    "trees = OT.find_trees(ott_id, search_property = 'ot:ottId') #Search through trees for amphibians\n",
    "\n",
    "amph_studies = set()\n",
    "for match in trees.response_dict['matched_studies']:\n",
    "    amph_studies.add(match['ot:studyId'])\n",
    "\n",
    "print(OT.get_citations(amph_studies))"
   ]
  },
  {
   "cell_type": "markdown",
   "metadata": {},
   "source": [
    "## Is there a study you think should be there and isn't?\n",
    "Add it to the database! tree.opentreeoflife.org/curator"
   ]
  },
  {
   "cell_type": "code",
   "execution_count": null,
   "metadata": {},
   "outputs": [],
   "source": []
  }
 ],
 "metadata": {
  "kernelspec": {
   "display_name": "Python 3",
   "language": "python",
   "name": "python3"
  },
  "language_info": {
   "codemirror_mode": {
    "name": "ipython",
    "version": 3
   },
   "file_extension": ".py",
   "mimetype": "text/x-python",
   "name": "python",
   "nbconvert_exporter": "python",
   "pygments_lexer": "ipython3",
   "version": "3.7.3"
  }
 },
 "nbformat": 4,
 "nbformat_minor": 2
}
