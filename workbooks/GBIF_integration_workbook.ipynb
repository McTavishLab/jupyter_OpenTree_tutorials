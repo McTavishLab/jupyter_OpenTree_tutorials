{
 "cells": [
  {
   "cell_type": "code",
   "execution_count": null,
   "metadata": {},
   "outputs": [],
   "source": [
    "!pip install opentree #use bash command line magic to install the open tree helpers"
   ]
  },
  {
   "cell_type": "markdown",
   "metadata": {},
   "source": [
    "See GBIF demo pdf (link) for background on this example"
   ]
  },
  {
   "cell_type": "code",
   "execution_count": null,
   "metadata": {},
   "outputs": [],
   "source": [
    "import sys\n",
    "from opentree import OT"
   ]
  },
  {
   "cell_type": "code",
   "execution_count": null,
   "metadata": {},
   "outputs": [],
   "source": [
    "# OOh! We can mix togther python and bash commands :P\n",
    "# The '!' at the start of the line means the command is executed in bash\n",
    "# This wget command pulls GBIF data file from the internet, and saves it as 'gbif_example.csv'\n",
    "#!wget -O gbif_example.csv https://raw.githubusercontent.com/McTavishLab/biodiversity_next/master/example.csv\n",
    "# This is actually occurence data downloaded from GBIF doi https://doi.org/10.15468/dl.9bigak"
   ]
  },
  {
   "cell_type": "code",
   "execution_count": null,
   "metadata": {},
   "outputs": [],
   "source": [
    "!head -n 3 ../tutorial/gbif_example.csv\n",
    "# Oof! Lots of information."
   ]
  },
  {
   "cell_type": "code",
   "execution_count": null,
   "metadata": {},
   "outputs": [],
   "source": [
    "filename = \"../tutorial/gbif_example.csv\"\n",
    "fi = open(filename)\n",
    "header = fi.readline().split('\\t') # Save the first line seperately as the header\n",
    "\n",
    "gbif_data = fi.readlines() #read in the data\n",
    "\n",
    "#Get indexes for each column in the csv file\n",
    "col_dict = {}\n",
    "for i, col in enumerate(header):\n",
    "    col_dict[col] = i\n",
    "    \n",
    "# Would this make more sense to do in Pandas? Maybe! But I like loops."
   ]
  },
  {
   "cell_type": "code",
   "execution_count": null,
   "metadata": {},
   "outputs": [],
   "source": [
    "# Now we know what column each of out data types are in.\n",
    "# So much (many) data!\n",
    "col_dict"
   ]
  },
  {
   "cell_type": "code",
   "execution_count": null,
   "metadata": {
    "scrolled": true
   },
   "outputs": [],
   "source": [
    "# As described in the TNRS, sction, \n",
    "# we can use OpenTree API's to match out Gbif identifiers to Open Tree unique identifiers\n",
    "\n",
    "match_dict = {} # This will list the matches\n",
    "ott_ids = set() # And generate a set of taxa\n",
    "\n",
    "#Loop through each line in the gbif output\n",
    "for lin in gbif_data:\n",
    "    lii = lin.split('\\t')\n",
    "    gb_id = lii[col_dict['taxonKey']] # this grabs the gbif id number from the right column\n",
    "    sys.stdout.write(\".\") #progress bar\n",
    "    sys.stdout.flush()\n",
    "    if gb_id in match_dict:\n",
    "        #Skip gb_id's you have already matched\n",
    "        pass\n",
    "    else:\n",
    "        # Do a direct match to gbif id's in the open tree taxonomy\n",
    "        ott_id = OT.get_ottid_from_gbifid(gb_id)\n",
    "        if ott_id == None:\n",
    "            # Sometimes we don't have a record of the gbif ID, but we do have a taxon with that exact name\n",
    "            # Search on the name\n",
    "            spp_name = lii[col_dict['verbatimScientificName']]\n",
    "            ott_id = OT.get_ottid_from_name(spp_name)\n",
    "            if ott_id == None:\n",
    "                sys.stdout.write(\"Couldn't find an id for {}, gbif {}\".format(spp_name, gb_id))\n",
    "        match_dict[gb_id] = ott_id\n",
    "        ott_ids.add(ott_id)"
   ]
  },
  {
   "cell_type": "code",
   "execution_count": null,
   "metadata": {},
   "outputs": [],
   "source": [
    "# Lets grab a tree for those taxa!\n",
    "output = OT.synth_induced_tree(ott_ids=list(ott_ids),  label_format='name')\n",
    "treefile = \"gbif_taxa.tre\"\n",
    "output.tree.write(path = treefile, schema = \"newick\")\n",
    "sys.stdout.write(\"Tree written to {}\\n\".format(treefile))"
   ]
  },
  {
   "cell_type": "code",
   "execution_count": null,
   "metadata": {},
   "outputs": [],
   "source": [
    "# if we print to string we can take a quick look over at icytree.org or itol.embl.de\n",
    "output.tree.as_string(schema=\"newick\")"
   ]
  },
  {
   "cell_type": "code",
   "execution_count": null,
   "metadata": {},
   "outputs": [],
   "source": [
    "# Don't forget to cite your friendly phylogeneticists!\n",
    "studies = output.response_dict['supporting_studies']\n",
    "cites = OT.get_citations(studies) #this can be a bit slow\n",
    "print(cites)"
   ]
  },
  {
   "cell_type": "markdown",
   "metadata": {},
   "source": [
    "# DIY: Go to GBIF and choose a region of interest to you. Download the data as csv, and see if you can get a phylogeny for those taxa!"
   ]
  },
  {
   "cell_type": "code",
   "execution_count": null,
   "metadata": {},
   "outputs": [],
   "source": []
  }
 ],
 "metadata": {
  "kernelspec": {
   "display_name": "Python 3",
   "language": "python",
   "name": "python3"
  },
  "language_info": {
   "codemirror_mode": {
    "name": "ipython",
    "version": 3
   },
   "file_extension": ".py",
   "mimetype": "text/x-python",
   "name": "python",
   "nbconvert_exporter": "python",
   "pygments_lexer": "ipython3",
   "version": "3.7.3"
  }
 },
 "nbformat": 4,
 "nbformat_minor": 2
}
