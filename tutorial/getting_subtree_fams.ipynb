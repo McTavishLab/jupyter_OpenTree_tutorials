{
 "cells": [
  {
   "cell_type": "code",
   "execution_count": 3,
   "metadata": {},
   "outputs": [
    {
     "name": "stdout",
     "output_type": "stream",
     "text": [
      "--2019-11-06 11:49:42--  http://files.opentreeoflife.org/ott/ott3.1/ott3.1.tgz\n",
      "Resolving files.opentreeoflife.org... 129.237.33.155\n",
      "Connecting to files.opentreeoflife.org|129.237.33.155|:80... connected.\n",
      "HTTP request sent, awaiting response... 301 Moved Permanently\n",
      "Location: https://files.opentreeoflife.org/ott/ott3.1/ott3.1.tgz [following]\n",
      "--2019-11-06 11:49:42--  https://files.opentreeoflife.org/ott/ott3.1/ott3.1.tgz\n",
      "Connecting to files.opentreeoflife.org|129.237.33.155|:443... connected.\n",
      "HTTP request sent, awaiting response... 200 OK\n",
      "Length: 106275258 (101M) [application/x-gzip]\n",
      "Saving to: ‘ott3.1.tgz’\n",
      "\n",
      "ott3.1.tgz          100%[===================>] 101.35M  2.16MB/s    in 49s     \n",
      "\n",
      "2019-11-06 11:50:32 (2.06 MB/s) - ‘ott3.1.tgz’ saved [106275258/106275258]\n",
      "\n"
     ]
    }
   ],
   "source": [
    "# 1) download ott file from https://tree.opentreeoflife.org/about/taxonomy-version/ott3.1\n",
    "\n",
    "! wget 'http://files.opentreeoflife.org/ott/ott3.1/ott3.1.tgz'"
   ]
  },
  {
   "cell_type": "code",
   "execution_count": 5,
   "metadata": {},
   "outputs": [],
   "source": [
    "# 2) it is a gzip file, so unzip it first. This could also be done with command line doing `unzip ott3.1.tgz`\n",
    "import gzip\n",
    "import shutil\n",
    "with gzip.open('ott3.1.tgz', 'rb') as fin:\n",
    "    with open('ott3.1.tsv', 'wb') as fout:\n",
    "        shutil.copyfileobj(fin, fout)"
   ]
  },
  {
   "cell_type": "code",
   "execution_count": 6,
   "metadata": {},
   "outputs": [],
   "source": [
    "# 3) clean out things that are not in tree\n",
    "# this will keep families only and take out everything that is not a valid rank\n",
    "\n",
    "! grep -a \"family\" ott3.1.tsv | egrep -v \"Incertae\" | egrep -v \"no rank\" \\\n",
    "| egrep -v \"major_rank_conflict\" | egrep -v \"uncultured\" | egrep -v \"barren\" \\\n",
    "| egrep -v \"extinct\" | egrep -v \"incertae\" | egrep -v \"unplaced\" | \\\n",
    "egrep -v \"hidden\" | egrep -v \"inconsistent\"  | egrep -v \"synonym\" | \\\n",
    "egrep -v \"in family\" | egrep -v \"species\" | egrep -v \"genus\" | egrep -v \"superfamily\" \\\n",
    "| egrep -v \"subfamily\"> ott3.1red.tsv\n"
   ]
  },
  {
   "cell_type": "code",
   "execution_count": 15,
   "metadata": {},
   "outputs": [
    {
     "name": "stdout",
     "output_type": "stream",
     "text": [
      "    9616 ott3.1red.tsv\r\n"
     ]
    }
   ],
   "source": [
    "! wc -l ott3.1red.tsv"
   ]
  },
  {
   "cell_type": "code",
   "execution_count": 2,
   "metadata": {},
   "outputs": [],
   "source": [
    "fi = open(\"ott3.1red.tsv\").readlines()\n",
    "ott_ids = []\n",
    "for lin in fi:\n",
    "    lii = lin.split(\"\\t\")\n",
    "    ott_ids.append(lii[0])"
   ]
  },
  {
   "cell_type": "code",
   "execution_count": 3,
   "metadata": {},
   "outputs": [
    {
     "data": {
      "text/plain": [
       "9616"
      ]
     },
     "execution_count": 3,
     "metadata": {},
     "output_type": "execute_result"
    }
   ],
   "source": [
    "len(ott_ids)"
   ]
  },
  {
   "cell_type": "code",
   "execution_count": 4,
   "metadata": {},
   "outputs": [
    {
     "name": "stdout",
     "output_type": "stream",
     "text": [
      "1098176\n",
      "578817\n",
      "441950\n",
      "767327\n",
      "538123\n",
      "17900\n",
      "135338\n",
      "328373\n",
      "1039354\n",
      "1039356\n"
     ]
    }
   ],
   "source": [
    "for x in range(10): \n",
    "    print(ott_ids[x])"
   ]
  },
  {
   "cell_type": "code",
   "execution_count": 5,
   "metadata": {},
   "outputs": [
    {
     "data": {
      "text/plain": [
       "'1098176'"
      ]
     },
     "execution_count": 5,
     "metadata": {},
     "output_type": "execute_result"
    }
   ],
   "source": [
    "ott_ids[0]"
   ]
  },
  {
   "cell_type": "code",
   "execution_count": 6,
   "metadata": {},
   "outputs": [],
   "source": [
    "# this chunk will only run from a python virtual environment `venv-physcraper`\n",
    "import os\n",
    "from physcraper import opentree_helpers\n",
    "from physcraper.treetaxon import TreeTax"
   ]
  },
  {
   "cell_type": "code",
   "execution_count": 8,
   "metadata": {},
   "outputs": [
    {
     "name": "stderr",
     "output_type": "stream",
     "text": [
      "error getting synth tree, 400, Bad Request, [/v3/tree_of_life/induced_subtree] Error: node_id 'ott3581696' was not found!\n"
     ]
    }
   ],
   "source": [
    "tre = opentree_helpers.get_tree_from_synth(ott_ids=ott_ids, label_format=\"name\", citation= \"cites.txt\")\n"
   ]
  },
  {
   "cell_type": "code",
   "execution_count": null,
   "metadata": {},
   "outputs": [],
   "source": []
  },
  {
   "cell_type": "code",
   "execution_count": null,
   "metadata": {},
   "outputs": [],
   "source": []
  }
 ],
 "metadata": {
  "kernelspec": {
   "display_name": "Python 2",
   "language": "python",
   "name": "python2"
  },
  "language_info": {
   "codemirror_mode": {
    "name": "ipython",
    "version": 2
   },
   "file_extension": ".py",
   "mimetype": "text/x-python",
   "name": "python",
   "nbconvert_exporter": "python",
   "pygments_lexer": "ipython2",
   "version": "2.7.16"
  }
 },
 "nbformat": 4,
 "nbformat_minor": 2
}
