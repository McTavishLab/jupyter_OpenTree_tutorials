{
 "cells": [
  {
   "cell_type": "code",
   "execution_count": 1,
   "metadata": {},
   "outputs": [],
   "source": [
    "import sys\n",
    "from opentree import OT"
   ]
  },
  {
   "cell_type": "code",
   "execution_count": null,
   "metadata": {},
   "outputs": [],
   "source": []
  },
  {
   "cell_type": "code",
   "execution_count": 2,
   "metadata": {},
   "outputs": [
    {
     "name": "stdout",
     "output_type": "stream",
     "text": [
      "--2019-12-29 16:26:14--  https://raw.githubusercontent.com/McTavishLab/biodiversity_next/master/example.csv\n",
      "Resolving raw.githubusercontent.com (raw.githubusercontent.com)... 151.101.128.133, 151.101.64.133, 151.101.192.133, ...\n",
      "Connecting to raw.githubusercontent.com (raw.githubusercontent.com)|151.101.128.133|:443... connected.\n",
      "HTTP request sent, awaiting response... 200 OK\n",
      "Length: 49361 (48K) [text/plain]\n",
      "Saving to: ‘example.csv.3’\n",
      "\n",
      "example.csv.3       100%[===================>]  48.20K  --.-KB/s    in 0.08s   \n",
      "\n",
      "2019-12-29 16:26:14 (620 KB/s) - ‘example.csv.3’ saved [49361/49361]\n",
      "\n"
     ]
    }
   ],
   "source": [
    "!wget https://raw.githubusercontent.com/McTavishLab/biodiversity_next/master/example.csv"
   ]
  },
  {
   "cell_type": "code",
   "execution_count": 3,
   "metadata": {},
   "outputs": [
    {
     "name": "stdout",
     "output_type": "stream",
     "text": [
      "gbifID\tdatasetKey\toccurrenceID\tkingdom\tphylum\tclass\torder\tfamily\tgenus\tspecies\tinfraspecificEpithet\ttaxonRank\tscientificName\tverbatimScientificName\tverbatimScientificNameAuthorship\tcountryCode\tlocality\tstateProvince\toccurrenceStatus\tindividualCount\tpublishingOrgKey\tdecimalLatitude\tdecimalLongitude\tcoordinateUncertaintyInMeters\tcoordinatePrecision\televation\televationAccuracy\tdepth\tdepthAccuracy\teventDate\tday\tmonth\tyear\ttaxonKey\tspeciesKey\tbasisOfRecord\tinstitutionCode\tcollectionCode\tcatalogNumber\trecordNumber\tidentifiedBy\tdateIdentified\tlicense\trightsHolder\trecordedBy\ttypeStatus\testablishmentMeans\tlastInterpreted\tmediaType\tissue\r\n",
      "2423004790\t50c9509d-22c7-4a22-a47d-8c48425ef4a7\thttps://www.inaturalist.org/observations/32478397\tAnimalia\tArthropoda\tInsecta\tOdonata\tLibellulidae\tTramea\tTramea lacerata\t\tSPECIES\tTramea lacerata Hagen, 1861\tTramea lacerata\t\tUS\t\tCalifornia\t\t\t28eb1a3f-1c15-4a95-931a-4af90ecb574d\t37.36422\t-120.424003\t12.0\t\t\t\t\t\t2019-09-10T08:39:35Z\t10\t9\t2019\t1428475\t1428475\tHUMAN_OBSERVATION\tiNaturalist\tObservations\t32478397\t\t\t2019-09-23T17:50:55Z\tCC_BY_NC_4_0\tlunasare\tlunasare\t\t\t2019-10-01T08:01:26.785Z\tSTILLIMAGE\tGEODETIC_DATUM_ASSUMED_WGS84;COORDINATE_ROUNDED\r\n",
      "2397560940\t50c9509d-22c7-4a22-a47d-8c48425ef4a7\thttps://www.inaturalist.org/observations/31516078\tAnimalia\tArthropoda\tInsecta\tHymenoptera\tCynipidae\tAndricus\tAndricus kingi\t\tSPECIES\tAndricus kingi Bassett, 1900\tAndricus kingi\t\tUS\t\tCalifornia\t\t\t28eb1a3f-1c15-4a95-931a-4af90ecb574d\t37.365097\t-120.425788\t5.0\t\t\t\t\t\t2019-08-25T11:52:05Z\t25\t8\t2019\t1309594\t1309594\tHUMAN_OBSERVATION\tiNaturalist\tObservations\t31516078\t\t\t2019-08-26T00:25:01Z\tCC_BY_NC_4_0\tEnrique\tEnrique\t\t\t2019-09-20T15:55:58.017Z\tSTILLIMAGE\tGEODETIC_DATUM_ASSUMED_WGS84;COORDINATE_ROUNDED\r\n",
      "2308501445\tad43e954-dd79-4986-ae34-9ccdbd8bf568\tKX882090\tAnimalia\tArthropoda\tBranchiopoda\tAnostraca\tBranchinectidae\tBranchinecta\tBranchinecta lynchi\t\tSPECIES\tBranchinecta lynchi Eng, Belk & Eriksen, 1990\tBranchinecta lynchi\t\tUS\tUSA\t\t\t\tada9d123-ddb4-467d-8891-806ea8d94230\t37.37\t-120.42\t\t\t\t\t\t\t1999-02-26T00:00:00Z\t26\t2\t1999\t2235372\t2235372\tPRESERVED_SPECIMEN\t\t\t\t\t\t\tCC_BY_4_0\t\tUS Fish and Wildlife Service\t\t\t2019-09-20T16:14:30.573Z\t\tCOUNTRY_DERIVED_FROM_COORDINATES;GEODETIC_DATUM_ASSUMED_WGS84\r\n",
      "2308377953\tad43e954-dd79-4986-ae34-9ccdbd8bf568\tKX882091\tAnimalia\tArthropoda\tBranchiopoda\tAnostraca\tBranchinectidae\tBranchinecta\tBranchinecta lynchi\t\tSPECIES\tBranchinecta lynchi Eng, Belk & Eriksen, 1990\tBranchinecta lynchi\t\tUS\tUSA\t\t\t\tada9d123-ddb4-467d-8891-806ea8d94230\t37.37\t-120.42\t\t\t\t\t\t\t1999-02-26T00:00:00Z\t26\t2\t1999\t2235372\t2235372\tPRESERVED_SPECIMEN\t\t\t\t\t\t\tCC_BY_4_0\t\tUS Fish and Wildlife Service\t\t\t2019-09-20T16:14:30.575Z\t\tCOUNTRY_DERIVED_FROM_COORDINATES;GEODETIC_DATUM_ASSUMED_WGS84\r\n",
      "2273275977\t50c9509d-22c7-4a22-a47d-8c48425ef4a7\thttps://www.inaturalist.org/observations/27569741\tAnimalia\tArthropoda\tInsecta\tOdonata\tCalopterygidae\tHetaerina\tHetaerina americana\t\tSPECIES\tHetaerina americana Fabricius, 1798\tHetaerina americana\t\tUS\t\tCalifornia\t\t\t28eb1a3f-1c15-4a95-931a-4af90ecb574d\t37.370421\t-120.404691\t28417.0\t\t\t\t\t\t2019-06-11T12:57:00Z\t11\t6\t2019\t1427142\t1427142\tHUMAN_OBSERVATION\tiNaturalist\tObservations\t27569741\t\t\t2019-06-24T14:48:35Z\tCC_BY_NC_4_0\tZach Cava\tZach Cava\t\t\t2019-09-20T19:12:11.864Z\tSTILLIMAGE\tGEODETIC_DATUM_ASSUMED_WGS84;COORDINATE_ROUNDED\r\n",
      "2273200107\t50c9509d-22c7-4a22-a47d-8c48425ef4a7\thttps://www.inaturalist.org/observations/21888086\tAnimalia\tChordata\tAves\tPasseriformes\tIcteridae\tQuiscalus\tQuiscalus mexicanus\t\tSPECIES\tQuiscalus mexicanus (Gmelin, 1788)\tQuiscalus mexicanus\t\tUS\t\tCalifornia\t\t\t28eb1a3f-1c15-4a95-931a-4af90ecb574d\t37.36368\t-120.426658\t6.0\t\t\t\t\t\t2019-04-01T14:58:58Z\t1\t4\t2019\t9476062\t9476062\tHUMAN_OBSERVATION\tiNaturalist\tObservations\t21888086\t\t\t2019-04-01T22:03:32Z\tCC_BY_NC_4_0\tvictoriaelizr\tvictoriaelizr\t\t\t2019-09-21T02:35:34.469Z\tSTILLIMAGE\tGEODETIC_DATUM_ASSUMED_WGS84;COORDINATE_ROUNDED\r\n",
      "2251977254\t50c9509d-22c7-4a22-a47d-8c48425ef4a7\thttps://www.inaturalist.org/observations/26083803\tAnimalia\tChordata\tAves\tPasseriformes\tTyrannidae\tSayornis\tSayornis nigricans\t\tSPECIES\tSayornis nigricans (Swainson, 1827)\tSayornis nigricans\t\tUS\t\tCalifornia\t\t\t28eb1a3f-1c15-4a95-931a-4af90ecb574d\t37.365717\t-120.422983\t\t\t\t\t\t\t2019-05-23T10:45:31Z\t23\t5\t2019\t2483612\t2483612\tHUMAN_OBSERVATION\tiNaturalist\tObservations\t26083803\t\t\t2019-05-30T22:41:23Z\tCC_BY_NC_4_0\tfcannizzo2\tfcannizzo2\t\t\t2019-09-21T02:28:53.298Z\tSTILLIMAGE\tGEODETIC_DATUM_ASSUMED_WGS84;COORDINATE_ROUNDED\r\n",
      "2249931015\t040c5662-da76-4782-a48e-cdea1892d14c\thttp://bins.boldsystems.org/index.php/Public_RecordView?processid=GBMIN135349-18\tAnimalia\tArthropoda\tBranchiopoda\tAnostraca\tBranchinectidae\tBranchinecta\tBranchinecta lynchi\t\tSPECIES\tBranchinecta lynchi Eng, Belk & Eriksen, 1990\tBranchinecta lynchi\t\tUS\t\t\t\t\tb3bf3a83-1f68-4541-a03f-330d30d567f5\t37.37\t-120.42\t\t\t\t\t\t\t\t\t\t\t2235372\t2235372\tUNKNOWN\t\t\tRW14.101\t\t\t\tCC_BY_4_0\tBarcode of Life Datasystems\t\t\t\t2019-10-01T13:35:31.924Z\t\tGEODETIC_DATUM_ASSUMED_WGS84\r\n",
      "2249930847\t040c5662-da76-4782-a48e-cdea1892d14c\thttp://bins.boldsystems.org/index.php/Public_RecordView?processid=GBMIN135345-18\tAnimalia\tArthropoda\tBranchiopoda\tAnostraca\tBranchinectidae\tBranchinecta\tBranchinecta lynchi\t\tSPECIES\tBranchinecta lynchi Eng, Belk & Eriksen, 1990\tBranchinecta lynchi\t\tUS\t\t\t\t\tb3bf3a83-1f68-4541-a03f-330d30d567f5\t37.37\t-120.42\t\t\t\t\t\t\t\t\t\t\t2235372\t2235372\tUNKNOWN\t\t\tRW14.102\t\t\t\tCC_BY_4_0\tBarcode of Life Datasystems\t\t\t\t2019-10-01T13:35:31.476Z\t\tGEODETIC_DATUM_ASSUMED_WGS84\r\n"
     ]
    }
   ],
   "source": [
    "!head example.csv"
   ]
  },
  {
   "cell_type": "code",
   "execution_count": 4,
   "metadata": {},
   "outputs": [],
   "source": [
    "filename = \"example.csv\"\n",
    "fi = open(filename)\n",
    "header = fi.readline().split('\\t')"
   ]
  },
  {
   "cell_type": "code",
   "execution_count": 5,
   "metadata": {},
   "outputs": [],
   "source": [
    "#Get indexes for each column in the csv file\n",
    "col_dict = {}\n",
    "for i, col in enumerate(header):\n",
    "    col_dict[col] = i"
   ]
  },
  {
   "cell_type": "code",
   "execution_count": 6,
   "metadata": {},
   "outputs": [
    {
     "data": {
      "text/plain": [
       "{'gbifID': 0,\n",
       " 'datasetKey': 1,\n",
       " 'occurrenceID': 2,\n",
       " 'kingdom': 3,\n",
       " 'phylum': 4,\n",
       " 'class': 5,\n",
       " 'order': 6,\n",
       " 'family': 7,\n",
       " 'genus': 8,\n",
       " 'species': 9,\n",
       " 'infraspecificEpithet': 10,\n",
       " 'taxonRank': 11,\n",
       " 'scientificName': 12,\n",
       " 'verbatimScientificName': 13,\n",
       " 'verbatimScientificNameAuthorship': 14,\n",
       " 'countryCode': 15,\n",
       " 'locality': 16,\n",
       " 'stateProvince': 17,\n",
       " 'occurrenceStatus': 18,\n",
       " 'individualCount': 19,\n",
       " 'publishingOrgKey': 20,\n",
       " 'decimalLatitude': 21,\n",
       " 'decimalLongitude': 22,\n",
       " 'coordinateUncertaintyInMeters': 23,\n",
       " 'coordinatePrecision': 24,\n",
       " 'elevation': 25,\n",
       " 'elevationAccuracy': 26,\n",
       " 'depth': 27,\n",
       " 'depthAccuracy': 28,\n",
       " 'eventDate': 29,\n",
       " 'day': 30,\n",
       " 'month': 31,\n",
       " 'year': 32,\n",
       " 'taxonKey': 33,\n",
       " 'speciesKey': 34,\n",
       " 'basisOfRecord': 35,\n",
       " 'institutionCode': 36,\n",
       " 'collectionCode': 37,\n",
       " 'catalogNumber': 38,\n",
       " 'recordNumber': 39,\n",
       " 'identifiedBy': 40,\n",
       " 'dateIdentified': 41,\n",
       " 'license': 42,\n",
       " 'rightsHolder': 43,\n",
       " 'recordedBy': 44,\n",
       " 'typeStatus': 45,\n",
       " 'establishmentMeans': 46,\n",
       " 'lastInterpreted': 47,\n",
       " 'mediaType': 48,\n",
       " 'issue\\n': 49}"
      ]
     },
     "execution_count": 6,
     "metadata": {},
     "output_type": "execute_result"
    }
   ],
   "source": [
    "col_dict"
   ]
  },
  {
   "cell_type": "code",
   "execution_count": 7,
   "metadata": {},
   "outputs": [
    {
     "name": "stdout",
     "output_type": "stream",
     "text": [
      "........................gbif:5229155,Pelecanus erythrorhynchos not matched on ID\n",
      "gbif:5229155,Pelecanus erythrorhynchos matched on name to ott id316989\n",
      "....gbif:9088491,Dryobates nuttallii not matched on ID\n",
      "gbif:9088491,Dryobates nuttallii matched on name to ott id701703\n",
      "..gbif:5231677,Mimus polyglottos not matched on ID\n",
      "gbif:5231677,Mimus polyglottos matched on name to ott id571310\n",
      "......................................gbif:2498167,Anser caerulescens not matched on ID\n",
      "gbif:2498167,Anser caerulescens matched on name to ott id190878\n",
      "...........gbif:2498161,Anser rossii not matched on ID\n",
      "gbif:2498161,Anser rossii matched on name to ott id767830\n",
      "...................."
     ]
    }
   ],
   "source": [
    "match_dict = {}\n",
    "ott_ids = set()\n",
    "\n",
    "#Loop through each line in the gbif output\n",
    "for lin in fi:\n",
    "    lii = lin.split('\\t')\n",
    "    gb_id = lii[col_dict['taxonKey']]\n",
    "    sys.stdout.write(\".\") #progress bar\n",
    "    sys.stdout.flush()\n",
    "    if gb_id in match_dict:\n",
    "        #Skip gb_id's you have already matched\n",
    "        pass\n",
    "    else:\n",
    "        # Do a direct match to gbif id's in the open tree taxnomy\n",
    "        gbiftax = \"gbif:{}\".format(int(gb_id))\n",
    "        res = OT.taxon_info(source_id=gbiftax)\n",
    "        if res.status_code == 200:\n",
    "            ott_id = int(res.response_dict['ott_id'])\n",
    "            match_dict[gb_id] = ott_id\n",
    "        if res.status_code == 400:\n",
    "            # If GBIF id isn' found in the open tree taxonomy, search on scientific name\n",
    "            spp_name = lii[col_dict['verbatimScientificName']]\n",
    "            res2 = OT.tnrs_match([spp_name])\n",
    "            if res2.status_code == 200:\n",
    "                if len(res2.response_dict['results']) > 0:\n",
    "                    ott_id = int(res2.response_dict['results'][0]['matches'][0]['taxon']['ott_id'])\n",
    "                    match_dict[gb_id] = ott_id\n",
    "                    sys.stdout.write(\"{},{} matched on name to ott id{}\\n\".format(gbiftax, spp_name, ott_id))\n",
    "                else:\n",
    "                    sys.stdout.write(\"{},{} still NO MATCH\\n\".format(gbiftax, spp_name))\n",
    "                    match_dict[gb_id] = None\n",
    "        ott_ids.add(ott_id)"
   ]
  },
  {
   "cell_type": "code",
   "execution_count": 9,
   "metadata": {},
   "outputs": [
    {
     "data": {
      "text/plain": [
       "56"
      ]
     },
     "execution_count": 9,
     "metadata": {},
     "output_type": "execute_result"
    }
   ],
   "source": [
    "len(ott_ids)"
   ]
  },
  {
   "cell_type": "code",
   "execution_count": 10,
   "metadata": {},
   "outputs": [
    {
     "name": "stdout",
     "output_type": "stream",
     "text": [
      "Tree written to names.tre\n"
     ]
    }
   ],
   "source": [
    "trefile = \"names.tre\"\n",
    "#Get the syntehtic tree from OpenTreem and withe the ciattions to a text file.\n",
    "output = OT.synth_induced_tree(ott_ids=list(ott_ids),  label_format='name')\n",
    "output.tree.write(path = \"names.tre\", schema = \"newick\")\n",
    "sys.stdout.write(\"Tree written to {}\\n\".format(trefile))"
   ]
  },
  {
   "cell_type": "code",
   "execution_count": 11,
   "metadata": {},
   "outputs": [
    {
     "data": {
      "text/plain": [
       "\"(((((((((((((((((((((((((((((((((((((((((((((((((((((((((((((((((((((Regulus_calendula)Regulus)mrcaott246ott3599436,(((((((((Sturnus_vulgaris)mrcaott366470ott565813)mrcaott2224ott366470)mrcaott2175ott2224)mrcaott2175ott59905,((((((((Mimus_polyglottos)mrcaott571310ott1000585)mrcaott349284ott571310)mrcaott349284ott817639)mrcaott349284ott556541)mrcaott325207ott349284)mrcaott259082ott325207)mrcaott259082ott259086)mrcaott259082ott474281)mrcaott2175ott259082)mrcaott2175ott968664)mrcaott1566ott2175)mrcaott1566ott496009)mrcaott1566ott3598440)mrcaott246ott1566,(((((((Phainopepla_nitens)Phainopepla)mrcaott33427ott294590)mrcaott33427ott179330)mrcaott5934ott33427)mrcaott5934ott496029)mrcaott5934ott294597)mrcaott5934ott33425)mrcaott246ott5934,(((((((((((((((((((((((Passerculus_sandwichensis)Passerculus)mrcaott292636ott453758)mrcaott261498ott292636)mrcaott261498ott292635)mrcaott261498ott934463)mrcaott261498ott292639)mrcaott6023ott261498,(((((Zonotrichia_leucophrys)mrcaott125079ott265554)mrcaott125079ott265547)'Zonotrichia (genus in domain Eukaryota)',(((Junco_hyemalis)mrcaott765405ott7068418)mrcaott765405ott4947621)Junco)mrcaott125079ott765405)mrcaott125079ott463026)mrcaott6023ott125079)mrcaott6023ott101225,((((Chondestes_grammacus)Chondestes)mrcaott890355ott948123)mrcaott292646ott890355)mrcaott243614ott292646)mrcaott6023ott243614)mrcaott5616ott6023)mrcaott5616ott28339,(((((((((Setophaga_coronata)Setophaga)mrcaott22834ott335225)mrcaott5620ott22834)mrcaott5620ott63581)mrcaott5620ott85249)mrcaott5620ott860003)mrcaott5620ott285207,((((((((((((Euphagus_cyanocephalus)Euphagus,(((((Quiscalus_mexicanus)mrcaott283673ott743411)mrcaott283673ott735243)mrcaott283673ott741944)mrcaott283673ott673386)Quiscalus)mrcaott264500ott283668)mrcaott264500ott3597163)mrcaott264496ott264500)mrcaott93045ott264496,((((Molothrus_ater)mrcaott213448ott213450)mrcaott213448ott213451)mrcaott213448ott1009279)mrcaott213448ott213452)mrcaott93045ott213448,((((Agelaius_phoeniceus)mrcaott430627ott3597159)mrcaott430627ott617797)mrcaott430627ott498751)mrcaott213454ott430627)mrcaott93045ott213454)mrcaott29804ott93045)mrcaott29804ott86894,((((Sturnella_neglecta)mrcaott99175ott283666)Sturnella)mrcaott99175ott858292)mrcaott99175ott364331)Icteridae)mrcaott29804ott449562)mrcaott29804ott449580)mrcaott5620ott29804)mrcaott5620ott254662)mrcaott5616ott5620)mrcaott4088ott5616,(((((((Haemorhous_mexicanus)Haemorhous)mrcaott6366ott641497)mrcaott6366ott178457)mrcaott6366ott157599)mrcaott6366ott341465)mrcaott6366ott88283)mrcaott6366ott28332)mrcaott4088ott6366,((((((((Anthus_rubescens)mrcaott59184ott5861006)mrcaott59184ott695341)mrcaott59184ott660550)mrcaott59184ott505527)mrcaott59184ott165981)mrcaott59184ott151679)mrcaott8371ott59184)mrcaott8371ott580155)mrcaott4088ott8371,(((((((((Passer_domesticus)mrcaott9416ott73636)mrcaott9416ott68955)mrcaott9416ott407764)mrcaott9416ott25628)mrcaott9416ott407769)Passer)mrcaott9416ott7068473)mrcaott9416ott96147)mrcaott9416ott840030)mrcaott4088ott9416)mrcaott4088ott95302)mrcaott4083ott4088)mrcaott4083ott370807)mrcaott4083ott35042)mrcaott3364ott4083)mrcaott3364ott73828)mrcaott246ott3364,((((((((((((((((Tachycineta_bicolor)mrcaott136028ott621794)Tachycineta)mrcaott136028ott1050413)mrcaott16185ott136028)mrcaott16185ott16194,((((((Petrochelidon_pyrrhonota)mrcaott152806ott302798)Petrochelidon)mrcaott67916ott67918)mrcaott67916ott67920)mrcaott67916ott119537)mrcaott67916ott67921)mrcaott16185ott67916)Hirundinidae)mrcaott1488ott16185)mrcaott1488ott44217)mrcaott1488ott107463)mrcaott1488ott17016)mrcaott1488ott110316)mrcaott1488ott284404)mrcaott1488ott63797)mrcaott1488ott2375)mrcaott1488ott72472)mrcaott246ott1488)mrcaott246ott10351)mrcaott246ott176461)mrcaott246ott22325,(((((((((((((((((((((Aphelocoma_californica)mrcaott77753ott299592)mrcaott77753ott440878)mrcaott77753ott175629)Aphelocoma)mrcaott77753ott979211)mrcaott30736ott77753)mrcaott30736ott39825)mrcaott4820ott30736,(((((((((((Corvus_brachyrhynchos)mrcaott183621ott503209)mrcaott183621ott501241)mrcaott25637ott183621)mrcaott25637ott111993)mrcaott25637ott686166)mrcaott25637ott473431)mrcaott25637ott199843)mrcaott5933ott25637)Corvus)mrcaott5933ott60465)mrcaott5933ott60456)mrcaott4820ott5933)mrcaott4820ott11315)mrcaott4820ott75978)mrcaott4820ott197505)mrcaott4820ott140440)mrcaott4820ott11462)mrcaott4820ott20996)mrcaott4820ott23690)mrcaott4820ott58860)mrcaott4820ott20989)mrcaott4820ott20998)mrcaott4820ott17162)mrcaott4820ott409116)mrcaott246ott4820)mrcaott246ott32658)mrcaott246ott5929)mrcaott246ott44866)mrcaott246ott428578,(((((((((((((((((((Sayornis_nigricans)mrcaott568706ott1065604,Sayornis_saya)Sayornis)mrcaott67288ott568706)mrcaott67288ott1044512)mrcaott67288ott420339)mrcaott20892ott67288)mrcaott20892ott105309)mrcaott20892ott703030,(((((((Tyrannus_verticalis)mrcaott618377ott618385)mrcaott36409ott618377)mrcaott36409ott182053)mrcaott36409ott105301)mrcaott36409ott175389)mrcaott36409ott175384,(((((((Myiarchus_cinerascens)mrcaott138461ott501679)mrcaott129415ott138461)mrcaott129415ott835031)mrcaott105673ott129415)Myiarchus)mrcaott105673ott175386)mrcaott105673ott1023181)mrcaott36409ott105673)mrcaott20892ott36409)mrcaott20892ott1035997)mrcaott8441ott20892)mrcaott8441ott72378)mrcaott8441ott32470)mrcaott8441ott103931)mrcaott8441ott32471)mrcaott8441ott25827)mrcaott8441ott41222)mrcaott3212ott8441)mrcaott3212ott33874)mrcaott246ott3212)Passeriformes)mrcaott246ott7113,((((((((Falco_sparverius)Cerchneis)mrcaott201377ott773020)mrcaott47588ott201377)mrcaott47588ott179290)mrcaott47588ott748842)mrcaott47588ott225286)Falconidae)Falconiformes)mrcaott246ott47588)mrcaott246ott3600042,((((((((((((((((((((((Picoides_nuttallii)mrcaott701702ott701703)mrcaott701702ott873958)mrcaott45511ott701702)mrcaott45511ott435834)mrcaott45511ott123173)mrcaott45511ott183619)mrcaott45511ott90562,(((((((Colaptes_auratus)mrcaott3600175ott5925775)mrcaott210496ott3600175)Colaptes)mrcaott149826ott210496)mrcaott149826ott499951)mrcaott149816ott149826)mrcaott149816ott218452)mrcaott45511ott149816)mrcaott12995ott45511)mrcaott12995ott1025757)mrcaott12995ott130077)mrcaott12995ott104712)Picidae)mrcaott12995ott130073)Piciformes)mrcaott12995ott53912)mrcaott12995ott26078)mrcaott6895ott12995)mrcaott6895ott95396)mrcaott6895ott897867)mrcaott6895ott36453)mrcaott2907ott6895)mrcaott246ott2907,(((((((((((((((((((((((((Buteo_jamaicensis)mrcaott33792ott33796)mrcaott33792ott458099)mrcaott33792ott34339)mrcaott33792ott120833)mrcaott33792ott243423)mrcaott8285ott33792)mrcaott8285ott1034654)mrcaott8285ott1008547)mrcaott8285ott33791)mrcaott8285ott33798)mrcaott8285ott376409)mrcaott8285ott327100)mrcaott8285ott243416)mrcaott8285ott68001)mrcaott8285ott919198)mrcaott8285ott11582)mrcaott8285ott34284)mrcaott1858ott8285)mrcaott1858ott103122)mrcaott1858ott47576)Accipitrinae)Accipitridae,((Pandion_haliaetus)Pandion)Pandionidae)mrcaott1858ott806938)mrcaott1858ott1036186)Accipitriformes)mrcaott246ott1858)mrcaott246ott928360,(((((((((((((Charadrius_vociferus)mrcaott234677ott661811)mrcaott129402ott234677)mrcaott129402ott3596997)mrcaott129402ott238463)mrcaott129402ott214792)mrcaott129402ott673638)mrcaott112937ott129402)mrcaott57823ott112937)mrcaott57823ott242771)mrcaott57823ott57827)mrcaott5272ott57823,(((((((((Podiceps_nigricollis)mrcaott651477ott3595575)mrcaott651477ott3595565)mrcaott651477ott799136)mrcaott92263ott651477,(Aechmophorus_clarkii)Aechmophorus)mrcaott92263ott758343)mrcaott92263ott299429,(Podilymbus_podiceps)Podilymbus)Podicipedidae)Podicipediformes)mrcaott92263ott472423)mrcaott5272ott92263,(((((((((((((((Nannopterum_auritus)mrcaott109023ott170200)Nannopterum)mrcaott9831ott109023)mrcaott9831ott5560498)mrcaott9830ott9831)mrcaott9830ott480885)Phalacrocoracidae)mrcaott9830ott443639)mrcaott9830ott117726)mrcaott9830ott285638,((((((((((((Egretta_thula)mrcaott126087ott273425)mrcaott55044ott126087)mrcaott55044ott1032052)mrcaott55044ott744560)mrcaott55044ott628056,(((Ardea_alba)mrcaott105529ott625779,(((((Ardea_herodias)mrcaott137525ott7068711)mrcaott137525ott227715)mrcaott137525ott273431)mrcaott137525ott868640)mrcaott137525ott729476)mrcaott105529ott137525)mrcaott105529ott151682)mrcaott55044ott105529)mrcaott55044ott244700)mrcaott55044ott105531)mrcaott55044ott154815)Ardeidae,(((((Pelecanus_erythrorhynchos)mrcaott316989ott613206)Pelecanus)Pelecanidae)mrcaott316989ott464697)mrcaott316989ott464704)mrcaott55044ott316989)mrcaott55044ott192642)mrcaott9830ott55044)mrcaott9830ott324158)mrcaott9830ott18206)mrcaott9830ott90560)mrcaott9830ott86672)mrcaott5272ott9830)mrcaott246ott5272,(((((((((((((Fulica_americana)mrcaott181051ott3599906)mrcaott181051ott664905)mrcaott181051ott553402)mrcaott181051ott943091)mrcaott181051ott943094)mrcaott9721ott181051)mrcaott9721ott385129)mrcaott7145ott9721)mrcaott7145ott32324)mrcaott7145ott32317)mrcaott7145ott32328)mrcaott7145ott56833)mrcaott7145ott242768)mrcaott246ott7145,(((((((((((((((Streptopelia_decaocto)mrcaott801233ott5560508)mrcaott277810ott801233)mrcaott277810ott801232)mrcaott277810ott277811)mrcaott244134ott277810)mrcaott51607ott244134)mrcaott51607ott67614)mrcaott51607ott277822)mrcaott45505ott51607)mrcaott45505ott506098,(((((((Zenaida_macroura)mrcaott183576ott329068)mrcaott183576ott329066)Zenaida)mrcaott120585ott183576)mrcaott120585ott244142)mrcaott120585ott189782)mrcaott50388ott120585)mrcaott45505ott50388)mrcaott17146ott45505)Columbiformes)mrcaott17146ott57819)mrcaott5021ott17146)mrcaott246ott5021,(((((((((((((((Calypte_anna)Calypte)mrcaott164165ott810756)mrcaott164165ott759410)mrcaott11007ott164165)mrcaott11007ott141989)mrcaott5481ott11007)mrcaott5481ott141987)mrcaott5481ott11002)mrcaott5481ott18655)Trochilidae)Apodiformes)mrcaott5481ott68112)mrcaott5481ott275128)mrcaott5481ott178241)Caprimulgimorphae)mrcaott246ott5481,((((((((((((((((Callipepla_californica)mrcaott5860917ott5860927)Callipepla)mrcaott204719ott5860945)mrcaott204719ott3596012)mrcaott204719ott3596007)mrcaott204719ott5860929)mrcaott204719ott329467)Odontophoridae)mrcaott204719ott554512)mrcaott4765ott151684)mrcaott4765ott104461)mrcaott4765ott75785)mrcaott4765ott109888)mrcaott4765ott6520194)Galliformes,((((((((((((Bucephala_clangula)mrcaott166683ott780952)Bucephala)mrcaott166683ott166692)mrcaott166683ott948668)mrcaott145504ott166683)mrcaott145504ott316879)mrcaott30843ott145504)mrcaott30843ott962771,((((((((((Branta_canadensis)mrcaott75874ott746546)mrcaott75874ott767835)mrcaott75874ott799106)Branta,((((Anser_caerulescens,Anser_rossii)mrcaott83417ott767830)mrcaott83417ott166688)mrcaott83417ott164653)Anser)mrcaott75874ott83417)mrcaott75874ott140312)Anserinae)mrcaott75874ott1082830)mrcaott75874ott88380)mrcaott75874ott432041)mrcaott30843ott75874)Anatidae)mrcaott30843ott714464)Anseriformes)Galloanserae)Neognathae)Aves)mrcaott246ott4132107)mrcaott246ott3600976)mrcaott246ott4143599)mrcaott246ott3602822)mrcaott246ott4132146)mrcaott246ott4127288)mrcaott246ott4128105)mrcaott246ott4126482)mrcaott246ott4946623)mrcaott246ott4127541)mrcaott246ott4129653)mrcaott246ott4127015)mrcaott246ott4126505)mrcaott246ott664349)mrcaott246ott4127421)mrcaott246ott4126230)mrcaott246ott4127428)mrcaott246ott4947920)mrcaott246ott31216)mrcaott246ott2982)mrcaott246ott1662)mrcaott246ott4126667)mrcaott246ott4142716)mrcaott246ott4129629)mrcaott246ott4127082)mrcaott246ott4128455)Sauria)Sauropsida)Amniota,(((((((((((((((((((((Pseudacris_sierra)Pseudacris)mrcaott40328ott59144)mrcaott3289ott40328)mrcaott2732ott3289)mrcaott177ott2732)mrcaott177ott43017)mrcaott177ott17126)Hylidae)mrcaott177ott1321)mrcaott177ott29310)mrcaott177ott2199)mrcaott177ott7464)mrcaott114ott177)mrcaott114ott309463)Neobatrachia)mrcaott114ott18818)mrcaott114ott37876)mrcaott114ott3129)Anura)Batrachia)Amphibia)Tetrapoda)Dipnotetrapodomorpha)Sarcopterygii)Euteleostomi)Teleostomi)'Gnathostomata (superclass in phylum Chordata)')'Vertebrata (subphylum in Deuterostomia)')'Craniata (subphylum in Deuterostomia)')mrcaott42ott658)Chordata)Deuterostomia,((((((((((((((((((((((((((((((((((((((((((((Scathophaga_stercoraria)Scathophaga)Scathophaginae)Scathophagidae)mrcaott15696ott71694)mrcaott633ott15696)mrcaott633ott1716)mrcaott633ott48508)mrcaott633ott638)Calyptratae)mrcaott633ott1874)mrcaott633ott7556)Schizophora)mrcaott633ott4645)mrcaott107ott633)Cyclorrhapha)mrcaott107ott487056)mrcaott107ott7667)Brachycera)mrcaott107ott6301)mrcaott107ott460635)mrcaott107ott451)mrcaott107ott6635)mrcaott107ott1037379)Diptera)mrcaott107ott8113)mrcaott100ott107)mrcaott100ott387,(((((((((((((((((((Andricus_kingi)mrcaott38115ott51788)mrcaott38115ott457149)Cynipini)mrcaott4257ott38115)mrcaott4257ott22537)mrcaott4257ott22544)Cynipoidea)mrcaott4257ott13579)mrcaott1216ott4257)mrcaott1153ott1216)mrcaott470ott1153)mrcaott470ott65455)mrcaott470ott201881)mrcaott470ott512895)mrcaott470ott39386)mrcaott470ott29510)mrcaott470ott1057)mrcaott470ott2725)Hymenoptera)Holometabola)mrcaott100ott695)Neoptera)mrcaott100ott3046,(((((Hetaerina_americana)Hetaerina)Calopterygidae)Calopterygoidea,(((Ischnura_cervula)Ischnura)Coenagrionoidea)Coenagrionidae)Zygoptera,(((((((((((((((((Tramea_lacerata)mrcaott304883ott331938)mrcaott304883ott996472)mrcaott304883ott3010790)mrcaott304883ott364709)mrcaott46749ott304883)mrcaott46749ott66573)mrcaott14798ott46749)mrcaott14798ott46746)mrcaott14798ott304886)mrcaott14798ott24502)mrcaott14798ott37992)mrcaott14798ott28886)mrcaott14798ott45914)mrcaott14798ott28874)mrcaott14798ott28883)'Anisoptera (infraorder in infraclass Palaeoptera)')Epiprocta)Odonata)'Pterygota (subclass in Opisthokonta)')Dicondylia)Insecta)mrcaott100ott98461)Hexapoda)mrcaott100ott131202,((((((((Cyzicus_californicus)Cyzicus)Cyzicidae)Spinicaudata)mrcaott705ott55125)Diplostraca)Phyllopoda,((((Branchinecta_lynchi)Branchinecta)Branchinectidae)Anostraca)Sarsostraca)Branchiopoda)mrcaott705ott4932)mrcaott100ott705)Pancrustacea)Mandibulata)Arthropoda)Panarthropoda)Ecdysozoa)Protostomia)mrcaott42ott49;\\n\""
      ]
     },
     "execution_count": 11,
     "metadata": {},
     "output_type": "execute_result"
    }
   ],
   "source": [
    "output.tree.as_string(schema=\"newick\")"
   ]
  },
  {
   "cell_type": "code",
   "execution_count": 16,
   "metadata": {},
   "outputs": [],
   "source": [
    "studies = output.response_dict['supporting_studies']"
   ]
  },
  {
   "cell_type": "code",
   "execution_count": 17,
   "metadata": {},
   "outputs": [
    {
     "name": "stdout",
     "output_type": "stream",
     "text": [
      "Carrano M.T., Benson R.B., & Sampson S.D. 2012. The phylogeny of Tetanurae (Dinosauria: Theropoda). Journal of Systematic Palaeontology, 10(2): 211-300.\n",
      "http://dx.doi.org/10.1080/14772019.2011.630927\n",
      "\n",
      "Brusatte S.L., Benton M.J., Desojo J.B., & Langer M.C. 2010. The higher-level phylogeny of Archosauria (Tetrapoda: Diapsida). Journal of Systematic Palaeontology, 8(1): 3-47.\n",
      "http://dx.doi.org/10.1080/14772010903537732\n",
      "\n",
      "Andres B.B., Clark J.M., & Xu X. 2012. A new rhamphorhynchid pterosaur from the Upper Jurassic of Xinjiang, China, and the phylogenetic relationships of basal pterosaurs. Journal of Vertebrate Paleontology, 30(1): 163-187.\n",
      "http://dx.doi.org/10.1080/02724630903409220\n",
      "\n",
      "Zanno L.E. 2010. A taxonomic and phylogenetic re-evaluation of Therizinosauria (Dinosauria: Maniraptora). Journal of Systematic Palaeontology, 8(4): 37-41.\n",
      "http://dx.doi.org/10.1080/14772019.2010.488045\n",
      "\n",
      "Dongyu H., Lianhai H., Lijun Z., & Xing X. 2010. A pre-Archaeopteryx troodontid theropod from China with long feathers on the metatarsus. Nature, 461: 640-643.\n",
      "http://dx.doi.org/10.1038/nature08322\n",
      "\n",
      "Price, Trevor D., Daniel M. Hooper, Caitlyn D. Buchanan, Ulf S. Johansson, D. Thomas Tietze, Per Alström, Urban Olsson, Mousumi Ghosh-Harihar, Farah Ishtiaq, Sandeep K. Gupta, Jochen Martens, Bettina Harr, Pratap Singh, Dhananjai Mohan. 2014. Niche filling slows the diversification of Himalayan songbirds. Nature 509: 222-225.\n",
      "http://dx.doi.org/10.1038/nature13272\n",
      "\n"
     ]
    },
    {
     "name": "stderr",
     "output_type": "stream",
     "text": [
      "ERROR:root:Error in POST to https://api.opentreeoflife.org/v3/studies/find_studies\n",
      "Traceback (most recent call last):\n",
      "  File \"/home/ejmctavish/projects/otapi/python-opentree/opentree/ws_wrapper.py\", line 166, in _call_api\n",
      "    call_obj = self._http_request(url, http_method, data=data, headers=headers)\n",
      "  File \"/home/ejmctavish/projects/otapi/python-opentree/opentree/ws_wrapper.py\", line 231, in _http_request\n",
      "    allow_redirects=True)\n",
      "  File \"/home/ejmctavish/projects/otapi/python-opentree/venv-jupyentree/lib/python3.7/site-packages/requests/api.py\", line 60, in request\n",
      "    return session.request(method=method, url=url, **kwargs)\n",
      "  File \"/home/ejmctavish/projects/otapi/python-opentree/venv-jupyentree/lib/python3.7/site-packages/requests/sessions.py\", line 533, in request\n",
      "    resp = self.send(prep, **send_kwargs)\n",
      "  File \"/home/ejmctavish/projects/otapi/python-opentree/venv-jupyentree/lib/python3.7/site-packages/requests/sessions.py\", line 646, in send\n",
      "    r = adapter.send(request, **kwargs)\n",
      "  File \"/home/ejmctavish/projects/otapi/python-opentree/venv-jupyentree/lib/python3.7/site-packages/requests/adapters.py\", line 449, in send\n",
      "    timeout=timeout\n",
      "  File \"/home/ejmctavish/projects/otapi/python-opentree/venv-jupyentree/lib/python3.7/site-packages/urllib3/connectionpool.py\", line 672, in urlopen\n",
      "    chunked=chunked,\n",
      "  File \"/home/ejmctavish/projects/otapi/python-opentree/venv-jupyentree/lib/python3.7/site-packages/urllib3/connectionpool.py\", line 376, in _make_request\n",
      "    self._validate_conn(conn)\n",
      "  File \"/home/ejmctavish/projects/otapi/python-opentree/venv-jupyentree/lib/python3.7/site-packages/urllib3/connectionpool.py\", line 994, in _validate_conn\n",
      "    conn.connect()\n",
      "  File \"/home/ejmctavish/projects/otapi/python-opentree/venv-jupyentree/lib/python3.7/site-packages/urllib3/connection.py\", line 394, in connect\n",
      "    ssl_context=context,\n",
      "  File \"/home/ejmctavish/projects/otapi/python-opentree/venv-jupyentree/lib/python3.7/site-packages/urllib3/util/ssl_.py\", line 370, in ssl_wrap_socket\n",
      "    return context.wrap_socket(sock, server_hostname=server_hostname)\n",
      "  File \"/usr/lib/python3.7/ssl.py\", line 412, in wrap_socket\n",
      "    session=session\n",
      "  File \"/usr/lib/python3.7/ssl.py\", line 853, in _create\n",
      "    self.do_handshake()\n",
      "  File \"/usr/lib/python3.7/ssl.py\", line 1117, in do_handshake\n",
      "    self._sslobj.do_handshake()\n",
      "KeyboardInterrupt\n"
     ]
    },
    {
     "name": "stdout",
     "output_type": "stream",
     "text": [
      "Jønsson, Knud Andreas, Pierre-Henri Fabre, Jonathan D. Kennedy, Ben G. Holt, Michael K. Borregaard, Carsten Rahbek, Jon Fjeldså. 2016. A supermatrix phylogeny of corvoid passerine birds (Aves: Corvides). Molecular Phylogenetics and Evolution 94: 87-94.\n",
      "http://dx.doi.org/10.1016/j.ympev.2015.08.020\n",
      "\n"
     ]
    },
    {
     "ename": "KeyboardInterrupt",
     "evalue": "",
     "output_type": "error",
     "traceback": [
      "\u001b[0;31m---------------------------------------------------------------------------\u001b[0m",
      "\u001b[0;31mKeyboardInterrupt\u001b[0m                         Traceback (most recent call last)",
      "\u001b[0;32m<ipython-input-17-a6773bba8033>\u001b[0m in \u001b[0;36m<module>\u001b[0;34m\u001b[0m\n\u001b[1;32m      1\u001b[0m \u001b[0;32mfor\u001b[0m \u001b[0mstudy\u001b[0m \u001b[0;32min\u001b[0m \u001b[0mstudies\u001b[0m\u001b[0;34m:\u001b[0m\u001b[0;34m\u001b[0m\u001b[0;34m\u001b[0m\u001b[0m\n\u001b[1;32m      2\u001b[0m     \u001b[0mstudyid\u001b[0m \u001b[0;34m=\u001b[0m \u001b[0mstudy\u001b[0m\u001b[0;34m.\u001b[0m\u001b[0msplit\u001b[0m\u001b[0;34m(\u001b[0m\u001b[0;34m'@'\u001b[0m\u001b[0;34m)\u001b[0m\u001b[0;34m[\u001b[0m\u001b[0;36m0\u001b[0m\u001b[0;34m]\u001b[0m\u001b[0;34m\u001b[0m\u001b[0;34m\u001b[0m\u001b[0m\n\u001b[0;32m----> 3\u001b[0;31m     \u001b[0mstudyres\u001b[0m \u001b[0;34m=\u001b[0m \u001b[0mOT\u001b[0m\u001b[0;34m.\u001b[0m\u001b[0mfind_studies\u001b[0m\u001b[0;34m(\u001b[0m\u001b[0mstudyid\u001b[0m\u001b[0;34m,\u001b[0m \u001b[0msearch_property\u001b[0m \u001b[0;34m=\u001b[0m \u001b[0;34m'ot:studyId'\u001b[0m\u001b[0;34m,\u001b[0m \u001b[0mverbose\u001b[0m\u001b[0;34m=\u001b[0m\u001b[0;34m\"True\"\u001b[0m\u001b[0;34m)\u001b[0m\u001b[0;34m\u001b[0m\u001b[0;34m\u001b[0m\u001b[0m\n\u001b[0m\u001b[1;32m      4\u001b[0m     \u001b[0mnew_cite\u001b[0m \u001b[0;34m=\u001b[0m \u001b[0mstudyres\u001b[0m\u001b[0;34m.\u001b[0m\u001b[0mresponse_dict\u001b[0m\u001b[0;34m.\u001b[0m\u001b[0mget\u001b[0m\u001b[0;34m(\u001b[0m\u001b[0;34m'matched_studies'\u001b[0m\u001b[0;34m,\u001b[0m \u001b[0;32mNone\u001b[0m\u001b[0;34m)\u001b[0m\u001b[0;34m\u001b[0m\u001b[0;34m\u001b[0m\u001b[0m\n\u001b[1;32m      5\u001b[0m     \u001b[0;32mif\u001b[0m \u001b[0mnew_cite\u001b[0m\u001b[0;34m:\u001b[0m\u001b[0;34m\u001b[0m\u001b[0;34m\u001b[0m\u001b[0m\n",
      "\u001b[0;32m~/projects/otapi/python-opentree/opentree/ot_object.py\u001b[0m in \u001b[0;36mfind_studies\u001b[0;34m(self, value, search_property, exact, verbose)\u001b[0m\n\u001b[1;32m     43\u001b[0m \u001b[0;34m\u001b[0m\u001b[0m\n\u001b[1;32m     44\u001b[0m     \u001b[0;32mdef\u001b[0m \u001b[0mfind_studies\u001b[0m\u001b[0;34m(\u001b[0m\u001b[0mself\u001b[0m\u001b[0;34m,\u001b[0m \u001b[0mvalue\u001b[0m\u001b[0;34m,\u001b[0m \u001b[0msearch_property\u001b[0m\u001b[0;34m,\u001b[0m \u001b[0mexact\u001b[0m\u001b[0;34m=\u001b[0m\u001b[0;32mFalse\u001b[0m\u001b[0;34m,\u001b[0m \u001b[0mverbose\u001b[0m\u001b[0;34m=\u001b[0m\u001b[0;32mFalse\u001b[0m\u001b[0;34m)\u001b[0m\u001b[0;34m:\u001b[0m\u001b[0;34m\u001b[0m\u001b[0;34m\u001b[0m\u001b[0m\n\u001b[0;32m---> 45\u001b[0;31m         \u001b[0;32mreturn\u001b[0m \u001b[0mself\u001b[0m\u001b[0;34m.\u001b[0m\u001b[0mws\u001b[0m\u001b[0;34m.\u001b[0m\u001b[0mstudies_find_studies\u001b[0m\u001b[0;34m(\u001b[0m\u001b[0mvalue\u001b[0m\u001b[0;34m,\u001b[0m \u001b[0msearch_property\u001b[0m\u001b[0;34m=\u001b[0m\u001b[0msearch_property\u001b[0m\u001b[0;34m,\u001b[0m \u001b[0mexact\u001b[0m\u001b[0;34m=\u001b[0m\u001b[0mexact\u001b[0m\u001b[0;34m,\u001b[0m \u001b[0mverbose\u001b[0m\u001b[0;34m=\u001b[0m\u001b[0mverbose\u001b[0m\u001b[0;34m)\u001b[0m\u001b[0;34m\u001b[0m\u001b[0;34m\u001b[0m\u001b[0m\n\u001b[0m\u001b[1;32m     46\u001b[0m \u001b[0;34m\u001b[0m\u001b[0m\n\u001b[1;32m     47\u001b[0m     \u001b[0;32mdef\u001b[0m \u001b[0mfind_trees\u001b[0m\u001b[0;34m(\u001b[0m\u001b[0mself\u001b[0m\u001b[0;34m,\u001b[0m \u001b[0mvalue\u001b[0m\u001b[0;34m,\u001b[0m \u001b[0msearch_property\u001b[0m\u001b[0;34m,\u001b[0m \u001b[0mexact\u001b[0m\u001b[0;34m=\u001b[0m\u001b[0;32mFalse\u001b[0m\u001b[0;34m,\u001b[0m \u001b[0mverbose\u001b[0m\u001b[0;34m=\u001b[0m\u001b[0;32mFalse\u001b[0m\u001b[0;34m)\u001b[0m\u001b[0;34m:\u001b[0m\u001b[0;34m\u001b[0m\u001b[0;34m\u001b[0m\u001b[0m\n",
      "\u001b[0;32m~/projects/otapi/python-opentree/opentree/ot_ws_wrapper.py\u001b[0m in \u001b[0;36mstudies_find_studies\u001b[0;34m(self, value, search_property, exact, verbose)\u001b[0m\n\u001b[1;32m     47\u001b[0m     \u001b[0;32mdef\u001b[0m \u001b[0mstudies_find_studies\u001b[0m\u001b[0;34m(\u001b[0m\u001b[0mself\u001b[0m\u001b[0;34m,\u001b[0m \u001b[0mvalue\u001b[0m\u001b[0;34m,\u001b[0m \u001b[0msearch_property\u001b[0m\u001b[0;34m,\u001b[0m \u001b[0mexact\u001b[0m\u001b[0;34m=\u001b[0m\u001b[0;32mFalse\u001b[0m\u001b[0;34m,\u001b[0m \u001b[0mverbose\u001b[0m\u001b[0;34m=\u001b[0m\u001b[0;32mFalse\u001b[0m\u001b[0;34m)\u001b[0m\u001b[0;34m:\u001b[0m\u001b[0;34m\u001b[0m\u001b[0;34m\u001b[0m\u001b[0m\n\u001b[1;32m     48\u001b[0m         \u001b[0md\u001b[0m \u001b[0;34m=\u001b[0m \u001b[0;34m{\u001b[0m\u001b[0;34m\"property\"\u001b[0m\u001b[0;34m:\u001b[0m \u001b[0mstr\u001b[0m\u001b[0;34m(\u001b[0m\u001b[0msearch_property\u001b[0m\u001b[0;34m)\u001b[0m\u001b[0;34m,\u001b[0m \u001b[0;34m\"value\"\u001b[0m\u001b[0;34m:\u001b[0m \u001b[0mstr\u001b[0m\u001b[0;34m(\u001b[0m\u001b[0mvalue\u001b[0m\u001b[0;34m)\u001b[0m\u001b[0;34m,\u001b[0m \u001b[0;34m\"exact\"\u001b[0m\u001b[0;34m:\u001b[0m \u001b[0mbool\u001b[0m\u001b[0;34m(\u001b[0m\u001b[0mexact\u001b[0m\u001b[0;34m)\u001b[0m\u001b[0;34m,\u001b[0m \u001b[0;34m\"verbose\"\u001b[0m\u001b[0;34m:\u001b[0m \u001b[0mbool\u001b[0m\u001b[0;34m(\u001b[0m\u001b[0mverbose\u001b[0m\u001b[0;34m)\u001b[0m\u001b[0;34m}\u001b[0m\u001b[0;34m\u001b[0m\u001b[0;34m\u001b[0m\u001b[0m\n\u001b[0;32m---> 49\u001b[0;31m         \u001b[0;32mreturn\u001b[0m \u001b[0mself\u001b[0m\u001b[0;34m.\u001b[0m\u001b[0m_call_api\u001b[0m\u001b[0;34m(\u001b[0m\u001b[0;34m'studies/find_studies'\u001b[0m\u001b[0;34m,\u001b[0m \u001b[0mdata\u001b[0m\u001b[0;34m=\u001b[0m\u001b[0md\u001b[0m\u001b[0;34m,\u001b[0m \u001b[0mdemand_success\u001b[0m\u001b[0;34m=\u001b[0m\u001b[0;32mFalse\u001b[0m\u001b[0;34m)\u001b[0m\u001b[0;34m\u001b[0m\u001b[0;34m\u001b[0m\u001b[0m\n\u001b[0m\u001b[1;32m     50\u001b[0m \u001b[0;34m\u001b[0m\u001b[0m\n\u001b[1;32m     51\u001b[0m     \u001b[0;32mdef\u001b[0m \u001b[0mstudies_find_trees\u001b[0m\u001b[0;34m(\u001b[0m\u001b[0mself\u001b[0m\u001b[0;34m,\u001b[0m \u001b[0mvalue\u001b[0m\u001b[0;34m,\u001b[0m \u001b[0msearch_property\u001b[0m\u001b[0;34m,\u001b[0m \u001b[0mexact\u001b[0m\u001b[0;34m=\u001b[0m\u001b[0;32mFalse\u001b[0m\u001b[0;34m,\u001b[0m \u001b[0mverbose\u001b[0m\u001b[0;34m=\u001b[0m\u001b[0;32mFalse\u001b[0m\u001b[0;34m)\u001b[0m\u001b[0;34m:\u001b[0m\u001b[0;34m\u001b[0m\u001b[0;34m\u001b[0m\u001b[0m\n",
      "\u001b[0;32m~/projects/otapi/python-opentree/opentree/ws_wrapper.py\u001b[0m in \u001b[0;36m_call_api\u001b[0;34m(self, method_url_fragment, data, http_method, demand_success, headers)\u001b[0m\n\u001b[1;32m    164\u001b[0m             \u001b[0;32mif\u001b[0m \u001b[0mheaders\u001b[0m \u001b[0;32mis\u001b[0m \u001b[0;32mNone\u001b[0m\u001b[0;34m:\u001b[0m\u001b[0;34m\u001b[0m\u001b[0;34m\u001b[0m\u001b[0m\n\u001b[1;32m    165\u001b[0m                 \u001b[0mheaders\u001b[0m \u001b[0;34m=\u001b[0m \u001b[0;34m{\u001b[0m\u001b[0;34m'content-type'\u001b[0m\u001b[0;34m:\u001b[0m \u001b[0;34m'application/json'\u001b[0m\u001b[0;34m,\u001b[0m \u001b[0;34m'accept'\u001b[0m\u001b[0;34m:\u001b[0m \u001b[0;34m'application/json'\u001b[0m\u001b[0;34m,\u001b[0m \u001b[0;34m}\u001b[0m\u001b[0;34m\u001b[0m\u001b[0;34m\u001b[0m\u001b[0m\n\u001b[0;32m--> 166\u001b[0;31m             \u001b[0mcall_obj\u001b[0m \u001b[0;34m=\u001b[0m \u001b[0mself\u001b[0m\u001b[0;34m.\u001b[0m\u001b[0m_http_request\u001b[0m\u001b[0;34m(\u001b[0m\u001b[0murl\u001b[0m\u001b[0;34m,\u001b[0m \u001b[0mhttp_method\u001b[0m\u001b[0;34m,\u001b[0m \u001b[0mdata\u001b[0m\u001b[0;34m=\u001b[0m\u001b[0mdata\u001b[0m\u001b[0;34m,\u001b[0m \u001b[0mheaders\u001b[0m\u001b[0;34m=\u001b[0m\u001b[0mheaders\u001b[0m\u001b[0;34m)\u001b[0m\u001b[0;34m\u001b[0m\u001b[0;34m\u001b[0m\u001b[0m\n\u001b[0m\u001b[1;32m    167\u001b[0m             \u001b[0;32mif\u001b[0m \u001b[0mdemand_success\u001b[0m \u001b[0;32mand\u001b[0m \u001b[0;32mnot\u001b[0m \u001b[0mcall_obj\u001b[0m\u001b[0;34m:\u001b[0m\u001b[0;34m\u001b[0m\u001b[0;34m\u001b[0m\u001b[0m\n\u001b[1;32m    168\u001b[0m                 \u001b[0;32mif\u001b[0m \u001b[0;32mnot\u001b[0m \u001b[0mself\u001b[0m\u001b[0;34m.\u001b[0m\u001b[0m_perform_ws_calls\u001b[0m\u001b[0;34m:\u001b[0m\u001b[0;34m\u001b[0m\u001b[0;34m\u001b[0m\u001b[0m\n",
      "\u001b[0;32m~/projects/otapi/python-opentree/opentree/ws_wrapper.py\u001b[0m in \u001b[0;36m_http_request\u001b[0;34m(self, url, http_method, data, headers)\u001b[0m\n\u001b[1;32m    229\u001b[0m                                     \u001b[0mheaders\u001b[0m\u001b[0;34m=\u001b[0m\u001b[0mheaders\u001b[0m\u001b[0;34m,\u001b[0m\u001b[0;34m\u001b[0m\u001b[0;34m\u001b[0m\u001b[0m\n\u001b[1;32m    230\u001b[0m                                     \u001b[0mdata\u001b[0m\u001b[0;34m=\u001b[0m\u001b[0mjson\u001b[0m\u001b[0;34m.\u001b[0m\u001b[0mdumps\u001b[0m\u001b[0;34m(\u001b[0m\u001b[0mdata\u001b[0m\u001b[0;34m)\u001b[0m\u001b[0;34m,\u001b[0m\u001b[0;34m\u001b[0m\u001b[0;34m\u001b[0m\u001b[0m\n\u001b[0;32m--> 231\u001b[0;31m                                     allow_redirects=True)\n\u001b[0m\u001b[1;32m    232\u001b[0m         \u001b[0;32melse\u001b[0m\u001b[0;34m:\u001b[0m\u001b[0;34m\u001b[0m\u001b[0;34m\u001b[0m\u001b[0m\n\u001b[1;32m    233\u001b[0m             resp = requests.request(http_method,\n",
      "\u001b[0;32m~/projects/otapi/python-opentree/venv-jupyentree/lib/python3.7/site-packages/requests/api.py\u001b[0m in \u001b[0;36mrequest\u001b[0;34m(method, url, **kwargs)\u001b[0m\n\u001b[1;32m     58\u001b[0m     \u001b[0;31m# cases, and look like a memory leak in others.\u001b[0m\u001b[0;34m\u001b[0m\u001b[0;34m\u001b[0m\u001b[0;34m\u001b[0m\u001b[0m\n\u001b[1;32m     59\u001b[0m     \u001b[0;32mwith\u001b[0m \u001b[0msessions\u001b[0m\u001b[0;34m.\u001b[0m\u001b[0mSession\u001b[0m\u001b[0;34m(\u001b[0m\u001b[0;34m)\u001b[0m \u001b[0;32mas\u001b[0m \u001b[0msession\u001b[0m\u001b[0;34m:\u001b[0m\u001b[0;34m\u001b[0m\u001b[0;34m\u001b[0m\u001b[0m\n\u001b[0;32m---> 60\u001b[0;31m         \u001b[0;32mreturn\u001b[0m \u001b[0msession\u001b[0m\u001b[0;34m.\u001b[0m\u001b[0mrequest\u001b[0m\u001b[0;34m(\u001b[0m\u001b[0mmethod\u001b[0m\u001b[0;34m=\u001b[0m\u001b[0mmethod\u001b[0m\u001b[0;34m,\u001b[0m \u001b[0murl\u001b[0m\u001b[0;34m=\u001b[0m\u001b[0murl\u001b[0m\u001b[0;34m,\u001b[0m \u001b[0;34m**\u001b[0m\u001b[0mkwargs\u001b[0m\u001b[0;34m)\u001b[0m\u001b[0;34m\u001b[0m\u001b[0;34m\u001b[0m\u001b[0m\n\u001b[0m\u001b[1;32m     61\u001b[0m \u001b[0;34m\u001b[0m\u001b[0m\n\u001b[1;32m     62\u001b[0m \u001b[0;34m\u001b[0m\u001b[0m\n",
      "\u001b[0;32m~/projects/otapi/python-opentree/venv-jupyentree/lib/python3.7/site-packages/requests/sessions.py\u001b[0m in \u001b[0;36mrequest\u001b[0;34m(self, method, url, params, data, headers, cookies, files, auth, timeout, allow_redirects, proxies, hooks, stream, verify, cert, json)\u001b[0m\n\u001b[1;32m    531\u001b[0m         }\n\u001b[1;32m    532\u001b[0m         \u001b[0msend_kwargs\u001b[0m\u001b[0;34m.\u001b[0m\u001b[0mupdate\u001b[0m\u001b[0;34m(\u001b[0m\u001b[0msettings\u001b[0m\u001b[0;34m)\u001b[0m\u001b[0;34m\u001b[0m\u001b[0;34m\u001b[0m\u001b[0m\n\u001b[0;32m--> 533\u001b[0;31m         \u001b[0mresp\u001b[0m \u001b[0;34m=\u001b[0m \u001b[0mself\u001b[0m\u001b[0;34m.\u001b[0m\u001b[0msend\u001b[0m\u001b[0;34m(\u001b[0m\u001b[0mprep\u001b[0m\u001b[0;34m,\u001b[0m \u001b[0;34m**\u001b[0m\u001b[0msend_kwargs\u001b[0m\u001b[0;34m)\u001b[0m\u001b[0;34m\u001b[0m\u001b[0;34m\u001b[0m\u001b[0m\n\u001b[0m\u001b[1;32m    534\u001b[0m \u001b[0;34m\u001b[0m\u001b[0m\n\u001b[1;32m    535\u001b[0m         \u001b[0;32mreturn\u001b[0m \u001b[0mresp\u001b[0m\u001b[0;34m\u001b[0m\u001b[0;34m\u001b[0m\u001b[0m\n",
      "\u001b[0;32m~/projects/otapi/python-opentree/venv-jupyentree/lib/python3.7/site-packages/requests/sessions.py\u001b[0m in \u001b[0;36msend\u001b[0;34m(self, request, **kwargs)\u001b[0m\n\u001b[1;32m    644\u001b[0m \u001b[0;34m\u001b[0m\u001b[0m\n\u001b[1;32m    645\u001b[0m         \u001b[0;31m# Send the request\u001b[0m\u001b[0;34m\u001b[0m\u001b[0;34m\u001b[0m\u001b[0;34m\u001b[0m\u001b[0m\n\u001b[0;32m--> 646\u001b[0;31m         \u001b[0mr\u001b[0m \u001b[0;34m=\u001b[0m \u001b[0madapter\u001b[0m\u001b[0;34m.\u001b[0m\u001b[0msend\u001b[0m\u001b[0;34m(\u001b[0m\u001b[0mrequest\u001b[0m\u001b[0;34m,\u001b[0m \u001b[0;34m**\u001b[0m\u001b[0mkwargs\u001b[0m\u001b[0;34m)\u001b[0m\u001b[0;34m\u001b[0m\u001b[0;34m\u001b[0m\u001b[0m\n\u001b[0m\u001b[1;32m    647\u001b[0m \u001b[0;34m\u001b[0m\u001b[0m\n\u001b[1;32m    648\u001b[0m         \u001b[0;31m# Total elapsed time of the request (approximately)\u001b[0m\u001b[0;34m\u001b[0m\u001b[0;34m\u001b[0m\u001b[0;34m\u001b[0m\u001b[0m\n",
      "\u001b[0;32m~/projects/otapi/python-opentree/venv-jupyentree/lib/python3.7/site-packages/requests/adapters.py\u001b[0m in \u001b[0;36msend\u001b[0;34m(self, request, stream, timeout, verify, cert, proxies)\u001b[0m\n\u001b[1;32m    447\u001b[0m                     \u001b[0mdecode_content\u001b[0m\u001b[0;34m=\u001b[0m\u001b[0;32mFalse\u001b[0m\u001b[0;34m,\u001b[0m\u001b[0;34m\u001b[0m\u001b[0;34m\u001b[0m\u001b[0m\n\u001b[1;32m    448\u001b[0m                     \u001b[0mretries\u001b[0m\u001b[0;34m=\u001b[0m\u001b[0mself\u001b[0m\u001b[0;34m.\u001b[0m\u001b[0mmax_retries\u001b[0m\u001b[0;34m,\u001b[0m\u001b[0;34m\u001b[0m\u001b[0;34m\u001b[0m\u001b[0m\n\u001b[0;32m--> 449\u001b[0;31m                     \u001b[0mtimeout\u001b[0m\u001b[0;34m=\u001b[0m\u001b[0mtimeout\u001b[0m\u001b[0;34m\u001b[0m\u001b[0;34m\u001b[0m\u001b[0m\n\u001b[0m\u001b[1;32m    450\u001b[0m                 )\n\u001b[1;32m    451\u001b[0m \u001b[0;34m\u001b[0m\u001b[0m\n",
      "\u001b[0;32m~/projects/otapi/python-opentree/venv-jupyentree/lib/python3.7/site-packages/urllib3/connectionpool.py\u001b[0m in \u001b[0;36murlopen\u001b[0;34m(self, method, url, body, headers, retries, redirect, assert_same_host, timeout, pool_timeout, release_conn, chunked, body_pos, **response_kw)\u001b[0m\n\u001b[1;32m    670\u001b[0m                 \u001b[0mbody\u001b[0m\u001b[0;34m=\u001b[0m\u001b[0mbody\u001b[0m\u001b[0;34m,\u001b[0m\u001b[0;34m\u001b[0m\u001b[0;34m\u001b[0m\u001b[0m\n\u001b[1;32m    671\u001b[0m                 \u001b[0mheaders\u001b[0m\u001b[0;34m=\u001b[0m\u001b[0mheaders\u001b[0m\u001b[0;34m,\u001b[0m\u001b[0;34m\u001b[0m\u001b[0;34m\u001b[0m\u001b[0m\n\u001b[0;32m--> 672\u001b[0;31m                 \u001b[0mchunked\u001b[0m\u001b[0;34m=\u001b[0m\u001b[0mchunked\u001b[0m\u001b[0;34m,\u001b[0m\u001b[0;34m\u001b[0m\u001b[0;34m\u001b[0m\u001b[0m\n\u001b[0m\u001b[1;32m    673\u001b[0m             )\n\u001b[1;32m    674\u001b[0m \u001b[0;34m\u001b[0m\u001b[0m\n",
      "\u001b[0;32m~/projects/otapi/python-opentree/venv-jupyentree/lib/python3.7/site-packages/urllib3/connectionpool.py\u001b[0m in \u001b[0;36m_make_request\u001b[0;34m(self, conn, method, url, timeout, chunked, **httplib_request_kw)\u001b[0m\n\u001b[1;32m    374\u001b[0m         \u001b[0;31m# Trigger any extra validation we need to do.\u001b[0m\u001b[0;34m\u001b[0m\u001b[0;34m\u001b[0m\u001b[0;34m\u001b[0m\u001b[0m\n\u001b[1;32m    375\u001b[0m         \u001b[0;32mtry\u001b[0m\u001b[0;34m:\u001b[0m\u001b[0;34m\u001b[0m\u001b[0;34m\u001b[0m\u001b[0m\n\u001b[0;32m--> 376\u001b[0;31m             \u001b[0mself\u001b[0m\u001b[0;34m.\u001b[0m\u001b[0m_validate_conn\u001b[0m\u001b[0;34m(\u001b[0m\u001b[0mconn\u001b[0m\u001b[0;34m)\u001b[0m\u001b[0;34m\u001b[0m\u001b[0;34m\u001b[0m\u001b[0m\n\u001b[0m\u001b[1;32m    377\u001b[0m         \u001b[0;32mexcept\u001b[0m \u001b[0;34m(\u001b[0m\u001b[0mSocketTimeout\u001b[0m\u001b[0;34m,\u001b[0m \u001b[0mBaseSSLError\u001b[0m\u001b[0;34m)\u001b[0m \u001b[0;32mas\u001b[0m \u001b[0me\u001b[0m\u001b[0;34m:\u001b[0m\u001b[0;34m\u001b[0m\u001b[0;34m\u001b[0m\u001b[0m\n\u001b[1;32m    378\u001b[0m             \u001b[0;31m# Py2 raises this as a BaseSSLError, Py3 raises it as socket timeout.\u001b[0m\u001b[0;34m\u001b[0m\u001b[0;34m\u001b[0m\u001b[0;34m\u001b[0m\u001b[0m\n",
      "\u001b[0;32m~/projects/otapi/python-opentree/venv-jupyentree/lib/python3.7/site-packages/urllib3/connectionpool.py\u001b[0m in \u001b[0;36m_validate_conn\u001b[0;34m(self, conn)\u001b[0m\n\u001b[1;32m    992\u001b[0m         \u001b[0;31m# Force connect early to allow us to validate the connection.\u001b[0m\u001b[0;34m\u001b[0m\u001b[0;34m\u001b[0m\u001b[0;34m\u001b[0m\u001b[0m\n\u001b[1;32m    993\u001b[0m         \u001b[0;32mif\u001b[0m \u001b[0;32mnot\u001b[0m \u001b[0mgetattr\u001b[0m\u001b[0;34m(\u001b[0m\u001b[0mconn\u001b[0m\u001b[0;34m,\u001b[0m \u001b[0;34m\"sock\"\u001b[0m\u001b[0;34m,\u001b[0m \u001b[0;32mNone\u001b[0m\u001b[0;34m)\u001b[0m\u001b[0;34m:\u001b[0m  \u001b[0;31m# AppEngine might not have  `.sock`\u001b[0m\u001b[0;34m\u001b[0m\u001b[0;34m\u001b[0m\u001b[0m\n\u001b[0;32m--> 994\u001b[0;31m             \u001b[0mconn\u001b[0m\u001b[0;34m.\u001b[0m\u001b[0mconnect\u001b[0m\u001b[0;34m(\u001b[0m\u001b[0;34m)\u001b[0m\u001b[0;34m\u001b[0m\u001b[0;34m\u001b[0m\u001b[0m\n\u001b[0m\u001b[1;32m    995\u001b[0m \u001b[0;34m\u001b[0m\u001b[0m\n\u001b[1;32m    996\u001b[0m         \u001b[0;32mif\u001b[0m \u001b[0;32mnot\u001b[0m \u001b[0mconn\u001b[0m\u001b[0;34m.\u001b[0m\u001b[0mis_verified\u001b[0m\u001b[0;34m:\u001b[0m\u001b[0;34m\u001b[0m\u001b[0;34m\u001b[0m\u001b[0m\n",
      "\u001b[0;32m~/projects/otapi/python-opentree/venv-jupyentree/lib/python3.7/site-packages/urllib3/connection.py\u001b[0m in \u001b[0;36mconnect\u001b[0;34m(self)\u001b[0m\n\u001b[1;32m    392\u001b[0m             \u001b[0mca_cert_dir\u001b[0m\u001b[0;34m=\u001b[0m\u001b[0mself\u001b[0m\u001b[0;34m.\u001b[0m\u001b[0mca_cert_dir\u001b[0m\u001b[0;34m,\u001b[0m\u001b[0;34m\u001b[0m\u001b[0;34m\u001b[0m\u001b[0m\n\u001b[1;32m    393\u001b[0m             \u001b[0mserver_hostname\u001b[0m\u001b[0;34m=\u001b[0m\u001b[0mserver_hostname\u001b[0m\u001b[0;34m,\u001b[0m\u001b[0;34m\u001b[0m\u001b[0;34m\u001b[0m\u001b[0m\n\u001b[0;32m--> 394\u001b[0;31m             \u001b[0mssl_context\u001b[0m\u001b[0;34m=\u001b[0m\u001b[0mcontext\u001b[0m\u001b[0;34m,\u001b[0m\u001b[0;34m\u001b[0m\u001b[0;34m\u001b[0m\u001b[0m\n\u001b[0m\u001b[1;32m    395\u001b[0m         )\n\u001b[1;32m    396\u001b[0m \u001b[0;34m\u001b[0m\u001b[0m\n",
      "\u001b[0;32m~/projects/otapi/python-opentree/venv-jupyentree/lib/python3.7/site-packages/urllib3/util/ssl_.py\u001b[0m in \u001b[0;36mssl_wrap_socket\u001b[0;34m(sock, keyfile, certfile, cert_reqs, ca_certs, server_hostname, ssl_version, ciphers, ssl_context, ca_cert_dir, key_password)\u001b[0m\n\u001b[1;32m    368\u001b[0m     ) or IS_SECURETRANSPORT:\n\u001b[1;32m    369\u001b[0m         \u001b[0;32mif\u001b[0m \u001b[0mHAS_SNI\u001b[0m \u001b[0;32mand\u001b[0m \u001b[0mserver_hostname\u001b[0m \u001b[0;32mis\u001b[0m \u001b[0;32mnot\u001b[0m \u001b[0;32mNone\u001b[0m\u001b[0;34m:\u001b[0m\u001b[0;34m\u001b[0m\u001b[0;34m\u001b[0m\u001b[0m\n\u001b[0;32m--> 370\u001b[0;31m             \u001b[0;32mreturn\u001b[0m \u001b[0mcontext\u001b[0m\u001b[0;34m.\u001b[0m\u001b[0mwrap_socket\u001b[0m\u001b[0;34m(\u001b[0m\u001b[0msock\u001b[0m\u001b[0;34m,\u001b[0m \u001b[0mserver_hostname\u001b[0m\u001b[0;34m=\u001b[0m\u001b[0mserver_hostname\u001b[0m\u001b[0;34m)\u001b[0m\u001b[0;34m\u001b[0m\u001b[0;34m\u001b[0m\u001b[0m\n\u001b[0m\u001b[1;32m    371\u001b[0m \u001b[0;34m\u001b[0m\u001b[0m\n\u001b[1;32m    372\u001b[0m         warnings.warn(\n",
      "\u001b[0;32m/usr/lib/python3.7/ssl.py\u001b[0m in \u001b[0;36mwrap_socket\u001b[0;34m(self, sock, server_side, do_handshake_on_connect, suppress_ragged_eofs, server_hostname, session)\u001b[0m\n\u001b[1;32m    410\u001b[0m             \u001b[0mserver_hostname\u001b[0m\u001b[0;34m=\u001b[0m\u001b[0mserver_hostname\u001b[0m\u001b[0;34m,\u001b[0m\u001b[0;34m\u001b[0m\u001b[0;34m\u001b[0m\u001b[0m\n\u001b[1;32m    411\u001b[0m             \u001b[0mcontext\u001b[0m\u001b[0;34m=\u001b[0m\u001b[0mself\u001b[0m\u001b[0;34m,\u001b[0m\u001b[0;34m\u001b[0m\u001b[0;34m\u001b[0m\u001b[0m\n\u001b[0;32m--> 412\u001b[0;31m             \u001b[0msession\u001b[0m\u001b[0;34m=\u001b[0m\u001b[0msession\u001b[0m\u001b[0;34m\u001b[0m\u001b[0;34m\u001b[0m\u001b[0m\n\u001b[0m\u001b[1;32m    413\u001b[0m         )\n\u001b[1;32m    414\u001b[0m \u001b[0;34m\u001b[0m\u001b[0m\n",
      "\u001b[0;32m/usr/lib/python3.7/ssl.py\u001b[0m in \u001b[0;36m_create\u001b[0;34m(cls, sock, server_side, do_handshake_on_connect, suppress_ragged_eofs, server_hostname, context, session)\u001b[0m\n\u001b[1;32m    851\u001b[0m                         \u001b[0;31m# non-blocking\u001b[0m\u001b[0;34m\u001b[0m\u001b[0;34m\u001b[0m\u001b[0;34m\u001b[0m\u001b[0m\n\u001b[1;32m    852\u001b[0m                         \u001b[0;32mraise\u001b[0m \u001b[0mValueError\u001b[0m\u001b[0;34m(\u001b[0m\u001b[0;34m\"do_handshake_on_connect should not be specified for non-blocking sockets\"\u001b[0m\u001b[0;34m)\u001b[0m\u001b[0;34m\u001b[0m\u001b[0;34m\u001b[0m\u001b[0m\n\u001b[0;32m--> 853\u001b[0;31m                     \u001b[0mself\u001b[0m\u001b[0;34m.\u001b[0m\u001b[0mdo_handshake\u001b[0m\u001b[0;34m(\u001b[0m\u001b[0;34m)\u001b[0m\u001b[0;34m\u001b[0m\u001b[0;34m\u001b[0m\u001b[0m\n\u001b[0m\u001b[1;32m    854\u001b[0m             \u001b[0;32mexcept\u001b[0m \u001b[0;34m(\u001b[0m\u001b[0mOSError\u001b[0m\u001b[0;34m,\u001b[0m \u001b[0mValueError\u001b[0m\u001b[0;34m)\u001b[0m\u001b[0;34m:\u001b[0m\u001b[0;34m\u001b[0m\u001b[0;34m\u001b[0m\u001b[0m\n\u001b[1;32m    855\u001b[0m                 \u001b[0mself\u001b[0m\u001b[0;34m.\u001b[0m\u001b[0mclose\u001b[0m\u001b[0;34m(\u001b[0m\u001b[0;34m)\u001b[0m\u001b[0;34m\u001b[0m\u001b[0;34m\u001b[0m\u001b[0m\n",
      "\u001b[0;32m/usr/lib/python3.7/ssl.py\u001b[0m in \u001b[0;36mdo_handshake\u001b[0;34m(self, block)\u001b[0m\n\u001b[1;32m   1115\u001b[0m             \u001b[0;32mif\u001b[0m \u001b[0mtimeout\u001b[0m \u001b[0;34m==\u001b[0m \u001b[0;36m0.0\u001b[0m \u001b[0;32mand\u001b[0m \u001b[0mblock\u001b[0m\u001b[0;34m:\u001b[0m\u001b[0;34m\u001b[0m\u001b[0;34m\u001b[0m\u001b[0m\n\u001b[1;32m   1116\u001b[0m                 \u001b[0mself\u001b[0m\u001b[0;34m.\u001b[0m\u001b[0msettimeout\u001b[0m\u001b[0;34m(\u001b[0m\u001b[0;32mNone\u001b[0m\u001b[0;34m)\u001b[0m\u001b[0;34m\u001b[0m\u001b[0;34m\u001b[0m\u001b[0m\n\u001b[0;32m-> 1117\u001b[0;31m             \u001b[0mself\u001b[0m\u001b[0;34m.\u001b[0m\u001b[0m_sslobj\u001b[0m\u001b[0;34m.\u001b[0m\u001b[0mdo_handshake\u001b[0m\u001b[0;34m(\u001b[0m\u001b[0;34m)\u001b[0m\u001b[0;34m\u001b[0m\u001b[0;34m\u001b[0m\u001b[0m\n\u001b[0m\u001b[1;32m   1118\u001b[0m         \u001b[0;32mfinally\u001b[0m\u001b[0;34m:\u001b[0m\u001b[0;34m\u001b[0m\u001b[0;34m\u001b[0m\u001b[0m\n\u001b[1;32m   1119\u001b[0m             \u001b[0mself\u001b[0m\u001b[0;34m.\u001b[0m\u001b[0msettimeout\u001b[0m\u001b[0;34m(\u001b[0m\u001b[0mtimeout\u001b[0m\u001b[0;34m)\u001b[0m\u001b[0;34m\u001b[0m\u001b[0;34m\u001b[0m\u001b[0m\n",
      "\u001b[0;31mKeyboardInterrupt\u001b[0m: "
     ]
    }
   ],
   "source": [
    "for study in studies:\n",
    "    studyid = study.split('@')[0]\n",
    "    studyres = OT.find_studies(studyid, search_property = 'ot:studyId', verbose=\"True\")\n",
    "    new_cite = studyres.response_dict.get('matched_studies', None)\n",
    "    if new_cite:\n",
    "        print(new_cite[0].get('ot:studyPublicationReference', '') + '\\n' + new_cite[0].get('ot:studyPublication', '') + '\\n')\n",
    "\n"
   ]
  },
  {
   "cell_type": "code",
   "execution_count": 18,
   "metadata": {},
   "outputs": [
    {
     "data": {
      "text/plain": [
       "'ot_504'"
      ]
     },
     "execution_count": 18,
     "metadata": {},
     "output_type": "execute_result"
    }
   ],
   "source": [
    "studyid"
   ]
  },
  {
   "cell_type": "code",
   "execution_count": 19,
   "metadata": {},
   "outputs": [
    {
     "data": {
      "text/plain": [
       "[{'ot:studyId': 'ot_520',\n",
       "  'ot:focalCladeOTTTaxonName': 'Corvoidea',\n",
       "  'ot:dataDeposit': 'http://dx.doi.org/10.5061/dryad.v0np1',\n",
       "  'ot:focalClade': 635217,\n",
       "  'ot:studyPublicationReference': 'Jønsson, Knud Andreas, Pierre-Henri Fabre, Jonathan D. Kennedy, Ben G. Holt, Michael K. Borregaard, Carsten Rahbek, Jon Fjeldså. 2016. A supermatrix phylogeny of corvoid passerine birds (Aves: Corvides). Molecular Phylogenetics and Evolution 94: 87-94.',\n",
       "  'ot:studyPublication': 'http://dx.doi.org/10.1016/j.ympev.2015.08.020',\n",
       "  'ot:studyYear': 2016,\n",
       "  'ot:curatorName': ['Joseph W. Brown', 'Jonathan A Rees', 'Karen Cranston'],\n",
       "  'ot:tag': []}]"
      ]
     },
     "execution_count": 19,
     "metadata": {},
     "output_type": "execute_result"
    }
   ],
   "source": [
    "new_cite"
   ]
  },
  {
   "cell_type": "code",
   "execution_count": 20,
   "metadata": {},
   "outputs": [],
   "source": [
    "from opentree.helpers import get_citations"
   ]
  },
  {
   "cell_type": "code",
   "execution_count": 23,
   "metadata": {},
   "outputs": [
    {
     "ename": "AttributeError",
     "evalue": "'str' object has no attribute 'append'",
     "output_type": "error",
     "traceback": [
      "\u001b[0;31m---------------------------------------------------------------------------\u001b[0m",
      "\u001b[0;31mAttributeError\u001b[0m                            Traceback (most recent call last)",
      "\u001b[0;32m<ipython-input-23-a4bf6892d3ba>\u001b[0m in \u001b[0;36m<module>\u001b[0;34m\u001b[0m\n\u001b[0;32m----> 1\u001b[0;31m \u001b[0mget_citations\u001b[0m\u001b[0;34m(\u001b[0m\u001b[0mstudies\u001b[0m\u001b[0;34m)\u001b[0m\u001b[0;34m\u001b[0m\u001b[0;34m\u001b[0m\u001b[0m\n\u001b[0m",
      "\u001b[0;32m~/projects/otapi/python-opentree/opentree/helpers.py\u001b[0m in \u001b[0;36mget_citations\u001b[0;34m(studies)\u001b[0m\n\u001b[1;32m      9\u001b[0m         \u001b[0mnew_cite\u001b[0m \u001b[0;34m=\u001b[0m \u001b[0mstudyres\u001b[0m\u001b[0;34m.\u001b[0m\u001b[0mresponse_dict\u001b[0m\u001b[0;34m.\u001b[0m\u001b[0mget\u001b[0m\u001b[0;34m(\u001b[0m\u001b[0;34m'matched_studies'\u001b[0m\u001b[0;34m,\u001b[0m \u001b[0;32mNone\u001b[0m\u001b[0;34m)\u001b[0m\u001b[0;34m\u001b[0m\u001b[0;34m\u001b[0m\u001b[0m\n\u001b[1;32m     10\u001b[0m         \u001b[0;32mif\u001b[0m \u001b[0mnew_cite\u001b[0m\u001b[0;34m:\u001b[0m\u001b[0;34m\u001b[0m\u001b[0;34m\u001b[0m\u001b[0m\n\u001b[0;32m---> 11\u001b[0;31m             \u001b[0mcites\u001b[0m\u001b[0;34m.\u001b[0m\u001b[0mappend\u001b[0m\u001b[0;34m(\u001b[0m\u001b[0mnew_cite\u001b[0m\u001b[0;34m[\u001b[0m\u001b[0;36m0\u001b[0m\u001b[0;34m]\u001b[0m\u001b[0;34m.\u001b[0m\u001b[0mget\u001b[0m\u001b[0;34m(\u001b[0m\u001b[0;34m'ot:studyPublicationReference'\u001b[0m\u001b[0;34m,\u001b[0m \u001b[0;34m''\u001b[0m\u001b[0;34m)\u001b[0m \u001b[0;34m+\u001b[0m \u001b[0;34m'\\n'\u001b[0m \u001b[0;34m+\u001b[0m \u001b[0mnew_cite\u001b[0m\u001b[0;34m[\u001b[0m\u001b[0;36m0\u001b[0m\u001b[0;34m]\u001b[0m\u001b[0;34m.\u001b[0m\u001b[0mget\u001b[0m\u001b[0;34m(\u001b[0m\u001b[0;34m'ot:studyPublication'\u001b[0m\u001b[0;34m,\u001b[0m \u001b[0;34m''\u001b[0m\u001b[0;34m)\u001b[0m \u001b[0;34m+\u001b[0m \u001b[0;34m'\\n'\u001b[0m\u001b[0;34m)\u001b[0m\u001b[0;34m\u001b[0m\u001b[0;34m\u001b[0m\u001b[0m\n\u001b[0m\u001b[1;32m     12\u001b[0m     \u001b[0;32mreturn\u001b[0m \u001b[0mcites\u001b[0m\u001b[0;34m\u001b[0m\u001b[0;34m\u001b[0m\u001b[0m\n\u001b[1;32m     13\u001b[0m \u001b[0;34m\u001b[0m\u001b[0m\n",
      "\u001b[0;31mAttributeError\u001b[0m: 'str' object has no attribute 'append'"
     ]
    }
   ],
   "source": [
    "get_citations(studies)"
   ]
  },
  {
   "cell_type": "code",
   "execution_count": 48,
   "metadata": {},
   "outputs": [
    {
     "data": {
      "text/plain": [
       "<opentree.ws_wrapper.WebServiceCallRecord at 0x7f50aa067438>"
      ]
     },
     "execution_count": 48,
     "metadata": {},
     "output_type": "execute_result"
    }
   ],
   "source": [
    "output"
   ]
  },
  {
   "cell_type": "code",
   "execution_count": null,
   "metadata": {},
   "outputs": [],
   "source": []
  }
 ],
 "metadata": {
  "kernelspec": {
   "display_name": "opentree",
   "language": "python",
   "name": "opentree"
  },
  "language_info": {
   "codemirror_mode": {
    "name": "ipython",
    "version": 3
   },
   "file_extension": ".py",
   "mimetype": "text/x-python",
   "name": "python",
   "nbconvert_exporter": "python",
   "pygments_lexer": "ipython3",
   "version": "3.7.3"
  }
 },
 "nbformat": 4,
 "nbformat_minor": 2
}
