{
 "cells": [
  {
   "cell_type": "markdown",
   "id": "55e6fd22",
   "metadata": {},
   "source": [
    "## Getting a dated synthesis tree for an arbitrary set of taxa"
   ]
  },
  {
   "cell_type": "markdown",
   "id": "58408a0a",
   "metadata": {},
   "source": [
    "## Standardizing query taxon names\n",
    "\n",
    "One of the key challenges of comparing trees across studies is differences in taxon names because of spelling or taxonomic idiosincracies.\n",
    "\n",
    "A solution to this, is mapping taxon names to unique identifiers using the Open Tree Taxonomic Name Resolution Service (TNRS). There are a few options to use this service including via the API, or the browser based bulk name mapping.\n",
    "\n",
    "### Open Tree TNRS bulk name mapping tool.\n",
    "\n",
    "Access this tool at https://tree.opentreeoflife.org/curator/tnrs/\n",
    "\n",
    "This is a new beta-version of this functionality, so some parts are a bit finicky.\n",
    "\n",
    "*Try this*\n",
    "  * Click on \"Add names...\" (second button at the top of the menu on the left), and upload the names file `drosophila_example`. The \"loading file\" window will not close by itself, click the (X).\n",
    "  * In the \"Mapping options\" section (bottom of the menu to the left):\n",
    "    - select 'Insects' to narrow down the possibilities and speed up mapping\n",
    "  * Click \"Map selected names\" (middle of the menu to the left).\n",
    "  * Exact matches will show up in green, and can be accepted by clicking \"accept exact matches\".\n",
    "  * Once you have accepted names for each of the taxa, click \"Save nameset...\", download it to your laptop, and extract (unzip) the files. You can take a look at the human readable version of the output at `output/main.csv`. `main.json` contains the the same data in a more computer readable format.\n",
    "  * Finally, transfer the `main.csv` file to your working folder, so you can use it to get the tree for your taxa.\n",
    "\n",
    "*Make sure your mappings were saved! If you do not **accept** matches (by clicking buttons), they do not download.*\n"
   ]
  },
  {
   "cell_type": "code",
   "execution_count": 1,
   "id": "b0faf74c",
   "metadata": {},
   "outputs": [],
   "source": [
    "import requests\n",
    "import json\n",
    "import sys\n",
    "import dendropy\n",
    "import csv\n",
    "from opentree import OT\n"
   ]
  },
  {
   "cell_type": "code",
   "execution_count": 2,
   "id": "f62563ab",
   "metadata": {},
   "outputs": [],
   "source": [
    "mapped_names = \"../drosophila_example/drosophila_main.csv\"\n",
    "\n",
    "\n",
    "## uses the csv to create a dictionary with OTTids as keys, and the label you input as values\n",
    "with open(mapped_names) as fp:\n",
    "    reader = csv.reader(fp, delimiter=\",\", quotechar='\"')\n",
    "    next(reader, None)  # skip the headers\n",
    "    label_dict = {'ott'+row[2]:row[0] for row in reader}\n",
    "\n",
    "    \n",
    "## Node ids contains the list of tip ids you want in your final tree\n",
    "node_ids = [key for key in label_dict]\n"
   ]
  },
  {
   "cell_type": "markdown",
   "id": "55a2ef0d",
   "metadata": {},
   "source": [
    "## Dated trees\n",
    "To estimate dates, we will use the Chronosynth API. \n",
    "The dates API is work-in-progress, and so it is not yet as user friendly as it will be. \n",
    "\n",
    "A summary of the methods is here: https://github.com/OpenTreeOfLife/chronosynth/wiki/Chronosynth-methods-overview  \n",
    "There are some API docs here: https://github.com/OpenTreeOfLife/chronosynth/wiki/Draft-API-docs"
   ]
  },
  {
   "cell_type": "markdown",
   "id": "7024fd57",
   "metadata": {},
   "source": [
    "Using the dates API we can get dates that align to for individual nodes in the synth tree. \n",
    "This is based on the same information you saw in the conflict viewer.  \n",
    "You can you a CURL call to GET the current information for dates for a node."
   ]
  },
  {
   "cell_type": "code",
   "execution_count": 3,
   "id": "2852ff46",
   "metadata": {},
   "outputs": [
    {
     "name": "stdout",
     "output_type": "stream",
     "text": [
      "  % Total    % Received % Xferd  Average Speed   Time    Time     Time  Current\n",
      "                                 Dload  Upload   Total   Spent    Left  Speed\n",
      "100   712  100   712    0     0    833      0 --:--:-- --:--:-- --:--:--   833\n",
      "\u001b[1;39m{\n",
      "  \u001b[0m\u001b[34;1m\"query\"\u001b[0m\u001b[1;39m: \u001b[0m\u001b[0;32m\"ott109893\"\u001b[0m\u001b[1;39m,\n",
      "  \u001b[0m\u001b[34;1m\"synth_node_id\"\u001b[0m\u001b[1;39m: \u001b[0m\u001b[0;32m\"ott109893\"\u001b[0m\u001b[1;39m,\n",
      "  \u001b[0m\u001b[34;1m\"ot:source_node_ages\"\u001b[0m\u001b[1;39m: \u001b[0m\u001b[1;39m[\n",
      "    \u001b[1;39m{\n",
      "      \u001b[0m\u001b[34;1m\"age\"\u001b[0m\u001b[1;39m: \u001b[0m\u001b[0;39m28.303778\u001b[0m\u001b[1;39m,\n",
      "      \u001b[0m\u001b[34;1m\"source_id\"\u001b[0m\u001b[1;39m: \u001b[0m\u001b[0;32m\"ot_409@tree1\"\u001b[0m\u001b[1;39m,\n",
      "      \u001b[0m\u001b[34;1m\"source_node\"\u001b[0m\u001b[1;39m: \u001b[0m\u001b[0;32m\"node19094\"\u001b[0m\u001b[1;39m\n",
      "    \u001b[1;39m}\u001b[0m\u001b[1;39m,\n",
      "    \u001b[1;39m{\n",
      "      \u001b[0m\u001b[34;1m\"age\"\u001b[0m\u001b[1;39m: \u001b[0m\u001b[0;39m11.822624999999999\u001b[0m\u001b[1;39m,\n",
      "      \u001b[0m\u001b[34;1m\"source_id\"\u001b[0m\u001b[1;39m: \u001b[0m\u001b[0;32m\"ot_809@tree2\"\u001b[0m\u001b[1;39m,\n",
      "      \u001b[0m\u001b[34;1m\"source_node\"\u001b[0m\u001b[1;39m: \u001b[0m\u001b[0;32m\"node13685\"\u001b[0m\u001b[1;39m\n",
      "    \u001b[1;39m}\u001b[0m\u001b[1;39m,\n",
      "    \u001b[1;39m{\n",
      "      \u001b[0m\u001b[34;1m\"age\"\u001b[0m\u001b[1;39m: \u001b[0m\u001b[0;39m13.074385\u001b[0m\u001b[1;39m,\n",
      "      \u001b[0m\u001b[34;1m\"source_id\"\u001b[0m\u001b[1;39m: \u001b[0m\u001b[0;32m\"ot_2170@tree3\"\u001b[0m\u001b[1;39m,\n",
      "      \u001b[0m\u001b[34;1m\"source_node\"\u001b[0m\u001b[1;39m: \u001b[0m\u001b[0;32m\"node234\"\u001b[0m\u001b[1;39m\n",
      "    \u001b[1;39m}\u001b[0m\u001b[1;39m,\n",
      "    \u001b[1;39m{\n",
      "      \u001b[0m\u001b[34;1m\"age\"\u001b[0m\u001b[1;39m: \u001b[0m\u001b[0;39m13.18745\u001b[0m\u001b[1;39m,\n",
      "      \u001b[0m\u001b[34;1m\"source_id\"\u001b[0m\u001b[1;39m: \u001b[0m\u001b[0;32m\"ot_809@tree1\"\u001b[0m\u001b[1;39m,\n",
      "      \u001b[0m\u001b[34;1m\"source_node\"\u001b[0m\u001b[1;39m: \u001b[0m\u001b[0;32m\"node373\"\u001b[0m\u001b[1;39m\n",
      "    \u001b[1;39m}\u001b[0m\u001b[1;39m,\n",
      "    \u001b[1;39m{\n",
      "      \u001b[0m\u001b[34;1m\"age\"\u001b[0m\u001b[1;39m: \u001b[0m\u001b[0;39m28.474208\u001b[0m\u001b[1;39m,\n",
      "      \u001b[0m\u001b[34;1m\"source_id\"\u001b[0m\u001b[1;39m: \u001b[0m\u001b[0;32m\"ot_409@tree2\"\u001b[0m\u001b[1;39m,\n",
      "      \u001b[0m\u001b[34;1m\"source_node\"\u001b[0m\u001b[1;39m: \u001b[0m\u001b[0;32m\"node61812\"\u001b[0m\u001b[1;39m\n",
      "    \u001b[1;39m}\u001b[0m\u001b[1;39m,\n",
      "    \u001b[1;39m{\n",
      "      \u001b[0m\u001b[34;1m\"age\"\u001b[0m\u001b[1;39m: \u001b[0m\u001b[0;39m22.433097000000004\u001b[0m\u001b[1;39m,\n",
      "      \u001b[0m\u001b[34;1m\"source_id\"\u001b[0m\u001b[1;39m: \u001b[0m\u001b[0;32m\"ot_2018@tree9\"\u001b[0m\u001b[1;39m,\n",
      "      \u001b[0m\u001b[34;1m\"source_node\"\u001b[0m\u001b[1;39m: \u001b[0m\u001b[0;32m\"node1412\"\u001b[0m\u001b[1;39m\n",
      "    \u001b[1;39m}\u001b[0m\u001b[1;39m,\n",
      "    \u001b[1;39m{\n",
      "      \u001b[0m\u001b[34;1m\"age\"\u001b[0m\u001b[1;39m: \u001b[0m\u001b[0;39m25.913621\u001b[0m\u001b[1;39m,\n",
      "      \u001b[0m\u001b[34;1m\"source_id\"\u001b[0m\u001b[1;39m: \u001b[0m\u001b[0;32m\"ot_2018@tree8\"\u001b[0m\u001b[1;39m,\n",
      "      \u001b[0m\u001b[34;1m\"source_node\"\u001b[0m\u001b[1;39m: \u001b[0m\u001b[0;32m\"node109\"\u001b[0m\u001b[1;39m\n",
      "    \u001b[1;39m}\u001b[0m\u001b[1;39m,\n",
      "    \u001b[1;39m{\n",
      "      \u001b[0m\u001b[34;1m\"age\"\u001b[0m\u001b[1;39m: \u001b[0m\u001b[0;39m21.350655000000003\u001b[0m\u001b[1;39m,\n",
      "      \u001b[0m\u001b[34;1m\"source_id\"\u001b[0m\u001b[1;39m: \u001b[0m\u001b[0;32m\"ot_425@tree1\"\u001b[0m\u001b[1;39m,\n",
      "      \u001b[0m\u001b[34;1m\"source_node\"\u001b[0m\u001b[1;39m: \u001b[0m\u001b[0;32m\"node40\"\u001b[0m\u001b[1;39m\n",
      "    \u001b[1;39m}\u001b[0m\u001b[1;39m\n",
      "  \u001b[1;39m]\u001b[0m\u001b[1;39m\n",
      "\u001b[1;39m}\u001b[0m\n"
     ]
    }
   ],
   "source": [
    "!curl -X GET https://dates.opentreeoflife.org/v4/dates/synth_node_age/ott109893 | jq"
   ]
  },
  {
   "cell_type": "markdown",
   "id": "75346854",
   "metadata": {},
   "source": [
    "To look at the node itself, you can navigate to \n",
    "\"https://tree.opentreeoflife.org/curator/study/view/{STUDY ID}?tab=home&tree={TREE ID}&node={NODE_ID}\"  \n",
    "e.g. https://tree.opentreeoflife.org/curator/study/view/ot_2018?tab=home&tree=tree9&node=node1412  "
   ]
  },
  {
   "cell_type": "code",
   "execution_count": 4,
   "id": "b849e439",
   "metadata": {},
   "outputs": [
    {
     "name": "stdout",
     "output_type": "stream",
     "text": [
      "  % Total    % Received % Xferd  Average Speed   Time    Time     Time  Current\n",
      "                                 Dload  Upload   Total   Spent    Left  Speed\n",
      "100   184  100   184    0     0    213      0 --:--:-- --:--:-- --:--:--   213\n",
      "\u001b[1;39m{\n",
      "  \u001b[0m\u001b[34;1m\"query\"\u001b[0m\u001b[1;39m: \u001b[0m\u001b[0;32m\"mrcaott1000311ott3643727\"\u001b[0m\u001b[1;39m,\n",
      "  \u001b[0m\u001b[34;1m\"synth_node_id\"\u001b[0m\u001b[1;39m: \u001b[0m\u001b[0;32m\"mrcaott1000311ott3643727\"\u001b[0m\u001b[1;39m,\n",
      "  \u001b[0m\u001b[34;1m\"ot:source_node_ages\"\u001b[0m\u001b[1;39m: \u001b[0m\u001b[1;39m[\n",
      "    \u001b[1;39m{\n",
      "      \u001b[0m\u001b[34;1m\"age\"\u001b[0m\u001b[1;39m: \u001b[0m\u001b[0;39m9.325001\u001b[0m\u001b[1;39m,\n",
      "      \u001b[0m\u001b[34;1m\"source_id\"\u001b[0m\u001b[1;39m: \u001b[0m\u001b[0;32m\"ot_1592@tree1\"\u001b[0m\u001b[1;39m,\n",
      "      \u001b[0m\u001b[34;1m\"source_node\"\u001b[0m\u001b[1;39m: \u001b[0m\u001b[0;32m\"node22956\"\u001b[0m\u001b[1;39m\n",
      "    \u001b[1;39m}\u001b[0m\u001b[1;39m\n",
      "  \u001b[1;39m]\u001b[0m\u001b[1;39m\n",
      "\u001b[1;39m}\u001b[0m\n"
     ]
    }
   ],
   "source": [
    "## You can also get dates for arbitrary nodes in the synth tree, which are not associated with taxa.\n",
    "!curl -X GET https://dates.opentreeoflife.org/v4/dates/synth_node_age/mrcaott1000311ott3643727 | jq"
   ]
  },
  {
   "cell_type": "markdown",
   "id": "49b7aa03",
   "metadata": {},
   "source": [
    "This node https://tree.opentreeoflife.org/opentree/argus/opentree13.4@mrcaott1000311ott3643727 in the synthetic tree aligns with this node in this dated tree https://tree.opentreeoflife.org/curator/study/view/ot_1592?tab=home&tree=tree1&node=node22956"
   ]
  },
  {
   "cell_type": "markdown",
   "id": "447339c9",
   "metadata": {},
   "source": [
    "## Summarizing dates  for a set of taxa\n",
    "You can use these dates individually, or use the API to get the dates across nodes in a tree, and then smooth the nodes in between"
   ]
  },
  {
   "cell_type": "markdown",
   "id": "0ef05873",
   "metadata": {},
   "source": [
    "The approach in these examples uses rate smoothing, via bladj https://phylodiversity.net/phylocom/  \n",
    "These approaches are rough, and there is NO infomation for many nodes, so be cautious!\n",
    "### To run bladj we need a max age estimate for the root of the tree."
   ]
  },
  {
   "cell_type": "code",
   "execution_count": 5,
   "id": "a9968e05",
   "metadata": {},
   "outputs": [
    {
     "name": "stdout",
     "output_type": "stream",
     "text": [
      "{\n",
      "    \"node_id\": \"ott34905\",\n",
      "    \"num_tips\": 4554,\n",
      "    \"supported_by\": {\n",
      "        \"ott3.3draft1\": \"ott34905\"\n",
      "    },\n",
      "    \"taxon\": {\n",
      "        \"name\": \"Drosophilidae\",\n",
      "        \"ott_id\": 34905,\n",
      "        \"rank\": \"family\",\n",
      "        \"tax_sources\": [\n",
      "            \"ncbi:7214\",\n",
      "            \"worms:987176\",\n",
      "            \"gbif:5547\",\n",
      "            \"irmng:100842\"\n",
      "        ],\n",
      "        \"unique_name\": \"Drosophilidae\"\n",
      "    },\n",
      "    \"terminal\": {\n",
      "        \"ot_1046@tree1\": \"node28\",\n",
      "        \"ot_1047@tree1\": \"node63\",\n",
      "        \"pg_1337@tree6167\": \"node1053390\",\n",
      "        \"pg_2594@tree6014\": \"node1021794\",\n",
      "        \"pg_2710@tree6291\": \"node1094072\",\n",
      "        \"pg_2822@tree6569\": \"node1141999\",\n",
      "        \"pg_437@tree6242\": \"node1081938\"\n",
      "    },\n",
      "    \"was_constrained\": true,\n",
      "    \"was_uncontested\": true\n",
      "}\n"
     ]
    },
    {
     "name": "stderr",
     "output_type": "stream",
     "text": [
      "\n",
      "Unknown/unrecognized query ids (skipped):\n",
      " ott361374\n",
      "ott4418979 \n"
     ]
    }
   ],
   "source": [
    "## Get the synth tree MRCA of the taxa of interest, so we know the root of our tree\n",
    "output = OT.synth_mrca(node_ids=node_ids)\n",
    "print(json.dumps(output.response_dict['mrca'], indent=4))\n"
   ]
  },
  {
   "cell_type": "code",
   "execution_count": 6,
   "id": "957f3395",
   "metadata": {},
   "outputs": [
    {
     "name": "stdout",
     "output_type": "stream",
     "text": [
      "  % Total    % Received % Xferd  Average Speed   Time    Time     Time  Current\n",
      "                                 Dload  Upload   Total   Spent    Left  Speed\n",
      "100    79  100    79    0     0     98      0 --:--:-- --:--:-- --:--:--    98\n",
      "\u001b[1;39m{\n",
      "  \u001b[0m\u001b[34;1m\"query\"\u001b[0m\u001b[1;39m: \u001b[0m\u001b[0;32m\"ott34905\"\u001b[0m\u001b[1;39m,\n",
      "  \u001b[0m\u001b[34;1m\"synth_node_id\"\u001b[0m\u001b[1;39m: \u001b[0m\u001b[0;32m\"ott34905\"\u001b[0m\u001b[1;39m,\n",
      "  \u001b[0m\u001b[34;1m\"ot:source_node_ages\"\u001b[0m\u001b[1;39m: \u001b[0m\u001b[1;30mnull\u001b[0m\u001b[1;39m\n",
      "\u001b[1;39m}\u001b[0m\n"
     ]
    }
   ],
   "source": [
    "!curl -X GET https://dates.opentreeoflife.org/v4/dates/synth_node_age/ott34905 | jq"
   ]
  },
  {
   "cell_type": "code",
   "execution_count": 7,
   "id": "526becf6",
   "metadata": {},
   "outputs": [
    {
     "data": {
      "text/plain": [
       "{'query': 'ott34905', 'synth_node_id': 'ott34905', 'ot:source_node_ages': None}"
      ]
     },
     "execution_count": 7,
     "metadata": {},
     "output_type": "execute_result"
    }
   ],
   "source": [
    "## You can also get node dates for a node in python, ucing the 'requests' module\n",
    "datesurl     = 'https://dates.opentreeoflife.org/v4/dates/synth_node_age/{}'.format(output.response_dict['mrca']['node_id'])\n",
    "resp = requests.get(datesurl)\n",
    "resp.json()"
   ]
  },
  {
   "cell_type": "markdown",
   "id": "79a493d2",
   "metadata": {},
   "source": [
    "We do not have an age for this node in the database, so we need to use external information.  \n",
    "We will use 50 Million years for the age of drosophilidae, based on https://www.sciencedirect.com/topics/agricultural-and-biological-sciences/drosophilidae"
   ]
  },
  {
   "cell_type": "code",
   "execution_count": 8,
   "id": "7912a157",
   "metadata": {},
   "outputs": [],
   "source": [
    "## Get Dated synth tree\n",
    "url     = 'https://dates.opentreeoflife.org/v4/dates/dated_tree'\n",
    "\n",
    "payload = { \"node_ids\" : node_ids,\n",
    "            \"max_age\": 50}\n",
    "\n",
    "resp = requests.post(url=url, data=json.dumps(payload))\n",
    "resp_dict = resp.json()\n",
    "\n"
   ]
  },
  {
   "cell_type": "markdown",
   "id": "7d9d9ec8",
   "metadata": {},
   "source": [
    "This returns a response object, "
   ]
  },
  {
   "cell_type": "code",
   "execution_count": 9,
   "id": "a5c72768",
   "metadata": {},
   "outputs": [
    {
     "data": {
      "text/plain": [
       "dict_keys(['dated_trees_newick_list', 'topology_sources', 'date_sources', 'tar_file_download'])"
      ]
     },
     "execution_count": 9,
     "metadata": {},
     "output_type": "execute_result"
    }
   ],
   "source": [
    "resp_dict.keys()"
   ]
  },
  {
   "cell_type": "code",
   "execution_count": 10,
   "id": "72b7ee2f",
   "metadata": {},
   "outputs": [],
   "source": [
    "dated_tree = dendropy.Tree.get(data=resp_dict['dated_trees_newick_list'][0], schema=\"newick\")\n",
    "dated_tree.write(path=\"ottid_dated_tree.tre\", schema='newick')\n"
   ]
  },
  {
   "cell_type": "code",
   "execution_count": 11,
   "id": "83dba3d0",
   "metadata": {},
   "outputs": [
    {
     "data": {
      "text/plain": [
       "'dates.opentreeoflife.org/v4/dates/download_dates_tar/chrono_out_05_18_2023_20_24_21.tar.gz'"
      ]
     },
     "execution_count": 11,
     "metadata": {},
     "output_type": "execute_result"
    }
   ],
   "source": [
    "resp_dict['tar_file_download']"
   ]
  },
  {
   "cell_type": "code",
   "execution_count": 12,
   "id": "3c05dda8",
   "metadata": {},
   "outputs": [
    {
     "name": "stdout",
     "output_type": "stream",
     "text": [
      "--2023-05-18 13:24:21--  http://dates.opentreeoflife.org/v4/dates/download_dates_tar/chrono_out_01_12_2023_07_28_37.tar.gz\n",
      "Resolving dates.opentreeoflife.org (dates.opentreeoflife.org)... 34.216.116.212\n",
      "Connecting to dates.opentreeoflife.org (dates.opentreeoflife.org)|34.216.116.212|:80... connected.\n",
      "HTTP request sent, awaiting response... 301 Moved Permanently\n",
      "Location: https://dates.opentreeoflife.org/v4/dates/download_dates_tar/chrono_out_01_12_2023_07_28_37.tar.gz [following]\n",
      "--2023-05-18 13:24:21--  https://dates.opentreeoflife.org/v4/dates/download_dates_tar/chrono_out_01_12_2023_07_28_37.tar.gz\n",
      "Connecting to dates.opentreeoflife.org (dates.opentreeoflife.org)|34.216.116.212|:443... connected.\n",
      "HTTP request sent, awaiting response... 410 Gone\n",
      "2023-05-18 13:24:22 ERROR 410: Gone.\n",
      "\n"
     ]
    }
   ],
   "source": [
    "## To get the full set of ages, \n",
    "! wget http://dates.opentreeoflife.org/v4/dates/download_dates_tar/chrono_out_01_12_2023_07_28_37.tar.gz\n"
   ]
  },
  {
   "cell_type": "markdown",
   "id": "3c44179a",
   "metadata": {},
   "source": [
    "### Evaluate your confidence in your tree.\n",
    "How many nodes are in your tree? How many do you have date estimates for?"
   ]
  },
  {
   "cell_type": "markdown",
   "id": "cbb4b5e6",
   "metadata": {},
   "source": [
    "## We can also compare nodes in our custom synth tree to dated trees, and use them to infer dates for those nodes."
   ]
  },
  {
   "cell_type": "code",
   "execution_count": 13,
   "id": "766da491",
   "metadata": {},
   "outputs": [],
   "source": [
    "## Read in your custom synth tree\n",
    "## See https://opentreeoflife.github.io/CustomSynthesis/ for how to generate a custom tree\n",
    "import dendropy\n",
    "custom_synth_dir = \"snacktavish_dros_34905_tmp5exp6dql\"\n",
    "treepath = \"{}/labelled_supertree/labelled_supertree.tre\".format(custom_synth_dir)\n",
    "custom_synth = dendropy.Tree.get_from_path(treepath, schema = \"newick\")\n"
   ]
  },
  {
   "cell_type": "code",
   "execution_count": 14,
   "id": "36ee52eb",
   "metadata": {},
   "outputs": [
    {
     "name": "stdout",
     "output_type": "stream",
     "text": [
      "ott1082279\n",
      "Drosophila mojavensis\n",
      "ott138603\n",
      "Drosophila mercatorum\n",
      "ott534107\n",
      "Drosophila americana\n",
      "ott245830\n",
      "Drosophila nasuta\n",
      "ott1082272\n",
      "Drosophila pseudoobscura\n",
      "ott616768\n",
      "Drosophila paulistorum\n",
      "ott616777\n",
      "Drosophila tropicalis\n",
      "ott505710\n",
      "Scaptodrosophila lebanonensis\n",
      "Total number of tips in synth tree after collapsing queries with lower level taxa is 5398\n",
      "\n"
     ]
    }
   ],
   "source": [
    "#Sometimes there are subspecies as tips, when your query is actually species.\n",
    "collapsed_tax = []\n",
    "for node in custom_synth:\n",
    "    if not node.is_leaf():\n",
    "        if node.label in label_dict:\n",
    "            print(node.label)\n",
    "            print(label_dict[node.label])\n",
    "            collapsed_tax.append(node.label)\n",
    "            node.clear_child_nodes()\n",
    "            node.taxon = custom_synth.taxon_namespace.new_taxon(label=node.label)\n",
    "\n",
    "\n",
    "leaves_A = [tip.taxon.label for tip in custom_synth.leaf_node_iter()]\n",
    "print(\"Total number of tips in synth tree after collapsing queries with lower level taxa is {}\\n\".format(len(leaves_A)))\n"
   ]
  },
  {
   "cell_type": "code",
   "execution_count": 15,
   "id": "08c0978b",
   "metadata": {},
   "outputs": [],
   "source": [
    "taxa_to_retain = list(label_dict.keys())\n",
    "custom_synth.retain_taxa_with_labels(taxa_to_retain)"
   ]
  },
  {
   "cell_type": "code",
   "execution_count": 16,
   "id": "edc2fa4b",
   "metadata": {},
   "outputs": [],
   "source": [
    "## Get Dated synth tree\n",
    "url     = 'https://dates.opentreeoflife.org/v4/dates/dated_tree'\n",
    "\n",
    "payload = { \"newick\" : custom_synth.as_string(schema=\"newick\"),\n",
    "            \"max_age\": 50}\n",
    "\n",
    "resp = requests.post(url=url, data=json.dumps(payload))\n",
    "resp_dict = resp.json()\n",
    "\n",
    "\n",
    "dated_tree = dendropy.Tree.get(data=resp_dict['dated_trees_newick_list'][0], schema=\"newick\")\n",
    "#dated_tree.write(path=output_dir+\"/ottid_dated_tree.tre\", schema='newick')"
   ]
  },
  {
   "cell_type": "code",
   "execution_count": 17,
   "id": "67d7ea20",
   "metadata": {},
   "outputs": [],
   "source": [
    "for taxon in dated_tree.taxon_namespace:\n",
    "    if taxon.label in label_dict:\n",
    "        taxon.label = label_dict[taxon.label]"
   ]
  },
  {
   "cell_type": "code",
   "execution_count": 18,
   "id": "58c57cd6",
   "metadata": {},
   "outputs": [],
   "source": [
    "dated_tree.write(path = \"labelled_dated_tree.tre\",schema= \"newick\")"
   ]
  },
  {
   "cell_type": "markdown",
   "id": "a8171a6b",
   "metadata": {},
   "source": [
    "### Assessing uncertainty"
   ]
  },
  {
   "cell_type": "markdown",
   "id": "291ff5a9",
   "metadata": {},
   "source": [
    "Lets choose a part of the synth tree where we have lot of data!  \n",
    "https://tree.opentreeoflife.org/opentree/opentree13.4@ott109893/Cracidae  \n",
    "We can estimate a dated tree for Cracidae"
   ]
  },
  {
   "cell_type": "code",
   "execution_count": 19,
   "id": "b88cb6f9",
   "metadata": {},
   "outputs": [],
   "source": [
    "## Get Dated synth tree\n",
    "url     = 'https://dates.opentreeoflife.org/v4/dates/dated_tree'\n",
    "\n",
    "\n",
    "##Here, we have several date estimates for each node,\n",
    "##so we can run the summarization several times,\n",
    "##choosing one at random each time\n",
    "payload = { \"node_id\" : 'ott109893',\n",
    "            \"select\":'random',\n",
    "            \"reps\" : 5}\n",
    "\n",
    "resp = requests.post(url=url, data=json.dumps(payload))\n",
    "resp_dict = resp.json()\n"
   ]
  },
  {
   "cell_type": "code",
   "execution_count": 20,
   "id": "1ad19f29",
   "metadata": {},
   "outputs": [
    {
     "data": {
      "text/plain": [
       "'dates.opentreeoflife.org/v4/dates/download_dates_tar/chrono_out_05_18_2023_20_24_44.tar.gz'"
      ]
     },
     "execution_count": 20,
     "metadata": {},
     "output_type": "execute_result"
    }
   ],
   "source": [
    "resp_dict['tar_file_download']"
   ]
  },
  {
   "cell_type": "code",
   "execution_count": 21,
   "id": "d7759386",
   "metadata": {},
   "outputs": [
    {
     "name": "stdout",
     "output_type": "stream",
     "text": [
      "--2023-05-18 13:24:45--  http://dates.opentreeoflife.org/v4/dates/download_dates_tar/chrono_out_05_18_2023_20_17_34.tar.gz\n",
      "Resolving dates.opentreeoflife.org (dates.opentreeoflife.org)... 34.216.116.212\n",
      "Connecting to dates.opentreeoflife.org (dates.opentreeoflife.org)|34.216.116.212|:80... connected.\n",
      "HTTP request sent, awaiting response... 301 Moved Permanently\n",
      "Location: https://dates.opentreeoflife.org/v4/dates/download_dates_tar/chrono_out_05_18_2023_20_17_34.tar.gz [following]\n",
      "--2023-05-18 13:24:45--  https://dates.opentreeoflife.org/v4/dates/download_dates_tar/chrono_out_05_18_2023_20_17_34.tar.gz\n",
      "Connecting to dates.opentreeoflife.org (dates.opentreeoflife.org)|34.216.116.212|:443... connected.\n",
      "HTTP request sent, awaiting response... 200 OK\n",
      "Length: 4471 (4.4K) [application/gzip]\n",
      "Saving to: ‘chrono_out_05_18_2023_20_17_34.tar.gz.1’\n",
      "\n",
      "chrono_out_05_18_20 100%[===================>]   4.37K  --.-KB/s    in 0s      \n",
      "\n",
      "2023-05-18 13:24:45 (24.9 MB/s) - ‘chrono_out_05_18_2023_20_17_34.tar.gz.1’ saved [4471/4471]\n",
      "\n"
     ]
    }
   ],
   "source": [
    "!wget 'dates.opentreeoflife.org/v4/dates/download_dates_tar/chrono_out_05_18_2023_20_17_34.tar.gz'"
   ]
  },
  {
   "cell_type": "code",
   "execution_count": 22,
   "id": "2c15b88f",
   "metadata": {},
   "outputs": [],
   "source": [
    "## The file \"tmp/bladj.tre\" will contain 5 different trees, based on random selections among the input date data"
   ]
  },
  {
   "cell_type": "code",
   "execution_count": null,
   "id": "15390a73",
   "metadata": {},
   "outputs": [],
   "source": []
  }
 ],
 "metadata": {
  "kernelspec": {
   "display_name": "opentree",
   "language": "python",
   "name": "opentree"
  },
  "language_info": {
   "codemirror_mode": {
    "name": "ipython",
    "version": 3
   },
   "file_extension": ".py",
   "mimetype": "text/x-python",
   "name": "python",
   "nbconvert_exporter": "python",
   "pygments_lexer": "ipython3",
   "version": "3.10.6"
  }
 },
 "nbformat": 4,
 "nbformat_minor": 5
}
