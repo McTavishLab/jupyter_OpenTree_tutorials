{
 "cells": [
  {
   "cell_type": "markdown",
   "id": "55e6fd22",
   "metadata": {},
   "source": [
    "## Getting a dated synthesis tree for an arbitrary set of taxa"
   ]
  },
  {
   "cell_type": "markdown",
   "id": "58408a0a",
   "metadata": {},
   "source": [
    "## Standardizing query taxon names\n",
    "\n",
    "One of the key challenges of comparing trees across studies is differences in taxon names because of spelling or taxonomic idiosincracies.\n",
    "\n",
    "A solution to this, is mapping taxon names to unique identifiers using the Open Tree Taxonomic Name Resolution Service (TNRS). There are a few options to use this service including via the API, or the browser based bulk name mapping.\n",
    "\n",
    "### Open Tree TNRS bulk name mapping tool.\n",
    "\n",
    "Access this tool at https://tree.opentreeoflife.org/curator/tnrs/\n",
    "\n",
    "This is a new beta-version of this functionality, so some parts are a bit finicky.\n",
    "\n",
    "*Try this*\n",
    "  * Click on \"Add names...\" (second button at the top of the menu on the left), and upload the names file `drosophila_example`. The \"loading file\" window will not close by itself, click the (X).\n",
    "  * In the \"Mapping options\" section (bottom of the menu to the left):\n",
    "    - select 'Insects' to narrow down the possibilities and speed up mapping\n",
    "  * Click \"Map selected names\" (middle of the menu to the left).\n",
    "  * Exact matches will show up in green, and can be accepted by clicking \"accept exact matches\".\n",
    "  * Once you have accepted names for each of the taxa, click \"Save nameset...\", download it to your laptop, and extract (unzip) the files. You can take a look at the human readable version of the output at `output/main.csv`. `main.json` contains the the same data in a more computer readable format.\n",
    "  * Finally, transfer the `main.csv` file to your working folder, so you can use it to get the tree for your taxa.\n",
    "\n",
    "*Make sure your mappings were saved! If you do not **accept** matches (by clicking buttons), they do not download.*\n"
   ]
  },
  {
   "cell_type": "code",
   "execution_count": 1,
   "id": "122f3e94",
   "metadata": {},
   "outputs": [
    {
     "name": "stdout",
     "output_type": "stream",
     "text": [
      "Obtaining opentree from git+ssh://****@github.com/OpenTreeOfLife/python-opentree.git@5a9552c13ad61f0067be8aba8bdcf903c6fe637e#egg=opentree (from -r ../requirements.txt (line 2))\n",
      "  Updating /home/ejmctavish/projects/otapi/jupyter_OpenTree_tutorials/venv-ot-notebooks/src/opentree clone (to revision 5a9552c13ad61f0067be8aba8bdcf903c6fe637e)\n",
      "  Running command git fetch -q --tags\n",
      "  Running command git rev-parse -q --verify 'sha^5a9552c13ad61f0067be8aba8bdcf903c6fe637e'\n",
      "  Running command git fetch -q 'ssh://****@github.com/OpenTreeOfLife/python-opentree.git' 5a9552c13ad61f0067be8aba8bdcf903c6fe637e\n",
      "  fatal: remote error: upload-pack: not our ref 5a9552c13ad61f0067be8aba8bdcf903c6fe637e\n",
      "  \u001b[1;31merror\u001b[0m: \u001b[1msubprocess-exited-with-error\u001b[0m\n",
      "  \n",
      "  \u001b[31m×\u001b[0m \u001b[32mgit fetch -q \u001b[0m\u001b[32m'ssh://****@github.com/OpenTreeOfLife/python-opentree.git'\u001b[0m\u001b[32m 5a9552c13ad61f0067be8aba8bdcf903c6fe637e\u001b[0m did not run successfully.\n",
      "  \u001b[31m│\u001b[0m exit code: \u001b[1;36m128\u001b[0m\n",
      "  \u001b[31m╰─>\u001b[0m See above for output.\n",
      "  \n",
      "  \u001b[1;35mnote\u001b[0m: This error originates from a subprocess, and is likely not a problem with pip.\n",
      "\u001b[1;31merror\u001b[0m: \u001b[1msubprocess-exited-with-error\u001b[0m\n",
      "\n",
      "\u001b[31m×\u001b[0m \u001b[32mgit fetch -q \u001b[0m\u001b[32m'ssh://****@github.com/OpenTreeOfLife/python-opentree.git'\u001b[0m\u001b[32m 5a9552c13ad61f0067be8aba8bdcf903c6fe637e\u001b[0m did not run successfully.\n",
      "\u001b[31m│\u001b[0m exit code: \u001b[1;36m128\u001b[0m\n",
      "\u001b[31m╰─>\u001b[0m See above for output.\n",
      "\n",
      "\u001b[1;35mnote\u001b[0m: This error originates from a subprocess, and is likely not a problem with pip.\n"
     ]
    }
   ],
   "source": [
    "!pip install -r ../requirements.txt"
   ]
  },
  {
   "cell_type": "code",
   "execution_count": 2,
   "id": "b0faf74c",
   "metadata": {},
   "outputs": [],
   "source": [
    "import requests\n",
    "import json\n",
    "import sys\n",
    "import dendropy\n",
    "import csv\n",
    "from opentree import OT\n"
   ]
  },
  {
   "cell_type": "code",
   "execution_count": 3,
   "id": "f62563ab",
   "metadata": {},
   "outputs": [],
   "source": [
    "mapped_names = \"../drosophila_example/drosophila_main.csv\"\n",
    "\n",
    "\n",
    "## uses the csv to create a dictionary with OTTids as keys, and the label you input as values\n",
    "with open(mapped_names) as fp:\n",
    "    reader = csv.reader(fp, delimiter=\",\", quotechar='\"')\n",
    "    next(reader, None)  # skip the headers\n",
    "    label_dict = {'ott'+row[2]:row[0] for row in reader}\n",
    "\n",
    "    \n",
    "## Node ids contains the list of tip ids you want in your final tree\n",
    "node_ids = [key for key in label_dict]\n"
   ]
  },
  {
   "cell_type": "markdown",
   "id": "55a2ef0d",
   "metadata": {},
   "source": [
    "## Dated trees\n",
    "To estimate dates, we will use the Chronosynth API. \n",
    "The dates API is work-in-progress, and so it is not yet as user friendly as it will be. \n",
    "\n",
    "A summary of the methods is here: https://github.com/OpenTreeOfLife/chronosynth/wiki/Chronosynth-methods-overview  \n",
    "There are some API docs here: https://github.com/OpenTreeOfLife/chronosynth/wiki/Draft-API-docs"
   ]
  },
  {
   "cell_type": "markdown",
   "id": "7024fd57",
   "metadata": {},
   "source": [
    "Using the dates API we can get dates that align to for individual nodes in the synth tree. \n",
    "This is based on the same information you saw in the conflict viewer.  \n",
    "You can you a CURL call to GET the current information for dates for a node."
   ]
  },
  {
   "cell_type": "code",
   "execution_count": 4,
   "id": "2852ff46",
   "metadata": {},
   "outputs": [
    {
     "name": "stdout",
     "output_type": "stream",
     "text": [
      "  % Total    % Received % Xferd  Average Speed   Time    Time     Time  Current\n",
      "                                 Dload  Upload   Total   Spent    Left  Speed\n",
      "100   860  100   860    0     0   1146      0 --:--:-- --:--:-- --:--:--  1145\n",
      "\u001b[1;39m{\n",
      "  \u001b[0m\u001b[34;1m\"query\"\u001b[0m\u001b[1;39m: \u001b[0m\u001b[0;32m\"ott109893\"\u001b[0m\u001b[1;39m,\n",
      "  \u001b[0m\u001b[34;1m\"synth_node_id\"\u001b[0m\u001b[1;39m: \u001b[0m\u001b[0;32m\"ott109893\"\u001b[0m\u001b[1;39m,\n",
      "  \u001b[0m\u001b[34;1m\"ot:source_node_ages\"\u001b[0m\u001b[1;39m: \u001b[0m\u001b[1;39m[\n",
      "    \u001b[1;39m{\n",
      "      \u001b[0m\u001b[34;1m\"age\"\u001b[0m\u001b[1;39m: \u001b[0m\u001b[0;39m1.331418\u001b[0m\u001b[1;39m,\n",
      "      \u001b[0m\u001b[34;1m\"source_id\"\u001b[0m\u001b[1;39m: \u001b[0m\u001b[0;32m\"ot_2072@tree1\"\u001b[0m\u001b[1;39m,\n",
      "      \u001b[0m\u001b[34;1m\"source_node\"\u001b[0m\u001b[1;39m: \u001b[0m\u001b[0;32m\"node24\"\u001b[0m\u001b[1;39m\n",
      "    \u001b[1;39m}\u001b[0m\u001b[1;39m,\n",
      "    \u001b[1;39m{\n",
      "      \u001b[0m\u001b[34;1m\"age\"\u001b[0m\u001b[1;39m: \u001b[0m\u001b[0;39m25.913621\u001b[0m\u001b[1;39m,\n",
      "      \u001b[0m\u001b[34;1m\"source_id\"\u001b[0m\u001b[1;39m: \u001b[0m\u001b[0;32m\"ot_2018@tree8\"\u001b[0m\u001b[1;39m,\n",
      "      \u001b[0m\u001b[34;1m\"source_node\"\u001b[0m\u001b[1;39m: \u001b[0m\u001b[0;32m\"node109\"\u001b[0m\u001b[1;39m\n",
      "    \u001b[1;39m}\u001b[0m\u001b[1;39m,\n",
      "    \u001b[1;39m{\n",
      "      \u001b[0m\u001b[34;1m\"age\"\u001b[0m\u001b[1;39m: \u001b[0m\u001b[0;39m11.822624999999999\u001b[0m\u001b[1;39m,\n",
      "      \u001b[0m\u001b[34;1m\"source_id\"\u001b[0m\u001b[1;39m: \u001b[0m\u001b[0;32m\"ot_809@tree2\"\u001b[0m\u001b[1;39m,\n",
      "      \u001b[0m\u001b[34;1m\"source_node\"\u001b[0m\u001b[1;39m: \u001b[0m\u001b[0;32m\"node13685\"\u001b[0m\u001b[1;39m\n",
      "    \u001b[1;39m}\u001b[0m\u001b[1;39m,\n",
      "    \u001b[1;39m{\n",
      "      \u001b[0m\u001b[34;1m\"age\"\u001b[0m\u001b[1;39m: \u001b[0m\u001b[0;39m28.474208\u001b[0m\u001b[1;39m,\n",
      "      \u001b[0m\u001b[34;1m\"source_id\"\u001b[0m\u001b[1;39m: \u001b[0m\u001b[0;32m\"ot_409@tree2\"\u001b[0m\u001b[1;39m,\n",
      "      \u001b[0m\u001b[34;1m\"source_node\"\u001b[0m\u001b[1;39m: \u001b[0m\u001b[0;32m\"node61812\"\u001b[0m\u001b[1;39m\n",
      "    \u001b[1;39m}\u001b[0m\u001b[1;39m,\n",
      "    \u001b[1;39m{\n",
      "      \u001b[0m\u001b[34;1m\"age\"\u001b[0m\u001b[1;39m: \u001b[0m\u001b[0;39m28.303778\u001b[0m\u001b[1;39m,\n",
      "      \u001b[0m\u001b[34;1m\"source_id\"\u001b[0m\u001b[1;39m: \u001b[0m\u001b[0;32m\"ot_409@tree1\"\u001b[0m\u001b[1;39m,\n",
      "      \u001b[0m\u001b[34;1m\"source_node\"\u001b[0m\u001b[1;39m: \u001b[0m\u001b[0;32m\"node19094\"\u001b[0m\u001b[1;39m\n",
      "    \u001b[1;39m}\u001b[0m\u001b[1;39m,\n",
      "    \u001b[1;39m{\n",
      "      \u001b[0m\u001b[34;1m\"age\"\u001b[0m\u001b[1;39m: \u001b[0m\u001b[0;39m13.074385\u001b[0m\u001b[1;39m,\n",
      "      \u001b[0m\u001b[34;1m\"source_id\"\u001b[0m\u001b[1;39m: \u001b[0m\u001b[0;32m\"ot_2170@tree3\"\u001b[0m\u001b[1;39m,\n",
      "      \u001b[0m\u001b[34;1m\"source_node\"\u001b[0m\u001b[1;39m: \u001b[0m\u001b[0;32m\"node234\"\u001b[0m\u001b[1;39m\n",
      "    \u001b[1;39m}\u001b[0m\u001b[1;39m,\n",
      "    \u001b[1;39m{\n",
      "      \u001b[0m\u001b[34;1m\"age\"\u001b[0m\u001b[1;39m: \u001b[0m\u001b[0;39m13.18745\u001b[0m\u001b[1;39m,\n",
      "      \u001b[0m\u001b[34;1m\"source_id\"\u001b[0m\u001b[1;39m: \u001b[0m\u001b[0;32m\"ot_809@tree1\"\u001b[0m\u001b[1;39m,\n",
      "      \u001b[0m\u001b[34;1m\"source_node\"\u001b[0m\u001b[1;39m: \u001b[0m\u001b[0;32m\"node373\"\u001b[0m\u001b[1;39m\n",
      "    \u001b[1;39m}\u001b[0m\u001b[1;39m,\n",
      "    \u001b[1;39m{\n",
      "      \u001b[0m\u001b[34;1m\"age\"\u001b[0m\u001b[1;39m: \u001b[0m\u001b[0;39m7.366649\u001b[0m\u001b[1;39m,\n",
      "      \u001b[0m\u001b[34;1m\"source_id\"\u001b[0m\u001b[1;39m: \u001b[0m\u001b[0;32m\"ot_116@tree5\"\u001b[0m\u001b[1;39m,\n",
      "      \u001b[0m\u001b[34;1m\"source_node\"\u001b[0m\u001b[1;39m: \u001b[0m\u001b[0;32m\"node867\"\u001b[0m\u001b[1;39m\n",
      "    \u001b[1;39m}\u001b[0m\u001b[1;39m,\n",
      "    \u001b[1;39m{\n",
      "      \u001b[0m\u001b[34;1m\"age\"\u001b[0m\u001b[1;39m: \u001b[0m\u001b[0;39m21.350655000000003\u001b[0m\u001b[1;39m,\n",
      "      \u001b[0m\u001b[34;1m\"source_id\"\u001b[0m\u001b[1;39m: \u001b[0m\u001b[0;32m\"ot_425@tree1\"\u001b[0m\u001b[1;39m,\n",
      "      \u001b[0m\u001b[34;1m\"source_node\"\u001b[0m\u001b[1;39m: \u001b[0m\u001b[0;32m\"node40\"\u001b[0m\u001b[1;39m\n",
      "    \u001b[1;39m}\u001b[0m\u001b[1;39m,\n",
      "    \u001b[1;39m{\n",
      "      \u001b[0m\u001b[34;1m\"age\"\u001b[0m\u001b[1;39m: \u001b[0m\u001b[0;39m22.433097000000004\u001b[0m\u001b[1;39m,\n",
      "      \u001b[0m\u001b[34;1m\"source_id\"\u001b[0m\u001b[1;39m: \u001b[0m\u001b[0;32m\"ot_2018@tree9\"\u001b[0m\u001b[1;39m,\n",
      "      \u001b[0m\u001b[34;1m\"source_node\"\u001b[0m\u001b[1;39m: \u001b[0m\u001b[0;32m\"node1412\"\u001b[0m\u001b[1;39m\n",
      "    \u001b[1;39m}\u001b[0m\u001b[1;39m\n",
      "  \u001b[1;39m]\u001b[0m\u001b[1;39m\n",
      "\u001b[1;39m}\u001b[0m\n"
     ]
    }
   ],
   "source": [
    "!curl -X GET https://dates.opentreeoflife.org/v4/dates/synth_node_age/ott109893 | jq"
   ]
  },
  {
   "cell_type": "markdown",
   "id": "75346854",
   "metadata": {},
   "source": [
    "To look at the node itself, you can navigate to \n",
    "\"https://tree.opentreeoflife.org/curator/study/view/{STUDY ID}?tab=home&tree={TREE ID}&node={NODE_ID}\"  \n",
    "e.g. https://tree.opentreeoflife.org/curator/study/view/ot_2018?tab=home&tree=tree9&node=node1412  "
   ]
  },
  {
   "cell_type": "code",
   "execution_count": 5,
   "id": "b849e439",
   "metadata": {},
   "outputs": [
    {
     "name": "stdout",
     "output_type": "stream",
     "text": [
      "  % Total    % Received % Xferd  Average Speed   Time    Time     Time  Current\n",
      "                                 Dload  Upload   Total   Spent    Left  Speed\n",
      "100   184  100   184    0     0    236      0 --:--:-- --:--:-- --:--:--   236\n",
      "\u001b[1;39m{\n",
      "  \u001b[0m\u001b[34;1m\"query\"\u001b[0m\u001b[1;39m: \u001b[0m\u001b[0;32m\"mrcaott1000311ott3643727\"\u001b[0m\u001b[1;39m,\n",
      "  \u001b[0m\u001b[34;1m\"synth_node_id\"\u001b[0m\u001b[1;39m: \u001b[0m\u001b[0;32m\"mrcaott1000311ott3643727\"\u001b[0m\u001b[1;39m,\n",
      "  \u001b[0m\u001b[34;1m\"ot:source_node_ages\"\u001b[0m\u001b[1;39m: \u001b[0m\u001b[1;39m[\n",
      "    \u001b[1;39m{\n",
      "      \u001b[0m\u001b[34;1m\"age\"\u001b[0m\u001b[1;39m: \u001b[0m\u001b[0;39m9.325001\u001b[0m\u001b[1;39m,\n",
      "      \u001b[0m\u001b[34;1m\"source_id\"\u001b[0m\u001b[1;39m: \u001b[0m\u001b[0;32m\"ot_1592@tree1\"\u001b[0m\u001b[1;39m,\n",
      "      \u001b[0m\u001b[34;1m\"source_node\"\u001b[0m\u001b[1;39m: \u001b[0m\u001b[0;32m\"node22956\"\u001b[0m\u001b[1;39m\n",
      "    \u001b[1;39m}\u001b[0m\u001b[1;39m\n",
      "  \u001b[1;39m]\u001b[0m\u001b[1;39m\n",
      "\u001b[1;39m}\u001b[0m\n"
     ]
    }
   ],
   "source": [
    "## You can also get dates for arbitrary nodes in the synth tree, which are not associated with taxa.\n",
    "!curl -X GET https://dates.opentreeoflife.org/v4/dates/synth_node_age/mrcaott1000311ott3643727 | jq"
   ]
  },
  {
   "cell_type": "markdown",
   "id": "49b7aa03",
   "metadata": {},
   "source": [
    "This node https://tree.opentreeoflife.org/opentree/argus/opentree13.4@mrcaott1000311ott3643727 in the synthetic tree aligns with this node in this dated tree https://tree.opentreeoflife.org/curator/study/view/ot_1592?tab=home&tree=tree1&node=node22956"
   ]
  },
  {
   "cell_type": "markdown",
   "id": "447339c9",
   "metadata": {},
   "source": [
    "## Summarizing dates  for a set of taxa\n",
    "You can use these dates individually, or use the API to get the dates across nodes in a tree, and then smooth the nodes in between"
   ]
  },
  {
   "cell_type": "markdown",
   "id": "0ef05873",
   "metadata": {},
   "source": [
    "The approach in these examples uses rate smoothing, via bladj https://phylodiversity.net/phylocom/  \n",
    "These approaches are rough, and there is NO infomation for many nodes, so be cautious!\n",
    "### To run bladj we need a max age estimate for the root of the tree."
   ]
  },
  {
   "cell_type": "code",
   "execution_count": 6,
   "id": "a9968e05",
   "metadata": {},
   "outputs": [
    {
     "name": "stderr",
     "output_type": "stream",
     "text": [
      "\n",
      "Unknown/unrecognized query ids (skipped):\n",
      " ott361374\n",
      "ott4418979 \n"
     ]
    },
    {
     "name": "stdout",
     "output_type": "stream",
     "text": [
      "{\n",
      "    \"node_id\": \"ott34905\",\n",
      "    \"num_tips\": 4554,\n",
      "    \"supported_by\": {\n",
      "        \"ott3.3draft1\": \"ott34905\"\n",
      "    },\n",
      "    \"taxon\": {\n",
      "        \"name\": \"Drosophilidae\",\n",
      "        \"ott_id\": 34905,\n",
      "        \"rank\": \"family\",\n",
      "        \"tax_sources\": [\n",
      "            \"ncbi:7214\",\n",
      "            \"worms:987176\",\n",
      "            \"gbif:5547\",\n",
      "            \"irmng:100842\"\n",
      "        ],\n",
      "        \"unique_name\": \"Drosophilidae\"\n",
      "    },\n",
      "    \"terminal\": {\n",
      "        \"ot_1046@tree1\": \"node28\",\n",
      "        \"ot_1047@tree1\": \"node63\",\n",
      "        \"pg_1337@tree6167\": \"node1053390\",\n",
      "        \"pg_2594@tree6014\": \"node1021794\",\n",
      "        \"pg_2710@tree6291\": \"node1094072\",\n",
      "        \"pg_2822@tree6569\": \"node1141999\",\n",
      "        \"pg_437@tree6242\": \"node1081938\"\n",
      "    },\n",
      "    \"was_constrained\": true,\n",
      "    \"was_uncontested\": true\n",
      "}\n"
     ]
    }
   ],
   "source": [
    "## Get the synth tree MRCA of the taxa of interest, so we know the root of our tree\n",
    "output = OT.synth_mrca(node_ids=node_ids)\n",
    "print(json.dumps(output.response_dict['mrca'], indent=4))\n"
   ]
  },
  {
   "cell_type": "code",
   "execution_count": 7,
   "id": "957f3395",
   "metadata": {},
   "outputs": [
    {
     "name": "stdout",
     "output_type": "stream",
     "text": [
      "  % Total    % Received % Xferd  Average Speed   Time    Time     Time  Current\n",
      "                                 Dload  Upload   Total   Spent    Left  Speed\n",
      "100    79  100    79    0     0    110      0 --:--:-- --:--:-- --:--:--   110\n",
      "\u001b[1;39m{\n",
      "  \u001b[0m\u001b[34;1m\"query\"\u001b[0m\u001b[1;39m: \u001b[0m\u001b[0;32m\"ott34905\"\u001b[0m\u001b[1;39m,\n",
      "  \u001b[0m\u001b[34;1m\"synth_node_id\"\u001b[0m\u001b[1;39m: \u001b[0m\u001b[0;32m\"ott34905\"\u001b[0m\u001b[1;39m,\n",
      "  \u001b[0m\u001b[34;1m\"ot:source_node_ages\"\u001b[0m\u001b[1;39m: \u001b[0m\u001b[1;30mnull\u001b[0m\u001b[1;39m\n",
      "\u001b[1;39m}\u001b[0m\n"
     ]
    }
   ],
   "source": [
    "!curl -X GET https://dates.opentreeoflife.org/v4/dates/synth_node_age/ott34905 | jq"
   ]
  },
  {
   "cell_type": "code",
   "execution_count": 8,
   "id": "526becf6",
   "metadata": {},
   "outputs": [
    {
     "data": {
      "text/plain": [
       "{'query': 'ott34905', 'synth_node_id': 'ott34905', 'ot:source_node_ages': None}"
      ]
     },
     "execution_count": 8,
     "metadata": {},
     "output_type": "execute_result"
    }
   ],
   "source": [
    "## You can also get node dates for a node in python, ucing the 'requests' module\n",
    "datesurl     = 'https://dates.opentreeoflife.org/v4/dates/synth_node_age/{}'.format(output.response_dict['mrca']['node_id'])\n",
    "resp = requests.get(datesurl)\n",
    "resp.json()"
   ]
  },
  {
   "cell_type": "markdown",
   "id": "79a493d2",
   "metadata": {},
   "source": [
    "We do not have an age for this node in the database, so we need to use external information.  \n",
    "We will use 50 Million years for the age of drosophilidae, based on https://www.sciencedirect.com/topics/agricultural-and-biological-sciences/drosophilidae"
   ]
  },
  {
   "cell_type": "code",
   "execution_count": 9,
   "id": "7912a157",
   "metadata": {},
   "outputs": [],
   "source": [
    "## Get Dated synth tree\n",
    "url     = 'https://dates.opentreeoflife.org/v4/dates/dated_tree'\n",
    "\n",
    "payload = { \"node_ids\" : node_ids,\n",
    "            \"max_age\": 50}\n",
    "\n",
    "resp = requests.post(url=url, data=json.dumps(payload))\n",
    "resp_dict = resp.json()\n",
    "\n"
   ]
  },
  {
   "cell_type": "markdown",
   "id": "7d9d9ec8",
   "metadata": {},
   "source": [
    "This returns a response object, "
   ]
  },
  {
   "cell_type": "code",
   "execution_count": 10,
   "id": "a5c72768",
   "metadata": {},
   "outputs": [
    {
     "data": {
      "text/plain": [
       "dict_keys(['dated_trees_newick_list', 'topology_sources', 'date_sources', 'tar_file_download'])"
      ]
     },
     "execution_count": 10,
     "metadata": {},
     "output_type": "execute_result"
    }
   ],
   "source": [
    "resp_dict.keys()"
   ]
  },
  {
   "cell_type": "code",
   "execution_count": 11,
   "id": "72b7ee2f",
   "metadata": {},
   "outputs": [],
   "source": [
    "dated_tree = dendropy.Tree.get(data=resp_dict['dated_trees_newick_list'][0], schema=\"newick\")\n",
    "dated_tree.write(path=\"ottid_dated_tree.tre\", schema='newick')\n"
   ]
  },
  {
   "cell_type": "code",
   "execution_count": 12,
   "id": "83dba3d0",
   "metadata": {},
   "outputs": [
    {
     "data": {
      "text/plain": [
       "'dates.opentreeoflife.org/v4/dates/download_dates_tar/chrono_out_01_13_2023_04_57_19.tar.gz'"
      ]
     },
     "execution_count": 12,
     "metadata": {},
     "output_type": "execute_result"
    }
   ],
   "source": [
    "resp_dict['tar_file_download']"
   ]
  },
  {
   "cell_type": "code",
   "execution_count": 13,
   "id": "3c05dda8",
   "metadata": {},
   "outputs": [
    {
     "name": "stdout",
     "output_type": "stream",
     "text": [
      "--2023-01-12 22:57:20--  http://dates.opentreeoflife.org/v4/dates/download_dates_tar/chrono_out_01_12_2023_07_28_37.tar.gz\n",
      "Resolving dates.opentreeoflife.org (dates.opentreeoflife.org)... 34.216.116.212\n",
      "Connecting to dates.opentreeoflife.org (dates.opentreeoflife.org)|34.216.116.212|:80... connected.\n",
      "HTTP request sent, awaiting response... 301 Moved Permanently\n",
      "Location: https://dates.opentreeoflife.org/v4/dates/download_dates_tar/chrono_out_01_12_2023_07_28_37.tar.gz [following]\n",
      "--2023-01-12 22:57:20--  https://dates.opentreeoflife.org/v4/dates/download_dates_tar/chrono_out_01_12_2023_07_28_37.tar.gz\n",
      "Connecting to dates.opentreeoflife.org (dates.opentreeoflife.org)|34.216.116.212|:443... connected.\n",
      "HTTP request sent, awaiting response... 410 Gone\n",
      "2023-01-12 22:57:20 ERROR 410: Gone.\n",
      "\n"
     ]
    }
   ],
   "source": [
    "## To get the full set of ages, \n",
    "! wget http://dates.opentreeoflife.org/v4/dates/download_dates_tar/chrono_out_01_12_2023_07_28_37.tar.gz\n"
   ]
  },
  {
   "cell_type": "markdown",
   "id": "3c44179a",
   "metadata": {},
   "source": [
    "### Evaluate your confidence in your tree.\n",
    "How many nodes are in your tree? How many do you have date estimates for?"
   ]
  },
  {
   "cell_type": "markdown",
   "id": "cbb4b5e6",
   "metadata": {},
   "source": [
    "## We can also compare nodes in our custom synth tree to dated trees, and use them to infer dates for those nodes."
   ]
  },
  {
   "cell_type": "code",
   "execution_count": 14,
   "id": "766da491",
   "metadata": {},
   "outputs": [],
   "source": [
    "## Read in your custom synth tree\n",
    "\n",
    "import dendropy\n",
    "custom_synth_dir = \"snacktavish_dros_34905_tmp5exp6dql\"\n",
    "treepath = \"{}/labelled_supertree/labelled_supertree.tre\".format(custom_synth_dir)\n",
    "custom_synth = dendropy.Tree.get_from_path(treepath, schema = \"newick\")\n"
   ]
  },
  {
   "cell_type": "code",
   "execution_count": 15,
   "id": "36ee52eb",
   "metadata": {},
   "outputs": [
    {
     "name": "stdout",
     "output_type": "stream",
     "text": [
      "ott1082279\n",
      "Drosophila mojavensis\n",
      "ott138603\n",
      "Drosophila mercatorum\n",
      "ott534107\n",
      "Drosophila americana\n",
      "ott287233\n",
      "Drosophila sulfurigaster\n",
      "ott245830\n",
      "Drosophila nasuta\n",
      "ott1082272\n",
      "Drosophila pseudoobscura\n",
      "ott616768\n",
      "Drosophila paulistorum\n",
      "ott616777\n",
      "Drosophila tropicalis\n",
      "ott505710\n",
      "Scaptodrosophila lebanonensis\n",
      "Total number of tips in synth tree after collapsing queries with lower level taxa is 5396\n",
      "\n"
     ]
    }
   ],
   "source": [
    "#Sometimes there are subspecies, when your query is actually species.\n",
    "collapsed_tax = []\n",
    "for node in custom_synth:\n",
    "    if not node.is_leaf():\n",
    "        if node.label in label_dict:\n",
    "            print(node.label)\n",
    "            print(label_dict[node.label])\n",
    "            collapsed_tax.append(node.label)\n",
    "            node.clear_child_nodes()\n",
    "            node.taxon = custom_synth.taxon_namespace.new_taxon(label=node.label)\n",
    "\n",
    "\n",
    "leaves_A = [tip.taxon.label for tip in custom_synth.leaf_node_iter()]\n",
    "print(\"Total number of tips in synth tree after collapsing queries with lower level taxa is {}\\n\".format(len(leaves_A)))\n"
   ]
  },
  {
   "cell_type": "code",
   "execution_count": 16,
   "id": "08c0978b",
   "metadata": {},
   "outputs": [],
   "source": [
    "taxa_to_retain = list(label_dict.keys())\n",
    "custom_synth.retain_taxa_with_labels(taxa_to_retain)"
   ]
  },
  {
   "cell_type": "code",
   "execution_count": 17,
   "id": "cc20a07d",
   "metadata": {},
   "outputs": [],
   "source": [
    "leaves_B = [tip.taxon.label for tip in custom_synth.leaf_node_iter()]"
   ]
  },
  {
   "cell_type": "code",
   "execution_count": 18,
   "id": "edc2fa4b",
   "metadata": {},
   "outputs": [],
   "source": [
    "\n",
    "## Get Dated synth tree\n",
    "url     = 'https://dates.opentreeoflife.org/v4/dates/dated_tree'\n",
    "\n",
    "payload = { \"newick\" : custom_synth.as_string(schema=\"newick\"),\n",
    "            \"max_age\": 50}\n",
    "\n",
    "resp = requests.post(url=url, data=json.dumps(payload))\n",
    "resp_dict = resp.json()\n",
    "\n",
    "\n",
    "dated_tree = dendropy.Tree.get(data=resp_dict['dated_trees_newick_list'][0], schema=\"newick\")\n",
    "#dated_tree.write(path=output_dir+\"/ottid_dated_tree.tre\", schema='newick')"
   ]
  },
  {
   "cell_type": "code",
   "execution_count": 19,
   "id": "2fc1113f",
   "metadata": {},
   "outputs": [
    {
     "data": {
      "text/plain": [
       "{'dated_trees_newick_list': ['((ott742404:25.000000,ott545916:25.000000)ott127995:25.000000,((((((((((((((((((ott607957:10.061225,(((ott975460:3.464550,ott1082281:3.464550)mrcaott86631ott546365:3.308990,((ott607965:2.182800,ott1082279:2.182800)mrcaott607965ott660975:2.856700,ott1082277:5.039500)ott682726:1.734040)mrcaott86631ott607965:1.385400,((ott158663:0.201000,ott158664:0.201000)mrcaott158663ott158664:0.378000,ott607953:0.579000)ott733399:7.579940)mrcaott86631ott158663:1.902285)mrcaott3952ott86631:1.902286,ott794690:11.963511)mrcaott3952ott41806:1.902285,(((((ott505712:1.069275,ott793530:1.069275)mrcaott505712ott793530:1.069275,ott1033313:2.138550)mrcaott505712ott1033313:7.612375,ott546366:9.750925)ott534104:1.557636,((ott505720:6.344200,ott1024123:6.344200)mrcaott505720ott1024123:0.705750,ott794702:7.049950)mrcaott505720ott794702:4.258611)mrcaott181308ott505720:1.557636,(ott794691:11.866600,(ott852862:10.569400,ott888517:10.569400)mrcaott852862ott888517:1.297200)mrcaott794691ott852862:0.999598)mrcaott181308ott794691:0.999598)mrcaott3952ott181308:0.999598,((ott104619:3.429850,ott138603:3.429850)mrcaott104619ott429603:7.761392,(ott167983:4.930300,ott546367:4.930300)mrcaott167983ott546367:6.260942)mrcaott104619ott167983:3.674150)mrcaott3952ott3955:0.999598,ott103919:15.864990)mrcaott3952ott103919:2.421364,ott218757:18.286354)mrcaott3952ott218757:2.421366,ott340391:20.707720)mrcaott3952ott340391:2.421364,(ott41807:17.346813,(ott41808:11.564542,(ott41809:5.782271,ott963944:5.782271)mrcaott41809ott963944:5.782271)mrcaott41808ott41809:5.782271)ott963943:5.782270)mrcaott3952ott41807:2.421366,ott218751:25.550449)mrcaott3952ott167978:2.421364,(((((ott534107:1.266267,ott787960:1.266267)mrcaott12789ott787960:2.560300,ott12791:3.826567)mrcaott12789ott12791:0.849933,ott660821:4.676500)mrcaott12789ott660821:3.986450,((ott787959:7.001550,ott787962:7.001550)mrcaott787959ott787962:0.830699,ott1086847:7.832250)mrcaott787959ott1086847:0.830700)mrcaott12789ott787959:1.570050,(((ott12792:2.380200,ott1022765:2.380200)mrcaott12792ott1022765:1.527850,ott534108:3.908050)mrcaott12792ott534108:1.527850,ott1022764:5.435900)mrcaott12792ott1022764:4.797100)ott812297:17.738813)mrcaott3952ott12789:2.421364,(((ott138599:10.131059,ott498685:10.131059)mrcaott138599ott498685:10.131059,(((ott15302:5.065529,ott138602:5.065529)mrcaott15302ott138602:5.065529,ott999564:10.131059)mrcaott15302ott999564:5.065530,ott506205:15.196589)mrcaott15302ott506205:5.065529)mrcaott15290ott15296:5.065529,ott1060027:25.327646)mrcaott15290ott15291:5.065531)mrcaott3952ott15290:2.421368,((((((((((((((ott32496:0.950000,ott501104:0.950000)mrcaott32496ott501104:0.950000,ott1082270:1.900000)mrcaott32496ott34896:1.500000,ott876375:3.400000)ott32498:1.187500,((ott876379:2.050000,ott141605:2.050000)mrcaott39975ott141605:2.050000,ott927153:4.100000)mrcaott39975ott927153:0.487500)mrcaott32496ott39975:0.487500,ott361370:5.075000)mrcaott32496ott351671:0.487500,(ott1062062:2.781250,ott717679:2.781250)mrcaott264591ott717679:2.781250)mrcaott32496ott264591:0.487500,((((((ott39977:1.512500,(ott355253:0.756250,ott4419273:0.756250)mrcaott355253ott4419273:0.756250)mrcaott39977ott355253:0.756250,(ott39981:1.134375,ott4419345:1.134375)mrcaott39980ott4419345:1.134375)mrcaott39977ott39980:0.756250,ott616772:3.025000)ott32499:0.756250,((((ott63092:0.756250,ott194377:0.756250)mrcaott63092ott194377:0.756250,ott927155:1.512500)ott194379:0.756250,ott505708:2.268750)mrcaott63092ott63107:0.756250,ott63113:3.025000)mrcaott63092ott63113:0.756250,ott434300:3.781250)mrcaott39977ott63092:0.756250,(ott301478:2.268750,ott768537:2.268750)mrcaott301478ott768537:2.268750)mrcaott39977ott301478:0.756250,ott1082275:5.293750)mrcaott39977ott93074:0.756250)mrcaott32496ott39977:2.025807,(((((ott86628:2.307374,(ott93072:1.153687,ott93079:1.153687)mrcaott93072ott93079:1.153687)ott913094:1.153687,ott264594:3.461060)mrcaott86628ott93076:1.153687,(((ott607962:1.153687,ott301480:1.153687)mrcaott91813ott301480:1.153687,ott4420335:2.307374)mrcaott91813ott4420335:1.153687,(ott314820:2.307374,(ott796125:1.153687,ott4420020:1.153687)mrcaott796125ott1062056:1.153687)mrcaott314820ott796125:1.153687)mrcaott91811ott314820:1.153687)mrcaott86628ott91811:1.153687,(ott264596:2.884217,ott361374:2.884217)mrcaott264596ott361374:2.884217)mrcaott86628ott93070:1.153687,ott909937:6.922121)mrcaott86628ott264589:1.153687)mrcaott32496ott86628:2.025808,ott301475:10.101616)mrcaott32496ott301475:2.025808,(((ott63100:3.031856,ott909934:3.031856)ott63105:3.031856,ott97932:6.063712)mrcaott63100ott97932:3.031856,((ott93083:3.031856,ott909930:3.031856)mrcaott93083ott264603:3.031856,ott614357:6.063712)mrcaott93083ott614357:3.031856)mrcaott63100ott93083:3.031857)mrcaott32496ott63100:2.025807,(ott895038:7.076616,ott1051234:7.076616)ott970519:7.076616)mrcaott32496ott86625:2.025807,ott264598:16.179039,ott335367:16.179039)ott688699:2.025808,((ott1052390:8.174999,((ott139455:2.725000,ott4421064:2.725000)mrcaott139455ott4421064:2.725000,ott4421048:5.450000)mrcaott139455ott534913:2.724999)mrcaott63084ott86733:2.725000,ott534912:10.900000)mrcaott63084ott262785:7.304848)mrcaott32496ott63084:7.304850,ott4418979:25.509697)mrcaott32496ott616209:7.304848)mrcaott3952ott32496:2.421364,(ott661518:17.617954,ott4422479:17.617954)mrcaott661518ott4419257:17.617954)mrcaott3952ott661518:2.421364,((((((ott395953:4.690341,ott871280:4.690341)ott812294:4.690341,ott505706:9.380683)mrcaott26987ott138598:4.690341,((ott475932:8.442614,((ott223304:2.814205,ott1024511:2.814205)mrcaott223304ott223305:2.814205,ott578171:5.628409)mrcaott223304ott578171:2.814204)mrcaott86637ott223304:2.814205,ott746889:11.256819)mrcaott86637ott126936:2.814205)mrcaott26987ott86637:2.814203,ott901250:16.885227)mrcaott26987ott35516:2.814205,((ott616203:8.442614,ott138600:8.442614)mrcaott93081ott138600:8.442614,((ott287233:7.035512,ott556561:7.035512)mrcaott189468ott556561:7.035512,ott287229:14.071024,(ott412604:11.256819,((ott412614:5.628409,(ott930765:2.814205,ott245830:2.814205)mrcaott930765ott1070924:2.814205)mrcaott412614ott930765:2.814204,ott412615:8.442614)mrcaott412614ott412615:2.814205)mrcaott412604ott412614:2.814205)ott237805:2.814203)mrcaott93081ott138611:2.814205)mrcaott26987ott93081:2.814205,((ott51393:5.920000,(ott930775:1.065000,ott742413:1.065000)mrcaott263859ott742413:4.855000)mrcaott51393ott263859:1.450000,ott656969:7.370000)mrcaott51393ott68203:15.143638)mrcaott26987ott51393:15.143635)mrcaott3952ott26987:2.421364,(ott192066:20.039318,ott939609:20.039318)mrcaott192066ott546363:20.039318)mrcaott3952ott126940:2.421364,((((((((ott86632:10.578333,(ott440071:5.289166,ott661519:5.289166)mrcaott110533ott442463:5.289166)mrcaott86632ott110533:5.289166,ott793217:15.867499)mrcaott86632ott157160:5.289166,(ott583939:10.578333,ott787961:10.578333)mrcaott472259ott583943:10.578333)mrcaott86632ott472259:5.289167,((ott218755:17.891666,((((ott227752:3.403646,ott956240:3.403646)mrcaott227752ott956240:3.403646,ott1008043:6.807292)mrcaott227752ott395326:3.403646,ott431225:10.210938)mrcaott227752ott431225:3.403646,(((ott505707:6.800000,ott1082278:6.800000)mrcaott505707ott1082278:2.400000,((ott549044:0.500000,ott660820:0.500000)mrcaott549044ott660820:2.346667,ott660824:2.846667)mrcaott549044ott660824:6.353333)mrcaott505707ott549044:0.137500,(ott505714:6.525000,(ott505718:3.712500,(ott660828:0.900000,ott1082282:0.900000)mrcaott660828ott1082282:2.812500)mrcaott505718ott660828:2.812500)mrcaott505714ott505718:2.812500)ott863009:4.277083)mrcaott227752ott505707:4.277083)mrcaott35517ott227752:4.277084,(ott218759:11.084375,ott644198:11.084375)mrcaott218759ott453620:11.084375)mrcaott35517ott218759:4.277082)mrcaott4410ott35517:4.277084,((ott34911:15.361459,(ott733212:7.680729,ott1069155:7.680729)mrcaott733212ott1069155:7.680729)mrcaott34911ott506207:7.680730,(ott717853:11.521094,ott751071:11.521094)mrcaott717853ott751071:11.521094)ott338354:7.680729)mrcaott4410ott34911:4.277083,(((((ott34895:9.883334,ott456798:9.883334)mrcaott34895ott456798:9.883334,((((ott138612:4.050000,ott660833:4.050000)mrcaott138612ott660833:4.050000,(ott660819:4.050000,ott660834:4.050000)mrcaott660819ott660834:4.050000)ott863005:4.050000,((ott505719:4.533333,(ott1082272:0.725000,ott1082274:0.725000)mrcaott820906ott1082274:3.808333)mrcaott505719ott820906:3.808334,ott916031:8.341667)mrcaott505719ott916031:3.808333)mrcaott138595ott505719:3.808333,ott355244:15.958334)mrcaott138595ott355244:3.808334)mrcaott34895ott138595:3.808332,ott1031757:23.575001)mrcaott34895ott1031757:3.808332,(ott607961:18.255556,(ott660827:9.127778,ott844168:9.127778)mrcaott660827ott844168:9.127778)mrcaott607961ott660827:9.127777)mrcaott34895ott607961:3.808334,(((ott34910:7.797917,ott355249:7.797917)mrcaott34910ott355249:7.797917,ott355241:15.595834)mrcaott34910ott355241:7.797917,ott1082284:23.393751)mrcaott34910ott1082284:7.797916)ott863004:3.808333)mrcaott4410ott34895:2.500000,(((((ott86627:0.910000,ott223734:0.910000)mrcaott86627ott223734:0.910000,ott167982:1.820000)ott387785:18.100000,ott218754:19.920000)mrcaott86627ott218754:2.340000,(ott167990:11.130000,ott247544:11.130000)ott387780:11.130000)mrcaott86627ott167990:6.789999,((ott86630:20.750000,(((ott607964:8.300000,(ott616771:4.150000,ott616768:4.150000)mrcaott616771ott616776:4.150000)mrcaott607964ott616771:4.150001,ott616777:12.450001)mrcaott607964ott1082564:4.150000,ott616769:16.600000)ott387781:4.150000)mrcaott86630ott607964:4.150002,ott616770:24.900002)ott387779:4.150000)mrcaott86627ott86630:8.450001)mrcaott4410ott86627:2.500000,ott765426:40.000000)mrcaott4410ott765426:2.500000,ott4419606:42.500000)mrcaott3952ott4410:2.500000,(ott543104:22.500000,ott614350:22.500000)ott13684:22.500000,ott955865:45.000000)mrcaott3952ott126929:2.500000,(ott505710:23.750000,ott304074:23.750000,ott793225:23.750000)ott960043:23.750000)ott127994:2.500000)ott34905:1.000000;'],\n",
       " 'topology_sources': 'User input',\n",
       " 'date_sources': ['ot_409@tree2'],\n",
       " 'tar_file_download': 'dates.opentreeoflife.org/v4/dates/download_dates_tar/chrono_out_01_13_2023_04_57_21.tar.gz'}"
      ]
     },
     "execution_count": 19,
     "metadata": {},
     "output_type": "execute_result"
    }
   ],
   "source": [
    "resp.json()"
   ]
  },
  {
   "cell_type": "markdown",
   "id": "a8171a6b",
   "metadata": {},
   "source": [
    "### Assessing uncertainty"
   ]
  },
  {
   "cell_type": "markdown",
   "id": "291ff5a9",
   "metadata": {},
   "source": [
    "Lets choose a part of the synth tree where we have lot of data!  \n",
    "https://tree.opentreeoflife.org/opentree/opentree13.4@ott109893/Cracidae  \n",
    "We can estimate a dated tree for Cracidae"
   ]
  },
  {
   "cell_type": "code",
   "execution_count": 20,
   "id": "b88cb6f9",
   "metadata": {},
   "outputs": [],
   "source": [
    "## Get Dated synth tree\n",
    "url     = 'https://dates.opentreeoflife.org/v4/dates/dated_tree'\n",
    "\n",
    "\n",
    "##Here, we have several dat estimates for each node,\n",
    "##so we can run the summarization several times,\n",
    "##choosing one at random each time\n",
    "payload = { \"node_id\" : 'ott109893',\n",
    "            \"select\":'random',\n",
    "            \"reps\" : 5}\n",
    "\n",
    "resp = requests.post(url=url, data=json.dumps(payload))\n",
    "resp_dict = resp.json()\n"
   ]
  },
  {
   "cell_type": "code",
   "execution_count": 21,
   "id": "1ad19f29",
   "metadata": {},
   "outputs": [
    {
     "data": {
      "text/plain": [
       "{'dated_trees_newick_list': ['((((((((ott75785:0.111421,ott157739:0.111421)mrcaott75785ott157739:0.111421,(ott157735:0.111421,ott188770:0.111421)mrcaott157735ott188770:0.111421)mrcaott75785ott157735:0.342425,ott157745:0.565267)mrcaott75785ott157745:0.527970,(ott963344:0.546619)ott109896:0.546619)mrcaott75785ott963344:1.694038,ott1014142:2.787275)mrcaott75785ott1014142:0.806545,(((ott109884:1.509077,ott658355:1.509077)mrcaott109884ott658355:0.927168,ott157741:2.436245)mrcaott109884ott157741:0.927169,((ott109886:2.025266,ott188772:2.025266)mrcaott109886ott188772:0.669074,(((ott157743:0.071331,ott1024688:0.071331)mrcaott157743ott1024688:1.110046,ott1014136:1.181377)mrcaott157743ott1014136:0.756482,ott712301:1.937859)mrcaott157743ott712301:0.756481)mrcaott109886ott157743:0.669074,ott174442:3.363414,ott1024690:3.363414,ott3596020:3.363414,ott3596021:3.363414,ott3596022:3.363414,ott3596023:3.363414,ott6151696:3.363414,ott6151699:3.363414,ott7659705:3.363414,ott7659706:3.363414,ott7659707:3.363414,ott7659708:3.363414,ott7659709:3.363414,ott7659710:3.363414,ott7659711:3.363414,ott7659712:3.363414)ott109881:0.230406)mrcaott75785ott109884:3.807150,((ott80424:2.530903)ott80423:2.530903,(ott188777:2.722642,ott488154:2.722642,ott7659699:2.722642)ott963343:2.339164)mrcaott80424ott188777:2.339164)mrcaott75785ott80424:28.191788,((((ott109882:0.909298,ott188783:0.909298)mrcaott109882ott188783:1.870713,ott520559:2.780011)mrcaott109882ott520559:1.870713,((((ott188779:0.524013,ott188785:0.524013)mrcaott188779ott188785:3.165076,ott1061401:3.689089)mrcaott188779ott1061401:0.561455,ott488158:4.250544)mrcaott188779ott488158:0.200090,ott188788:4.450634)mrcaott188779ott188788:0.200090,(ott188781:2.325362,ott209805:2.325362)mrcaott188781ott209805:2.325362,ott4947471:4.650725,ott4947474:4.650725,ott6520318:4.650725,ott6520319:4.650725,ott6520320:4.650725)ott109892:7.709851,(((ott132828:3.130304,(ott132829:2.719048,(ott654721:2.307792,ott654723:2.307792)mrcaott654721ott654723:0.411256)mrcaott132829ott654721:0.411256,((ott488156:2.442592,(ott654699:1.165658,ott654722:1.165658)mrcaott654699ott654722:1.276934)mrcaott488156ott654699:0.343856,ott654700:2.786448)mrcaott488156ott654700:0.343856,ott654724:3.130304,ott6151693:3.130304,ott6151694:3.130304,ott7659700:3.130304,ott7659701:3.130304,ott7659702:3.130304,ott7659703:3.130304,ott7659704:3.130304)ott979429:1.164737,(((ott188774:1.369650)ott1014138:1.369650,((ott385229:1.025320,ott571014:1.025320)mrcaott385229ott571014:1.061464,((ott488151:0.960169,ott786422:0.960169)mrcaott488151ott786422:0.474099,ott786420:1.434268)mrcaott488151ott786420:0.652516)mrcaott385229ott488151:0.652516,ott3596024:2.739300)mrcaott188774ott385229:1.361874,(ott488148:2.050587)ott488147:2.050587)mrcaott188774ott488148:0.193867)mrcaott132828ott188774:4.032767,(ott488145:4.163904)ott488144:4.163904)mrcaott132828ott488145:4.032767)mrcaott109882ott132828:23.232182,(ott6151691:17.796379,ott7659697:17.796379,ott7659698:17.796379)ott3596025:17.796379)ott109893:1.000000;',\n",
       "  '((((((((ott75785:0.274945,ott157739:0.274945)mrcaott75785ott157739:0.274945,(ott157735:0.274945,ott188770:0.274945)mrcaott157735ott188770:0.274945)mrcaott75785ott157735:0.530368,ott157745:1.080258)mrcaott75785ott157745:1.354579,(ott963344:1.217419)ott109896:1.217419)mrcaott75785ott963344:0.808381,ott1014142:3.243218)mrcaott75785ott1014142:6.106181,(((ott109884:1.509077,ott658355:1.509077)mrcaott109884ott658355:0.927168,ott157741:2.436245)mrcaott109884ott157741:0.927169,((ott109886:2.025266,ott188772:2.025266)mrcaott109886ott188772:0.841706,(((ott157743:1.061728,ott1024688:1.061728)mrcaott157743ott1024688:0.119649,ott1014136:1.181377)mrcaott157743ott1014136:1.189153,ott712301:2.370530)mrcaott157743ott712301:0.496442)mrcaott109886ott157743:0.496442,ott174442:3.363414,ott1024690:3.363414,ott3596020:3.363414,ott3596021:3.363414,ott3596022:3.363414,ott3596023:3.363414,ott6151696:3.363414,ott6151699:3.363414,ott7659705:3.363414,ott7659706:3.363414,ott7659707:3.363414,ott7659708:3.363414,ott7659709:3.363414,ott7659710:3.363414,ott7659711:3.363414,ott7659712:3.363414)ott109881:5.985985)mrcaott75785ott109884:5.295425,((ott80424:4.324421)ott80423:4.324421,(ott188777:2.652860,ott488154:2.652860,ott7659699:2.652860)ott963343:5.995982)mrcaott80424ott188777:5.995982)mrcaott75785ott80424:20.947933,((((ott109882:0.815191,ott188783:0.815191)mrcaott109882ott188783:1.968971,ott520559:2.784162)mrcaott109882ott520559:1.968971,((((ott188779:0.820381,ott188785:0.820381)mrcaott188779ott188785:2.868708,ott1061401:3.689089)mrcaott188779ott1061401:0.561455,ott488158:4.250544)mrcaott188779ott488158:0.251295,ott188788:4.501839)mrcaott188779ott188788:0.251294,(ott188781:2.376566,ott209805:2.376566)mrcaott188781ott209805:2.376566,ott4947471:4.753133,ott4947474:4.753133,ott6520318:4.753133,ott6520319:4.753133,ott6520320:4.753133)ott109892:15.153218,(((ott132828:3.491672,(ott132829:2.899732,(ott654721:2.307792,ott654723:2.307792)mrcaott654721ott654723:0.591940)mrcaott132829ott654721:0.591940,((ott488156:2.189798,(ott654699:1.312329,ott654722:1.312329)mrcaott654699ott654722:0.877469)mrcaott488156ott654699:0.650937,ott654700:2.840735)mrcaott488156ott654700:0.650937,ott654724:3.491672,ott6151693:3.491672,ott6151694:3.491672,ott7659700:3.491672,ott7659701:3.491672,ott7659702:3.491672,ott7659703:3.491672,ott7659704:3.491672)ott979429:3.689734,(((ott188774:0.149427)ott1014138:0.149427,((ott385229:0.112070,ott571014:0.112070)mrcaott385229ott571014:0.112070,((ott488151:0.074714,ott786422:0.074714)mrcaott488151ott786422:0.074714,ott786420:0.149427)mrcaott488151ott786420:0.074714)mrcaott385229ott488151:0.074714,ott3596024:0.298854)mrcaott188774ott385229:0.074714,(ott488148:0.186784)ott488147:0.186784)mrcaott188774ott488148:6.807838)mrcaott132828ott188774:6.362473,(ott488145:6.771939)ott488144:6.771939)mrcaott132828ott488145:6.362473)mrcaott109882ott132828:15.686407,(ott6151691:17.796379,ott7659697:17.796379,ott7659698:17.796379)ott3596025:17.796379)ott109893:1.000000;',\n",
       "  '((((((((ott75785:0.099890,ott157739:0.099890)mrcaott75785ott157739:0.099890,(ott157735:0.099890,ott188770:0.099890)mrcaott157735ott188770:0.099890)mrcaott75785ott157735:0.365488,ott157745:0.565267)mrcaott75785ott157745:0.654175,(ott963344:0.609721)ott109896:0.609721)mrcaott75785ott963344:2.023776,ott1014142:3.243218)mrcaott75785ott1014142:1.940794,(((ott109884:1.509077,ott658355:1.509077)mrcaott109884ott658355:1.919686,ott157741:3.428763)mrcaott109884ott157741:1.572863,((ott109886:1.639970,ott188772:1.639970)mrcaott109886ott188772:3.179268,(((ott157743:0.071331,ott1024688:0.071331)mrcaott157743ott1024688:0.987781,ott1014136:1.059112)mrcaott157743ott1014136:1.585078,ott712301:2.644190)mrcaott157743ott712301:2.175048)mrcaott109886ott157743:0.182387,ott174442:5.001626,ott1024690:5.001626,ott3596020:5.001626,ott3596021:5.001626,ott3596022:5.001626,ott3596023:5.001626,ott6151696:5.001626,ott6151699:5.001626,ott7659705:5.001626,ott7659706:5.001626,ott7659707:5.001626,ott7659708:5.001626,ott7659709:5.001626,ott7659710:5.001626,ott7659711:5.001626,ott7659712:5.001626)ott109881:0.182387)mrcaott75785ott109884:0.182387,((ott80424:2.081378)ott80423:2.081378,(ott188777:2.959114,ott488154:2.959114,ott7659699:2.959114)ott963343:1.203643)mrcaott80424ott188777:1.203643)mrcaott75785ott80424:30.226358,((((ott109882:0.815191,ott188783:0.815191)mrcaott109882ott188783:1.301095,ott520559:2.116286)mrcaott109882ott520559:1.301095,((((ott188779:0.637518,ott188785:0.637518)mrcaott188779ott188785:0.694966,ott1061401:1.332484)mrcaott188779ott1061401:0.694966,ott488158:2.027449)mrcaott188779ott488158:0.694965,ott188788:2.722414)mrcaott188779ott188788:0.694966,(ott188781:1.708690,ott209805:1.708690)mrcaott188781ott209805:1.708690,ott4947471:3.417380,ott4947474:3.417380,ott6520318:3.417380,ott6520319:3.417380,ott6520320:3.417380)ott109892:17.673285,(((ott132828:5.574708,(ott132829:3.941250,(ott654721:2.307792,ott654723:2.307792)mrcaott654721ott654723:1.633458)mrcaott132829ott654721:1.633458,((ott488156:2.442592,(ott654699:1.673421,ott654722:1.673421)mrcaott654699ott654722:0.769171)mrcaott488156ott654699:1.395388,ott654700:3.837980)mrcaott488156ott654700:1.736728,ott654724:5.574708,ott6151693:5.574708,ott6151694:5.574708,ott7659700:5.574708,ott7659701:5.574708,ott7659702:5.574708,ott7659703:5.574708,ott7659704:5.574708)ott979429:1.145835,(((ott188774:1.026180)ott1014138:1.026180,((ott385229:1.025320,ott571014:1.025320)mrcaott385229ott571014:0.396413,((ott488151:0.473911,ott786422:0.473911)mrcaott488151ott786422:0.473911,ott786420:0.947822)mrcaott488151ott786420:0.473911)mrcaott385229ott488151:0.630627,ott3596024:2.052360)mrcaott188774ott385229:0.556560,(ott488148:1.304460)ott488147:1.304460)mrcaott188774ott488148:4.111623)mrcaott132828ott188774:7.185061,(ott488145:6.952802)ott488144:6.952802)mrcaott132828ott488145:7.185061)mrcaott109882ott132828:14.502094,(ott6151691:17.796379,ott7659697:17.796379,ott7659698:17.796379)ott3596025:17.796379)ott109893:1.000000;',\n",
       "  '((((((((ott75785:0.115202,ott157739:0.115202)mrcaott75785ott157739:0.115202,(ott157735:0.115202,ott188770:0.115202)mrcaott157735ott188770:0.115202)mrcaott75785ott157735:0.115202,ott157745:0.345606)mrcaott75785ott157745:0.087204,(ott963344:0.216405)ott109896:0.216405)mrcaott75785ott963344:0.087204,ott1014142:0.520015)mrcaott75785ott1014142:0.087204,(((ott109884:0.166680,ott658355:0.166680)mrcaott109884ott658355:0.166680,ott157741:0.333361)mrcaott109884ott157741:0.166680,((ott109886:0.196432,ott188772:0.196432)mrcaott109886ott188772:0.196432,(((ott157743:0.071331,ott1024688:0.071331)mrcaott157743ott1024688:0.107178,ott1014136:0.178509)mrcaott157743ott1014136:0.107178,ott712301:0.285686)mrcaott157743ott712301:0.107178)mrcaott109886ott157743:0.107178,ott174442:0.500041,ott1024690:0.500041,ott3596020:0.500041,ott3596021:0.500041,ott3596022:0.500041,ott3596023:0.500041,ott6151696:0.500041,ott6151699:0.500041,ott7659705:0.500041,ott7659706:0.500041,ott7659707:0.500041,ott7659708:0.500041,ott7659709:0.500041,ott7659710:0.500041,ott7659711:0.500041,ott7659712:0.500041)ott109881:0.107178)mrcaott75785ott109884:0.087204,((ott80424:0.231474)ott80423:0.231474,(ott188777:0.231474,ott488154:0.231474,ott7659699:0.231474)ott963343:0.231474)mrcaott80424ott188777:0.231474)mrcaott75785ott80424:34.898335,((((ott109882:0.815191,ott188783:0.815191)mrcaott109882ott188783:1.917767,ott520559:2.732958)mrcaott109882ott520559:1.917767,((((ott188779:0.820381,ott188785:0.820381)mrcaott188779ott188785:2.868708,ott1061401:3.689089)mrcaott188779ott1061401:0.561455,ott488158:4.250544)mrcaott188779ott488158:0.200090,ott188788:4.450634)mrcaott188779ott188788:0.200090,(ott188781:2.325362,ott209805:2.325362)mrcaott188781ott209805:2.325362,ott4947471:4.650725,ott4947474:4.650725,ott6520318:4.650725,ott6520319:4.650725,ott6520320:4.650725)ott109892:13.564682,(((ott132828:5.574708,(ott132829:3.941250,(ott654721:2.307792,ott654723:2.307792)mrcaott654721ott654723:1.633458)mrcaott132829ott654721:1.633458,((ott488156:2.189798,(ott654699:1.382830,ott654722:1.382830)mrcaott654699ott654722:0.806968)mrcaott488156ott654699:2.252535,ott654700:4.442333)mrcaott488156ott654700:1.132375,ott654724:5.574708,ott6151693:5.574708,ott6151694:5.574708,ott7659700:5.574708,ott7659701:5.574708,ott7659702:5.574708,ott7659703:5.574708,ott7659704:5.574708)ott979429:1.145835,(((ott188774:1.369650)ott1014138:1.369650,((ott385229:1.025320,ott571014:1.025320)mrcaott385229ott571014:0.396413,((ott488151:0.960169,ott786422:0.960169)mrcaott488151ott786422:0.230782,ott786420:1.190951)mrcaott488151ott786420:0.230782)mrcaott385229ott488151:1.317567,ott3596024:2.739300)mrcaott188774ott385229:2.940536,(ott488148:2.839918)ott488147:2.839918)mrcaott188774ott488148:1.040707)mrcaott132828ott188774:5.747432,(ott488145:6.233987)ott488144:6.233987)mrcaott132828ott488145:5.747432)mrcaott109882ott132828:17.377352,(ott6151691:17.796379,ott7659697:17.796379,ott7659698:17.796379)ott3596025:17.796379)ott109893:1.000000;',\n",
       "  '((((((((ott75785:0.153364,ott157739:0.153364)mrcaott75785ott157739:0.153364,(ott157735:0.153364,ott188770:0.153364)mrcaott157735ott188770:0.153364)mrcaott75785ott157735:0.153364,ott157745:0.460092)mrcaott75785ott157745:1.974745,(ott963344:1.217419)ott109896:1.217419)mrcaott75785ott963344:0.352438,ott1014142:2.787275)mrcaott75785ott1014142:2.327142,(((ott109884:1.509077,ott658355:1.509077)mrcaott109884ott658355:1.919686,ott157741:3.428763)mrcaott109884ott157741:0.165060,((ott109886:2.025270,ott188772:2.025270)mrcaott109886ott188772:1.093737,(((ott157743:0.071331,ott1024688:0.071331)mrcaott157743ott1024688:2.317938,ott1014136:2.389269)mrcaott157743ott1014136:0.254921,ott712301:2.644190)mrcaott157743ott712301:0.474817)mrcaott109886ott157743:0.474816,ott174442:3.593823,ott1024690:3.593823,ott3596020:3.593823,ott3596021:3.593823,ott3596022:3.593823,ott3596023:3.593823,ott6151696:3.593823,ott6151699:3.593823,ott7659705:3.593823,ott7659706:3.593823,ott7659707:3.593823,ott7659708:3.593823,ott7659709:3.593823,ott7659710:3.593823,ott7659711:3.593823,ott7659712:3.593823)ott109881:1.520595)mrcaott75785ott109884:1.520595,((ott80424:2.321969)ott80423:2.321969,(ott188777:2.652863,ott488154:2.652863,ott7659699:2.652863)ott963343:1.991075)mrcaott80424ott188777:1.991075)mrcaott75785ott80424:28.957747,((((ott109882:0.815191,ott188783:0.815191)mrcaott109882ott188783:3.033853,ott520559:3.849044)mrcaott109882ott520559:3.033853,((((ott188779:0.637518,ott188785:0.637518)mrcaott188779ott188785:3.051571,ott1061401:3.689089)mrcaott188779ott1061401:0.561455,ott488158:4.250544)mrcaott188779ott488158:0.927585,ott188788:5.178129)mrcaott188779ott188788:1.704767,(ott188781:3.441448,ott209805:3.441448)mrcaott188781ott209805:3.441448,ott4947471:6.882896,ott4947474:6.882896,ott6520318:6.882896,ott6520319:6.882896,ott6520320:6.882896)ott109892:13.023455,(((ott132828:3.491672,(ott132829:2.899732,(ott654721:2.307792,ott654723:2.307792)mrcaott654721ott654723:0.591940)mrcaott132829ott654721:0.591940,((ott488156:3.486043,(ott654699:1.312329,ott654722:1.312329)mrcaott654699ott654722:2.173714)mrcaott488156ott654699:0.002815,ott654700:3.488858)mrcaott488156ott654700:0.002815,ott654724:3.491672,ott6151693:3.491672,ott6151694:3.491672,ott7659700:3.491672,ott7659701:3.491672,ott7659702:3.491672,ott7659703:3.491672,ott7659704:3.491672)ott979429:4.276642,(((ott188774:1.531195)ott1014138:1.531195,((ott385229:1.025320,ott571014:1.025320)mrcaott385229ott571014:0.998286,((ott488151:0.338413,ott786422:0.338413)mrcaott488151ott786422:1.261429,ott786420:1.599842)mrcaott488151ott786420:0.423764)mrcaott385229ott488151:1.038784,ott3596024:3.062390)mrcaott188774ott385229:1.038784,(ott488148:2.050587)ott488147:2.050587)mrcaott188774ott488148:3.667140)mrcaott132828ott188774:6.069018,(ott488145:6.918666)ott488144:6.918666)mrcaott132828ott488145:6.069018)mrcaott109882ott132828:15.686407,(ott6151691:17.796379,ott7659697:17.796379,ott7659698:17.796379)ott3596025:17.796379)ott109893:1.000000;'],\n",
       " 'topology_sources': ['pg_2804@tree6511',\n",
       "  'ot_809@tree2',\n",
       "  'ot_425@tree1',\n",
       "  'ot_521@tree1',\n",
       "  'ot_2018@tree8',\n",
       "  'ot_2018@tree9',\n",
       "  'ot_119@tree1',\n",
       "  'ot_120@tree1'],\n",
       " 'date_sources': ['ot_2018@tree8',\n",
       "  'ot_809@tree2',\n",
       "  'ot_425@tree1',\n",
       "  'ot_116@tree5',\n",
       "  'ot_409@tree1',\n",
       "  'ot_2072@tree1',\n",
       "  'ot_809@tree1',\n",
       "  'ot_2170@tree3',\n",
       "  'ot_409@tree2',\n",
       "  'ot_2018@tree9'],\n",
       " 'tar_file_download': 'dates.opentreeoflife.org/v4/dates/download_dates_tar/chrono_out_01_13_2023_04_57_39.tar.gz'}"
      ]
     },
     "execution_count": 21,
     "metadata": {},
     "output_type": "execute_result"
    }
   ],
   "source": [
    "resp_dict"
   ]
  },
  {
   "cell_type": "code",
   "execution_count": 22,
   "id": "d7759386",
   "metadata": {},
   "outputs": [
    {
     "name": "stdout",
     "output_type": "stream",
     "text": [
      "--2023-01-12 22:57:40--  http://dates.opentreeoflife.org/v4/dates/download_dates_tar/chrono_out_01_13_2023_04_47_14.tar.gz\n",
      "Resolving dates.opentreeoflife.org (dates.opentreeoflife.org)... 34.216.116.212\n",
      "Connecting to dates.opentreeoflife.org (dates.opentreeoflife.org)|34.216.116.212|:80... connected.\n",
      "HTTP request sent, awaiting response... 301 Moved Permanently\n",
      "Location: https://dates.opentreeoflife.org/v4/dates/download_dates_tar/chrono_out_01_13_2023_04_47_14.tar.gz [following]\n",
      "--2023-01-12 22:57:40--  https://dates.opentreeoflife.org/v4/dates/download_dates_tar/chrono_out_01_13_2023_04_47_14.tar.gz\n",
      "Connecting to dates.opentreeoflife.org (dates.opentreeoflife.org)|34.216.116.212|:443... connected.\n",
      "HTTP request sent, awaiting response... 200 OK\n",
      "Length: 2144 (2.1K) [application/gzip]\n",
      "Saving to: ‘chrono_out_01_13_2023_04_47_14.tar.gz.1’\n",
      "\n",
      "chrono_out_01_13_20 100%[===================>]   2.09K  --.-KB/s    in 0s      \n",
      "\n",
      "2023-01-12 22:57:40 (22.8 MB/s) - ‘chrono_out_01_13_2023_04_47_14.tar.gz.1’ saved [2144/2144]\n",
      "\n"
     ]
    }
   ],
   "source": [
    "!wget 'dates.opentreeoflife.org/v4/dates/download_dates_tar/chrono_out_01_13_2023_04_47_14.tar.gz'"
   ]
  },
  {
   "cell_type": "code",
   "execution_count": null,
   "id": "2c15b88f",
   "metadata": {},
   "outputs": [],
   "source": []
  }
 ],
 "metadata": {
  "kernelspec": {
   "display_name": "opentree",
   "language": "python",
   "name": "opentree"
  },
  "language_info": {
   "codemirror_mode": {
    "name": "ipython",
    "version": 3
   },
   "file_extension": ".py",
   "mimetype": "text/x-python",
   "name": "python",
   "nbconvert_exporter": "python",
   "pygments_lexer": "ipython3",
   "version": "3.10.6"
  }
 },
 "nbformat": 4,
 "nbformat_minor": 5
}
