{
 "cells": [
  {
   "cell_type": "markdown",
   "id": "22521161",
   "metadata": {},
   "source": [
    "## Getting a dated synthesis tree for an arbitrary set of taxa"
   ]
  },
  {
   "cell_type": "markdown",
   "id": "2413cb33",
   "metadata": {},
   "source": [
    "## Standardizing query taxon names\n",
    "\n",
    "One of the key challenges of comparing trees across studies is differences in taxon names because of spelling or taxonomic idiosincracies.\n",
    "\n",
    "A solution to this, is mapping taxon names to unique identifiers using the Open Tree Taxonomic Name Resolution Service (TNRS). There are a few options to use this service including via the API, or the browser based bulk name mapping.\n",
    "\n",
    "### Open Tree TNRS bulk name mapping tool.\n",
    "\n",
    "Access this tool at https://tree.opentreeoflife.org/curator/tnrs/\n",
    "\n",
    "This is a new beta-version of this functionality, so some parts are a bit finicky.\n",
    "\n",
    "*Try this*\n",
    "  * Click on \"Add names...\" (second button at the top of the menu on the left), and upload the names file `drosophila_example`. The \"loading file\" window will not close by itself, click the (X).\n",
    "  * In the \"Mapping options\" section (bottom of the menu to the left):\n",
    "    - select 'Insects' to narrow down the possibilities and speed up mapping\n",
    "  * Click \"Map selected names\" (middle of the menu to the left).\n",
    "  * Exact matches will show up in green, and can be accepted by clicking \"accept exact matches\".\n",
    "  * Once you have accepted names for each of the taxa, click \"Save nameset...\", download it to your laptop, and extract (unzip) the files. You can take a look at the human readable version of the output at `output/main.csv`. `main.json` contains the the same data in a more computer readable format.\n",
    "  * Finally, transfer the `main.csv` file to your working folder, so you can use it to get the tree for your taxa.\n",
    "\n",
    "*Make sure your mappings were saved! If you do not **accept** matches (by clicking buttons), they do not download.*\n"
   ]
  },
  {
   "cell_type": "code",
   "execution_count": 121,
   "id": "d81eefb6",
   "metadata": {},
   "outputs": [],
   "source": [
    "import requests\n",
    "import json\n",
    "import sys\n",
    "import dendropy\n",
    "import csv\n",
    "from opentree import OT\n"
   ]
  },
  {
   "cell_type": "code",
   "execution_count": 128,
   "id": "da2cb994",
   "metadata": {},
   "outputs": [],
   "source": [
    "mapped_names = \"../drosophila_example/drosophila_main.csv\"\n",
    "\n",
    "\n",
    "## uses the csv to create a dictionary with OTTids as keys, and the label you input as values\n",
    "with open(mapped_names) as fp:\n",
    "    reader = csv.reader(fp, delimiter=\",\", quotechar='\"')\n",
    "    next(reader, None)  # skip the headers\n",
    "    label_dict = {'ott'+row[2]:row[0] for row in reader}\n",
    "\n",
    "    \n",
    "## Node ids contains the list of tip ids you want in your final tree\n",
    "node_ids = [key for key in label_dict]\n"
   ]
  },
  {
   "cell_type": "markdown",
   "id": "317bca0f",
   "metadata": {},
   "source": [
    "## Dated trees\n",
    "To estimate dates, we will use the Chronosynth API. \n",
    "The dates API is work-in-progress, and so it is not yet as user friendly as it will be. \n",
    "\n",
    "A summary of the methods is here: https://github.com/OpenTreeOfLife/chronosynth/wiki/Chronosynth-methods-overview  \n",
    "There are some API docs here: https://github.com/OpenTreeOfLife/chronosynth/wiki/Draft-API-docs"
   ]
  },
  {
   "cell_type": "markdown",
   "id": "761f3c52",
   "metadata": {},
   "source": [
    "Using the dates API we can get dates that align to for individual nodes in the synth tree. \n",
    "This is based on the same information you saw in the conflict viewer.  \n",
    "You can you a CURL call to GET the current information for dates for a node."
   ]
  },
  {
   "cell_type": "code",
   "execution_count": 160,
   "id": "2dbea87a",
   "metadata": {},
   "outputs": [
    {
     "name": "stdout",
     "output_type": "stream",
     "text": [
      "  % Total    % Received % Xferd  Average Speed   Time    Time     Time  Current\n",
      "                                 Dload  Upload   Total   Spent    Left  Speed\n",
      "100   860  100   860    0     0    794      0  0:00:01  0:00:01 --:--:--   795\n",
      "\u001b[1;39m{\n",
      "  \u001b[0m\u001b[34;1m\"query\"\u001b[0m\u001b[1;39m: \u001b[0m\u001b[0;32m\"ott109893\"\u001b[0m\u001b[1;39m,\n",
      "  \u001b[0m\u001b[34;1m\"synth_node_id\"\u001b[0m\u001b[1;39m: \u001b[0m\u001b[0;32m\"ott109893\"\u001b[0m\u001b[1;39m,\n",
      "  \u001b[0m\u001b[34;1m\"ot:source_node_ages\"\u001b[0m\u001b[1;39m: \u001b[0m\u001b[1;39m[\n",
      "    \u001b[1;39m{\n",
      "      \u001b[0m\u001b[34;1m\"age\"\u001b[0m\u001b[1;39m: \u001b[0m\u001b[0;39m1.331418\u001b[0m\u001b[1;39m,\n",
      "      \u001b[0m\u001b[34;1m\"source_id\"\u001b[0m\u001b[1;39m: \u001b[0m\u001b[0;32m\"ot_2072@tree1\"\u001b[0m\u001b[1;39m,\n",
      "      \u001b[0m\u001b[34;1m\"source_node\"\u001b[0m\u001b[1;39m: \u001b[0m\u001b[0;32m\"node24\"\u001b[0m\u001b[1;39m\n",
      "    \u001b[1;39m}\u001b[0m\u001b[1;39m,\n",
      "    \u001b[1;39m{\n",
      "      \u001b[0m\u001b[34;1m\"age\"\u001b[0m\u001b[1;39m: \u001b[0m\u001b[0;39m25.913621\u001b[0m\u001b[1;39m,\n",
      "      \u001b[0m\u001b[34;1m\"source_id\"\u001b[0m\u001b[1;39m: \u001b[0m\u001b[0;32m\"ot_2018@tree8\"\u001b[0m\u001b[1;39m,\n",
      "      \u001b[0m\u001b[34;1m\"source_node\"\u001b[0m\u001b[1;39m: \u001b[0m\u001b[0;32m\"node109\"\u001b[0m\u001b[1;39m\n",
      "    \u001b[1;39m}\u001b[0m\u001b[1;39m,\n",
      "    \u001b[1;39m{\n",
      "      \u001b[0m\u001b[34;1m\"age\"\u001b[0m\u001b[1;39m: \u001b[0m\u001b[0;39m11.822624999999999\u001b[0m\u001b[1;39m,\n",
      "      \u001b[0m\u001b[34;1m\"source_id\"\u001b[0m\u001b[1;39m: \u001b[0m\u001b[0;32m\"ot_809@tree2\"\u001b[0m\u001b[1;39m,\n",
      "      \u001b[0m\u001b[34;1m\"source_node\"\u001b[0m\u001b[1;39m: \u001b[0m\u001b[0;32m\"node13685\"\u001b[0m\u001b[1;39m\n",
      "    \u001b[1;39m}\u001b[0m\u001b[1;39m,\n",
      "    \u001b[1;39m{\n",
      "      \u001b[0m\u001b[34;1m\"age\"\u001b[0m\u001b[1;39m: \u001b[0m\u001b[0;39m28.474208\u001b[0m\u001b[1;39m,\n",
      "      \u001b[0m\u001b[34;1m\"source_id\"\u001b[0m\u001b[1;39m: \u001b[0m\u001b[0;32m\"ot_409@tree2\"\u001b[0m\u001b[1;39m,\n",
      "      \u001b[0m\u001b[34;1m\"source_node\"\u001b[0m\u001b[1;39m: \u001b[0m\u001b[0;32m\"node61812\"\u001b[0m\u001b[1;39m\n",
      "    \u001b[1;39m}\u001b[0m\u001b[1;39m,\n",
      "    \u001b[1;39m{\n",
      "      \u001b[0m\u001b[34;1m\"age\"\u001b[0m\u001b[1;39m: \u001b[0m\u001b[0;39m28.303778\u001b[0m\u001b[1;39m,\n",
      "      \u001b[0m\u001b[34;1m\"source_id\"\u001b[0m\u001b[1;39m: \u001b[0m\u001b[0;32m\"ot_409@tree1\"\u001b[0m\u001b[1;39m,\n",
      "      \u001b[0m\u001b[34;1m\"source_node\"\u001b[0m\u001b[1;39m: \u001b[0m\u001b[0;32m\"node19094\"\u001b[0m\u001b[1;39m\n",
      "    \u001b[1;39m}\u001b[0m\u001b[1;39m,\n",
      "    \u001b[1;39m{\n",
      "      \u001b[0m\u001b[34;1m\"age\"\u001b[0m\u001b[1;39m: \u001b[0m\u001b[0;39m13.074385\u001b[0m\u001b[1;39m,\n",
      "      \u001b[0m\u001b[34;1m\"source_id\"\u001b[0m\u001b[1;39m: \u001b[0m\u001b[0;32m\"ot_2170@tree3\"\u001b[0m\u001b[1;39m,\n",
      "      \u001b[0m\u001b[34;1m\"source_node\"\u001b[0m\u001b[1;39m: \u001b[0m\u001b[0;32m\"node234\"\u001b[0m\u001b[1;39m\n",
      "    \u001b[1;39m}\u001b[0m\u001b[1;39m,\n",
      "    \u001b[1;39m{\n",
      "      \u001b[0m\u001b[34;1m\"age\"\u001b[0m\u001b[1;39m: \u001b[0m\u001b[0;39m13.18745\u001b[0m\u001b[1;39m,\n",
      "      \u001b[0m\u001b[34;1m\"source_id\"\u001b[0m\u001b[1;39m: \u001b[0m\u001b[0;32m\"ot_809@tree1\"\u001b[0m\u001b[1;39m,\n",
      "      \u001b[0m\u001b[34;1m\"source_node\"\u001b[0m\u001b[1;39m: \u001b[0m\u001b[0;32m\"node373\"\u001b[0m\u001b[1;39m\n",
      "    \u001b[1;39m}\u001b[0m\u001b[1;39m,\n",
      "    \u001b[1;39m{\n",
      "      \u001b[0m\u001b[34;1m\"age\"\u001b[0m\u001b[1;39m: \u001b[0m\u001b[0;39m7.366649\u001b[0m\u001b[1;39m,\n",
      "      \u001b[0m\u001b[34;1m\"source_id\"\u001b[0m\u001b[1;39m: \u001b[0m\u001b[0;32m\"ot_116@tree5\"\u001b[0m\u001b[1;39m,\n",
      "      \u001b[0m\u001b[34;1m\"source_node\"\u001b[0m\u001b[1;39m: \u001b[0m\u001b[0;32m\"node867\"\u001b[0m\u001b[1;39m\n",
      "    \u001b[1;39m}\u001b[0m\u001b[1;39m,\n",
      "    \u001b[1;39m{\n",
      "      \u001b[0m\u001b[34;1m\"age\"\u001b[0m\u001b[1;39m: \u001b[0m\u001b[0;39m21.350655000000003\u001b[0m\u001b[1;39m,\n",
      "      \u001b[0m\u001b[34;1m\"source_id\"\u001b[0m\u001b[1;39m: \u001b[0m\u001b[0;32m\"ot_425@tree1\"\u001b[0m\u001b[1;39m,\n",
      "      \u001b[0m\u001b[34;1m\"source_node\"\u001b[0m\u001b[1;39m: \u001b[0m\u001b[0;32m\"node40\"\u001b[0m\u001b[1;39m\n",
      "    \u001b[1;39m}\u001b[0m\u001b[1;39m,\n",
      "    \u001b[1;39m{\n",
      "      \u001b[0m\u001b[34;1m\"age\"\u001b[0m\u001b[1;39m: \u001b[0m\u001b[0;39m22.433097000000004\u001b[0m\u001b[1;39m,\n",
      "      \u001b[0m\u001b[34;1m\"source_id\"\u001b[0m\u001b[1;39m: \u001b[0m\u001b[0;32m\"ot_2018@tree9\"\u001b[0m\u001b[1;39m,\n",
      "      \u001b[0m\u001b[34;1m\"source_node\"\u001b[0m\u001b[1;39m: \u001b[0m\u001b[0;32m\"node1412\"\u001b[0m\u001b[1;39m\n",
      "    \u001b[1;39m}\u001b[0m\u001b[1;39m\n",
      "  \u001b[1;39m]\u001b[0m\u001b[1;39m\n",
      "\u001b[1;39m}\u001b[0m\n"
     ]
    }
   ],
   "source": [
    "!curl -X GET https://dates.opentreeoflife.org/v4/dates/synth_node_age/ott109893 | jq"
   ]
  },
  {
   "cell_type": "markdown",
   "id": "d02d7a1f",
   "metadata": {},
   "source": [
    "To look at the node itself, you can navigate to \n",
    "\"https://tree.opentreeoflife.org/curator/study/view/{STUDY ID}?tab=home&tree={TREE ID}&node={NODE_ID}\"  \n",
    "e.g. https://tree.opentreeoflife.org/curator/study/view/ot_2018?tab=home&tree=tree9&node=node1412  "
   ]
  },
  {
   "cell_type": "code",
   "execution_count": 164,
   "id": "7c2b890d",
   "metadata": {},
   "outputs": [
    {
     "name": "stdout",
     "output_type": "stream",
     "text": [
      "  % Total    % Received % Xferd  Average Speed   Time    Time     Time  Current\n",
      "                                 Dload  Upload   Total   Spent    Left  Speed\n",
      "100   184  100   184    0     0    211      0 --:--:-- --:--:-- --:--:--   211\n",
      "\u001b[1;39m{\n",
      "  \u001b[0m\u001b[34;1m\"query\"\u001b[0m\u001b[1;39m: \u001b[0m\u001b[0;32m\"mrcaott1000311ott3643727\"\u001b[0m\u001b[1;39m,\n",
      "  \u001b[0m\u001b[34;1m\"synth_node_id\"\u001b[0m\u001b[1;39m: \u001b[0m\u001b[0;32m\"mrcaott1000311ott3643727\"\u001b[0m\u001b[1;39m,\n",
      "  \u001b[0m\u001b[34;1m\"ot:source_node_ages\"\u001b[0m\u001b[1;39m: \u001b[0m\u001b[1;39m[\n",
      "    \u001b[1;39m{\n",
      "      \u001b[0m\u001b[34;1m\"age\"\u001b[0m\u001b[1;39m: \u001b[0m\u001b[0;39m9.325001\u001b[0m\u001b[1;39m,\n",
      "      \u001b[0m\u001b[34;1m\"source_id\"\u001b[0m\u001b[1;39m: \u001b[0m\u001b[0;32m\"ot_1592@tree1\"\u001b[0m\u001b[1;39m,\n",
      "      \u001b[0m\u001b[34;1m\"source_node\"\u001b[0m\u001b[1;39m: \u001b[0m\u001b[0;32m\"node22956\"\u001b[0m\u001b[1;39m\n",
      "    \u001b[1;39m}\u001b[0m\u001b[1;39m\n",
      "  \u001b[1;39m]\u001b[0m\u001b[1;39m\n",
      "\u001b[1;39m}\u001b[0m\n"
     ]
    }
   ],
   "source": [
    "## You can also get dates for arbitrary nodes in the synth tree, which are not associated with taxa.\n",
    "!curl -X GET https://dates.opentreeoflife.org/v4/dates/synth_node_age/mrcaott1000311ott3643727 | jq"
   ]
  },
  {
   "cell_type": "markdown",
   "id": "30df584e",
   "metadata": {},
   "source": [
    "This node https://tree.opentreeoflife.org/opentree/argus/opentree13.4@mrcaott1000311ott3643727 in the synthetic tree aligns with this node in this dated tree https://tree.opentreeoflife.org/curator/study/view/ot_1592?tab=home&tree=tree1&node=node22956"
   ]
  },
  {
   "cell_type": "markdown",
   "id": "dd2e2887",
   "metadata": {},
   "source": [
    "## Summarizing dates  for a set of taxa\n",
    "You can use these dates individually, or use the API to get the dates across nodes in a tree, and then smooth the nodes in between"
   ]
  },
  {
   "cell_type": "markdown",
   "id": "cde75107",
   "metadata": {},
   "source": [
    "The approach in these examples uses rate smoothing, via bladj https://phylodiversity.net/phylocom/  \n",
    "These approaches are rough, and there is NO infomation for many nodes, so be cautious!\n",
    "### To run bladj we need a max age estimate for the root of the tree."
   ]
  },
  {
   "cell_type": "code",
   "execution_count": 130,
   "id": "8d285d18",
   "metadata": {},
   "outputs": [
    {
     "name": "stderr",
     "output_type": "stream",
     "text": [
      "\n",
      "Unknown/unrecognized query ids (skipped):\n",
      " ott361374\n",
      "ott4418979 \n"
     ]
    },
    {
     "name": "stdout",
     "output_type": "stream",
     "text": [
      "{\n",
      "    \"node_id\": \"ott34905\",\n",
      "    \"num_tips\": 4554,\n",
      "    \"supported_by\": {\n",
      "        \"ott3.3draft1\": \"ott34905\"\n",
      "    },\n",
      "    \"taxon\": {\n",
      "        \"name\": \"Drosophilidae\",\n",
      "        \"ott_id\": 34905,\n",
      "        \"rank\": \"family\",\n",
      "        \"tax_sources\": [\n",
      "            \"ncbi:7214\",\n",
      "            \"worms:987176\",\n",
      "            \"gbif:5547\",\n",
      "            \"irmng:100842\"\n",
      "        ],\n",
      "        \"unique_name\": \"Drosophilidae\"\n",
      "    },\n",
      "    \"terminal\": {\n",
      "        \"ot_1046@tree1\": \"node28\",\n",
      "        \"ot_1047@tree1\": \"node63\",\n",
      "        \"pg_1337@tree6167\": \"node1053390\",\n",
      "        \"pg_2594@tree6014\": \"node1021794\",\n",
      "        \"pg_2710@tree6291\": \"node1094072\",\n",
      "        \"pg_2822@tree6569\": \"node1141999\",\n",
      "        \"pg_437@tree6242\": \"node1081938\"\n",
      "    },\n",
      "    \"was_constrained\": true,\n",
      "    \"was_uncontested\": true\n",
      "}\n"
     ]
    }
   ],
   "source": [
    "## Get the synth tree MRCA of the taxa of interest, so we know the root of our tree\n",
    "output = OT.synth_mrca(node_ids=node_ids)\n",
    "print(json.dumps(output.response_dict['mrca'], indent=4))\n"
   ]
  },
  {
   "cell_type": "code",
   "execution_count": 131,
   "id": "0bf96a0c",
   "metadata": {},
   "outputs": [
    {
     "name": "stdout",
     "output_type": "stream",
     "text": [
      "  % Total    % Received % Xferd  Average Speed   Time    Time     Time  Current\n",
      "                                 Dload  Upload   Total   Spent    Left  Speed\n",
      "100    79  100    79    0     0     38      0  0:00:02  0:00:02 --:--:--    38\n",
      "\u001b[1;39m{\n",
      "  \u001b[0m\u001b[34;1m\"query\"\u001b[0m\u001b[1;39m: \u001b[0m\u001b[0;32m\"ott34905\"\u001b[0m\u001b[1;39m,\n",
      "  \u001b[0m\u001b[34;1m\"synth_node_id\"\u001b[0m\u001b[1;39m: \u001b[0m\u001b[0;32m\"ott34905\"\u001b[0m\u001b[1;39m,\n",
      "  \u001b[0m\u001b[34;1m\"ot:source_node_ages\"\u001b[0m\u001b[1;39m: \u001b[0m\u001b[1;30mnull\u001b[0m\u001b[1;39m\n",
      "\u001b[1;39m}\u001b[0m\n"
     ]
    }
   ],
   "source": [
    "!curl -X GET https://dates.opentreeoflife.org/v4/dates/synth_node_age/ott34905 | jq"
   ]
  },
  {
   "cell_type": "code",
   "execution_count": 165,
   "id": "7c259fff",
   "metadata": {},
   "outputs": [
    {
     "data": {
      "text/plain": [
       "{'query': 'ott34905', 'synth_node_id': 'ott34905', 'ot:source_node_ages': None}"
      ]
     },
     "execution_count": 165,
     "metadata": {},
     "output_type": "execute_result"
    }
   ],
   "source": [
    "## You can also get node dates for a node in python, ucing the 'requests' module\n",
    "datesurl     = 'https://dates.opentreeoflife.org/v4/dates/synth_node_age/{}'.format(output.response_dict['mrca']['node_id'])\n",
    "resp = requests.get(datesurl)\n",
    "resp.json()"
   ]
  },
  {
   "cell_type": "markdown",
   "id": "f988cd5d",
   "metadata": {},
   "source": [
    "We do not have an age for this node in the database, so we need to use external information.  \n",
    "We will use 50 Million years for the age of drosophilidae, based on https://www.sciencedirect.com/topics/agricultural-and-biological-sciences/drosophilidae"
   ]
  },
  {
   "cell_type": "code",
   "execution_count": 168,
   "id": "40f8c0b9",
   "metadata": {},
   "outputs": [],
   "source": [
    "## Get Dated synth tree\n",
    "# datesurl     = 'https://dates.opentreeoflife.org/v4/dates/dated_tree'\n",
    "url =  'http://127.0.0.1:1983/v4/dates/dated_tree'\n",
    "\n",
    "payload = { \"node_ids\" : node_ids,\n",
    "            \"max_age\": max_age}\n",
    "\n",
    "max_age = 50\n",
    "resp = requests.post(url=url, data=json.dumps(payload))\n",
    "resp_dict = resp.json()\n",
    "\n"
   ]
  },
  {
   "cell_type": "markdown",
   "id": "eb2b3cb2",
   "metadata": {},
   "source": [
    "This returns a response object, "
   ]
  },
  {
   "cell_type": "code",
   "execution_count": 170,
   "id": "072f2245",
   "metadata": {},
   "outputs": [
    {
     "data": {
      "text/plain": [
       "dict_keys(['dated_trees_newick_list', 'topology_sources', 'date_sources', 'tar_file_download'])"
      ]
     },
     "execution_count": 170,
     "metadata": {},
     "output_type": "execute_result"
    }
   ],
   "source": [
    "resp_dict.keys()"
   ]
  },
  {
   "cell_type": "code",
   "execution_count": 177,
   "id": "71feffba",
   "metadata": {},
   "outputs": [],
   "source": [
    "dated_tree = dendropy.Tree.get(data=resp_dict['dated_trees_newick_list'][0], schema=\"newick\")\n",
    "dated_tree.write(path=\"ottid_dated_tree.tre\", schema='newick')\n"
   ]
  },
  {
   "cell_type": "code",
   "execution_count": 171,
   "id": "66a63183",
   "metadata": {},
   "outputs": [
    {
     "data": {
      "text/plain": [
       "'dates.opentreeoflife.org/v4/dates/download_dates_tar/chrono_out_01_12_2023_07_28_37.tar.gz'"
      ]
     },
     "execution_count": 171,
     "metadata": {},
     "output_type": "execute_result"
    }
   ],
   "source": [
    "resp_dict['tar_file_download']"
   ]
  },
  {
   "cell_type": "code",
   "execution_count": 174,
   "id": "f86e54cc",
   "metadata": {},
   "outputs": [
    {
     "name": "stdout",
     "output_type": "stream",
     "text": [
      "--2023-01-12 07:30:23--  http://127.0.0.1:1983/v4/dates/download_dates_tar/chrono_out_01_12_2023_07_28_37.tar.gz\r\n",
      "Connecting to 127.0.0.1:1983... connected.\r\n",
      "HTTP request sent, awaiting response... 200 OK\r\n",
      "Length: 5078 (5.0K) [application/gzip]\r\n",
      "Saving to: ‘chrono_out_01_12_2023_07_28_37.tar.gz’\r\n",
      "\r\n",
      "\r",
      "          chrono_ou   0%[                    ]       0  --.-KB/s               \r",
      "chrono_out_01_12_20 100%[===================>]   4.96K  --.-KB/s    in 0s      \r\n",
      "\r\n",
      "2023-01-12 07:30:23 (409 MB/s) - ‘chrono_out_01_12_2023_07_28_37.tar.gz’ saved [5078/5078]\r\n",
      "\r\n"
     ]
    }
   ],
   "source": [
    "## To get the full set of ages, \n",
    "! wget http://127.0.0.1:1983/v4/dates/download_dates_tar/chrono_out_01_12_2023_07_28_37.tar.gz\n"
   ]
  },
  {
   "cell_type": "markdown",
   "id": "6d6ec7d7",
   "metadata": {},
   "source": [
    "### Evaluate your confidence in your tree.\n",
    "How many nodes are in your tree? How many do you have date estimates for?"
   ]
  },
  {
   "cell_type": "markdown",
   "id": "76746fe1",
   "metadata": {},
   "source": [
    "## We can also compare nodes in our custom synth tree to dated trees, and use them to infer dates for those nodes."
   ]
  },
  {
   "cell_type": "code",
   "execution_count": 116,
   "id": "a8ba3593",
   "metadata": {},
   "outputs": [],
   "source": [
    "## Read in your custom synth tree\n",
    "\n",
    "import dendropy\n",
    "custom_synth_dir = \"snacktavish_dros_34905_tmp5exp6dql\"\n",
    "treepath = \"{}/labelled_supertree/labelled_supertree.tre\".format(custom_synth_dir)\n",
    "custom_synth = dendropy.Tree.get_from_path(treepath, schema = \"newick\")\n"
   ]
  },
  {
   "cell_type": "code",
   "execution_count": 117,
   "id": "a3f06e62",
   "metadata": {},
   "outputs": [
    {
     "name": "stdout",
     "output_type": "stream",
     "text": [
      "ott1082279\n",
      "Drosophila mojavensis\n",
      "ott138603\n",
      "Drosophila mercatorum\n",
      "ott534107\n",
      "Drosophila americana\n",
      "ott287233\n",
      "Drosophila sulfurigaster\n",
      "ott245830\n",
      "Drosophila nasuta\n",
      "ott1082272\n",
      "Drosophila pseudoobscura\n",
      "ott616768\n",
      "Drosophila paulistorum\n",
      "ott616777\n",
      "Drosophila tropicalis\n",
      "ott505710\n",
      "Scaptodrosophila lebanonensis\n",
      "Total number of tips in synth tree after collapsing queries with lower level taxa is 5396\n",
      "\n"
     ]
    }
   ],
   "source": [
    "#Sometimes there are subspecies, when your query is actually species.\n",
    "collapsed_tax = []\n",
    "for node in custom_synth:\n",
    "    if not node.is_leaf():\n",
    "        if node.label in label_dict:\n",
    "            print(node.label)\n",
    "            print(label_dict[node.label])\n",
    "            collapsed_tax.append(node.label)\n",
    "            node.clear_child_nodes()\n",
    "            node.taxon = custom_synth.taxon_namespace.new_taxon(label=node.label)\n",
    "\n",
    "\n",
    "leaves_A = [tip.taxon.label for tip in custom_synth.leaf_node_iter()]\n",
    "print(\"Total number of tips in synth tree after collapsing queries with lower level taxa is {}\\n\".format(len(leaves_A)))\n"
   ]
  },
  {
   "cell_type": "code",
   "execution_count": 180,
   "id": "ec23670d",
   "metadata": {},
   "outputs": [],
   "source": [
    "taxa_to_retain = list(label_dict.keys())\n",
    "custom_synth.retain_taxa_with_labels(taxa_to_retain)"
   ]
  },
  {
   "cell_type": "code",
   "execution_count": 119,
   "id": "2174322a",
   "metadata": {},
   "outputs": [],
   "source": [
    "leaves_B = [tip.taxon.label for tip in custom_synth.leaf_node_iter()]"
   ]
  },
  {
   "cell_type": "code",
   "execution_count": 178,
   "id": "fec449df",
   "metadata": {},
   "outputs": [],
   "source": [
    "\n",
    "## Get Dated synth tree\n",
    "#datesurl     = 'https://dates.opentreeoflife.org/v4/dates/dated_tree'\n",
    "url =  'http://127.0.0.1:1983/v4/dates/dated_tree'\n",
    "\n",
    "payload = { \"newick\" : custom_synth.as_string(schema=\"newick\"),\n",
    "            \"max_age\": max_age}\n",
    "max_age = 50\n",
    "resp = requests.post(url=url, data=json.dumps(payload))\n",
    "resp_dict = json.loads(resp.content.decode())\n",
    "\n",
    "if resp.status_code != 200:\n",
    "    sys.stderr.write(resp.content.decode())\n",
    "    sys.exit()\n",
    "\n",
    "\n",
    "dated_tree = dendropy.Tree.get(data=resp_dict['dated_trees_newick_list'][0], schema=\"newick\")\n",
    "#dated_tree.write(path=output_dir+\"/ottid_dated_tree.tre\", schema='newick')"
   ]
  },
  {
   "cell_type": "code",
   "execution_count": 179,
   "id": "08a2ca24",
   "metadata": {},
   "outputs": [
    {
     "data": {
      "text/plain": [
       "dict_keys(['dated_trees_newick_list', 'topology_sources', 'date_sources', 'tar_file_download'])"
      ]
     },
     "execution_count": 179,
     "metadata": {},
     "output_type": "execute_result"
    }
   ],
   "source": [
    "resp_dict.keys()"
   ]
  },
  {
   "cell_type": "markdown",
   "id": "08becd19",
   "metadata": {},
   "source": [
    "### Assessing uncertainty"
   ]
  },
  {
   "cell_type": "markdown",
   "id": "a7ea0c39",
   "metadata": {},
   "source": [
    "Lets choose a part of the synth tree where we have lot of data!  \n",
    "https://tree.opentreeoflife.org/opentree/opentree13.4@ott109893/Cracidae  \n",
    "We can estimate a dated tree for Cracidae"
   ]
  },
  {
   "cell_type": "code",
   "execution_count": 187,
   "id": "29ae29fa",
   "metadata": {},
   "outputs": [],
   "source": [
    "## Get Dated synth tree\n",
    "url     = 'https://dates.opentreeoflife.org/v4/dates/dated_tree'\n",
    "#url =  'http://127.0.0.1:1983/v4/dates/dated_tree'\n",
    "\n",
    "payload = { \"node_id\" : 'ott109893',\n",
    "            \"reps\" : 5}\n",
    "\n",
    "resp = requests.post(url=url, data=json.dumps(payload))\n",
    "resp_dict = resp.json()\n"
   ]
  },
  {
   "cell_type": "code",
   "execution_count": 188,
   "id": "4c3cbc0c",
   "metadata": {},
   "outputs": [
    {
     "data": {
      "text/plain": [
       "{'dated_trees_newick_list': ['((((((((ott75785:0.224579,ott157739:0.224579)mrcaott75785ott157739:0.224579,(ott157735:0.224579,ott188770:0.224579)mrcaott157735ott188770:0.224579)mrcaott75785ott157735:0.350996,ott157745:0.800154)mrcaott75785ott157745:0.782351,(ott963344:0.791253)ott109896:0.791253)mrcaott75785ott963344:0.445519,ott1014142:2.028024)mrcaott75785ott1014142:3.635540,(((ott109884:1.509077,ott658355:1.509077)mrcaott109884ott658355:1.919686,ott157741:3.428763)mrcaott109884ott157741:0.806121,((ott109886:2.159300,ott188772:2.159300)mrcaott109886ott188772:1.350991,(((ott157743:0.566530,ott1024688:0.566530)mrcaott157743ott1024688:0.855687,ott1014136:1.422217)mrcaott157743ott1014136:1.363479,ott712301:2.785697)mrcaott157743ott712301:0.724594)mrcaott109886ott157743:0.724594,ott174442:4.234884,ott1024690:4.234884,ott3596020:4.234884,ott3596021:4.234884,ott3596022:4.234884,ott3596023:4.234884,ott6151696:4.234884,ott6151699:4.234884,ott7659705:4.234884,ott7659706:4.234884,ott7659707:4.234884,ott7659708:4.234884,ott7659709:4.234884,ott7659710:4.234884,ott7659711:4.234884,ott7659712:4.234884)ott109881:1.428680)mrcaott75785ott109884:2.867935,((ott80424:2.825881)ott80423:2.825881,(ott188777:2.772025,ott488154:2.772025,ott7659699:2.772025)ott963343:2.879737)mrcaott80424ott188777:2.879737)mrcaott75785ott80424:27.061260,((((ott109882:0.823341,ott188783:0.823341)mrcaott109882ott188783:1.999690,ott520559:2.823031)mrcaott109882ott520559:1.999690,((((ott188779:0.681554,ott188785:0.681554)mrcaott188779ott188785:3.007535,ott1061401:3.689089)mrcaott188779ott1061401:0.561455,ott488158:4.250544)mrcaott188779ott488158:0.286088,ott188788:4.536633)mrcaott188779ott188788:0.286088,(ott188781:2.411360,ott209805:2.411360)mrcaott188781ott209805:2.411360,ott4947471:4.822721,ott4947474:4.822721,ott6520318:4.822721,ott6520319:4.822721,ott6520320:4.822721)ott109892:9.846899,(((ott132828:3.746479,(ott132829:3.490878,(ott654721:3.235276,ott654723:3.235276)mrcaott654721ott654723:0.255601)mrcaott132829ott654721:0.255601,((ott488156:2.706144,(ott654699:1.282254,ott654722:1.282254)mrcaott654699ott654722:1.423890)mrcaott488156ott654699:0.293933,ott654700:3.000077)mrcaott488156ott654700:0.746402,ott654724:3.746479,ott6151693:3.746479,ott6151694:3.746479,ott7659700:3.746479,ott7659701:3.746479,ott7659702:3.746479,ott7659703:3.746479,ott7659704:3.746479)ott979429:1.569308,(((ott188774:2.203318)ott1014138:2.203318,((ott385229:1.025320,ott571014:1.025320)mrcaott385229ott571014:1.568025,((ott488151:1.018510,ott786422:1.018510)mrcaott488151ott786422:0.526794,ott786420:1.545303)mrcaott488151ott786420:1.048042)mrcaott385229ott488151:1.813291,ott3596024:4.406636)mrcaott188774ott385229:0.191940,(ott488148:2.299288)ott488147:2.299288)mrcaott188774ott488148:0.717211)mrcaott132828ott188774:4.676916,(ott488145:4.996352)ott488144:4.996352)mrcaott132828ott488145:4.676916)mrcaott109882ott132828:20.923138,(ott6151691:17.796379,ott7659697:17.796379,ott7659698:17.796379)ott3596025:17.796379)ott109893:1.000000;',\n",
       "  '((((((((ott75785:0.224579,ott157739:0.224579)mrcaott75785ott157739:0.224579,(ott157735:0.224579,ott188770:0.224579)mrcaott157735ott188770:0.224579)mrcaott75785ott157735:0.350996,ott157745:0.800154)mrcaott75785ott157745:0.782351,(ott963344:0.791253)ott109896:0.791253)mrcaott75785ott963344:0.445519,ott1014142:2.028024)mrcaott75785ott1014142:3.635540,(((ott109884:1.509077,ott658355:1.509077)mrcaott109884ott658355:1.919686,ott157741:3.428763)mrcaott109884ott157741:0.806121,((ott109886:2.159300,ott188772:2.159300)mrcaott109886ott188772:1.350991,(((ott157743:0.566530,ott1024688:0.566530)mrcaott157743ott1024688:0.855687,ott1014136:1.422217)mrcaott157743ott1014136:1.363479,ott712301:2.785697)mrcaott157743ott712301:0.724594)mrcaott109886ott157743:0.724594,ott174442:4.234884,ott1024690:4.234884,ott3596020:4.234884,ott3596021:4.234884,ott3596022:4.234884,ott3596023:4.234884,ott6151696:4.234884,ott6151699:4.234884,ott7659705:4.234884,ott7659706:4.234884,ott7659707:4.234884,ott7659708:4.234884,ott7659709:4.234884,ott7659710:4.234884,ott7659711:4.234884,ott7659712:4.234884)ott109881:1.428680)mrcaott75785ott109884:2.867935,((ott80424:2.825881)ott80423:2.825881,(ott188777:2.772025,ott488154:2.772025,ott7659699:2.772025)ott963343:2.879737)mrcaott80424ott188777:2.879737)mrcaott75785ott80424:27.061260,((((ott109882:0.823341,ott188783:0.823341)mrcaott109882ott188783:1.999690,ott520559:2.823031)mrcaott109882ott520559:1.999690,((((ott188779:0.681554,ott188785:0.681554)mrcaott188779ott188785:3.007535,ott1061401:3.689089)mrcaott188779ott1061401:0.561455,ott488158:4.250544)mrcaott188779ott488158:0.286088,ott188788:4.536633)mrcaott188779ott188788:0.286088,(ott188781:2.411360,ott209805:2.411360)mrcaott188781ott209805:2.411360,ott4947471:4.822721,ott4947474:4.822721,ott6520318:4.822721,ott6520319:4.822721,ott6520320:4.822721)ott109892:9.846899,(((ott132828:3.746479,(ott132829:3.490878,(ott654721:3.235276,ott654723:3.235276)mrcaott654721ott654723:0.255601)mrcaott132829ott654721:0.255601,((ott488156:2.706144,(ott654699:1.282254,ott654722:1.282254)mrcaott654699ott654722:1.423890)mrcaott488156ott654699:0.293933,ott654700:3.000077)mrcaott488156ott654700:0.746402,ott654724:3.746479,ott6151693:3.746479,ott6151694:3.746479,ott7659700:3.746479,ott7659701:3.746479,ott7659702:3.746479,ott7659703:3.746479,ott7659704:3.746479)ott979429:1.569308,(((ott188774:2.203318)ott1014138:2.203318,((ott385229:1.025320,ott571014:1.025320)mrcaott385229ott571014:1.568025,((ott488151:1.018510,ott786422:1.018510)mrcaott488151ott786422:0.526794,ott786420:1.545303)mrcaott488151ott786420:1.048042)mrcaott385229ott488151:1.813291,ott3596024:4.406636)mrcaott188774ott385229:0.191940,(ott488148:2.299288)ott488147:2.299288)mrcaott188774ott488148:0.717211)mrcaott132828ott188774:4.676916,(ott488145:4.996352)ott488144:4.996352)mrcaott132828ott488145:4.676916)mrcaott109882ott132828:20.923138,(ott6151691:17.796379,ott7659697:17.796379,ott7659698:17.796379)ott3596025:17.796379)ott109893:1.000000;',\n",
       "  '((((((((ott75785:0.224579,ott157739:0.224579)mrcaott75785ott157739:0.224579,(ott157735:0.224579,ott188770:0.224579)mrcaott157735ott188770:0.224579)mrcaott75785ott157735:0.350996,ott157745:0.800154)mrcaott75785ott157745:0.782351,(ott963344:0.791253)ott109896:0.791253)mrcaott75785ott963344:0.445519,ott1014142:2.028024)mrcaott75785ott1014142:3.635540,(((ott109884:1.509077,ott658355:1.509077)mrcaott109884ott658355:1.919686,ott157741:3.428763)mrcaott109884ott157741:0.806121,((ott109886:2.159300,ott188772:2.159300)mrcaott109886ott188772:1.350991,(((ott157743:0.566530,ott1024688:0.566530)mrcaott157743ott1024688:0.855687,ott1014136:1.422217)mrcaott157743ott1014136:1.363479,ott712301:2.785697)mrcaott157743ott712301:0.724594)mrcaott109886ott157743:0.724594,ott174442:4.234884,ott1024690:4.234884,ott3596020:4.234884,ott3596021:4.234884,ott3596022:4.234884,ott3596023:4.234884,ott6151696:4.234884,ott6151699:4.234884,ott7659705:4.234884,ott7659706:4.234884,ott7659707:4.234884,ott7659708:4.234884,ott7659709:4.234884,ott7659710:4.234884,ott7659711:4.234884,ott7659712:4.234884)ott109881:1.428680)mrcaott75785ott109884:2.867935,((ott80424:2.825881)ott80423:2.825881,(ott188777:2.772025,ott488154:2.772025,ott7659699:2.772025)ott963343:2.879737)mrcaott80424ott188777:2.879737)mrcaott75785ott80424:27.061260,((((ott109882:0.823341,ott188783:0.823341)mrcaott109882ott188783:1.999690,ott520559:2.823031)mrcaott109882ott520559:1.999690,((((ott188779:0.681554,ott188785:0.681554)mrcaott188779ott188785:3.007535,ott1061401:3.689089)mrcaott188779ott1061401:0.561455,ott488158:4.250544)mrcaott188779ott488158:0.286088,ott188788:4.536633)mrcaott188779ott188788:0.286088,(ott188781:2.411360,ott209805:2.411360)mrcaott188781ott209805:2.411360,ott4947471:4.822721,ott4947474:4.822721,ott6520318:4.822721,ott6520319:4.822721,ott6520320:4.822721)ott109892:9.846899,(((ott132828:3.746479,(ott132829:3.490878,(ott654721:3.235276,ott654723:3.235276)mrcaott654721ott654723:0.255601)mrcaott132829ott654721:0.255601,((ott488156:2.706144,(ott654699:1.282254,ott654722:1.282254)mrcaott654699ott654722:1.423890)mrcaott488156ott654699:0.293933,ott654700:3.000077)mrcaott488156ott654700:0.746402,ott654724:3.746479,ott6151693:3.746479,ott6151694:3.746479,ott7659700:3.746479,ott7659701:3.746479,ott7659702:3.746479,ott7659703:3.746479,ott7659704:3.746479)ott979429:1.569308,(((ott188774:2.203318)ott1014138:2.203318,((ott385229:1.025320,ott571014:1.025320)mrcaott385229ott571014:1.568025,((ott488151:1.018510,ott786422:1.018510)mrcaott488151ott786422:0.526794,ott786420:1.545303)mrcaott488151ott786420:1.048042)mrcaott385229ott488151:1.813291,ott3596024:4.406636)mrcaott188774ott385229:0.191940,(ott488148:2.299288)ott488147:2.299288)mrcaott188774ott488148:0.717211)mrcaott132828ott188774:4.676916,(ott488145:4.996352)ott488144:4.996352)mrcaott132828ott488145:4.676916)mrcaott109882ott132828:20.923138,(ott6151691:17.796379,ott7659697:17.796379,ott7659698:17.796379)ott3596025:17.796379)ott109893:1.000000;',\n",
       "  '((((((((ott75785:0.224579,ott157739:0.224579)mrcaott75785ott157739:0.224579,(ott157735:0.224579,ott188770:0.224579)mrcaott157735ott188770:0.224579)mrcaott75785ott157735:0.350996,ott157745:0.800154)mrcaott75785ott157745:0.782351,(ott963344:0.791253)ott109896:0.791253)mrcaott75785ott963344:0.445519,ott1014142:2.028024)mrcaott75785ott1014142:3.635540,(((ott109884:1.509077,ott658355:1.509077)mrcaott109884ott658355:1.919686,ott157741:3.428763)mrcaott109884ott157741:0.806121,((ott109886:2.159300,ott188772:2.159300)mrcaott109886ott188772:1.350991,(((ott157743:0.566530,ott1024688:0.566530)mrcaott157743ott1024688:0.855687,ott1014136:1.422217)mrcaott157743ott1014136:1.363479,ott712301:2.785697)mrcaott157743ott712301:0.724594)mrcaott109886ott157743:0.724594,ott174442:4.234884,ott1024690:4.234884,ott3596020:4.234884,ott3596021:4.234884,ott3596022:4.234884,ott3596023:4.234884,ott6151696:4.234884,ott6151699:4.234884,ott7659705:4.234884,ott7659706:4.234884,ott7659707:4.234884,ott7659708:4.234884,ott7659709:4.234884,ott7659710:4.234884,ott7659711:4.234884,ott7659712:4.234884)ott109881:1.428680)mrcaott75785ott109884:2.867935,((ott80424:2.825881)ott80423:2.825881,(ott188777:2.772025,ott488154:2.772025,ott7659699:2.772025)ott963343:2.879737)mrcaott80424ott188777:2.879737)mrcaott75785ott80424:27.061260,((((ott109882:0.823341,ott188783:0.823341)mrcaott109882ott188783:1.999690,ott520559:2.823031)mrcaott109882ott520559:1.999690,((((ott188779:0.681554,ott188785:0.681554)mrcaott188779ott188785:3.007535,ott1061401:3.689089)mrcaott188779ott1061401:0.561455,ott488158:4.250544)mrcaott188779ott488158:0.286088,ott188788:4.536633)mrcaott188779ott188788:0.286088,(ott188781:2.411360,ott209805:2.411360)mrcaott188781ott209805:2.411360,ott4947471:4.822721,ott4947474:4.822721,ott6520318:4.822721,ott6520319:4.822721,ott6520320:4.822721)ott109892:9.846899,(((ott132828:3.746479,(ott132829:3.490878,(ott654721:3.235276,ott654723:3.235276)mrcaott654721ott654723:0.255601)mrcaott132829ott654721:0.255601,((ott488156:2.706144,(ott654699:1.282254,ott654722:1.282254)mrcaott654699ott654722:1.423890)mrcaott488156ott654699:0.293933,ott654700:3.000077)mrcaott488156ott654700:0.746402,ott654724:3.746479,ott6151693:3.746479,ott6151694:3.746479,ott7659700:3.746479,ott7659701:3.746479,ott7659702:3.746479,ott7659703:3.746479,ott7659704:3.746479)ott979429:1.569308,(((ott188774:2.203318)ott1014138:2.203318,((ott385229:1.025320,ott571014:1.025320)mrcaott385229ott571014:1.568025,((ott488151:1.018510,ott786422:1.018510)mrcaott488151ott786422:0.526794,ott786420:1.545303)mrcaott488151ott786420:1.048042)mrcaott385229ott488151:1.813291,ott3596024:4.406636)mrcaott188774ott385229:0.191940,(ott488148:2.299288)ott488147:2.299288)mrcaott188774ott488148:0.717211)mrcaott132828ott188774:4.676916,(ott488145:4.996352)ott488144:4.996352)mrcaott132828ott488145:4.676916)mrcaott109882ott132828:20.923138,(ott6151691:17.796379,ott7659697:17.796379,ott7659698:17.796379)ott3596025:17.796379)ott109893:1.000000;',\n",
       "  '((((((((ott75785:0.224579,ott157739:0.224579)mrcaott75785ott157739:0.224579,(ott157735:0.224579,ott188770:0.224579)mrcaott157735ott188770:0.224579)mrcaott75785ott157735:0.350996,ott157745:0.800154)mrcaott75785ott157745:0.782351,(ott963344:0.791253)ott109896:0.791253)mrcaott75785ott963344:0.445519,ott1014142:2.028024)mrcaott75785ott1014142:3.635540,(((ott109884:1.509077,ott658355:1.509077)mrcaott109884ott658355:1.919686,ott157741:3.428763)mrcaott109884ott157741:0.806121,((ott109886:2.159300,ott188772:2.159300)mrcaott109886ott188772:1.350991,(((ott157743:0.566530,ott1024688:0.566530)mrcaott157743ott1024688:0.855687,ott1014136:1.422217)mrcaott157743ott1014136:1.363479,ott712301:2.785697)mrcaott157743ott712301:0.724594)mrcaott109886ott157743:0.724594,ott174442:4.234884,ott1024690:4.234884,ott3596020:4.234884,ott3596021:4.234884,ott3596022:4.234884,ott3596023:4.234884,ott6151696:4.234884,ott6151699:4.234884,ott7659705:4.234884,ott7659706:4.234884,ott7659707:4.234884,ott7659708:4.234884,ott7659709:4.234884,ott7659710:4.234884,ott7659711:4.234884,ott7659712:4.234884)ott109881:1.428680)mrcaott75785ott109884:2.867935,((ott80424:2.825881)ott80423:2.825881,(ott188777:2.772025,ott488154:2.772025,ott7659699:2.772025)ott963343:2.879737)mrcaott80424ott188777:2.879737)mrcaott75785ott80424:27.061260,((((ott109882:0.823341,ott188783:0.823341)mrcaott109882ott188783:1.999690,ott520559:2.823031)mrcaott109882ott520559:1.999690,((((ott188779:0.681554,ott188785:0.681554)mrcaott188779ott188785:3.007535,ott1061401:3.689089)mrcaott188779ott1061401:0.561455,ott488158:4.250544)mrcaott188779ott488158:0.286088,ott188788:4.536633)mrcaott188779ott188788:0.286088,(ott188781:2.411360,ott209805:2.411360)mrcaott188781ott209805:2.411360,ott4947471:4.822721,ott4947474:4.822721,ott6520318:4.822721,ott6520319:4.822721,ott6520320:4.822721)ott109892:9.846899,(((ott132828:3.746479,(ott132829:3.490878,(ott654721:3.235276,ott654723:3.235276)mrcaott654721ott654723:0.255601)mrcaott132829ott654721:0.255601,((ott488156:2.706144,(ott654699:1.282254,ott654722:1.282254)mrcaott654699ott654722:1.423890)mrcaott488156ott654699:0.293933,ott654700:3.000077)mrcaott488156ott654700:0.746402,ott654724:3.746479,ott6151693:3.746479,ott6151694:3.746479,ott7659700:3.746479,ott7659701:3.746479,ott7659702:3.746479,ott7659703:3.746479,ott7659704:3.746479)ott979429:1.569308,(((ott188774:2.203318)ott1014138:2.203318,((ott385229:1.025320,ott571014:1.025320)mrcaott385229ott571014:1.568025,((ott488151:1.018510,ott786422:1.018510)mrcaott488151ott786422:0.526794,ott786420:1.545303)mrcaott488151ott786420:1.048042)mrcaott385229ott488151:1.813291,ott3596024:4.406636)mrcaott188774ott385229:0.191940,(ott488148:2.299288)ott488147:2.299288)mrcaott188774ott488148:0.717211)mrcaott132828ott188774:4.676916,(ott488145:4.996352)ott488144:4.996352)mrcaott132828ott488145:4.676916)mrcaott109882ott132828:20.923138,(ott6151691:17.796379,ott7659697:17.796379,ott7659698:17.796379)ott3596025:17.796379)ott109893:1.000000;'],\n",
       " 'topology_sources': ['pg_2804@tree6511',\n",
       "  'ot_809@tree2',\n",
       "  'ot_425@tree1',\n",
       "  'ot_521@tree1',\n",
       "  'ot_2018@tree8',\n",
       "  'ot_2018@tree9',\n",
       "  'ot_119@tree1',\n",
       "  'ot_120@tree1'],\n",
       " 'date_sources': ['ot_2072@tree1',\n",
       "  'ot_809@tree2',\n",
       "  'ot_809@tree1',\n",
       "  'ot_2018@tree9',\n",
       "  'ot_409@tree2',\n",
       "  'ot_2018@tree8',\n",
       "  'ot_116@tree5',\n",
       "  'ot_2170@tree3',\n",
       "  'ot_409@tree1',\n",
       "  'ot_425@tree1'],\n",
       " 'tar_file_download': 'dates.opentreeoflife.org/v4/dates/download_dates_tar/chrono_out_01_12_2023_17_07_03.tar.gz'}"
      ]
     },
     "execution_count": 188,
     "metadata": {},
     "output_type": "execute_result"
    }
   ],
   "source": [
    "resp_dict"
   ]
  },
  {
   "cell_type": "code",
   "execution_count": null,
   "id": "e83f026f",
   "metadata": {},
   "outputs": [],
   "source": []
  }
 ],
 "metadata": {
  "kernelspec": {
   "display_name": "opentree",
   "language": "python",
   "name": "opentree"
  },
  "language_info": {
   "codemirror_mode": {
    "name": "ipython",
    "version": 3
   },
   "file_extension": ".py",
   "mimetype": "text/x-python",
   "name": "python",
   "nbconvert_exporter": "python",
   "pygments_lexer": "ipython3",
   "version": "3.10.6"
  }
 },
 "nbformat": 4,
 "nbformat_minor": 5
}
