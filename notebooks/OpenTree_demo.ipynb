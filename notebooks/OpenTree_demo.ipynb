{
 "cells": [
  {
   "cell_type": "markdown",
   "metadata": {},
   "source": [
    "# How do you get a tree for a list of species names?\n",
    "## Standardizing taxon names\n",
    "\n",
    "One of the key challenges of comparing trees across studies is differences in taxon names because of spelling or taxonomic idiosincracies.\n",
    "\n",
    "A solution to this, is mapping taxon names to unique identifiers using the Open Tree Taxonomic Name Resolution Service (TNRS). There are a few options to use this service including via teh API, or the browser based bulk name mapping. The names of the taxa you will search for this tutorial were copied from https://en.wikipedia.org/wiki/List_of_birds_of_Georgia_(U.S._state) the folder named 'GA_waterfowl.txt'.\n",
    "\n",
    "### Open Tree TNRS bulk upload tool.\n",
    "\n",
    "Access this tool at https://tree.opentreeoflife.org/curator/tnrs/\n",
    "\n",
    "This is a brand new beta-version of this functionality, so some parts are a bit finicky.\n",
    "\n",
    "*Try this*\n",
    "  * Click on \"Add names...\" (second button at the top of the menu on the left), and upload the names file `tutorial/GA_waterfowl.txt`. The \"loading file\" window will not close by itself, click the (X).\n",
    "  * In the \"Mapping options\" section (bottom of the menu to the left):\n",
    "    - select 'Birds' to narrow down the possibilities and speed up mapping\n",
    "  * Click \"Map selected names\" (middle of the menu to the left).\n",
    "  * Exact matches will show up in green, and can be accepted by clicking \"accept exact matches\".\n",
    "  * Once you have accepted names for each of the taxa, click \"Save nameset...\", download it to your laptop, and extract (unzip) the files. You can take a look at the human readable version of the output at `output/main.csv`. `main.json` contains the the same data in a more computer readable format.\n",
    "  * Finally, transfer the `main.csv` file to the tutorial folder, so you can use it to get the tree for your taxa.\n",
    "\n",
    "*Make sure your mappings were saved! If you do not **accept** matches (by clicking buttons), they do not download.*\n"
   ]
  },
  {
   "cell_type": "markdown",
   "metadata": {},
   "source": [
    "Detailed mapping demo notes:\n",
    "\n",
    "1. Map and accept exact matches\n",
    "2. Click through a few synonyms. We actually treat the older name *Anas clypeata* as the 'canonical' name, based on NCBI taxonomy, but recognize the synony of *Spatula clypeata*  (2009)(newer, due to non-monophyly of Anas).  Other synonyms include shift to match Latin grammar in *Nomonyx dominicus*. Accept synonyms. \n",
    "3. *Anas crecca carolinensis* synonymous with *Anas carolinensis* https://en.wikipedia.org/wiki/Green-winged_teal\n",
    "4. You should be left with 7 spp with parantheticals after them. Use \"Mapping options\" to \"Remove last of multiple words\", and accept exat matches\n",
    "5. TNRS suggests *Branta huchinsii* for *Branta huchinsonii* That seems a bit far! Go back to the original source to decide whether to accept match. https://en.wikipedia.org/wiki/List_of_birds_of_Georgia_(U.S._state), https://en.wikipedia.org/wiki/Cackling_goose\n",
    "6. Use the edit function to fill in *Anas crecca crecca* for *A. c. crecca* and map.\n"
   ]
  },
  {
   "cell_type": "code",
   "execution_count": 4,
   "metadata": {},
   "outputs": [
    {
     "name": "stdout",
     "output_type": "stream",
     "text": [
      "ORIGINAL LABEL,OTT TAXON NAME,OTT TAXON ID,TAXONOMIC SOURCES\r\n",
      "Dendrocygna autumnalis,Dendrocygna autumnalis,662608,ncbi:8873;worms:422567;gbif:2498393;irmng:10189259\r\n",
      "Dendrocygna bicolor,Dendrocygna bicolor,662618,ncbi:8874;worms:212674;gbif:2498402;irmng:10189260\r\n",
      "Anser caerulescens,Anser caerulescens,190878,ncbi:8849;worms:159204;gbif:2498165;irmng:11167814;irmng:10195594\r\n",
      "Anser rossii,Anser rossii,767830,ncbi:56281;worms:159086;irmng:10824526;irmng:10189256;irmng:10189258\r\n",
      "Anser albifrons,Anser albifrons,430239,ncbi:50365;worms:159159;gbif:2498017;irmng:10587752\r\n",
      "Branta bernicla (A),Branta bernicla,135287,ncbi:184712;worms:159175;gbif:5232446;irmng:11345921\r\n",
      "Branta hutchinsonii (A),Branta hutchinsii,972531,ncbi:371860;worms:422569;gbif:5232452;irmng:11831705\r\n",
      "Branta canadensis,Branta canadensis,714461,ncbi:8853;worms:159176;gbif:5232437;irmng:10585055\r\n",
      "Cygnus columbianus (A),Cygnus columbianus,207360,ncbi:110926;worms:159088;gbif:2498338;irmng:11267548;irmng:10997958\r\n"
     ]
    }
   ],
   "source": [
    "!head ../tutorial/main.csv"
   ]
  },
  {
   "cell_type": "code",
   "execution_count": 9,
   "metadata": {},
   "outputs": [
    {
     "name": "stdout",
     "output_type": "stream",
     "text": [
      "                                                  /-- Aythya americana         \n",
      "                                               /--+                            \n",
      "                                             /-+  \\-- Aythya collaris          \n",
      "                                             | |                               \n",
      "               /-------+--+--+-+--+--+-+--+--+ \\--+-- Aythya valisineria       \n",
      "               |                             |                                 \n",
      "               |                             |    /-- Aythya affinis           \n",
      "               |                             \\-+--+                            \n",
      "               |                                  \\-- Aythya marila            \n",
      "               |                                                               \n",
      "          /--+-+                             /-+--+-- Anas discors             \n",
      "          |    |  /---------------+--+-+--+--+                                 \n",
      "          |    |  |                          \\-+--+-- Anas clypeata            \n",
      "          |    |  |                                                            \n",
      "          |    |  |                            /--+-- Anas rubripes            \n",
      "          |    |  |                          /-+                               \n",
      "          |    |  |    /--+--+-+--+--+-+--+--+ \\----- Anas fulvigula           \n",
      "          |    \\--+    |                     |                                 \n",
      "          |       |    |                     \\------- Anas platyrhynchos       \n",
      "          |       |  /-+                                                       \n",
      "          |       |  | |                     /-+--+-- Anas acuta               \n",
      "          |       |  | |               /--+--+                                 \n",
      "       /--+       |  | |               |     \\------- Anas bahamensis          \n",
      "       |  |       |  | \\---------------+                                       \n",
      "       |  |       \\--+                 |       /--+-- Anas crecca crecca       \n",
      "       |  |          |                 \\-----+-+                               \n",
      "       |  |          |                         \\--+-- Anas carolinensis        \n",
      "       |  |          |                                                         \n",
      "       |  |          |                       /----+-- Mareca strepera          \n",
      "       |  |          \\-----------------------+                                 \n",
      "       |  |                                  | /--+-- Mareca americana         \n",
      "       |  |                                  \\-+                               \n",
      "       |  |                                    \\----- Mareca penelope          \n",
      "       |  |                                                                    \n",
      "       |  |                            /--+--+-+--+-- Alopochen aegyptiaca     \n",
      "       |  \\----------------------------+                                       \n",
      "       |                               |       /--+-- Aix sponsa               \n",
      "       |                               \\-------+                               \n",
      "  /--+-+                                       \\--+-- Cairina moschata         \n",
      "  |    |                                                                       \n",
      "  |    |                                  /----+--+-- Histrionicus histrionicus\n",
      "  |    |                          /-------+                                    \n",
      "  |    |                          |       |       /-- Somateria spectabilis    \n",
      "  |    |                          |       \\--+-+--+                            \n",
      "  |    |                          |               \\-- Somateria mollissima     \n",
      "  |    |                          |                                            \n",
      "  |    |                          |            /--+-- Bucephala clangula       \n",
      "  |    |                       /--+    /-------+                               \n",
      "  |    |                       |  |    |       \\----- Bucephala albeola        \n",
      "  |    |                       |  |  /-+                                       \n",
      "  |    |                       |  |  | |          /-- Mergus serrator          \n",
      "  |    |                       |  |  | |     /-+--+                            \n",
      "  |    |                       |  |  | \\--+--+    \\-- Mergus merganser         \n",
      "  |    |                       |  \\--+       |                                 \n",
      "  |    \\-----------------------+     |       \\----+-- Lophodytes cucullatus    \n",
      "  |                            |     |                                         \n",
      "/-+                            |     |         /--+-- Melanitta perspicillata  \n",
      "| |                            |     |         |                               \n",
      "| |                            |     \\---------+----- Melanitta deglandi       \n",
      "| |                            |               |                               \n",
      "| |                            |               \\----- Melanitta americana      \n",
      "| |                            |                                               \n",
      "| |                            \\------------------+-- Clangula hyemalis        \n",
      "| |                                                                            \n",
      "| |                                            /----- Branta canadensis        \n",
      "| |                                    /--+--+-+                               \n",
      "| |                               /----+       \\--+-- Branta hutchinsii        \n",
      "| |                               |    |                                       \n",
      "| |                               |    \\------------- Branta bernicla          \n",
      "+ |                            /--+                                            \n",
      "| |                            |  |               /-- Anser caerulescens       \n",
      "| |                            |  |    /-------+--+                            \n",
      "| |                    /--+--+-+  \\--+-+          \\-- Anser rossii             \n",
      "| |                    |       |       |                                       \n",
      "| |                    |       |       \\--+--+-+--+-- Anser albifrons          \n",
      "| \\------------------+-+       |                                               \n",
      "|                      |       \\----------+--+-+--+-- Cygnus columbianus       \n",
      "|                      |                                                       \n",
      "|                      |               /--+--+-+--+-- Oxyura jamaicensis       \n",
      "|                      \\-------------+-+                                       \n",
      "|                                      \\----------+-- Nomonyx dominica         \n",
      "|                                                                              \n",
      "|                                      /----------+-- Dendrocygna autumnalis   \n",
      "\\------------------------------------+-+                                       \n",
      "                                       \\--+--+-+--+-- Dendrocygna bicolor      \n",
      "                                                                               \n",
      "                                                                               \n"
     ]
    }
   ],
   "source": [
    "from opentree import OT\n",
    "\n",
    "fi = open(\"../tutorial/main.csv\").readlines()\n",
    "\n",
    "ott_ids = set()\n",
    "\n",
    "for lin in fi[1:]: #skip the header\n",
    "    lii = lin.split(',')#split on commas\n",
    "    ott_id = int(lii[2])#grab the opentree id\n",
    "    ott_ids.add(ott_id)#add to the set\n",
    "\n",
    "\n",
    "treefile = \"GA_waterfowl.tre\"\n",
    "#Get the synthetic tree from OpenTree\n",
    "output = OT.synth_induced_tree(ott_ids=list(ott_ids),  label_format='name')\n",
    "output.tree.write(path = treefile, schema = \"newick\")\n",
    "output.tree.print_plot()\n"
   ]
  },
  {
   "cell_type": "code",
   "execution_count": 10,
   "metadata": {},
   "outputs": [
    {
     "name": "stdout",
     "output_type": "stream",
     "text": [
      "ot_521@tree1\n",
      "Burleigh, J. Gordon, Rebecca T. Kimball, Edward L. Braun. 2015. Building the avian tree of life using a large-scale, sparse supermatrix. Molecular Phylogenetics and Evolution 84: 53-63\n",
      "http://dx.doi.org/10.1016/j.ympev.2014.12.003\n",
      "\n",
      "ot_809@tree2\n",
      "Jetz, W., G. H. Thomas, J. B. Joy, K. Hartmann, A. O. Mooers. 2012. The global diversity of birds in space and time. Nature 491 (7424): 444-448\n",
      "http://dx.doi.org/10.1038/nature11631\n",
      "\n",
      "ot_531@tree1\n",
      "Claramunt, Santiago, Joel Cracraft. 2015. A new time tree reveals Earth historys imprint on the evolution of modern birds. Science Advances 1 (11): e1501005-e1501005\n",
      "http://dx.doi.org/10.1126/sciadv.1501005\n",
      "\n",
      "pg_420@tree522\n",
      "Hackett, S. J., R. T. Kimball, S. Reddy, R. C. K. Bowie, E. L. Braun, M. J. Braun, J. L. Chojnowski, W. A. Cox, K.-L. Han, J. Harshman, C. J. Huddleston, B. D. Marks, K. J. Miglia, W. S. Moore, F. H. Sheldon, D. W. Steadman, C. C. Witt, T. Yuri. 2008. A Phylogenomic Study of Birds Reveals Their Evolutionary History. Science 320 (5884): 1763-1768.\n",
      "http://dx.doi.org/10.1126/science.1157704\n",
      "\n",
      "ot_500@tree1\n",
      "Prum, Richard O., Jacob S. Berv, Alex Dornburg, Daniel J. Field, Jeffrey P. Townsend, Emily Moriarty Lemmon, Alan R. Lemmon. 2015. A comprehensive phylogeny of birds (Aves) using targeted next-generation DNA sequencing. Nature 526, (7574): 569-573\n",
      "http://dx.doi.org/10.1038/nature15697\n",
      "\n",
      "ot_1345@Tr109614\n",
      "Worthy T., Mitri M., Handley W.D., Lee M.S., Anderson A., & Sand C. 2016. Osteology Supports a Stem-Galliform Affinity for the Giant Extinct Flightless Bird Sylviornis neocaledoniae (Sylviornithidae, Galloanseres). PLoS ONE, 11(3): e0150871.\n",
      "http://dx.doi.org/10.1371/journal.pone.0150871\n",
      "\n",
      "pg_2860@tree6646\n",
      "Fulton, T. L., B. Letts, B. Shapiro. 2012. Multiple losses of flight and recent speciation in steamer ducks. Proceedings of the Royal Society B: Biological Sciences 279 (1737): 2339-2346.\n",
      "http://dx.doi.org/10.1098/rspb.2011.2599\n",
      "\n",
      "pg_2866@tree6656\n",
      "Gonzalez, J., H. Düttmann, M. Wink. 2009. Phylogenetic relationships based on two mitochondrial genes and hybridization patterns in Anatidae. Journal of Zoology 279 (3): 310-318.\n",
      "http://dx.doi.org/10.1111/j.1469-7998.2009.00622.x\n",
      "\n",
      "ot_1022@tree1\n",
      "Donne-Goussé, Carole, Vincent Laudet, Catherine Hänni. 2002. A molecular phylogeny of anseriformes based on mitochondrial DNA analysis. Molecular Phylogenetics and Evolution 23 (3): 339-356\n",
      "http://dx.doi.org/10.1016/s1055-7903(02)00019-2\n",
      "\n",
      "ot_731@tree2\n",
      "Ottenburghs, Jente, Hendrik-Jan Megens, Robert H.S. Kraus, Ole Madsen, Pim van Hooft, Sipke E. van Wieren, Richard P.M.A. Crooijmans, Ronald C. Ydenberg, Martien A.M. Groenen, Herbert H.T. Prins. 2016. A Tree of Geese: A Phylogenomic Perspective on the Evolutionary History of True Geese. Molecular Phylogenetics and Evolution 101: 303-313.\n",
      "http://dx.doi.org/10.1016/j.ympev.2016.05.021\n",
      "\n"
     ]
    }
   ],
   "source": [
    "# We can also get the citations for the studies used to build this tree\n",
    "studies = output.response_dict['supporting_studies']\n",
    "cites = OT.get_citations(studies)\n",
    "print(cites)"
   ]
  },
  {
   "cell_type": "markdown",
   "metadata": {},
   "source": [
    "# How can you find what studies in Open Tree contain amphibians?"
   ]
  },
  {
   "cell_type": "code",
   "execution_count": null,
   "metadata": {},
   "outputs": [],
   "source": []
  },
  {
   "cell_type": "markdown",
   "metadata": {},
   "source": [
    "# I want a tree for all families of amphibans."
   ]
  },
  {
   "cell_type": "markdown",
   "metadata": {},
   "source": [
    "# What publications are being used in the synthesis tree for amphibians?"
   ]
  },
  {
   "cell_type": "code",
   "execution_count": null,
   "metadata": {},
   "outputs": [],
   "source": []
  }
 ],
 "metadata": {
  "kernelspec": {
   "display_name": "opentree",
   "language": "python",
   "name": "opentree"
  },
  "language_info": {
   "codemirror_mode": {
    "name": "ipython",
    "version": 3
   },
   "file_extension": ".py",
   "mimetype": "text/x-python",
   "name": "python",
   "nbconvert_exporter": "python",
   "pygments_lexer": "ipython3",
   "version": "3.7.3"
  }
 },
 "nbformat": 4,
 "nbformat_minor": 2
}
