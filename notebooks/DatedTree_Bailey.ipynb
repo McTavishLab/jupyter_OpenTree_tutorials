{
 "cells": [
  {
   "cell_type": "markdown",
   "id": "55e6fd22",
   "metadata": {},
   "source": [
    "## Getting a dated synthesis tree for an arbitrary set of taxa"
   ]
  },
  {
   "cell_type": "markdown",
   "id": "58408a0a",
   "metadata": {},
   "source": [
    "## Standardizing query taxon names\n",
    "\n",
    "One of the key challenges of comparing trees across studies is differences in taxon names because of spelling or taxonomic idiosincracies.\n",
    "\n",
    "A solution to this, is mapping taxon names to unique identifiers using the Open Tree Taxonomic Name Resolution Service (TNRS). There are a few options to use this service including via the API, or the browser based bulk name mapping.\n",
    "\n",
    "### Open Tree TNRS bulk name mapping tool.\n",
    "\n",
    "Access this tool at https://tree.opentreeoflife.org/curator/tnrs/\n",
    "\n",
    "This is a new beta-version of this functionality, so some parts are a bit finicky.\n",
    "\n",
    "*Try this*\n",
    "  * Click on \"Add names...\" (second button at the top of the menu on the left), and upload the names file `drosophila_example`. The \"loading file\" window will not close by itself, click the (X).\n",
    "  * In the \"Mapping options\" section (bottom of the menu to the left):\n",
    "    - select 'Insects' to narrow down the possibilities and speed up mapping\n",
    "  * Click \"Map selected names\" (middle of the menu to the left).\n",
    "  * Exact matches will show up in green, and can be accepted by clicking \"accept exact matches\".\n",
    "  * Once you have accepted names for each of the taxa, click \"Save nameset...\", download it to your laptop, and extract (unzip) the files. You can take a look at the human readable version of the output at `output/main.csv`. `main.json` contains the the same data in a more computer readable format.\n",
    "  * Finally, transfer the `main.csv` file to your working folder, so you can use it to get the tree for your taxa.\n",
    "\n",
    "*Make sure your mappings were saved! If you do not **accept** matches (by clicking buttons), they do not download.*\n"
   ]
  },
  {
   "cell_type": "code",
   "execution_count": 2,
   "id": "b0faf74c",
   "metadata": {},
   "outputs": [],
   "source": [
    "import requests\n",
    "import json\n",
    "import sys\n",
    "import dendropy\n",
    "import csv\n",
    "from opentree import OT\n"
   ]
  },
  {
   "cell_type": "code",
   "execution_count": 3,
   "id": "f62563ab",
   "metadata": {},
   "outputs": [],
   "source": [
    "mapped_names = \"/home/ejmctavish/Desktop/Committees/grad/Bailey/main.csv\"\n",
    "\n",
    "\n",
    "## uses the csv to create a dictionary with OTTids as keys, and the label you input as values\n",
    "with open(mapped_names) as fp:\n",
    "    reader = csv.reader(fp, delimiter=\",\", quotechar='\"')\n",
    "    next(reader, None)  # skip the headers\n",
    "    label_dict = {'ott'+row[2]:row[0] for row in reader}\n",
    "\n",
    "    \n",
    "## Node ids contains the list of tip ids you want in your final tree\n",
    "node_ids = [key for key in label_dict]\n"
   ]
  },
  {
   "cell_type": "markdown",
   "id": "55a2ef0d",
   "metadata": {},
   "source": [
    "## Dated trees\n",
    "To estimate dates, we will use the Chronosynth API. \n",
    "The dates API is work-in-progress, and so it is not yet as user friendly as it will be. \n",
    "\n",
    "A summary of the methods is here: https://github.com/OpenTreeOfLife/chronosynth/wiki/Chronosynth-methods-overview  \n",
    "There are some API docs here: https://github.com/OpenTreeOfLife/chronosynth/wiki/Draft-API-docs"
   ]
  },
  {
   "cell_type": "markdown",
   "id": "7024fd57",
   "metadata": {},
   "source": [
    "Using the dates API we can get dates that align to for individual nodes in the synth tree. \n",
    "This is based on the same information you saw in the conflict viewer.  \n",
    "You can you a CURL call to GET the current information for dates for a node."
   ]
  },
  {
   "cell_type": "markdown",
   "id": "75346854",
   "metadata": {},
   "source": [
    "To look at the node itself, you can navigate to \n",
    "\"https://tree.opentreeoflife.org/curator/study/view/{STUDY ID}?tab=home&tree={TREE ID}&node={NODE_ID}\"  \n",
    "e.g. https://tree.opentreeoflife.org/curator/study/view/ot_2018?tab=home&tree=tree9&node=node1412  "
   ]
  },
  {
   "cell_type": "markdown",
   "id": "49b7aa03",
   "metadata": {},
   "source": [
    "This node https://tree.opentreeoflife.org/opentree/argus/opentree13.4@mrcaott1000311ott3643727 in the synthetic tree aligns with this node in this dated tree https://tree.opentreeoflife.org/curator/study/view/ot_1592?tab=home&tree=tree1&node=node22956"
   ]
  },
  {
   "cell_type": "markdown",
   "id": "447339c9",
   "metadata": {},
   "source": [
    "## Summarizing dates  for a set of taxa\n",
    "You can use these dates individually, or use the API to get the dates across nodes in a tree, and then smooth the nodes in between"
   ]
  },
  {
   "cell_type": "markdown",
   "id": "0ef05873",
   "metadata": {},
   "source": [
    "The approach in these examples uses rate smoothing, via bladj https://phylodiversity.net/phylocom/  \n",
    "These approaches are rough, and there is NO infomation for many nodes, so be cautious!\n",
    "### To run bladj we need a max age estimate for the root of the tree."
   ]
  },
  {
   "cell_type": "code",
   "execution_count": 4,
   "id": "a9968e05",
   "metadata": {},
   "outputs": [
    {
     "name": "stderr",
     "output_type": "stream",
     "text": [
      "\n",
      "Unknown/unrecognized query ids (skipped):\n",
      " ott\n",
      "ott1030729\n",
      "ott3633223\n",
      "ott3633631\n",
      "ott3633632\n",
      "ott3633633\n",
      "ott3633637\n",
      "ott3633645\n",
      "ott3633691\n",
      "ott3633724\n",
      "ott3633758\n",
      "ott3633785\n",
      "ott3633786\n",
      "ott3633796\n",
      "ott3633798\n",
      "ott3633810\n",
      "ott3634633\n",
      "ott3634648\n",
      "ott3634790\n",
      "ott3634840\n",
      "ott3634842\n",
      "ott3634844\n",
      "ott3634910\n",
      "ott3634952\n",
      "ott3635449\n",
      "ott3635492\n",
      "ott3635506\n",
      "ott3635521\n",
      "ott3635523\n",
      "ott3635547\n",
      "ott3635563\n",
      "ott3635589\n",
      "ott3635599\n",
      "ott3638536\n",
      "ott5223553\n",
      "ott5852341\n",
      "ott5924886\n",
      "ott7064009\n",
      "ott7064032\n",
      "ott7064035\n",
      "ott774815 \n"
     ]
    },
    {
     "name": "stdout",
     "output_type": "stream",
     "text": [
      "{\n",
      "    \"node_id\": \"ott278114\",\n",
      "    \"num_tips\": 90733,\n",
      "    \"partial_path_of\": {\n",
      "        \"pg_2822@tree6569\": \"node1142002\"\n",
      "    },\n",
      "    \"supported_by\": {\n",
      "        \"ot_508@tree2\": \"node27\",\n",
      "        \"ott3.3draft1\": \"ott278114\",\n",
      "        \"pg_1217@tree2455\": \"node566190\"\n",
      "    },\n",
      "    \"taxon\": {\n",
      "        \"name\": \"Gnathostomata\",\n",
      "        \"ott_id\": 278114,\n",
      "        \"rank\": \"superclass\",\n",
      "        \"tax_sources\": [\n",
      "            \"ncbi:7776\",\n",
      "            \"worms:1828\"\n",
      "        ],\n",
      "        \"unique_name\": \"Gnathostomata (superclass in phylum Chordata)\"\n",
      "    },\n",
      "    \"was_constrained\": true,\n",
      "    \"was_uncontested\": true\n",
      "}\n"
     ]
    }
   ],
   "source": [
    "## Get the synth tree MRCA of the taxa of interest, so we know the root of our tree\n",
    "output = OT.synth_mrca(node_ids=node_ids)\n",
    "print(json.dumps(output.response_dict['mrca'], indent=4))\n"
   ]
  },
  {
   "cell_type": "code",
   "execution_count": 5,
   "id": "957f3395",
   "metadata": {},
   "outputs": [
    {
     "name": "stdout",
     "output_type": "stream",
     "text": [
      "  % Total    % Received % Xferd  Average Speed   Time    Time     Time  Current\n",
      "                                 Dload  Upload   Total   Spent    Left  Speed\n",
      "100   668  100   668    0     0     17      0  0:00:39  0:00:37  0:00:02   174\n",
      "\u001b[1;39m{\n",
      "  \u001b[0m\u001b[34;1m\"query\"\u001b[0m\u001b[1;39m: \u001b[0m\u001b[0;32m\"ott278114\"\u001b[0m\u001b[1;39m,\n",
      "  \u001b[0m\u001b[34;1m\"synth_node_id\"\u001b[0m\u001b[1;39m: \u001b[0m\u001b[0;32m\"ott278114\"\u001b[0m\u001b[1;39m,\n",
      "  \u001b[0m\u001b[34;1m\"ot:source_node_ages\"\u001b[0m\u001b[1;39m: \u001b[0m\u001b[1;39m[\n",
      "    \u001b[1;39m{\n",
      "      \u001b[0m\u001b[34;1m\"source_id\"\u001b[0m\u001b[1;39m: \u001b[0m\u001b[0;32m\"ot_508@tree8\"\u001b[0m\u001b[1;39m,\n",
      "      \u001b[0m\u001b[34;1m\"age\"\u001b[0m\u001b[1;39m: \u001b[0m\u001b[0;39m449.9971\u001b[0m\u001b[1;39m,\n",
      "      \u001b[0m\u001b[34;1m\"source_node\"\u001b[0m\u001b[1;39m: \u001b[0m\u001b[0;32m\"node669\"\u001b[0m\u001b[1;39m\n",
      "    \u001b[1;39m}\u001b[0m\u001b[1;39m,\n",
      "    \u001b[1;39m{\n",
      "      \u001b[0m\u001b[34;1m\"source_id\"\u001b[0m\u001b[1;39m: \u001b[0m\u001b[0;32m\"ot_508@tree9\"\u001b[0m\u001b[1;39m,\n",
      "      \u001b[0m\u001b[34;1m\"age\"\u001b[0m\u001b[1;39m: \u001b[0m\u001b[0;39m449.9713\u001b[0m\u001b[1;39m,\n",
      "      \u001b[0m\u001b[34;1m\"source_node\"\u001b[0m\u001b[1;39m: \u001b[0m\u001b[0;32m\"node776\"\u001b[0m\u001b[1;39m\n",
      "    \u001b[1;39m}\u001b[0m\u001b[1;39m,\n",
      "    \u001b[1;39m{\n",
      "      \u001b[0m\u001b[34;1m\"source_id\"\u001b[0m\u001b[1;39m: \u001b[0m\u001b[0;32m\"ot_508@tree3\"\u001b[0m\u001b[1;39m,\n",
      "      \u001b[0m\u001b[34;1m\"age\"\u001b[0m\u001b[1;39m: \u001b[0m\u001b[0;39m449.8911\u001b[0m\u001b[1;39m,\n",
      "      \u001b[0m\u001b[34;1m\"source_node\"\u001b[0m\u001b[1;39m: \u001b[0m\u001b[0;32m\"node134\"\u001b[0m\u001b[1;39m\n",
      "    \u001b[1;39m}\u001b[0m\u001b[1;39m,\n",
      "    \u001b[1;39m{\n",
      "      \u001b[0m\u001b[34;1m\"source_id\"\u001b[0m\u001b[1;39m: \u001b[0m\u001b[0;32m\"ot_508@tree5\"\u001b[0m\u001b[1;39m,\n",
      "      \u001b[0m\u001b[34;1m\"age\"\u001b[0m\u001b[1;39m: \u001b[0m\u001b[0;39m450.7471\u001b[0m\u001b[1;39m,\n",
      "      \u001b[0m\u001b[34;1m\"source_node\"\u001b[0m\u001b[1;39m: \u001b[0m\u001b[0;32m\"node348\"\u001b[0m\u001b[1;39m\n",
      "    \u001b[1;39m}\u001b[0m\u001b[1;39m,\n",
      "    \u001b[1;39m{\n",
      "      \u001b[0m\u001b[34;1m\"source_id\"\u001b[0m\u001b[1;39m: \u001b[0m\u001b[0;32m\"ot_508@tree4\"\u001b[0m\u001b[1;39m,\n",
      "      \u001b[0m\u001b[34;1m\"age\"\u001b[0m\u001b[1;39m: \u001b[0m\u001b[0;39m450.6612\u001b[0m\u001b[1;39m,\n",
      "      \u001b[0m\u001b[34;1m\"source_node\"\u001b[0m\u001b[1;39m: \u001b[0m\u001b[0;32m\"node241\"\u001b[0m\u001b[1;39m\n",
      "    \u001b[1;39m}\u001b[0m\u001b[1;39m,\n",
      "    \u001b[1;39m{\n",
      "      \u001b[0m\u001b[34;1m\"source_id\"\u001b[0m\u001b[1;39m: \u001b[0m\u001b[0;32m\"ot_508@tree6\"\u001b[0m\u001b[1;39m,\n",
      "      \u001b[0m\u001b[34;1m\"age\"\u001b[0m\u001b[1;39m: \u001b[0m\u001b[0;39m453.0243\u001b[0m\u001b[1;39m,\n",
      "      \u001b[0m\u001b[34;1m\"source_node\"\u001b[0m\u001b[1;39m: \u001b[0m\u001b[0;32m\"node455\"\u001b[0m\u001b[1;39m\n",
      "    \u001b[1;39m}\u001b[0m\u001b[1;39m,\n",
      "    \u001b[1;39m{\n",
      "      \u001b[0m\u001b[34;1m\"source_id\"\u001b[0m\u001b[1;39m: \u001b[0m\u001b[0;32m\"ot_508@tree7\"\u001b[0m\u001b[1;39m,\n",
      "      \u001b[0m\u001b[34;1m\"age\"\u001b[0m\u001b[1;39m: \u001b[0m\u001b[0;39m453.0575\u001b[0m\u001b[1;39m,\n",
      "      \u001b[0m\u001b[34;1m\"source_node\"\u001b[0m\u001b[1;39m: \u001b[0m\u001b[0;32m\"node562\"\u001b[0m\u001b[1;39m\n",
      "    \u001b[1;39m}\u001b[0m\u001b[1;39m,\n",
      "    \u001b[1;39m{\n",
      "      \u001b[0m\u001b[34;1m\"source_id\"\u001b[0m\u001b[1;39m: \u001b[0m\u001b[0;32m\"ot_508@tree2\"\u001b[0m\u001b[1;39m,\n",
      "      \u001b[0m\u001b[34;1m\"age\"\u001b[0m\u001b[1;39m: \u001b[0m\u001b[0;39m449.9092\u001b[0m\u001b[1;39m,\n",
      "      \u001b[0m\u001b[34;1m\"source_node\"\u001b[0m\u001b[1;39m: \u001b[0m\u001b[0;32m\"node27\"\u001b[0m\u001b[1;39m\n",
      "    \u001b[1;39m}\u001b[0m\u001b[1;39m\n",
      "  \u001b[1;39m]\u001b[0m\u001b[1;39m\n",
      "\u001b[1;39m}\u001b[0m\n"
     ]
    }
   ],
   "source": [
    "!curl -X GET https://dates.opentreeoflife.org/v4/dates/synth_node_age/ott278114 | jq"
   ]
  },
  {
   "cell_type": "code",
   "execution_count": 6,
   "id": "526becf6",
   "metadata": {},
   "outputs": [
    {
     "data": {
      "text/plain": [
       "{'query': 'ott278114',\n",
       " 'synth_node_id': 'ott278114',\n",
       " 'ot:source_node_ages': [{'age': 449.9971,\n",
       "   'source_id': 'ot_508@tree8',\n",
       "   'source_node': 'node669'},\n",
       "  {'age': 449.9713, 'source_id': 'ot_508@tree9', 'source_node': 'node776'},\n",
       "  {'age': 449.8911, 'source_id': 'ot_508@tree3', 'source_node': 'node134'},\n",
       "  {'age': 450.7471, 'source_id': 'ot_508@tree5', 'source_node': 'node348'},\n",
       "  {'age': 450.6612, 'source_id': 'ot_508@tree4', 'source_node': 'node241'},\n",
       "  {'age': 453.0243, 'source_id': 'ot_508@tree6', 'source_node': 'node455'},\n",
       "  {'age': 453.0575, 'source_id': 'ot_508@tree7', 'source_node': 'node562'},\n",
       "  {'age': 449.9092, 'source_id': 'ot_508@tree2', 'source_node': 'node27'}]}"
      ]
     },
     "execution_count": 6,
     "metadata": {},
     "output_type": "execute_result"
    }
   ],
   "source": [
    "## You can also get node dates for a node in python, ucing the 'requests' module\n",
    "datesurl     = 'https://dates.opentreeoflife.org/v4/dates/synth_node_age/{}'.format(output.response_dict['mrca']['node_id'])\n",
    "resp = requests.get(datesurl)\n",
    "resp.json()"
   ]
  },
  {
   "cell_type": "code",
   "execution_count": 7,
   "id": "7912a157",
   "metadata": {},
   "outputs": [],
   "source": [
    "## Get Dated synth tree\n",
    "url     = 'https://dates.opentreeoflife.org/v4/dates/dated_tree'\n",
    "\n",
    "payload = { \"node_ids\" : node_ids}\n",
    "\n",
    "resp = requests.post(url=url, data=json.dumps(payload))\n",
    "resp_dict = resp.json()\n",
    "\n"
   ]
  },
  {
   "cell_type": "markdown",
   "id": "7d9d9ec8",
   "metadata": {},
   "source": [
    "This returns a response object, "
   ]
  },
  {
   "cell_type": "code",
   "execution_count": 10,
   "id": "a5c72768",
   "metadata": {},
   "outputs": [
    {
     "data": {
      "text/plain": [
       "dict_keys(['dated_trees_newick_list', 'topology_sources', 'date_sources', 'tar_file_download'])"
      ]
     },
     "execution_count": 10,
     "metadata": {},
     "output_type": "execute_result"
    }
   ],
   "source": [
    "resp_dict.keys()"
   ]
  },
  {
   "cell_type": "code",
   "execution_count": 11,
   "id": "72b7ee2f",
   "metadata": {},
   "outputs": [],
   "source": [
    "dated_tree = dendropy.Tree.get(data=resp_dict['dated_trees_newick_list'][0], schema=\"newick\")\n",
    "dated_tree.write(path=\"ottid_dated_tree.tre\", schema='newick')\n"
   ]
  },
  {
   "cell_type": "code",
   "execution_count": 12,
   "id": "83dba3d0",
   "metadata": {},
   "outputs": [
    {
     "data": {
      "text/plain": [
       "'dates.opentreeoflife.org/v4/dates/download_dates_tar/chrono_out_02_02_2023_18_50_59.tar.gz'"
      ]
     },
     "execution_count": 12,
     "metadata": {},
     "output_type": "execute_result"
    }
   ],
   "source": [
    "resp_dict['tar_file_download']"
   ]
  },
  {
   "cell_type": "code",
   "execution_count": 14,
   "id": "3c05dda8",
   "metadata": {},
   "outputs": [
    {
     "name": "stdout",
     "output_type": "stream",
     "text": [
      "--2023-02-02 10:52:24--  http://dates.opentreeoflife.org/v4/dates/download_dates_tar/chrono_out_02_02_2023_18_50_59.tar.gz\n",
      "Resolving dates.opentreeoflife.org (dates.opentreeoflife.org)... 34.216.116.212\n",
      "Connecting to dates.opentreeoflife.org (dates.opentreeoflife.org)|34.216.116.212|:80... connected.\n",
      "HTTP request sent, awaiting response... 301 Moved Permanently\n",
      "Location: https://dates.opentreeoflife.org/v4/dates/download_dates_tar/chrono_out_02_02_2023_18_50_59.tar.gz [following]\n",
      "--2023-02-02 10:52:24--  https://dates.opentreeoflife.org/v4/dates/download_dates_tar/chrono_out_02_02_2023_18_50_59.tar.gz\n",
      "Connecting to dates.opentreeoflife.org (dates.opentreeoflife.org)|34.216.116.212|:443... connected.\n",
      "HTTP request sent, awaiting response... 200 OK\n",
      "Length: 78357 (77K) [application/gzip]\n",
      "Saving to: ‘chrono_out_02_02_2023_18_50_59.tar.gz’\n",
      "\n",
      "chrono_out_02_02_20 100%[===================>]  76.52K  --.-KB/s    in 0.1s    \n",
      "\n",
      "2023-02-02 10:52:25 (668 KB/s) - ‘chrono_out_02_02_2023_18_50_59.tar.gz’ saved [78357/78357]\n",
      "\n"
     ]
    }
   ],
   "source": [
    "## To get the full set of ages, \n",
    "! wget http://dates.opentreeoflife.org/v4/dates/download_dates_tar/chrono_out_02_02_2023_18_50_59.tar.gz\n"
   ]
  },
  {
   "cell_type": "code",
   "execution_count": 17,
   "id": "67d7ea20",
   "metadata": {},
   "outputs": [],
   "source": [
    "for taxon in dated_tree.taxon_namespace:\n",
    "    if taxon.label in label_dict:\n",
    "        taxon.label = label_dict[taxon.label]"
   ]
  },
  {
   "cell_type": "code",
   "execution_count": 18,
   "id": "58c57cd6",
   "metadata": {},
   "outputs": [],
   "source": [
    "dated_tree.write(path = \"labelled_dated_tree.tre\",schema= \"newick\")"
   ]
  },
  {
   "cell_type": "code",
   "execution_count": 24,
   "id": "2c15b88f",
   "metadata": {},
   "outputs": [
    {
     "name": "stdout",
     "output_type": "stream",
     "text": [
      "https://tree.opentreeoflife.org/curator/study/view/ot_526?tab=trees&tree=Tr91777\n",
      "Lundberg J.G., Sullivan J., Rodiles-hernandez R., & Hendrickson D. 2007. Discovery of African roots for the Mesoamerican Chiapas catfish, Lacantunia enigmatica, requires an ancient intercontinental passage. Proceedings of the Academy of Natural Sciences of Philadelphia, 156: 39-53.\n",
      "http://dx.doi.org/10.1635/0097-3157(2007)156[39:doarft]2.0.co;2\n",
      "\n",
      "https://tree.opentreeoflife.org/curator/study/view/ot_1054?tab=trees&tree=tree1\n",
      "Arcila, Dahiana, Guillermo Ortí, Richard Vari, Jonathan W. Armbruster, Melanie L. J. Stiassny, Kyung D. Ko, Mark H. Sabaj, John Lundberg, Liam J. Revell, Ricardo Betancur-R., 2017, 'Genome-wide interrogation advances resolution of recalcitrant groups in the tree of life', Nature Ecology & Evolution, vol. 1, p. 0020\n",
      "http://dx.doi.org/10.1038/s41559-016-0020\n",
      "\n",
      "https://tree.opentreeoflife.org/curator/study/view/ot_1384?tab=trees&tree=tree1\n",
      "Jose Tavera, Arturo Acero P., Peter C. Wainwright, 2018, 'Multilocus phylogeny, divergence times, and a major role for the benthic-to-pelagic axis in the diversification of grunts (Haemulidae)', Molecular Phylogenetics and Evolution, vol. 121, pp. 212-223\n",
      "http://dx.doi.org/10.1016/j.ympev.2017.12.032\n",
      "\n",
      "https://tree.opentreeoflife.org/curator/study/view/ot_181?tab=trees&tree=tree2\n",
      "Vélez-Zuazo, Ximena, Ingi Agnarsson. 2011. Shark tales: a molecular species-level phylogeny of sharks (Selachimorpha, Chondrichthyes). Molecular Phylogenetics and Evolution 58 (2): 207-217.\n",
      "http://dx.doi.org/10.1016/j.ympev.2010.11.018\n",
      "\n",
      "https://tree.opentreeoflife.org/curator/study/view/pg_1217?tab=trees&tree=tree2455\n",
      "Delsuc, Frédéric, Georgia Tsagkogeorga, Nicolas Lartillot, andHervé Philippe. 2008. Additional molecular\n",
      "support for the new chordate phylogeny. Genesis 46 (11): 592-604.\n",
      "http://dx.doi.org/10.1002/dvg.20450\n",
      "\n",
      "https://tree.opentreeoflife.org/curator/study/view/pg_2653?tab=trees&tree=tree6178\n",
      "Miya, Masaki, Matt Friedman, Takashi P. Satoh, Hirohiko Takeshima, Tetsuya Sado, Wataru Iwasaki, Yusuke Yamanoue, Masanori Nakatani, Kohji Mabuchi, Jun G. Inoue, Jan Yde Poulsen, Tsukasa Fukunaga, Yukuto Sato, Mutsumi Nishida. 2013. Evolutionary Origin of the Scombridae (Tunas and Mackerels): Members of a Paleogene Adaptive Radiation with 14 Other Pelagic Fish Families. PLoS ONE 8 (9): e73535.\n",
      "http://dx.doi.org/10.1371/journal.pone.0073535\n",
      "\n",
      "https://tree.opentreeoflife.org/curator/study/view/pg_2657?tab=trees&tree=tree6191\n",
      "Near, Thomas J., Michael Sandel, Kristen L. Kuhn, Peter J. Unmack, Peter C. Wainwright, Wm. Leo Smith. 2012. Nuclear gene-inferred phylogenies resolve the relationships of the enigmatic Pygmy Sunfishes, Elassoma (Teleostei: Percomorpha). Molecular Phylogenetics and Evolution 63 (2): 388-395.\n",
      "http://dx.doi.org/10.1016/j.ympev.2012.01.011\n",
      "\n",
      "https://tree.opentreeoflife.org/curator/study/view/ot_508?tab=trees&tree=tree2\n",
      "dos Reis, Mario, Yuttapong Thawornwattana, Konstantinos Angelis, Maximilian J. Telford, Philip C.J. Donoghue, Ziheng Yang. 2015. Uncertainty in the timing of origin of animals and the limits of precision in molecular timescales. Current Biology\n",
      "http://dx.doi.org/10.1016/j.cub.2015.09.066\n",
      "\n",
      "https://tree.opentreeoflife.org/curator/study/view/ot_1078?tab=trees&tree=tree1\n",
      "Brett R. Aiello, Mark W. Westneat, Melina E. Hale, 2017, 'Mechanosensation is evolutionarily tuned to locomotor mechanics', Proceedings of the National Academy of Sciences, vol. 114, no. 17, pp. 4459-4464\n",
      "http://dx.doi.org/10.1073/pnas.1616839114\n",
      "\n",
      "https://tree.opentreeoflife.org/curator/study/view/ot_1641?tab=trees&tree=tree1\n",
      "Michael E. Alfaro, Brant C. Faircloth, Richard C. Harrington, Laurie Sorenson, Matt Friedman, Christine E. Thacker, Carl H. Oliveros, David Černý, Thomas J. Near, 2018, 'Explosive diversification of marine fishes at the Cretaceous–Palaeogene boundary', Nature Ecology & Evolution, vol. 2, no. 4, pp. 688-696\n",
      "http://dx.doi.org/10.1038/s41559-018-0494-6\n",
      "\n",
      "https://tree.opentreeoflife.org/curator/study/view/pg_2551?tab=trees&tree=tree6180\n",
      "Wainwright, P.C., Smith W.L., Price S.A., Tang K.L., Sparks J.S., Ferry L.A., Kuhn K.L., Eytan R.I., & Near T.J. 2012. The evolution of pharyngognathy: a phylogenetic and functional appraisal of the pharyngeal jaw key innovation in labroid fishes and beyond. Systematic Biology 61 (6): 1001-1027.\n",
      "http://dx.doi.org/10.1093/sysbio/sys060\n",
      "\n",
      "https://tree.opentreeoflife.org/curator/study/view/pg_2576?tab=trees&tree=tree5975\n",
      "Near, T. J., A. Dornburg, R. I. Eytan, B. P. Keck, W. L. Smith, K. L. Kuhn, J. A. Moore, S. A. Price, F. T. Burbrink, M. Friedman, P. C. Wainwright, 2013, 'Phylogeny and tempo of diversification in the superradiation of spiny-rayed fishes', Proceedings of the National Academy of Sciences, vol. 110, no. 31, pp. 12738-12743\n",
      "http://dx.doi.org/10.1073/pnas.1304661110\n",
      "\n",
      "https://tree.opentreeoflife.org/curator/study/view/ot_613?tab=trees&tree=tree1\n",
      "Mark W. Westneat, Michael E. Alfaro, 2005, 'Phylogenetic relationships and evolutionary history of the reef fish family Labridae', Molecular Phylogenetics and Evolution, vol. 36, no. 2, pp. 370-390\n",
      "http://dx.doi.org/10.1016/j.ympev.2005.02.001\n",
      "\n",
      "https://tree.opentreeoflife.org/curator/study/view/pg_2589?tab=trees&tree=tree6001\n",
      "Agorreta, Ainhoa, Diego San Mauro, Ulrich Schliewen, James L. Van Tassell, Marcelo Kovačić, Rafael Zardoya, Lukas Rüber. 2013. Molecular phylogenetics of Gobioidei and phylogenetic placement of European gobies. Molecular Phylogenetics and Evolution 69 (3): 619-633.\n",
      "http://dx.doi.org/10.1016/j.ympev.2013.07.017\n",
      "\n",
      "https://tree.opentreeoflife.org/curator/study/view/ot_951?tab=trees&tree=tree1\n",
      "W. James Cooper, Lydia L. Smith, Mark W. Westneat, 2009, 'Exploring the radiation of a diverse reef fish family: Phylogenetics of the damselfishes (Pomacentridae), with new classifications based on molecular analyses of all genera', Molecular Phylogenetics and Evolution, vol. 52, no. 1, pp. 1-16\n",
      "http://dx.doi.org/10.1016/j.ympev.2008.12.010\n",
      "\n",
      "https://tree.opentreeoflife.org/curator/study/view/ot_1342?tab=trees&tree=tree1\n",
      "Prosanta Chakrabarty, Brant C. Faircloth, Fernando Alda, William B. Ludt, Caleb D. Mcmahan, Thomas J. Near, Alex Dornburg, James S. Albert, Jairo Arroyave, Melanie L. J. Stiassny, Laurie Sorenson, Michael E. Alfaro, 2017, 'Phylogenomic Systematics of Ostariophysan Fishes: Ultraconserved Elements Support the Surprising Non-Monophyly of Characiformes', Systematic Biology, vol. 66, no. 6, pp. 881-895\n",
      "http://dx.doi.org/10.1093/sysbio/syx038\n",
      "\n",
      "https://tree.opentreeoflife.org/curator/study/view/pg_2651?tab=trees&tree=tree6177\n",
      "Betancur-R., Ricardo, Richard E. Broughton, Edward O. Wiley, Kent Carpenter, J. Andrés López, Chenhong Li, Nancy I. Holcroft, Dahiana Arcila, Millicent Sanciangco, James C Cureton II, Feifei Zhang, Thaddaeus Buser, Matthew A. Campbell, Jesus A Ballesteros, Adela Roa-Varon, Stuart Willis, W. Calvin Borden, Thaine Rowley, Paulette C. Reneau, Daniel J. Hough, Guoqing Lu, Terry Grande, Gloria Arratia, Guillermo Ortí. 2013. The Tree of Life and a New Classification of Bony Fishes. PLoS Currents\n",
      "http://dx.doi.org/10.1371/currents.tol.53ba26640df0ccaee75bb165c8c26288\n",
      "\n",
      "https://tree.opentreeoflife.org/curator/study/view/ot_1091?tab=trees&tree=tree1\n",
      "Millicent D. Sanciangco, Kent E. Carpenter, Ricardo Betancur-R., 2016, 'Phylogenetic placement of enigmatic percomorph families (Teleostei: Percomorphaceae)', Molecular Phylogenetics and Evolution, vol. 94, pp. 565-576\n",
      "http://dx.doi.org/10.1016/j.ympev.2015.10.006\n",
      "\n",
      "https://tree.opentreeoflife.org/curator/study/view/pg_2585?tab=trees&tree=tree5994\n",
      "Santini, Francesco, Laurie Sorenson, Michael E. Alfaro. 2013. A new phylogeny of tetraodontiform fishes (Tetraodontiformes, Acanthomorpha) based on 22 loci. Molecular Phylogenetics and Evolution 69 (1): 177-187.\n",
      "http://dx.doi.org/10.1016/j.ympev.2013.05.014\n",
      "\n",
      "https://tree.opentreeoflife.org/curator/study/view/ot_1592?tab=trees&tree=tree1\n",
      "Daniel L. Rabosky, Jonathan Chang, Pascal O. Title, Peter F. Cowman, Lauren Sallan, Matt Friedman, Kristin Kaschner, Cristina Garilao, Thomas J. Near, Marta Coll, Michael E. Alfaro, 2018, 'An inverse latitudinal gradient in speciation rate for marine fishes', Nature, vol. 559, no. 7714, pp. 392-395\n",
      "http://dx.doi.org/10.1038/s41586-018-0273-1\n",
      "\n",
      "https://tree.opentreeoflife.org/curator/study/view/ot_1147?tab=trees&tree=tree1\n",
      "S.J. Longo, B.C. Faircloth, A. Meyer, M.W. Westneat, M.E. Alfaro, P.C. Wainwright, 2017, 'Phylogenomic analysis of a rapid radiation of misfit fishes (Syngnathiformes) using ultraconserved elements', Molecular Phylogenetics and Evolution, vol. 113, pp. 33-48\n",
      "http://dx.doi.org/10.1016/j.ympev.2017.05.002\n",
      "\n",
      "https://tree.opentreeoflife.org/curator/study/view/pg_2659?tab=trees&tree=tree6195\n",
      "Chen, Wei-Jen, Sébastien Lavoué, and Richard L. Mayden. 2013. Evolutionary origin and early biogeography of otophysan fishes (Ostariophysi: Teleostei). Evolution 67 (8): 2218–2239.\n",
      "http://dx.doi.org/10.1111/evo.12104\n",
      "\n",
      "https://tree.opentreeoflife.org/curator/study/view/ot_952?tab=trees&tree=tree1\n",
      "P. F. COWMAN, D. R. BELLWOOD, 2011, 'Coral reefs as drivers of cladogenesis: expanding coral reefs, cryptic extinction events, and the development of biodiversity hotspots', Journal of Evolutionary Biology, vol. 24, no. 12, pp. 2543-2562\n",
      "http://dx.doi.org/10.1111/j.1420-9101.2011.02391.x\n",
      "\n",
      "https://tree.opentreeoflife.org/curator/study/view/ot_955?tab=trees&tree=tree1\n",
      "F. Santini, M. T. T. Nguyen, L. Sorenson, T. B. Waltzek, J. W. Lynch Alfaro, J. M. Eastman, M. E. Alfaro, 2013, 'Do habitat shifts drive diversification in teleost fishes? An example from the pufferfishes (Tetraodontidae)', Journal of Evolutionary Biology, vol. 26, no. 5, pp. 1003-1018\n",
      "http://dx.doi.org/10.1111/jeb.12112\n",
      "\n",
      "https://tree.opentreeoflife.org/curator/study/view/ot_1112?tab=trees&tree=tree1\n",
      "Daniela Campanella, Lily C. Hughes, Peter J. Unmack, Devin D. Bloom, Kyle R. Piller, Guillermo Ortí, 2015, 'Multi-locus fossil-calibrated phylogeny of Atheriniformes (Teleostei, Ovalentaria)', Molecular Phylogenetics and Evolution, vol. 86, pp. 8-23\n",
      "http://dx.doi.org/10.1016/j.ympev.2015.03.001\n",
      "\n",
      "https://tree.opentreeoflife.org/curator/study/view/ot_934?tab=trees&tree=tree1\n",
      "S. T. Friedman, S. A. Price, A. S. Hoey, P. C. Wainwright, 2016, 'Ecomorphological convergence in planktivorous surgeonfishes', Journal of Evolutionary Biology, vol. 29, no. 5, pp. 965-978\n",
      "http://dx.doi.org/10.1111/jeb.12837\n",
      "\n",
      "https://tree.opentreeoflife.org/curator/study/view/ot_523?tab=trees&tree=tree1\n",
      "McCord, Charlene L., Mark W. Westneat. 2016. Phylogenetic relationships and the evolution of BMP4 in triggerfishes and filefishes (Balistoidea). Molecular Phylogenetics and Evolution 94: 397-409\n",
      "http://dx.doi.org/10.1016/j.ympev.2015.09.014\n",
      "\n",
      "https://tree.opentreeoflife.org/curator/study/view/pg_2654?tab=trees&tree=tree6179\n",
      "Chakrabarty, Prosanta, Matthew P. Davis, W. Leo Smith, Zachary H. Baldwin, John S. Sparks. 2011. Is sexual selection driving diversification of the bioluminescent ponyfishes (Teleostei: Leiognathidae)? Molecular Ecology 20 (13): 2818-2834.\n",
      "http://dx.doi.org/10.1111/j.1365-294X.2011.05112.x\n",
      "\n",
      "https://tree.opentreeoflife.org/curator/study/view/ot_771?tab=trees&tree=tree1\n",
      "Martin Malmstrøm, Michael Matschiner, Ole K Tørresen, Bastiaan Star, Lars G Snipen, Thomas F Hansen, Helle T Baalsrud, Alexander J Nederbragt, Reinhold Hanel, Walter Salzburger, Nils C Stenseth, Kjetill S Jakobsen, Sissel Jentoft, 2016, 'Evolution of the immune system influences speciation rates in teleost fishes', Nature Genetics\n",
      "http://dx.doi.org/10.1038/ng.3645\n",
      "\n",
      "https://tree.opentreeoflife.org/curator/study/view/ot_979?tab=trees&tree=tree1\n",
      "Harrington, Richard C., Brant C. Faircloth, Ron I. Eytan, W. Leo Smith, Thomas J. Near, Michael E. Alfaro, Matt Friedman. 2016. Phylogenomic analysis of carangimorph fishes reveals flatfish asymmetry arose in a blink of the evolutionary eye. BMC Evolutionary Biology 16: 224\n",
      "http://dx.doi.org/10.1186/s12862-016-0786-x\n",
      "\n",
      "https://tree.opentreeoflife.org/curator/study/view/ot_935?tab=trees&tree=tree2\n",
      "Peter Rask Møller, Steen Wilhelm Knudsen, Werner Schwarzhans, Jørgen G. Nielsen, 2016, 'A new classification of viviparous brotulas (Bythitidae) – with family status for Dinematichthyidae – based on molecular, morphological and fossil data', Molecular Phylogenetics and Evolution, vol. 100, pp. 391-408\n",
      "http://dx.doi.org/10.1016/j.ympev.2016.04.008\n",
      "\n",
      "https://tree.opentreeoflife.org/curator/study/view/ot_1640?tab=trees&tree=tree1\n",
      "Shang-Yin Vanson Liu, Bruno Frédérich, Sébastien Lavoué, Jonathan Chang, Mark V. Erdmann, Gusti Ngurah Mahardika, Paul H. Barber, 2018, 'Buccal venom gland associates with increased of diversification rate in the fang blenny fish  Meiacanthus  (Blenniidae; Teleostei)', Molecular Phylogenetics and Evolution, vol. 125, pp. 138-146\n",
      "http://dx.doi.org/10.1016/j.ympev.2018.03.027\n",
      "\n",
      "https://tree.opentreeoflife.org/curator/study/view/ot_987?tab=trees&tree=tree1\n",
      "Lydia L. Smith, Jennifer L. Fessler, Michael E. Alfaro, J. Todd Streelman, Mark W. Westneat, 2008, 'Phylogenetic relationships and the evolution of regulatory gene sequences in the parrotfishes', Molecular Phylogenetics and Evolution, vol. 49, no. 1, pp. 136-152\n",
      "http://dx.doi.org/10.1016/j.ympev.2008.06.008\n",
      "\n",
      "https://tree.opentreeoflife.org/curator/study/view/ot_948?tab=trees&tree=tree2\n",
      "Jennifer L. Fessler, Mark W. Westneat, 2007, 'Molecular phylogenetics of the butterflyfishes (Chaetodontidae): Taxonomy and biogeography of a global coral reef fish family', Molecular Phylogenetics and Evolution, vol. 45, no. 1, pp. 50-68\n",
      "http://dx.doi.org/10.1016/j.ympev.2007.05.018\n",
      "\n",
      "https://tree.opentreeoflife.org/curator/study/view/ot_1552?tab=trees&tree=tree1\n",
      "Francesco Santini, Laurie Sorenson, Michael E. Alfaro, 2016, 'Phylogeny and biogeography of hogfishes and allies ( Bodianus , Labridae)', Molecular Phylogenetics and Evolution, vol. 99, pp. 1-6\n",
      "http://dx.doi.org/10.1016/j.ympev.2016.02.011\n",
      "\n",
      "https://tree.opentreeoflife.org/curator/study/view/ot_805?tab=trees&tree=tree1\n",
      "Lourie, Sara (2016) Seahorses: a life-size guide to every species. Ivy Press, UK (ISBN 978-1-78240-321-0)\n",
      "http://press.uchicago.edu/ucp/books/book/chicago/S/bo23519815.html\n",
      "\n"
     ]
    }
   ],
   "source": [
    "print(OT.get_citations(resp_dict['topology_sources']))"
   ]
  },
  {
   "cell_type": "code",
   "execution_count": 25,
   "id": "ee26e06a",
   "metadata": {},
   "outputs": [
    {
     "name": "stdout",
     "output_type": "stream",
     "text": [
      "https://tree.opentreeoflife.org/curator/study/view/pg_2576?tab=trees&tree=tree5975\n",
      "Near, T. J., A. Dornburg, R. I. Eytan, B. P. Keck, W. L. Smith, K. L. Kuhn, J. A. Moore, S. A. Price, F. T. Burbrink, M. Friedman, P. C. Wainwright, 2013, 'Phylogeny and tempo of diversification in the superradiation of spiny-rayed fishes', Proceedings of the National Academy of Sciences, vol. 110, no. 31, pp. 12738-12743\n",
      "http://dx.doi.org/10.1073/pnas.1304661110\n",
      "\n",
      "https://tree.opentreeoflife.org/curator/study/view/ot_1091?tab=trees&tree=tree1\n",
      "Millicent D. Sanciangco, Kent E. Carpenter, Ricardo Betancur-R., 2016, 'Phylogenetic placement of enigmatic percomorph families (Teleostei: Percomorphaceae)', Molecular Phylogenetics and Evolution, vol. 94, pp. 565-576\n",
      "http://dx.doi.org/10.1016/j.ympev.2015.10.006\n",
      "\n",
      "https://tree.opentreeoflife.org/curator/study/view/pg_2654?tab=trees&tree=tree6179\n",
      "Chakrabarty, Prosanta, Matthew P. Davis, W. Leo Smith, Zachary H. Baldwin, John S. Sparks. 2011. Is sexual selection driving diversification of the bioluminescent ponyfishes (Teleostei: Leiognathidae)? Molecular Ecology 20 (13): 2818-2834.\n",
      "http://dx.doi.org/10.1111/j.1365-294X.2011.05112.x\n",
      "\n",
      "https://tree.opentreeoflife.org/curator/study/view/ot_1592?tab=trees&tree=tree1\n",
      "Daniel L. Rabosky, Jonathan Chang, Pascal O. Title, Peter F. Cowman, Lauren Sallan, Matt Friedman, Kristin Kaschner, Cristina Garilao, Thomas J. Near, Marta Coll, Michael E. Alfaro, 2018, 'An inverse latitudinal gradient in speciation rate for marine fishes', Nature, vol. 559, no. 7714, pp. 392-395\n",
      "http://dx.doi.org/10.1038/s41586-018-0273-1\n",
      "\n",
      "https://tree.opentreeoflife.org/curator/study/view/ot_409?tab=trees&tree=tree2\n",
      "Hedges, S. Blair, Julie Marin, Michael Suleski, Madeline Paymer, Sudhir Kumar. 2015. Tree of life reveals clock-like speciation and diversification. Molecular Biology and Evolution 32 (4): 835-845\n",
      "http://dx.doi.org/10.1093/molbev/msv037\n",
      "\n",
      "https://tree.opentreeoflife.org/curator/study/view/ot_1112?tab=trees&tree=tree1\n",
      "Daniela Campanella, Lily C. Hughes, Peter J. Unmack, Devin D. Bloom, Kyle R. Piller, Guillermo Ortí, 2015, 'Multi-locus fossil-calibrated phylogeny of Atheriniformes (Teleostei, Ovalentaria)', Molecular Phylogenetics and Evolution, vol. 86, pp. 8-23\n",
      "http://dx.doi.org/10.1016/j.ympev.2015.03.001\n",
      "\n",
      "https://tree.opentreeoflife.org/curator/study/view/ot_508?tab=trees&tree=tree9\n",
      "dos Reis, Mario, Yuttapong Thawornwattana, Konstantinos Angelis, Maximilian J. Telford, Philip C.J. Donoghue, Ziheng Yang. 2015. Uncertainty in the timing of origin of animals and the limits of precision in molecular timescales. Current Biology\n",
      "http://dx.doi.org/10.1016/j.cub.2015.09.066\n",
      "\n",
      "https://tree.opentreeoflife.org/curator/study/view/ot_508?tab=trees&tree=tree3\n",
      "dos Reis, Mario, Yuttapong Thawornwattana, Konstantinos Angelis, Maximilian J. Telford, Philip C.J. Donoghue, Ziheng Yang. 2015. Uncertainty in the timing of origin of animals and the limits of precision in molecular timescales. Current Biology\n",
      "http://dx.doi.org/10.1016/j.cub.2015.09.066\n",
      "\n",
      "https://tree.opentreeoflife.org/curator/study/view/ot_2025?tab=trees&tree=tree1\n",
      "Uyeda, J. C., Pennell, M. W., Miller, E. T., Maia, R., & McClain, C. R. (2017). The Evolution of Energetic Scaling across the Vertebrate Tree of Life. The American Naturalist, 190(2), 185–199. doi:10.1086/692326\n",
      "\n",
      "http://dx.doi.org/10.1086/692326\n",
      "\n",
      "https://tree.opentreeoflife.org/curator/study/view/ot_979?tab=trees&tree=tree1\n",
      "Harrington, Richard C., Brant C. Faircloth, Ron I. Eytan, W. Leo Smith, Thomas J. Near, Michael E. Alfaro, Matt Friedman. 2016. Phylogenomic analysis of carangimorph fishes reveals flatfish asymmetry arose in a blink of the evolutionary eye. BMC Evolutionary Biology 16: 224\n",
      "http://dx.doi.org/10.1186/s12862-016-0786-x\n",
      "\n",
      "https://tree.opentreeoflife.org/curator/study/view/ot_508?tab=trees&tree=tree8\n",
      "dos Reis, Mario, Yuttapong Thawornwattana, Konstantinos Angelis, Maximilian J. Telford, Philip C.J. Donoghue, Ziheng Yang. 2015. Uncertainty in the timing of origin of animals and the limits of precision in molecular timescales. Current Biology\n",
      "http://dx.doi.org/10.1016/j.cub.2015.09.066\n",
      "\n",
      "https://tree.opentreeoflife.org/curator/study/view/ot_1384?tab=trees&tree=tree1\n",
      "Jose Tavera, Arturo Acero P., Peter C. Wainwright, 2018, 'Multilocus phylogeny, divergence times, and a major role for the benthic-to-pelagic axis in the diversification of grunts (Haemulidae)', Molecular Phylogenetics and Evolution, vol. 121, pp. 212-223\n",
      "http://dx.doi.org/10.1016/j.ympev.2017.12.032\n",
      "\n",
      "https://tree.opentreeoflife.org/curator/study/view/ot_508?tab=trees&tree=tree6\n",
      "dos Reis, Mario, Yuttapong Thawornwattana, Konstantinos Angelis, Maximilian J. Telford, Philip C.J. Donoghue, Ziheng Yang. 2015. Uncertainty in the timing of origin of animals and the limits of precision in molecular timescales. Current Biology\n",
      "http://dx.doi.org/10.1016/j.cub.2015.09.066\n",
      "\n",
      "https://tree.opentreeoflife.org/curator/study/view/ot_948?tab=trees&tree=tree2\n",
      "Jennifer L. Fessler, Mark W. Westneat, 2007, 'Molecular phylogenetics of the butterflyfishes (Chaetodontidae): Taxonomy and biogeography of a global coral reef fish family', Molecular Phylogenetics and Evolution, vol. 45, no. 1, pp. 50-68\n",
      "http://dx.doi.org/10.1016/j.ympev.2007.05.018\n",
      "\n",
      "https://tree.opentreeoflife.org/curator/study/view/ot_2043?tab=trees&tree=tree1\n",
      "McCord, C. L., Nash, C. M., Cooper, W. J., & Westneat, M. W. (2021). Phylogeny of the damselfishes (Pomacentridae) and patterns of asymmetrical diversification in body size and feeding ecology. PLOS ONE, 16(10), e0258889. doi:10.1371/journal.pone.0258889\n",
      "\n",
      "http://dx.doi.org/10.1371/journal.pone.0258889\n",
      "\n",
      "https://tree.opentreeoflife.org/curator/study/view/ot_771?tab=trees&tree=tree1\n",
      "Martin Malmstrøm, Michael Matschiner, Ole K Tørresen, Bastiaan Star, Lars G Snipen, Thomas F Hansen, Helle T Baalsrud, Alexander J Nederbragt, Reinhold Hanel, Walter Salzburger, Nils C Stenseth, Kjetill S Jakobsen, Sissel Jentoft, 2016, 'Evolution of the immune system influences speciation rates in teleost fishes', Nature Genetics\n",
      "http://dx.doi.org/10.1038/ng.3645\n",
      "\n",
      "https://tree.opentreeoflife.org/curator/study/view/ot_508?tab=trees&tree=tree4\n",
      "dos Reis, Mario, Yuttapong Thawornwattana, Konstantinos Angelis, Maximilian J. Telford, Philip C.J. Donoghue, Ziheng Yang. 2015. Uncertainty in the timing of origin of animals and the limits of precision in molecular timescales. Current Biology\n",
      "http://dx.doi.org/10.1016/j.cub.2015.09.066\n",
      "\n",
      "https://tree.opentreeoflife.org/curator/study/view/ot_508?tab=trees&tree=tree7\n",
      "dos Reis, Mario, Yuttapong Thawornwattana, Konstantinos Angelis, Maximilian J. Telford, Philip C.J. Donoghue, Ziheng Yang. 2015. Uncertainty in the timing of origin of animals and the limits of precision in molecular timescales. Current Biology\n",
      "http://dx.doi.org/10.1016/j.cub.2015.09.066\n",
      "\n",
      "https://tree.opentreeoflife.org/curator/study/view/pg_1763?tab=trees&tree=tree3555\n",
      "Hubert N., Paradis E., Bruggemann H., & Planes S. 2011. Community assembly and diversification in Indo-Pacific coral reef fishes. Ecology and Evolution, 1(3): 229-277.\n",
      "http://dx.doi.org/10.1002/ece3.19\n",
      "\n",
      "https://tree.opentreeoflife.org/curator/study/view/ot_1640?tab=trees&tree=tree1\n",
      "Shang-Yin Vanson Liu, Bruno Frédérich, Sébastien Lavoué, Jonathan Chang, Mark V. Erdmann, Gusti Ngurah Mahardika, Paul H. Barber, 2018, 'Buccal venom gland associates with increased of diversification rate in the fang blenny fish  Meiacanthus  (Blenniidae; Teleostei)', Molecular Phylogenetics and Evolution, vol. 125, pp. 138-146\n",
      "http://dx.doi.org/10.1016/j.ympev.2018.03.027\n",
      "\n",
      "https://tree.opentreeoflife.org/curator/study/view/ot_508?tab=trees&tree=tree5\n",
      "dos Reis, Mario, Yuttapong Thawornwattana, Konstantinos Angelis, Maximilian J. Telford, Philip C.J. Donoghue, Ziheng Yang. 2015. Uncertainty in the timing of origin of animals and the limits of precision in molecular timescales. Current Biology\n",
      "http://dx.doi.org/10.1016/j.cub.2015.09.066\n",
      "\n",
      "https://tree.opentreeoflife.org/curator/study/view/ot_1094?tab=trees&tree=tree1\n",
      "L. Sorenson, F. Santini, M. E. Alfaro, 2014, 'The effect of habitat on modern shark diversification', Journal of Evolutionary Biology, vol. 27, no. 8, pp. 1536-1548\n",
      "http://dx.doi.org/10.1111/jeb.12405\n",
      "\n",
      "https://tree.opentreeoflife.org/curator/study/view/ot_523?tab=trees&tree=tree2\n",
      "McCord, Charlene L., Mark W. Westneat. 2016. Phylogenetic relationships and the evolution of BMP4 in triggerfishes and filefishes (Balistoidea). Molecular Phylogenetics and Evolution 94: 397-409\n",
      "http://dx.doi.org/10.1016/j.ympev.2015.09.014\n",
      "\n",
      "https://tree.opentreeoflife.org/curator/study/view/ot_310?tab=trees&tree=tree1\n",
      "Dornburg, Alex, Jeffrey P Townsend, Matt Friedman, Thomas J Near. 2014. Phylogenetic informativeness reconciles ray-finned fish molecular divergence times. BMC Evolutionary Biology 14(1): 169.\n",
      "http://dx.doi.org/10.1186/s12862-014-0169-0\n",
      "\n",
      "https://tree.opentreeoflife.org/curator/study/view/ot_310?tab=trees&tree=tree3\n",
      "Dornburg, Alex, Jeffrey P Townsend, Matt Friedman, Thomas J Near. 2014. Phylogenetic informativeness reconciles ray-finned fish molecular divergence times. BMC Evolutionary Biology 14(1): 169.\n",
      "http://dx.doi.org/10.1186/s12862-014-0169-0\n",
      "\n",
      "https://tree.opentreeoflife.org/curator/study/view/ot_1123?tab=trees&tree=tree1\n",
      "Francesco Santini, Luke J Harmon, Giorgio Carnevale, Michael E Alfaro, 2009, 'Did genome duplication drive the origin of teleosts? A comparative study of diversification in ray-finned fishes', BMC Evolutionary Biology, vol. 9, no. 1, p. 194\n",
      "http://dx.doi.org/10.1186/1471-2148-9-194\n",
      "\n",
      "https://tree.opentreeoflife.org/curator/study/view/ot_508?tab=trees&tree=tree2\n",
      "dos Reis, Mario, Yuttapong Thawornwattana, Konstantinos Angelis, Maximilian J. Telford, Philip C.J. Donoghue, Ziheng Yang. 2015. Uncertainty in the timing of origin of animals and the limits of precision in molecular timescales. Current Biology\n",
      "http://dx.doi.org/10.1016/j.cub.2015.09.066\n",
      "\n",
      "https://tree.opentreeoflife.org/curator/study/view/ot_237?tab=trees&tree=tree2\n",
      "Dahiana Arcila, R. Alexander Pyron, James C. Tyler, Guillermo Ortí, Ricardo Betancur-R., 2015, 'An evaluation of fossil tip-dating versus node-age calibrations in tetraodontiform fishes (Teleostei: Percomorphaceae)', Molecular Phylogenetics and Evolution, vol. 82, pp. 131-145\n",
      "http://dx.doi.org/10.1016/j.ympev.2014.10.011\n",
      "\n",
      "https://tree.opentreeoflife.org/curator/study/view/ot_1122?tab=trees&tree=tree2\n",
      "Bruno Frédérich, Laurie Sorenson, Francesco Santini, Graham J. Slater, Michael E. Alfaro, 2013, 'Iterative Ecological Radiation and Convergence during the Evolutionary History of Damselfishes (Pomacentridae)', The American Naturalist, vol. 181, no. 1, pp. 94-113\n",
      "http://dx.doi.org/10.1086/668599\n",
      "\n",
      "https://tree.opentreeoflife.org/curator/study/view/ot_1641?tab=trees&tree=tree1\n",
      "Michael E. Alfaro, Brant C. Faircloth, Richard C. Harrington, Laurie Sorenson, Matt Friedman, Christine E. Thacker, Carl H. Oliveros, David Černý, Thomas J. Near, 2018, 'Explosive diversification of marine fishes at the Cretaceous–Palaeogene boundary', Nature Ecology & Evolution, vol. 2, no. 4, pp. 688-696\n",
      "http://dx.doi.org/10.1038/s41559-018-0494-6\n",
      "\n",
      "https://tree.opentreeoflife.org/curator/study/view/pg_2659?tab=trees&tree=tree6195\n",
      "Chen, Wei-Jen, Sébastien Lavoué, and Richard L. Mayden. 2013. Evolutionary origin and early biogeography of otophysan fishes (Ostariophysi: Teleostei). Evolution 67 (8): 2218–2239.\n",
      "http://dx.doi.org/10.1111/evo.12104\n",
      "\n",
      "https://tree.opentreeoflife.org/curator/study/view/ot_1021?tab=trees&tree=tree2\n",
      "Lin, Qiang, Shaohua Fan, Yanhong Zhang, Meng Xu, Huixian Zhang, Yulan Yang, Alison P. Lee, Joost M. Woltering, Vydianathan Ravi, Helen M. Gunter, Wei Luo, Zexia Gao, Zhi Wei Lim, Geng Qin, Ralf F. Schneider, Xin Wang, Peiwen Xiong, Gang Li, Kai Wang, Jiumeng Min, Chi Zhang, Ying Qiu, Jie Bai, Weiming He, Chao Bian, Xinhui Zhang, Dai Shan, Hongyue Qu, Ying Sun, Qiang Gao, Liangmin Huang, Qiong Shi, Axel Meyer, Byrappa Venkatesh. 2016. The seahorse genome and the evolution of its specialized morphology. Nature 540 (7633): 395-399\n",
      "http://dx.doi.org/10.1038/nature20595\n",
      "\n"
     ]
    }
   ],
   "source": [
    "print(OT.get_citations(resp_dict['date_sources']))"
   ]
  },
  {
   "cell_type": "code",
   "execution_count": 27,
   "id": "ccfc6c71",
   "metadata": {},
   "outputs": [
    {
     "data": {
      "text/plain": [
       "1631"
      ]
     },
     "execution_count": 27,
     "metadata": {},
     "output_type": "execute_result"
    }
   ],
   "source": [
    "len([leaf for leaf in dated_tree.leaf_node_iter()])"
   ]
  },
  {
   "cell_type": "code",
   "execution_count": null,
   "id": "5a949b24",
   "metadata": {},
   "outputs": [],
   "source": []
  }
 ],
 "metadata": {
  "kernelspec": {
   "display_name": "opentree",
   "language": "python",
   "name": "opentree"
  },
  "language_info": {
   "codemirror_mode": {
    "name": "ipython",
    "version": 3
   },
   "file_extension": ".py",
   "mimetype": "text/x-python",
   "name": "python",
   "nbconvert_exporter": "python",
   "pygments_lexer": "ipython3",
   "version": "3.10.6"
  }
 },
 "nbformat": 4,
 "nbformat_minor": 5
}
