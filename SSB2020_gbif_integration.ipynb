{
 "cells": [
  {
   "cell_type": "code",
   "execution_count": 1,
   "metadata": {},
   "outputs": [],
   "source": [
    "import sys\n",
    "from opentree import OT"
   ]
  },
  {
   "cell_type": "code",
   "execution_count": 3,
   "metadata": {},
   "outputs": [
    {
     "name": "stdout",
     "output_type": "stream",
     "text": [
      "--2019-12-29 11:42:17--  https://raw.githubusercontent.com/McTavishLab/biodiversity_next/master/example.csv\n",
      "Resolving raw.githubusercontent.com (raw.githubusercontent.com)... 151.101.128.133, 151.101.0.133, 151.101.64.133, ...\n",
      "Connecting to raw.githubusercontent.com (raw.githubusercontent.com)|151.101.128.133|:443... connected.\n",
      "HTTP request sent, awaiting response... 200 OK\n",
      "Length: 49361 (48K) [text/plain]\n",
      "Saving to: ‘example.csv.4’\n",
      "\n",
      "example.csv.4       100%[===================>]  48.20K  86.9KB/s    in 0.6s    \n",
      "\n",
      "2019-12-29 11:42:18 (86.9 KB/s) - ‘example.csv.4’ saved [49361/49361]\n",
      "\n"
     ]
    }
   ],
   "source": [
    "!wget https://raw.githubusercontent.com/McTavishLab/biodiversity_next/master/example.csv"
   ]
  },
  {
   "cell_type": "code",
   "execution_count": 4,
   "metadata": {},
   "outputs": [
    {
     "name": "stdout",
     "output_type": "stream",
     "text": [
      "gbifID\tdatasetKey\toccurrenceID\tkingdom\tphylum\tclass\torder\tfamily\tgenus\tspecies\tinfraspecificEpithet\ttaxonRank\tscientificName\tverbatimScientificName\tverbatimScientificNameAuthorship\tcountryCode\tlocality\tstateProvince\toccurrenceStatus\tindividualCount\tpublishingOrgKey\tdecimalLatitude\tdecimalLongitude\tcoordinateUncertaintyInMeters\tcoordinatePrecision\televation\televationAccuracy\tdepth\tdepthAccuracy\teventDate\tday\tmonth\tyear\ttaxonKey\tspeciesKey\tbasisOfRecord\tinstitutionCode\tcollectionCode\tcatalogNumber\trecordNumber\tidentifiedBy\tdateIdentified\tlicense\trightsHolder\trecordedBy\ttypeStatus\testablishmentMeans\tlastInterpreted\tmediaType\tissue\r\n",
      "2423004790\t50c9509d-22c7-4a22-a47d-8c48425ef4a7\thttps://www.inaturalist.org/observations/32478397\tAnimalia\tArthropoda\tInsecta\tOdonata\tLibellulidae\tTramea\tTramea lacerata\t\tSPECIES\tTramea lacerata Hagen, 1861\tTramea lacerata\t\tUS\t\tCalifornia\t\t\t28eb1a3f-1c15-4a95-931a-4af90ecb574d\t37.36422\t-120.424003\t12.0\t\t\t\t\t\t2019-09-10T08:39:35Z\t10\t9\t2019\t1428475\t1428475\tHUMAN_OBSERVATION\tiNaturalist\tObservations\t32478397\t\t\t2019-09-23T17:50:55Z\tCC_BY_NC_4_0\tlunasare\tlunasare\t\t\t2019-10-01T08:01:26.785Z\tSTILLIMAGE\tGEODETIC_DATUM_ASSUMED_WGS84;COORDINATE_ROUNDED\r\n",
      "2397560940\t50c9509d-22c7-4a22-a47d-8c48425ef4a7\thttps://www.inaturalist.org/observations/31516078\tAnimalia\tArthropoda\tInsecta\tHymenoptera\tCynipidae\tAndricus\tAndricus kingi\t\tSPECIES\tAndricus kingi Bassett, 1900\tAndricus kingi\t\tUS\t\tCalifornia\t\t\t28eb1a3f-1c15-4a95-931a-4af90ecb574d\t37.365097\t-120.425788\t5.0\t\t\t\t\t\t2019-08-25T11:52:05Z\t25\t8\t2019\t1309594\t1309594\tHUMAN_OBSERVATION\tiNaturalist\tObservations\t31516078\t\t\t2019-08-26T00:25:01Z\tCC_BY_NC_4_0\tEnrique\tEnrique\t\t\t2019-09-20T15:55:58.017Z\tSTILLIMAGE\tGEODETIC_DATUM_ASSUMED_WGS84;COORDINATE_ROUNDED\r\n",
      "2308501445\tad43e954-dd79-4986-ae34-9ccdbd8bf568\tKX882090\tAnimalia\tArthropoda\tBranchiopoda\tAnostraca\tBranchinectidae\tBranchinecta\tBranchinecta lynchi\t\tSPECIES\tBranchinecta lynchi Eng, Belk & Eriksen, 1990\tBranchinecta lynchi\t\tUS\tUSA\t\t\t\tada9d123-ddb4-467d-8891-806ea8d94230\t37.37\t-120.42\t\t\t\t\t\t\t1999-02-26T00:00:00Z\t26\t2\t1999\t2235372\t2235372\tPRESERVED_SPECIMEN\t\t\t\t\t\t\tCC_BY_4_0\t\tUS Fish and Wildlife Service\t\t\t2019-09-20T16:14:30.573Z\t\tCOUNTRY_DERIVED_FROM_COORDINATES;GEODETIC_DATUM_ASSUMED_WGS84\r\n",
      "2308377953\tad43e954-dd79-4986-ae34-9ccdbd8bf568\tKX882091\tAnimalia\tArthropoda\tBranchiopoda\tAnostraca\tBranchinectidae\tBranchinecta\tBranchinecta lynchi\t\tSPECIES\tBranchinecta lynchi Eng, Belk & Eriksen, 1990\tBranchinecta lynchi\t\tUS\tUSA\t\t\t\tada9d123-ddb4-467d-8891-806ea8d94230\t37.37\t-120.42\t\t\t\t\t\t\t1999-02-26T00:00:00Z\t26\t2\t1999\t2235372\t2235372\tPRESERVED_SPECIMEN\t\t\t\t\t\t\tCC_BY_4_0\t\tUS Fish and Wildlife Service\t\t\t2019-09-20T16:14:30.575Z\t\tCOUNTRY_DERIVED_FROM_COORDINATES;GEODETIC_DATUM_ASSUMED_WGS84\r\n",
      "2273275977\t50c9509d-22c7-4a22-a47d-8c48425ef4a7\thttps://www.inaturalist.org/observations/27569741\tAnimalia\tArthropoda\tInsecta\tOdonata\tCalopterygidae\tHetaerina\tHetaerina americana\t\tSPECIES\tHetaerina americana Fabricius, 1798\tHetaerina americana\t\tUS\t\tCalifornia\t\t\t28eb1a3f-1c15-4a95-931a-4af90ecb574d\t37.370421\t-120.404691\t28417.0\t\t\t\t\t\t2019-06-11T12:57:00Z\t11\t6\t2019\t1427142\t1427142\tHUMAN_OBSERVATION\tiNaturalist\tObservations\t27569741\t\t\t2019-06-24T14:48:35Z\tCC_BY_NC_4_0\tZach Cava\tZach Cava\t\t\t2019-09-20T19:12:11.864Z\tSTILLIMAGE\tGEODETIC_DATUM_ASSUMED_WGS84;COORDINATE_ROUNDED\r\n",
      "2273200107\t50c9509d-22c7-4a22-a47d-8c48425ef4a7\thttps://www.inaturalist.org/observations/21888086\tAnimalia\tChordata\tAves\tPasseriformes\tIcteridae\tQuiscalus\tQuiscalus mexicanus\t\tSPECIES\tQuiscalus mexicanus (Gmelin, 1788)\tQuiscalus mexicanus\t\tUS\t\tCalifornia\t\t\t28eb1a3f-1c15-4a95-931a-4af90ecb574d\t37.36368\t-120.426658\t6.0\t\t\t\t\t\t2019-04-01T14:58:58Z\t1\t4\t2019\t9476062\t9476062\tHUMAN_OBSERVATION\tiNaturalist\tObservations\t21888086\t\t\t2019-04-01T22:03:32Z\tCC_BY_NC_4_0\tvictoriaelizr\tvictoriaelizr\t\t\t2019-09-21T02:35:34.469Z\tSTILLIMAGE\tGEODETIC_DATUM_ASSUMED_WGS84;COORDINATE_ROUNDED\r\n",
      "2251977254\t50c9509d-22c7-4a22-a47d-8c48425ef4a7\thttps://www.inaturalist.org/observations/26083803\tAnimalia\tChordata\tAves\tPasseriformes\tTyrannidae\tSayornis\tSayornis nigricans\t\tSPECIES\tSayornis nigricans (Swainson, 1827)\tSayornis nigricans\t\tUS\t\tCalifornia\t\t\t28eb1a3f-1c15-4a95-931a-4af90ecb574d\t37.365717\t-120.422983\t\t\t\t\t\t\t2019-05-23T10:45:31Z\t23\t5\t2019\t2483612\t2483612\tHUMAN_OBSERVATION\tiNaturalist\tObservations\t26083803\t\t\t2019-05-30T22:41:23Z\tCC_BY_NC_4_0\tfcannizzo2\tfcannizzo2\t\t\t2019-09-21T02:28:53.298Z\tSTILLIMAGE\tGEODETIC_DATUM_ASSUMED_WGS84;COORDINATE_ROUNDED\r\n",
      "2249931015\t040c5662-da76-4782-a48e-cdea1892d14c\thttp://bins.boldsystems.org/index.php/Public_RecordView?processid=GBMIN135349-18\tAnimalia\tArthropoda\tBranchiopoda\tAnostraca\tBranchinectidae\tBranchinecta\tBranchinecta lynchi\t\tSPECIES\tBranchinecta lynchi Eng, Belk & Eriksen, 1990\tBranchinecta lynchi\t\tUS\t\t\t\t\tb3bf3a83-1f68-4541-a03f-330d30d567f5\t37.37\t-120.42\t\t\t\t\t\t\t\t\t\t\t2235372\t2235372\tUNKNOWN\t\t\tRW14.101\t\t\t\tCC_BY_4_0\tBarcode of Life Datasystems\t\t\t\t2019-10-01T13:35:31.924Z\t\tGEODETIC_DATUM_ASSUMED_WGS84\r\n",
      "2249930847\t040c5662-da76-4782-a48e-cdea1892d14c\thttp://bins.boldsystems.org/index.php/Public_RecordView?processid=GBMIN135345-18\tAnimalia\tArthropoda\tBranchiopoda\tAnostraca\tBranchinectidae\tBranchinecta\tBranchinecta lynchi\t\tSPECIES\tBranchinecta lynchi Eng, Belk & Eriksen, 1990\tBranchinecta lynchi\t\tUS\t\t\t\t\tb3bf3a83-1f68-4541-a03f-330d30d567f5\t37.37\t-120.42\t\t\t\t\t\t\t\t\t\t\t2235372\t2235372\tUNKNOWN\t\t\tRW14.102\t\t\t\tCC_BY_4_0\tBarcode of Life Datasystems\t\t\t\t2019-10-01T13:35:31.476Z\t\tGEODETIC_DATUM_ASSUMED_WGS84\r\n"
     ]
    }
   ],
   "source": [
    "!head example.csv"
   ]
  },
  {
   "cell_type": "code",
   "execution_count": 5,
   "metadata": {},
   "outputs": [],
   "source": [
    "filename = \"example.csv\"\n",
    "fi = open(filename)\n",
    "header = fi.readline().split('\\t')"
   ]
  },
  {
   "cell_type": "code",
   "execution_count": 6,
   "metadata": {},
   "outputs": [],
   "source": [
    "#Get indexes for each column in the csv file\n",
    "col_dict = {}\n",
    "for i, col in enumerate(header):\n",
    "    col_dict[col] = i"
   ]
  },
  {
   "cell_type": "code",
   "execution_count": 7,
   "metadata": {},
   "outputs": [
    {
     "data": {
      "text/plain": [
       "{'gbifID': 0,\n",
       " 'datasetKey': 1,\n",
       " 'occurrenceID': 2,\n",
       " 'kingdom': 3,\n",
       " 'phylum': 4,\n",
       " 'class': 5,\n",
       " 'order': 6,\n",
       " 'family': 7,\n",
       " 'genus': 8,\n",
       " 'species': 9,\n",
       " 'infraspecificEpithet': 10,\n",
       " 'taxonRank': 11,\n",
       " 'scientificName': 12,\n",
       " 'verbatimScientificName': 13,\n",
       " 'verbatimScientificNameAuthorship': 14,\n",
       " 'countryCode': 15,\n",
       " 'locality': 16,\n",
       " 'stateProvince': 17,\n",
       " 'occurrenceStatus': 18,\n",
       " 'individualCount': 19,\n",
       " 'publishingOrgKey': 20,\n",
       " 'decimalLatitude': 21,\n",
       " 'decimalLongitude': 22,\n",
       " 'coordinateUncertaintyInMeters': 23,\n",
       " 'coordinatePrecision': 24,\n",
       " 'elevation': 25,\n",
       " 'elevationAccuracy': 26,\n",
       " 'depth': 27,\n",
       " 'depthAccuracy': 28,\n",
       " 'eventDate': 29,\n",
       " 'day': 30,\n",
       " 'month': 31,\n",
       " 'year': 32,\n",
       " 'taxonKey': 33,\n",
       " 'speciesKey': 34,\n",
       " 'basisOfRecord': 35,\n",
       " 'institutionCode': 36,\n",
       " 'collectionCode': 37,\n",
       " 'catalogNumber': 38,\n",
       " 'recordNumber': 39,\n",
       " 'identifiedBy': 40,\n",
       " 'dateIdentified': 41,\n",
       " 'license': 42,\n",
       " 'rightsHolder': 43,\n",
       " 'recordedBy': 44,\n",
       " 'typeStatus': 45,\n",
       " 'establishmentMeans': 46,\n",
       " 'lastInterpreted': 47,\n",
       " 'mediaType': 48,\n",
       " 'issue\\n': 49}"
      ]
     },
     "execution_count": 7,
     "metadata": {},
     "output_type": "execute_result"
    }
   ],
   "source": [
    "col_dict"
   ]
  },
  {
   "cell_type": "code",
   "execution_count": 8,
   "metadata": {},
   "outputs": [
    {
     "name": "stdout",
     "output_type": "stream",
     "text": [
      "........................gbif:5229155,Pelecanus erythrorhynchos not matched on ID\n",
      "gbif:5229155,Pelecanus erythrorhynchos matched on name to ott id316989\n",
      "....gbif:9088491,Dryobates nuttallii not matched on ID\n",
      "gbif:9088491,Dryobates nuttallii matched on name to ott id701703\n",
      "..gbif:5231677,Mimus polyglottos not matched on ID\n",
      "gbif:5231677,Mimus polyglottos matched on name to ott id571310\n",
      "......................................gbif:2498167,Anser caerulescens not matched on ID\n",
      "gbif:2498167,Anser caerulescens matched on name to ott id190878\n",
      "...........gbif:2498161,Anser rossii not matched on ID\n",
      "gbif:2498161,Anser rossii matched on name to ott id767830\n",
      "...................."
     ]
    }
   ],
   "source": [
    "match_dict = {}\n",
    "ott_ids = set()\n",
    "\n",
    "#Loop through each line in the gbif output\n",
    "for lin in fi:\n",
    "    lii = lin.split('\\t')\n",
    "    gb_id = lii[col_dict['taxonKey']]\n",
    "    sys.stdout.write(\".\") #progress bar\n",
    "    sys.stdout.flush()\n",
    "    if gb_id in match_dict:\n",
    "        #Skip gb_id's you have already matched\n",
    "        pass\n",
    "    else:\n",
    "        # Do a driect match to gbif id's in the open tree taxnomy\n",
    "        gbiftax = \"gbif:{}\".format(int(gb_id))\n",
    "        res = OT.taxon_info(source_id=gbiftax)\n",
    "        if res.status_code == 200:\n",
    "            ott_id = int(res.response_dict['ott_id'])\n",
    "            match_dict[gb_id] = ott_id\n",
    "        if res.status_code == 400:\n",
    "            # If GBIF id isn' found in the open tree taxonomy, search on scientific name\n",
    "            spp_name = lii[col_dict['verbatimScientificName']]\n",
    "            sys.stdout.write(\"{},{} not matched on ID\\n\".format(gbiftax, spp_name))\n",
    "            res2 = OT.tnrs_match([spp_name])\n",
    "            if res2.status_code == 200:\n",
    "                if len(res2.response_dict['results']) > 0:\n",
    "                    ott_id = int(res2.response_dict['results'][0]['matches'][0]['taxon']['ott_id'])\n",
    "                    match_dict[gb_id] = ott_id\n",
    "                    sys.stdout.write(\"{},{} matched on name to ott id{}\\n\".format(gbiftax, spp_name, ott_id))\n",
    "                else:\n",
    "                    sys.stdout.write(\"{},{} still NO MATCH\\n\".format(gbiftax, spp_name))\n",
    "                    match_dict[gb_id] = None\n",
    "        ott_ids.add(ott_id)"
   ]
  },
  {
   "cell_type": "code",
   "execution_count": 9,
   "metadata": {},
   "outputs": [
    {
     "data": {
      "text/plain": [
       "56"
      ]
     },
     "execution_count": 9,
     "metadata": {},
     "output_type": "execute_result"
    }
   ],
   "source": [
    "len(ott_ids)"
   ]
  },
  {
   "cell_type": "code",
   "execution_count": 19,
   "metadata": {},
   "outputs": [
    {
     "name": "stdout",
     "output_type": "stream",
     "text": [
      "Tree written to names.tre\n"
     ]
    }
   ],
   "source": [
    "trefile = \"names.tre\"\n",
    "#Get the syntehtic tree from OpenTreem and withe the ciattions to a text file.\n",
    "output = OT.synth_induced_tree(ott_ids=list(ott_ids),  label_format='id')\n",
    "output.tree.write(path = \"names.tre\", schema = \"newick\")\n",
    "sys.stdout.write(\"Tree written to {}\\n\".format(trefile))"
   ]
  },
  {
   "cell_type": "code",
   "execution_count": 26,
   "metadata": {},
   "outputs": [
    {
     "ename": "NewickError",
     "evalue": "Unexpected newick format 'ott3599326' \nYou may want to check other newick loading flags like 'format' or 'quoted_node_names'.",
     "output_type": "error",
     "traceback": [
      "\u001b[0;31m---------------------------------------------------------------------------\u001b[0m",
      "\u001b[0;31mNewickError\u001b[0m                               Traceback (most recent call last)",
      "\u001b[0;32m<ipython-input-26-203b7c795f5d>\u001b[0m in \u001b[0;36m<module>\u001b[0;34m\u001b[0m\n\u001b[0;32m----> 1\u001b[0;31m \u001b[0mete3\u001b[0m\u001b[0;34m.\u001b[0m\u001b[0mTree\u001b[0m\u001b[0;34m(\u001b[0m\u001b[0moutput\u001b[0m\u001b[0;34m.\u001b[0m\u001b[0mtree\u001b[0m\u001b[0;34m.\u001b[0m\u001b[0mas_string\u001b[0m\u001b[0;34m(\u001b[0m\u001b[0mschema\u001b[0m\u001b[0;34m=\u001b[0m\u001b[0;34m\"newick\"\u001b[0m\u001b[0;34m)\u001b[0m\u001b[0;34m)\u001b[0m\u001b[0;34m\u001b[0m\u001b[0;34m\u001b[0m\u001b[0m\n\u001b[0m",
      "\u001b[0;32m~/projects/otapi/python-opentree/venv-jupyentree/lib/python3.7/site-packages/ete3/coretype/tree.py\u001b[0m in \u001b[0;36m__init__\u001b[0;34m(self, newick, format, dist, support, name, quoted_node_names)\u001b[0m\n\u001b[1;32m    209\u001b[0m             \u001b[0mself\u001b[0m\u001b[0;34m.\u001b[0m\u001b[0m_dist\u001b[0m \u001b[0;34m=\u001b[0m \u001b[0;36m0.0\u001b[0m\u001b[0;34m\u001b[0m\u001b[0;34m\u001b[0m\u001b[0m\n\u001b[1;32m    210\u001b[0m             read_newick(newick, root_node = self, format=format,\n\u001b[0;32m--> 211\u001b[0;31m                         quoted_names=quoted_node_names)\n\u001b[0m\u001b[1;32m    212\u001b[0m \u001b[0;34m\u001b[0m\u001b[0m\n\u001b[1;32m    213\u001b[0m \u001b[0;34m\u001b[0m\u001b[0m\n",
      "\u001b[0;32m~/projects/otapi/python-opentree/venv-jupyentree/lib/python3.7/site-packages/ete3/parser/newick.py\u001b[0m in \u001b[0;36mread_newick\u001b[0;34m(newick, root_node, format, quoted_names)\u001b[0m\n\u001b[1;32m    249\u001b[0m             \u001b[0;32mraise\u001b[0m \u001b[0mNewickError\u001b[0m\u001b[0;34m(\u001b[0m\u001b[0;34m'Unexisting tree file or Malformed newick tree structure.'\u001b[0m\u001b[0;34m)\u001b[0m\u001b[0;34m\u001b[0m\u001b[0;34m\u001b[0m\u001b[0m\n\u001b[1;32m    250\u001b[0m         \u001b[0;32melse\u001b[0m\u001b[0;34m:\u001b[0m\u001b[0;34m\u001b[0m\u001b[0;34m\u001b[0m\u001b[0m\n\u001b[0;32m--> 251\u001b[0;31m             \u001b[0;32mreturn\u001b[0m \u001b[0m_read_newick_from_string\u001b[0m\u001b[0;34m(\u001b[0m\u001b[0mnw\u001b[0m\u001b[0;34m,\u001b[0m \u001b[0mroot_node\u001b[0m\u001b[0;34m,\u001b[0m \u001b[0mmatcher\u001b[0m\u001b[0;34m,\u001b[0m \u001b[0mformat\u001b[0m\u001b[0;34m,\u001b[0m \u001b[0mquoted_names\u001b[0m\u001b[0;34m)\u001b[0m\u001b[0;34m\u001b[0m\u001b[0;34m\u001b[0m\u001b[0m\n\u001b[0m\u001b[1;32m    252\u001b[0m \u001b[0;34m\u001b[0m\u001b[0m\n\u001b[1;32m    253\u001b[0m     \u001b[0;32melse\u001b[0m\u001b[0;34m:\u001b[0m\u001b[0;34m\u001b[0m\u001b[0;34m\u001b[0m\u001b[0m\n",
      "\u001b[0;32m~/projects/otapi/python-opentree/venv-jupyentree/lib/python3.7/site-packages/ete3/parser/newick.py\u001b[0m in \u001b[0;36m_read_newick_from_string\u001b[0;34m(nw, root_node, matcher, formatcode, quoted_names)\u001b[0m\n\u001b[1;32m    324\u001b[0m                     \u001b[0mclosing_internal\u001b[0m \u001b[0;34m=\u001b[0m  \u001b[0mclosing_internal\u001b[0m\u001b[0;34m.\u001b[0m\u001b[0mrstrip\u001b[0m\u001b[0;34m(\u001b[0m\u001b[0;34m\";\"\u001b[0m\u001b[0;34m)\u001b[0m\u001b[0;34m\u001b[0m\u001b[0;34m\u001b[0m\u001b[0m\n\u001b[1;32m    325\u001b[0m                     \u001b[0;31m# read internal node data and go up one level\u001b[0m\u001b[0;34m\u001b[0m\u001b[0;34m\u001b[0m\u001b[0;34m\u001b[0m\u001b[0m\n\u001b[0;32m--> 326\u001b[0;31m                     \u001b[0m_read_node_data\u001b[0m\u001b[0;34m(\u001b[0m\u001b[0mclosing_internal\u001b[0m\u001b[0;34m,\u001b[0m \u001b[0mcurrent_parent\u001b[0m\u001b[0;34m,\u001b[0m \u001b[0;34m\"internal\"\u001b[0m\u001b[0;34m,\u001b[0m \u001b[0mmatcher\u001b[0m\u001b[0;34m,\u001b[0m \u001b[0mformatcode\u001b[0m\u001b[0;34m)\u001b[0m\u001b[0;34m\u001b[0m\u001b[0;34m\u001b[0m\u001b[0m\n\u001b[0m\u001b[1;32m    327\u001b[0m                     \u001b[0mcurrent_parent\u001b[0m \u001b[0;34m=\u001b[0m \u001b[0mcurrent_parent\u001b[0m\u001b[0;34m.\u001b[0m\u001b[0mup\u001b[0m\u001b[0;34m\u001b[0m\u001b[0;34m\u001b[0m\u001b[0m\n\u001b[1;32m    328\u001b[0m \u001b[0;34m\u001b[0m\u001b[0m\n",
      "\u001b[0;32m~/projects/otapi/python-opentree/venv-jupyentree/lib/python3.7/site-packages/ete3/parser/newick.py\u001b[0m in \u001b[0;36m_read_node_data\u001b[0;34m(subnw, current_node, node_type, matcher, formatcode)\u001b[0m\n\u001b[1;32m    428\u001b[0m             \u001b[0m_parse_extra_features\u001b[0m\u001b[0;34m(\u001b[0m\u001b[0mnode\u001b[0m\u001b[0;34m,\u001b[0m \u001b[0mdata\u001b[0m\u001b[0;34m[\u001b[0m\u001b[0;36m2\u001b[0m\u001b[0;34m]\u001b[0m\u001b[0;34m)\u001b[0m\u001b[0;34m\u001b[0m\u001b[0;34m\u001b[0m\u001b[0m\n\u001b[1;32m    429\u001b[0m     \u001b[0;32melse\u001b[0m\u001b[0;34m:\u001b[0m\u001b[0;34m\u001b[0m\u001b[0;34m\u001b[0m\u001b[0m\n\u001b[0;32m--> 430\u001b[0;31m         \u001b[0;32mraise\u001b[0m \u001b[0mNewickError\u001b[0m\u001b[0;34m(\u001b[0m\u001b[0;34m\"Unexpected newick format '%s' \"\u001b[0m \u001b[0;34m%\u001b[0m\u001b[0msubnw\u001b[0m\u001b[0;34m[\u001b[0m\u001b[0;36m0\u001b[0m\u001b[0;34m:\u001b[0m\u001b[0;36m50\u001b[0m\u001b[0;34m]\u001b[0m\u001b[0;34m)\u001b[0m\u001b[0;34m\u001b[0m\u001b[0;34m\u001b[0m\u001b[0m\n\u001b[0m\u001b[1;32m    431\u001b[0m     \u001b[0;32mreturn\u001b[0m\u001b[0;34m\u001b[0m\u001b[0;34m\u001b[0m\u001b[0m\n\u001b[1;32m    432\u001b[0m \u001b[0;34m\u001b[0m\u001b[0m\n",
      "\u001b[0;31mNewickError\u001b[0m: Unexpected newick format 'ott3599326' \nYou may want to check other newick loading flags like 'format' or 'quoted_node_names'."
     ]
    }
   ],
   "source": []
  },
  {
   "cell_type": "code",
   "execution_count": 11,
   "metadata": {},
   "outputs": [],
   "source": [
    "studies = output.response_dict['supporting_studies']"
   ]
  },
  {
   "cell_type": "code",
   "execution_count": 21,
   "metadata": {},
   "outputs": [
    {
     "name": "stdout",
     "output_type": "stream",
     "text": [
      "Carrano M.T., Benson R.B., & Sampson S.D. 2012. The phylogeny of Tetanurae (Dinosauria: Theropoda). Journal of Systematic Palaeontology, 10(2): 211-300.\n",
      "http://dx.doi.org/10.1080/14772019.2011.630927\n",
      "\n",
      "Brusatte S.L., Benton M.J., Desojo J.B., & Langer M.C. 2010. The higher-level phylogeny of Archosauria (Tetrapoda: Diapsida). Journal of Systematic Palaeontology, 8(1): 3-47.\n",
      "http://dx.doi.org/10.1080/14772010903537732\n",
      "\n",
      "Andres B.B., Clark J.M., & Xu X. 2012. A new rhamphorhynchid pterosaur from the Upper Jurassic of Xinjiang, China, and the phylogenetic relationships of basal pterosaurs. Journal of Vertebrate Paleontology, 30(1): 163-187.\n",
      "http://dx.doi.org/10.1080/02724630903409220\n",
      "\n",
      "Zanno L.E. 2010. A taxonomic and phylogenetic re-evaluation of Therizinosauria (Dinosauria: Maniraptora). Journal of Systematic Palaeontology, 8(4): 37-41.\n",
      "http://dx.doi.org/10.1080/14772019.2010.488045\n",
      "\n",
      "Dongyu H., Lianhai H., Lijun Z., & Xing X. 2010. A pre-Archaeopteryx troodontid theropod from China with long feathers on the metatarsus. Nature, 461: 640-643.\n",
      "http://dx.doi.org/10.1038/nature08322\n",
      "\n",
      "Price, Trevor D., Daniel M. Hooper, Caitlyn D. Buchanan, Ulf S. Johansson, D. Thomas Tietze, Per Alström, Urban Olsson, Mousumi Ghosh-Harihar, Farah Ishtiaq, Sandeep K. Gupta, Jochen Martens, Bettina Harr, Pratap Singh, Dhananjai Mohan. 2014. Niche filling slows the diversification of Himalayan songbirds. Nature 509: 222-225.\n",
      "http://dx.doi.org/10.1038/nature13272\n",
      "\n",
      "Jønsson, Knud Andreas, Pierre-Henri Fabre, Jonathan D. Kennedy, Ben G. Holt, Michael K. Borregaard, Carsten Rahbek, Jon Fjeldså. 2016. A supermatrix phylogeny of corvoid passerine birds (Aves: Corvides). Molecular Phylogenetics and Evolution 94: 87-94.\n",
      "http://dx.doi.org/10.1016/j.ympev.2015.08.020\n",
      "\n",
      "Dufort, Matthew J. 2015. An augmented supermatrix phylogeny of the avian family Picidae reveals uncertainty deep in the family tree. Molecular Phylogenetics and Evolution\n",
      "http://dx.doi.org/10.1016/j.ympev.2015.08.025\n",
      "\n",
      "Fuchs, Jérôme, Jan I. Ohlson, Per G. P. Ericson, Eric Pasquet. 2007. Synchronous intercontinental splits between assemblages of woodpeckers suggested by molecular data. Zoologica Scripta 36 (1): 11-25\n",
      "http://dx.doi.org/10.1111/j.1463-6409.2006.00267.x\n",
      "\n",
      "Moyle, Robert G. 2004. Phylogenetics of barbets (Aves: Piciformes) based on nuclear and mitochondrial DNA sequence data. Molecular Phylogenetics and Evolution 30 (1): 187-200.\n",
      "http://dx.doi.org/10.1016/s1055-7903(03)00179-9\n",
      "\n",
      "Martin Irestedt, Jérôme Fuchs, Knud A. Jønsson, Jan I. Ohlson, Eric Pasquet, Per G.P. Ericson, 2008, 'The systematic affinity of the enigmatic Lamprolia victoriae (Aves: Passeriformes)—An example of avian dispersal between New Guinea and Fiji over Miocene intermittent land bridges?', Molecular Phylogenetics and Evolution, vol. 48, no. 3, pp. 1218-1222\n",
      "http://dx.doi.org/10.1016/j.ympev.2008.05.038\n",
      "\n",
      "Jessica Ware, Michael May, Karl Kjer, 2007, 'Phylogeny of the higher Libelluloidea (Anisoptera: Odonata): An exploration of the most speciose superfamily of dragonflies', Molecular Phylogenetics and Evolution, vol. 45, no. 1, pp. 289-310\n",
      "http://dx.doi.org/10.1016/j.ympev.2007.05.027\n",
      "\n",
      "Harald Letsch, Brigitte Gottsberger, Jessica L. Ware, 2016, 'Not going with the flow: a comprehensive time-calibrated phylogeny of dragonflies (Anisoptera: Odonata: Insecta) provides evidence for the role of lentic habitats on diversification', Molecular Ecology, vol. 25, no. 6, pp. 1340-1353\n",
      "http://dx.doi.org/10.1111/mec.13562\n",
      "\n",
      "Rota-Stabelli, O., L. Campbell, H. Brinkmann, G. D. Edgecombe, S. J. Longhorn, K. J. Peterson, D. Pisani, H. Philippe, M. J. Telford. 2011. A congruent solution to arthropod phylogeny: phylogenomics, microRNAs and morphology support monophyletic Mandibulata. Proceedings of the Royal Society B: Biological Sciences 278 (1703): 298-306.\n",
      "http://dx.doi.org/10.1098/rspb.2010.0590\n",
      "\n",
      "Seong-il Eyun, 2017, 'Phylogenomic analysis of Copepoda (Arthropoda, Crustacea) reveals unexpected similarities with earlier proposed morphological phylogenies', BMC Evolutionary Biology, vol. 17, no. 1\n",
      "http://dx.doi.org/10.1186/s12862-017-0883-5\n",
      "\n",
      "Delsuc, Frédéric, Georgia Tsagkogeorga, Nicolas Lartillot, andHervé Philippe. 2008. Additional molecular\n",
      "support for the new chordate phylogeny. Genesis 46 (11): 592-604.\n",
      "http://dx.doi.org/10.1002/dvg.20450\n",
      "\n",
      "Ryan, J. F., K. Pang, C. E. Schnitzler, A.-D. Nguyen, R. T. Moreland, D. K. Simmons, B. J. Koch, W. R. Francis, P. Havlak, S. A. Smith, N. H. Putnam, S. H. D. Haddock, C. W. Dunn, T. G. Wolfsberg, J. C. Mullikin, M. Q. Martindale, A. D. Baxevanis. 2013. The genome of the ctenophore Mnemiopsis leidyi and its implications for cell type evolution. Science 342 (6164): 1242592-1242592.\n",
      "http://dx.doi.org/10.1126/science.1242592\n",
      "\n",
      "Letsch, H. and S. Simon. 2013. Insect phylogenomics: new insights on the relationships of lower neopteran orders (Polyneoptera). Systematic Entomology 38 (4): 783-793.\n",
      "http://dx.doi.org/10.1111/syen.12028\n",
      "\n",
      "T. H. Oakley, J. M. Wolfe, A. R. Lindgren, A. K. Zaharoff, 2012, 'Phylotranscriptomics to Bring the Understudied into the Fold: Monophyletic Ostracoda, Fossil Placement, and Pancrustacean Phylogeny', Molecular Biology and Evolution, vol. 30, no. 1, pp. 215-233\n",
      "http://dx.doi.org/10.1093/molbev/mss216\n",
      "\n",
      "Wiegmann, B., Trautwein M., Kim J., Bertone M., Winterton S., Cassel B., & Yeates D. 2009. Nuclear genes resolve the phylogeny of the holometabolous insects. BMC Biology 7(34): 34.\n",
      "http://dx.doi.org/10.1186/1741-7007-7-34\n",
      "\n",
      "Rota-Stabelli, O., Lartillot, N., Philippe, H., and Pisani, D. 2013. Serine codon-usage bias in deep phylogenomics: Pancrustacean relationships as a case study. Systematic Biology 62 (1): 121-133.\n",
      "http://dx.doi.org/10.1093/sysbio/sys077\n",
      "\n",
      "Simon, S., Strauss S., Von haeseler A., & Hadrys H. 2009. A phylogenomic approach to resolve the basal pterygote divergence. Molecular Biology and Evolution 26 (12): 2719-2730.\n",
      "http://dx.doi.org/10.1093/molbev/msp191\n",
      "\n",
      "Kimball, Rebecca T., Colette M. St. Mary, Edward L. Braun. 2011. A macroevolutionary perspective on multiple sexual traits in the Phasianidae (Galliformes). International Journal of Evolutionary Biology 2011: 1-16.\n",
      "http://dx.doi.org/10.4061/2011/423938\n",
      "\n",
      "Burleigh, J. Gordon, Rebecca T. Kimball, Edward L. Braun. 2015. Building the avian tree of life using a large-scale, sparse supermatrix. Molecular Phylogenetics and Evolution 84: 53-63\n",
      "http://dx.doi.org/10.1016/j.ympev.2014.12.003\n",
      "\n",
      "Stein, R. Will, Joseph W. Brown, Arne Ø. Mooers. 2015. A molecular genetic time scale demonstrates Cretaceous origins and multiple diversification rate shifts within the order Galliformes (Aves). Molecular Phylogenetics and Evolution 92: 155-164\n",
      "http://dx.doi.org/10.1016/j.ympev.2015.06.005\n",
      "\n",
      "Jetz, W., G. H. Thomas, J. B. Joy, K. Hartmann, A. O. Mooers. 2012. The global diversity of birds in space and time. Nature 491 (7424): 444-448\n",
      "http://dx.doi.org/10.1038/nature11631\n",
      "\n",
      "Parfrey, L. W., D. J. G. Lahr, A. H. Knoll, L. A. Katz. 2011. Estimating the timing of early eukaryotic diversification with multigene molecular clocks. Proceedings of the National Academy of Sciences 108 (33): 13624-13629.\n",
      "http://dx.doi.org/10.1073/pnas.1110633108\n",
      "\n",
      "dos Reis, Mario, Yuttapong Thawornwattana, Konstantinos Angelis, Maximilian J. Telford, Philip C.J. Donoghue, Ziheng Yang. 2015. Uncertainty in the timing of origin of animals and the limits of precision in molecular timescales. Current Biology\n",
      "http://dx.doi.org/10.1016/j.cub.2015.09.066\n",
      "\n",
      "McGuire, Jimmy A., Christopher C. Witt, J.V. Remsen, Ammon Corl, Daniel L. Rabosky, Douglas L. Altshuler, Robert Dudley. 2014. Molecular phylogenetics and the diversification of hummingbirds. Current Biology 24 (8): 910-916.\n",
      "http://dx.doi.org/10.1016/j.cub.2014.03.016\n",
      "\n",
      "Yan-Jie Feng, David C. Blackburn, Dan Liang, David M. Hillis, David B. Wake, David C. Cannatella, Peng Zhang, 2017, 'Phylogenomics reveals rapid, simultaneous diversification of three major clades of Gondwanan frogs at the Cretaceous–Paleogene boundary', Proceedings of the National Academy of Sciences, p. 201704632\n",
      "http://dx.doi.org/10.1073/pnas.1704632114\n",
      "\n",
      "Yan-Jie Feng, David C. Blackburn, Dan Liang, David M. Hillis, David B. Wake, David C. Cannatella, Peng Zhang, 2017, 'Phylogenomics reveals rapid, simultaneous diversification of three major clades of Gondwanan frogs at the Cretaceous–Paleogene boundary', Proceedings of the National Academy of Sciences, p. 201704632\n",
      "http://dx.doi.org/10.1073/pnas.1704632114\n",
      "\n"
     ]
    },
    {
     "name": "stdout",
     "output_type": "stream",
     "text": [
      "Pyron, R.A., & Wiens J.J. 2011. A large-scale phylogeny of Amphibia including over 2800 species, and a revised classification of extant frogs, salamanders, and caecilians. Molecular Phylogenetics Evolution 61 (2): 543-583.\n",
      "http://dx.doi.org/10.1016/j.ympev.2011.06.012\n",
      "\n",
      "Selvatti, Alexandre Pedro, Luiz Pedreira Gonzaga, Claudia Augusta de Moraes Russo. 2015. A Paleogene origin for crown passerines and the diversification of the Oscines in the New World. Molecular Phylogenetics and Evolution 88: 1-15.\n",
      "http://dx.doi.org/10.1016/j.ympev.2015.03.018\n",
      "\n",
      "Moyle, Robert G., Carl H. Oliveros, Michael J. Andersen, Peter A. Hosner, Brett W. Benz, Joseph D. Manthey, Scott L. Travers, Rafe M. Brown, Brant C. Faircloth. 2016. Tectonic collision and uplift of Wallacea triggered the global songbird radiation. Nature Communications 7: 12709\n",
      "http://dx.doi.org/10.1038/ncomms12709\n",
      "\n",
      "Odeen, A., Hastad O., & Alstrom P. 2011. Evolution of ultraviolet vision in the largest avian radiation - the passerines. BMC Evolutionary Biology 11 (313): 1-8.\n",
      "http://dx.doi.org/10.1186/1471-2148-11-313\n",
      "\n",
      "Claramunt, Santiago, Joel Cracraft. 2015. A new time tree reveals Earth historys imprint on the evolution of modern birds. Science Advances 1 (11): e1501005-e1501005\n",
      "http://dx.doi.org/10.1126/sciadv.1501005\n",
      "\n",
      "Beresford, P., F.K. Barker, P.G. Ryan, T.M. Crowe. 2005. African endemics span the tree of songbirds (Passeri): molecular systematics of several evolutionary 'enigmas'. Proceedings of the Royal Society B: Biological Sciences 272 (1565): 849-858\n",
      "http://dx.doi.org/10.1098/rspb.2004.2997\n",
      "\n",
      "Martin Stervander, Peter G. Ryan, Martim Melo, Bengt Hansson, 2019, 'The origin of the world’s smallest flightless bird, the Inaccessible Island Rail Atlantisia rogersi (Aves: Rallidae)', Molecular Phylogenetics and Evolution, vol. 130, pp. 92-98\n",
      "http://dx.doi.org/10.1016/j.ympev.2018.10.007\n",
      "\n",
      "Barker, F. K., K. J. Burns, J. Klicka, S. M. Lanyon, I. J. Lovette. 2013. Going to extremes: contrasting rates of diversification in a recent radiation of New World passerine birds. Systematic Biology 62 (2): 298-320.\n",
      "http://dx.doi.org/10.1093/sysbio/sys094\n",
      "\n",
      "Barker, F. Keith, Kevin J. Burns, John Klicka, Scott M. Lanyon, Irby J. Lovette. 2015. New insights into New World biogeography: An integrated view from the phylogeny of blackbirds, cardinals, sparrows, tanagers, warblers, and allies. The Auk 132 (2): 333-348.\n",
      "http://dx.doi.org/10.1642/auk-14-110.1\n",
      "\n",
      "Klicka, John, F. Keith Barker, Kevin J. Burns, Scott M. Lanyon, Irby J. Lovette, Jaime A. Chaves, Robert W. Bryson. 2014. A comprehensive multilocus assessment of sparrow (Aves: Passerellidae) relationships. Molecular Phylogenetics and Evolution 77: 177–182.\n",
      "http://dx.doi.org/10.1016/j.ympev.2014.04.025\n",
      "\n",
      "Simone Treplin, Romy Siegert, Christoph Bleidorn, Hazell Shokellu Thompson, Roger Fotso, Ralph Tiedemann, 2008, 'Molecular phylogeny of songbirds (Aves: Passeriformes) and the relative utility of common nuclear marker loci', Cladistics, vol. 24, no. 3, pp. 328-349\n",
      "http://dx.doi.org/10.1111/j.1096-0031.2007.00178.x\n",
      "\n",
      "Price, Trevor D., Daniel M. Hooper, Caitlyn D. Buchanan, Ulf S. Johansson, D. Thomas Tietze, Per Alström, Urban Olsson, Mousumi Ghosh-Harihar, Farah Ishtiaq, Sandeep K. Gupta, Jochen Martens, Bettina Harr, Pratap Singh, Dhananjai Mohan. 2014. Niche filling slows the diversification of Himalayan songbirds. Nature 509: 222-225.\n",
      "http://dx.doi.org/10.1038/nature13272\n",
      "\n",
      "Ksepka, Daniel T., Matthew J. Phillips. 2015. Avian diversification patterns across the K-Pg boundary: influence of calibrations, datasets, and model misspecification. Annals of the Missouri Botanical Garden 100 (4): 300-328\n",
      "http://dx.doi.org/10.3417/2014032\n",
      "\n",
      "Ericson, Per GP, Seraina Klopfstein, Martin Irestedt, Jacqueline MT Nguyen and Johan AA Nylander. 2014. Dating the diversification of the major lineages of Passeriformes (Aves). BMC Evolutionary Biology, 14(8).\n",
      "http://dx.doi.org/10.1186/1471-2148-14-8\n",
      "\n",
      "Hackett, S. J., R. T. Kimball, S. Reddy, R. C. K. Bowie, E. L. Braun, M. J. Braun, J. L. Chojnowski, W. A. Cox, K.-L. Han, J. Harshman, C. J. Huddleston, B. D. Marks, K. J. Miglia, W. S. Moore, F. H. Sheldon, D. W. Steadman, C. C. Witt, T. Yuri. 2008. A Phylogenomic Study of Birds Reveals Their Evolutionary History. Science 320 (5884): 1763-1768.\n",
      "http://dx.doi.org/10.1126/science.1157704\n",
      "\n",
      "Barker, F.K. 2014. Mitogenomic data resolve basal relationships among passeriform and passeridan birds. Molecular Phylogenetics and Evolution 79: 313-324.\n",
      "http://dx.doi.org/10.1016/j.ympev.2014.06.011\n",
      "\n",
      "Prum, Richard O., Jacob S. Berv, Alex Dornburg, Daniel J. Field, Jeffrey P. Townsend, Emily Moriarty Lemmon, Alan R. Lemmon. 2015. A comprehensive phylogeny of birds (Aves) using targeted next-generation DNA sequencing. Nature 526, (7574): 569-573\n",
      "http://dx.doi.org/10.1038/nature15697\n",
      "\n",
      "Gibb, Gillian C., Ryan England, Gerrit Hartig, P.A. (Trish) McLenachan, Briar L. Taylor Smith, Bennet J. McComish, Alan Cooper, David Penny. 2015. New Zealand passerines help clarify the diversification of major songbird lineages during the Oligocene. Genome Biology and Evolution 7 (11): 2983-2995.\n",
      "http://dx.doi.org/10.1093/gbe/evv196\n",
      "\n",
      "Barker, F. Keith, Alice Cibois, Peter Schikler, Julie Feinstein, Joel Cracraft. 2004. Phylogeny and diversification of the largest avian radiation. Proceedings of the National Academy of Sciences of the United States of America 101 (30): 11040-11045.\n",
      "http://dx.doi.org/10.1073/pnas.0401892101\n",
      "\n",
      "Barker, F. Keith, Alice Cibois, Peter Schikler, Julie Feinstein, Joel Cracraft. 2004. Phylogeny and diversification of the largest avian radiation. Proceedings of the National Academy of Sciences of the United States of America 101 (30): 11040-11045.\n",
      "http://dx.doi.org/10.1073/pnas.0401892101\n",
      "\n",
      "Ralph S. Peters, Lars Krogmann, Christoph Mayer, Alexander Donath, Simon Gunkel, Karen Meusemann, Alexey Kozlov, Lars Podsiadlowski, Malte Petersen, Robert Lanfear, Patricia A. Diez, John Heraty, Karl M. Kjer, Seraina Klopfstein, Rudolf Meier, Carlo Polidori, Thomas Schmitt, Shanlin Liu, Xin Zhou, Torsten Wappler, Jes Rust, Bernhard Misof, Oliver Niehuis, 2017, 'Evolutionary History of the Hymenoptera', Current Biology\n",
      "http://dx.doi.org/10.1016/j.cub.2017.01.027\n",
      "\n",
      "Michael G. Branstetter, Bryan N. Danforth, James P. Pitts, Brant C. Faircloth, Philip S. Ward, Matthew L. Buffington, Michael W. Gates, Robert R. Kula, Seán G. Brady, 2017, 'Phylogenomic Insights into the Evolution of Stinging Wasps and the Origins of Ants and Bees', Current Biology, vol. 27, no. 7, pp. 1019-1025\n",
      "http://dx.doi.org/10.1016/j.cub.2017.03.027\n",
      "\n",
      "Zuccon, Dario, Robert Prŷs-Jones, Pamela C. Rasmussen, and Per G.P. Ericson. 2012. The phylogenetic relationships and generic limits of finches (Fringillidae). Molecular Phylogenetics and Evolution 62 (2): 581-596.\n",
      "http://dx.doi.org/10.1016/j.ympev.2011.10.002\n",
      "\n",
      "Ulf S. Johansson, Jon Fjeldså, Rauri C.K. Bowie, 2008, 'Phylogenetic relationships within Passerida (Aves: Passeriformes): A review and a new molecular phylogeny based on three nuclear intron markers', Molecular Phylogenetics and Evolution, vol. 48, no. 3, pp. 858-876\n",
      "http://dx.doi.org/10.1016/j.ympev.2008.05.029\n",
      "\n",
      "Alstrom, P., D. M. Hooper, Y. Liu, U. Olsson, D. Mohan, M. Gelang, H. Le Manh, J. Zhao, F. Lei, T. D. Price. 2014. Discovery of a relict lineage and monotypic family of passerine birds. Biology Letters 10 (3): 20131067-20131067.\n",
      "http://dx.doi.org/10.1098/rsbl.2013.1067\n",
      "\n",
      "Crawford, N. G., B. C. Faircloth, J. E. McCormack, R. T. Brumfield, K. Winker, T. C. Glenn. 2012. More than 1000 ultraconserved elements provide evidence that turtles are the sister group of archosaurs. Biology Letters 8 (5): 783-786.\n",
      "http://dx.doi.org/10.1098/rsbl.2012.0331\n",
      "\n",
      "Powell, Alexis F.L.A., F. Keith Barker, Scott M. Lanyon, Kevin J. Burns, John Klicka, Irby J. Lovette. 2014. A comprehensive species-level molecular phylogeny of the New World blackbirds (Icteridae). Molecular Phylogenetics and Evolution 71: 94-112.\n",
      "http://dx.doi.org/10.1016/j.ympev.2013.11.009\n",
      "\n",
      "Wang, Ning, Rebecca T. Kimball, Edward L. Braun, Bin Liang, Zhengwang Zhang. 2016. Ancestral range reconstruction of Galliformes: the effects of topology and taxon sampling. Journal of Biogeography\n",
      "http://dx.doi.org/10.1111/jbi.12782\n",
      "\n"
     ]
    },
    {
     "name": "stdout",
     "output_type": "stream",
     "text": [
      "Wang, Ning, Rebecca T. Kimball, Edward L. Braun, Bin Liang, Zhengwang Zhang. 2013. Assessing phylogenetic relationships among Galliformes: a multigene phylogeny with expanded taxon sampling in Phasianidae. PLoS ONE 8 (5): e64312.\n",
      "http://dx.doi.org/10.1371/journal.pone.0064312\n",
      "\n",
      "Hosner, Peter A. Brant C. Faircloth, Travis C. Glenn, Edward L. Braun, Rebecca T. Kimball. 2015. Avoiding missing data biases in phylogenomic inference: an empirical study in the landfowl (Aves: Galliformes). Molecular Biology and Evolution 33 (4): 1110-1125\n",
      "http://dx.doi.org/10.1093/molbev/msv347\n",
      "\n",
      "Worthy T., Mitri M., Handley W.D., Lee M.S., Anderson A., & Sand C. 2016. Osteology Supports a Stem-Galliform Affinity for the Giant Extinct Flightless Bird Sylviornis neocaledoniae (Sylviornithidae, Galloanseres). PLoS ONE, 11(3): e0150871.\n",
      "http://dx.doi.org/10.1371/journal.pone.0150871\n",
      "\n",
      "Lerner, H., M. Klaver, D. Mindell. 2008. Molecular phylogenetics of the Buteonine birds of prey (Accipitridae). The Auk 125 (2): 304-315.\n",
      "http://dx.doi.org/10.1525/auk.2008.06161\n",
      "\n",
      "Aggerbeck, Marie, Jon Fjeldså, Les Christidis, Pierre-Henri Fabre, Knud Andreas Jønsson. 2014. Resolving deep lineage divergences in core corvoid passerine birds supports a proto-Papuan island origin. Molecular Phylogenetics and Evolution 70: 272-285.\n",
      "http://dx.doi.org/10.1016/j.ympev.2013.09.027\n",
      "\n",
      "Rheindt, Frank E., Janette A. Norman, Les Christidis. 2008. Phylogenetic relationships of tyrant-flycatchers (Aves: Tyrannidae), with an emphasis on the elaeniine assemblage. Molecular Phylogenetics and Evolution 46 (1): 88-101\n",
      "http://dx.doi.org/10.1016/j.ympev.2007.09.011\n",
      "\n",
      "Michael D. D'Emic, Roger B.J. Benson, 2013, 'Measurement, variation, and scaling of osteocyte lacunae: a case study in birds', Bone, vol. 57, no. 1, pp. 300-310\n",
      "http://dx.doi.org/10.1016/j.bone.2013.08.010\n",
      "\n",
      "Fulton, T. L., B. Letts, B. Shapiro. 2012. Multiple losses of flight and recent speciation in steamer ducks. Proceedings of the Royal Society B: Biological Sciences 279 (1737): 2339-2346.\n",
      "http://dx.doi.org/10.1098/rspb.2011.2599\n",
      "\n",
      "Gonzalez, J., H. Düttmann, M. Wink. 2009. Phylogenetic relationships based on two mitochondrial genes and hybridization patterns in Anatidae. Journal of Zoology 279 (3): 310-318.\n",
      "http://dx.doi.org/10.1111/j.1469-7998.2009.00622.x\n",
      "\n",
      "Donne-Goussé, Carole, Vincent Laudet, Catherine Hänni. 2002. A molecular phylogeny of anseriformes based on mitochondrial DNA analysis. Molecular Phylogenetics and Evolution 23 (3): 339-356\n",
      "http://dx.doi.org/10.1016/s1055-7903(02)00019-2\n",
      "\n",
      "Rokas A., Melika G., Abe Y., Nieves-aldrey J., Cook J., & Stone G. 2003. Lifecycle closure, lineage sorting and hybridization revealed in a phylogenetic analysis of European oak gallwasps (Hymenoptera: Cynipidae: Cynipini) using mitochondrial sequence data. Molecular Phylogenetics and Evolution, 26(1): 36-45.\n",
      "http://dx.doi.org/10.1016/S1055-7903(02)00329-9\n",
      "\n",
      "Benz, Brett W., Mark B. Robbins, A. Townsend Peterson. 2006. Evolutionary history of woodpeckers and allies (Aves: Picidae): placing key taxa on the phylogenetic tree. Molecular Phylogenetics and Evolution 40 (2): 389-399.\n",
      "http://dx.doi.org/10.1016/j.ympev.2006.02.021\n",
      "\n",
      "Sheldon, Frederick H., Linda A. Whittingham, Robert G. Moyle, Beth Slikas, David W. Winkler. 2005. Phylogeny of swallows (Aves: Hirundinidae) estimated from nuclear and mitochondrial DNA sequences. Molecular Phylogenetics and Evolution 35 (1): 254-270.\n",
      "http://dx.doi.org/10.1016/j.ympev.2004.11.008\n",
      "\n",
      "Suh, Alexander, Linnéa Smeds, Hans Ellegren. 2015. The dynamics of incomplete lineage sorting across the ancient adaptive radiation of neoavian birds. PLOS Biology13 (8): e1002224\n",
      "http://dx.doi.org/10.1371/journal.pbio.1002224\n",
      "\n",
      "Zhou, Xiaoping, Chengte Yao, Qingxian Lin, Wenzhen Fang, Xiaolin Chen. 2015. Complete mitochondrial genomes render the Night Heron genus Gorsachius non-monophyletic. Journal of Ornithology 157 (2): 505-513\n",
      "http://dx.doi.org/10.1007/s10336-015-1297-z\n",
      "\n",
      "García–R, Juan C., Gillian C. Gibb, Steve A. Trewick. 2014. Eocene diversification of crown group rails (Aves: Gruiformes: Rallidae). PLoS ONE 9 (10): e109635\n",
      "http://dx.doi.org/10.1371/journal.pone.0109635\n",
      "\n",
      "Fain, M., Krajewski C., & Houde P. 2007. Phylogeny of \"core Gruiformes\" (Aves: Grues) and resolution of the Limpkin-Sungrebe problem. Molecular Phylogenetics and Evolution 43 (2): 515-529.\n",
      "http://dx.doi.org/10.1016/j.ympev.2007.02.015\n",
      "\n",
      "Nicholas G. Crawford, James F. Parham, Anna B. Sellas, Brant C. Faircloth, Travis C. Glenn, Theodore J. Papenfuss, James B. Henderson, Madison H. Hansen, W. Brian Simison, 2015, 'A phylogenomic analysis of turtles', Molecular Phylogenetics and Evolution, vol. 83, pp. 250-257\n",
      "http://dx.doi.org/10.1016/j.ympev.2014.10.021\n",
      "\n",
      "Sharkey, M., Carpenter J., Vilhelmsen L., Heraty J., Hawks D., Dowling A.P., Schulmeister S., Murray D., Deans A., Ronquist F., Krogmann L., & Wheeler W. 2011. Phylogenetic relationships among superfamilies of Hymenoptera. Cladistics 28 (1): 80-112.\n",
      "http://dx.doi.org/10.1111/j.1096-0031.2011.00366.x\n",
      "\n",
      "Baker, Allan J., Sergio L Pereira, Tara A Paton. 2007. Phylogenetic relationships and divergence times of Charadriiformes genera: multigene evidence for the Cretaceous origin of at least 14 clades of shorebirds. Biology. Letters 3 (2): 205-210.\n",
      "http://dx.doi.org/10.1098/rsbl.2006.0606\n",
      "\n",
      "Wiegmann, B. M., M. D. Trautwein, I. S. Winkler, N. B. Barr, J.-W. Kim, C. Lambkin, M. A. Bertone, B. K. Cassel, K. M. Bayless, A. M. Heimberg, B. M. Wheeler, K. J. Peterson, T. Pape, B. J. Sinclair, J. H. Skevington, V. Blagoderov, J. Caravas, S. N. Kutty, U. Schmidt-Ott, G. E. Kampmeier, F. C. Thompson, D. A. Grimaldi, A. T. Beckenbach, G. W. Courtney, M. Friedrich, R. Meier, D. K. Yeates. 2011. Episodic radiations in the fly tree of life. Proceedings of the National Academy of Sciences. 108 (14): 5690-5695.\n",
      "http://dx.doi.org/10.1073/pnas.1012675108\n",
      "\n",
      "Lambkin, C., Sinclair B., Pape T., Courtney G.W., Skevington J., Meier R., Yeates D., Blagoderov V., & Wiegmann B.M. 2013. The phylogenetic relationships among infraorders and superfamilies of Diptera based on morphological evidence. Systematic Entomology 38 (1): 164-179.\n",
      "http://dx.doi.org/10.1111/j.1365-3113.2012.00652.x\n",
      "\n",
      "Lovette, Irby J., Brian S. Arbogast, Robert L. Curry, Robert M. Zink, Carlos A. Botero, John P. Sullivan, Amanda L. Talaba, Rebecca B. Harris, Dustin R. Rubenstein, Robert E. Ricklefs, Eldredge Bermingham. 2012. Phylogenetic relationships of the mockingbirds and thrashers (Aves: Mimidae). Molecular Phylogenetics and Evolution 63 (2): 219-229.\n",
      "http://dx.doi.org/10.1016/j.ympev.2011.07.009\n",
      "\n",
      "Lovette, Irby J., Dustin R. Rubenstein. 2007. A comprehensive molecular phylogeny of the starlings (Aves: Sturnidae) and mockingbirds (Aves: Mimidae): congruent mtDNA and nuclear trees for a cosmopolitan avian radiation. Molecular Phylogenetics and Evolution 44 (3): 1031-1056.\n",
      "http://dx.doi.org/10.1016/j.ympev.2007.03.017\n",
      "\n",
      "Laura M. Zahn, 2017, 'Loss of flight in the Galapagos cormorant', Science, vol. 356, no. 6341, pp. 918.10-919\n",
      "http://dx.doi.org/10.1126/science.356.6341.918-j\n",
      "\n",
      "Kennedy, Martyn, Hamish G. Spencer. 2014. Classification of the cormorants of the world. Molecular Phylogenetics and Evolution 79: 249-257.\n",
      "http://dx.doi.org/10.1016/j.ympev.2014.06.020\n",
      "\n",
      "Hu D., Xu X., Hou L., & Sullivan C. 2012. A new enantiornithine bird from the Lower Cretaceous of Western Liaoning, China, and its implications for early avian evolution. Journal of Vertebrate Paleontology, 32(3): 639-645.\n",
      "http://dx.doi.org/10.1080/02724634.2012.652321\n",
      "\n",
      "Scofield, R. Paul, Kieren J. Mitchell, Jamie R. Wood, Vanesa L. De Pietri, Scott Jarvie, Bastien Llamas, Alan Cooper. 2016. The Origin and Phylogenetic Relationships of the New Zealand Ravens. Molecular Phylogenetics and Evolution 106: 136–143\n",
      "http://dx.doi.org/10.1016/j.ympev.2016.09.022\n",
      "\n",
      "Dos Remedios, Natalie, Patricia L.M. Lee, Terry Burke, Tamás Székely, Clemens Küpper. 2015. North or south? Phylogenetic and biogeographic origins of a globally distributed avian clade. Molecular Phylogenetics and Evolution 89:151-159.\n",
      "http://dx.doi.org/10.1016/j.ympev.2015.04.010\n",
      "\n",
      "Cerasale, David J., Roi Dor, David W. Winkler, Irby J. Lovette. 2012. Phylogeny of the Tachycineta genus of New World swallows: insights from complete mitochondrial genomes. Molecular Phylogenetics and Evolution 63 (1): 64-71.\n",
      "http://dx.doi.org/10.1016/j.ympev.2011.12.014\n",
      "\n"
     ]
    },
    {
     "name": "stdout",
     "output_type": "stream",
     "text": [
      "Besnard, Guillaume, Joris A. M. Bertrand, Boris Delahaie, Yann X. C. Bourgeois, Emeline Lhuillier, Christophe Thébaud. 2015. Valuing museum specimens: high-throughput DNA sequencing on historical collections of New Guinea crowned pigeons (Goura). Biological Journal of the Linnean Society 117 (1): 71-82\n",
      "http://dx.doi.org/10.1111/bij.12494\n",
      "\n",
      "Pereira, S., Johnson K., Clayton D., and Baker A. 2007. Mitochondrial and nuclear DNA sequences support a Cretaceous origin of Columbiformes and a dispersal-driven radiation in the Paleogene. Systematic Biology 56 (4): 656-672.\n",
      "http://dx.doi.org/10.1080/10635150701549672\n",
      "\n",
      "Fuchs, Jérôme, Steven Chen, Jeff A. Johnson, David P. Mindell. 2011. Pliocene diversification within the South American forest falcons (Falconidae: Micrastur). Molecular Phylogenetics and Evolution 60 (3): 398-407.\n",
      "http://dx.doi.org/10.1016/j.ympev.2011.05.008\n",
      "\n",
      "Fuchs, Jérôme, Jeff A. Johnson, David P. Mindell. 2012. Molecular systematics of the caracaras and allies (Falconidae: Polyborinae) inferred from mitochondrial and nuclear sequence data. Ibis 154 (3): 520-532.\n",
      "http://dx.doi.org/10.1111/j.1474-919X.2012.01222.x\n",
      "\n",
      "Langer M.C., Bittencourt J.S., & Schultz C.L. 2011. A reassessment of the basal dinosaur Guaibasaurus candelariensis, from the Late Triassic Caturrita Formation of South Brazil. Earth and Environmental Science Transactions of the Royal Society of Edinburgh, 101: 301-332.\n",
      "http://dx.doi.org/10.1017/S175569101102007X\n",
      "\n",
      "Shu-an J., Atterholt J., O'connor J.K., Lamanna M.C., Harris J.D., Da-qing L., Hai-lu Y., & Dodson P. 2011. A new, three-dimensionally preserved enantiornithine bird (Aves: Ornithothoraces) from Gansu Province, north-western China. Zoological Journal of the Linnean Society, 162(1): 201-219.\n",
      "http://dx.doi.org/10.1111/j.1096-3642.2010.00671.x\n",
      "\n",
      "Zuccon, Dario, Alice Cibois, Eric Pasquet, Per G.P. Ericson. 2006. Nuclear and mitochondrial sequence data reveal the major lineages of starlings, mynas and related taxa. Molecular Phylogenetics and Evolution 41 (2): 333-344\n",
      "http://dx.doi.org/10.1016/j.ympev.2006.05.007\n",
      "\n",
      "Ottenburghs, Jente, Hendrik-Jan Megens, Robert H.S. Kraus, Ole Madsen, Pim van Hooft, Sipke E. van Wieren, Richard P.M.A. Crooijmans, Ronald C. Ydenberg, Martien A.M. Groenen, Herbert H.T. Prins. 2016. A Tree of Geese: A Phylogenomic Perspective on the Evolutionary History of True Geese. Molecular Phylogenetics and Evolution 101: 303-313.\n",
      "http://dx.doi.org/10.1016/j.ympev.2016.05.021\n",
      "\n",
      "Peter A. Hosner, Edward L. Braun, Rebecca T. Kimball, 2015, 'Land connectivity changes and global cooling shaped the colonization history and diversification of New World quail (Aves: Galliformes: Odontophoridae)', Journal of Biogeography, vol. 42, no. 10, pp. 1883-1895\n",
      "http://dx.doi.org/10.1111/jbi.12555\n",
      "\n",
      "Moore, William S., Lowell C. Overton, Kathleen J. Miglia. 2011. Mitochondrial DNA based phylogeny of the woodpecker genera Colaptes and Piculus, and implications for the history of woodpecker diversification in South America. Molecular Phylogenetics and Evolution 58 (1): 76-84.\n",
      "http://dx.doi.org/10.1016/j.ympev.2010.09.011\n",
      "\n",
      "Irby J. Lovette, Brynn V. McCleery, Amanda L. Talaba, Dustin R. Rubenstein, 2008, 'A complete species-level molecular phylogeny for the “Eurasian” starlings (Sturnidae: Sturnus, Acridotheres, and allies): Recent diversification in a highly social and dispersive avian group', Molecular Phylogenetics and Evolution, vol. 47, no. 1, pp. 251-260\n",
      "http://dx.doi.org/10.1016/j.ympev.2008.01.020\n",
      "\n",
      "Lovette, Irby J., Jorge L. Pérez-Emán, John P. Sullivan, Richard C. Banks, Isabella Fiorentino, Sergio Córdoba-Córdoba, María Echeverry-Galvis, F. Keith Barker, Kevin J. Burns, John Klicka, Scott M. Lanyon, Eldredge Bermingham. 2010. A comprehensive multilocus phylogeny for the wood-warblers and a revised classification of the Parulidae (Aves). Molecular Phylogenetics and Evolution 57 (2): 753-770.\n",
      "http://dx.doi.org/10.1016/j.ympev.2010.07.018\n",
      "\n",
      "Spellman, GM, A Cibois, RG Moyle, K Winker, F Keith Barker. 2008. Clarifying the systematics of an enigmatic avian lineage: What is a bombycillid?. Molecular Phylogenetics and Evolution 49 (3): 1036-1040.\n",
      "http://dx.doi.org/10.1016/j.ympev.2008.09.006\n",
      "\n",
      "Kennedy, M.,  S.A. Taylor, P. Nádvorník, H. Spencer. 2013. The phylogenetic relationships of the extant pelicans inferred from DNA sequence data. Molecular Phylogenetics and Evolution 66 (1): 215-222.\n",
      "http://dx.doi.org/10.1016/j.ympev.2012.09.034\n",
      "\n",
      "Ogawa, Lisa M., Paulo C. Pulgarin, Donald A. Vance, Jon Fjeldså, Marcel van Tuinen. 2015. Opposing demographic histories reveal rapid evolution in grebes (Aves: Podicipedidae). The Auk 132 (4): 771-786\n",
      "http://dx.doi.org/10.1642/auk-14-259.1\n",
      "\n"
     ]
    }
   ],
   "source": [
    "for study in studies:\n",
    "    studyid = study.split('@')[0]\n",
    "    studyres = OT.find_studies(studyid, search_property = 'ot:studyId', verbose=\"True\")\n",
    "    new_cite = studyres.response_dict.get('matched_studies', None)\n",
    "    if new_cite:\n",
    "        print(new_cite[0].get('ot:studyPublicationReference', '') + '\\n' + new_cite[0].get('ot:studyPublication', '') + '\\n')\n",
    "\n"
   ]
  },
  {
   "cell_type": "code",
   "execution_count": 15,
   "metadata": {},
   "outputs": [
    {
     "data": {
      "text/plain": [
       "'ot_1510'"
      ]
     },
     "execution_count": 15,
     "metadata": {},
     "output_type": "execute_result"
    }
   ],
   "source": [
    "studyid"
   ]
  },
  {
   "cell_type": "code",
   "execution_count": 20,
   "metadata": {},
   "outputs": [
    {
     "data": {
      "text/plain": [
       "[{'ot:studyId': 'pg_2853'}]"
      ]
     },
     "execution_count": 20,
     "metadata": {},
     "output_type": "execute_result"
    }
   ],
   "source": [
    "new_cite"
   ]
  },
  {
   "cell_type": "code",
   "execution_count": null,
   "metadata": {},
   "outputs": [],
   "source": []
  }
 ],
 "metadata": {
  "kernelspec": {
   "display_name": "opentree",
   "language": "python",
   "name": "opentree"
  },
  "language_info": {
   "codemirror_mode": {
    "name": "ipython",
    "version": 3
   },
   "file_extension": ".py",
   "mimetype": "text/x-python",
   "name": "python",
   "nbconvert_exporter": "python",
   "pygments_lexer": "ipython3",
   "version": "3.7.3"
  }
 },
 "nbformat": 4,
 "nbformat_minor": 2
}
